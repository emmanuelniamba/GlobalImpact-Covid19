{
 "cells": [
  {
   "cell_type": "code",
   "execution_count": 135,
   "metadata": {},
   "outputs": [],
   "source": [
    "import pandas as pd\n",
    "import dash\n",
    "from dash import dcc, html, callback\n",
    "import plotly.express as px\n",
    "from dash.dependencies import Input, Output\n",
    "import country_converter as cc\n",
    "\n",
    "# dash.register_page(__name__, path='/gdp_economic', name=\"GDP and Economic Growth\", order=3)"
   ]
  },
  {
   "cell_type": "code",
   "execution_count": 136,
   "metadata": {},
   "outputs": [],
   "source": [
    "# '''\n",
    "# 4. Inflation and Prices\n",
    "# Page Name: \"Inflation & Prices\"\n",
    "\n",
    "# Purpose: Explore inflation rates during COVID-19, especially the effects of supply chain disruptions.\n",
    "# Content:\n",
    "# Comparison of inflation rates across countries.\n",
    "# Impact of COVID-19 on essential commodities and services.\n",
    "# Discussion of supply chain challenges and price fluctuations.\n",
    "\n",
    "# Visualizations:\n",
    "# Line chart: Inflation rate trends over time.\n",
    "# Heatmap: Correlation between inflation and other variables (unemployment, trade).\n",
    "# Bubble chart: Inflation vs. GDP growth vs. population.\n",
    "# '''"
   ]
  },
  {
   "cell_type": "code",
   "execution_count": 137,
   "metadata": {},
   "outputs": [
    {
     "data": {
      "text/html": [
       "<div>\n",
       "<style scoped>\n",
       "    .dataframe tbody tr th:only-of-type {\n",
       "        vertical-align: middle;\n",
       "    }\n",
       "\n",
       "    .dataframe tbody tr th {\n",
       "        vertical-align: top;\n",
       "    }\n",
       "\n",
       "    .dataframe thead th {\n",
       "        text-align: right;\n",
       "    }\n",
       "</style>\n",
       "<table border=\"1\" class=\"dataframe\">\n",
       "  <thead>\n",
       "    <tr style=\"text-align: right;\">\n",
       "      <th></th>\n",
       "      <th>Economy_Label</th>\n",
       "      <th>2010_Index_Base_2010_Value</th>\n",
       "      <th>2010_Index_Base_2010_Footnote</th>\n",
       "      <th>2010_Index_Base_2010_MissingValue</th>\n",
       "      <th>2011_Index_Base_2010_Value</th>\n",
       "      <th>2011_Index_Base_2010_Footnote</th>\n",
       "      <th>2011_Index_Base_2010_MissingValue</th>\n",
       "      <th>2012_Index_Base_2010_Value</th>\n",
       "      <th>2012_Index_Base_2010_Footnote</th>\n",
       "      <th>2012_Index_Base_2010_MissingValue</th>\n",
       "      <th>...</th>\n",
       "      <th>2019_Index_Base_2010_MissingValue</th>\n",
       "      <th>2020_Index_Base_2010_Value</th>\n",
       "      <th>2020_Index_Base_2010_Footnote</th>\n",
       "      <th>2020_Index_Base_2010_MissingValue</th>\n",
       "      <th>2021_Index_Base_2010_Value</th>\n",
       "      <th>2021_Index_Base_2010_Footnote</th>\n",
       "      <th>2021_Index_Base_2010_MissingValue</th>\n",
       "      <th>2022_Index_Base_2010_Value</th>\n",
       "      <th>2022_Index_Base_2010_Footnote</th>\n",
       "      <th>2022_Index_Base_2010_MissingValue</th>\n",
       "    </tr>\n",
       "  </thead>\n",
       "  <tbody>\n",
       "    <tr>\n",
       "      <th>0</th>\n",
       "      <td>Afghanistan</td>\n",
       "      <td>100.0</td>\n",
       "      <td>NaN</td>\n",
       "      <td>NaN</td>\n",
       "      <td>112.2</td>\n",
       "      <td>NaN</td>\n",
       "      <td>NaN</td>\n",
       "      <td>80.0</td>\n",
       "      <td>NaN</td>\n",
       "      <td>NaN</td>\n",
       "      <td>...</td>\n",
       "      <td>NaN</td>\n",
       "      <td>73.8</td>\n",
       "      <td>NaN</td>\n",
       "      <td>NaN</td>\n",
       "      <td>77.6</td>\n",
       "      <td>NaN</td>\n",
       "      <td>NaN</td>\n",
       "      <td>88.2</td>\n",
       "      <td>NaN</td>\n",
       "      <td>NaN</td>\n",
       "    </tr>\n",
       "    <tr>\n",
       "      <th>1</th>\n",
       "      <td>Albania</td>\n",
       "      <td>100.0</td>\n",
       "      <td>NaN</td>\n",
       "      <td>NaN</td>\n",
       "      <td>103.4</td>\n",
       "      <td>NaN</td>\n",
       "      <td>NaN</td>\n",
       "      <td>105.5</td>\n",
       "      <td>NaN</td>\n",
       "      <td>NaN</td>\n",
       "      <td>...</td>\n",
       "      <td>NaN</td>\n",
       "      <td>120.9</td>\n",
       "      <td>NaN</td>\n",
       "      <td>NaN</td>\n",
       "      <td>123.4</td>\n",
       "      <td>NaN</td>\n",
       "      <td>NaN</td>\n",
       "      <td>131.7</td>\n",
       "      <td>NaN</td>\n",
       "      <td>NaN</td>\n",
       "    </tr>\n",
       "    <tr>\n",
       "      <th>2</th>\n",
       "      <td>Algeria</td>\n",
       "      <td>100.0</td>\n",
       "      <td>NaN</td>\n",
       "      <td>NaN</td>\n",
       "      <td>104.5</td>\n",
       "      <td>NaN</td>\n",
       "      <td>NaN</td>\n",
       "      <td>113.8</td>\n",
       "      <td>NaN</td>\n",
       "      <td>NaN</td>\n",
       "      <td>...</td>\n",
       "      <td>NaN</td>\n",
       "      <td>155.0</td>\n",
       "      <td>NaN</td>\n",
       "      <td>NaN</td>\n",
       "      <td>166.2</td>\n",
       "      <td>NaN</td>\n",
       "      <td>NaN</td>\n",
       "      <td>181.6</td>\n",
       "      <td>NaN</td>\n",
       "      <td>NaN</td>\n",
       "    </tr>\n",
       "    <tr>\n",
       "      <th>3</th>\n",
       "      <td>Andorra</td>\n",
       "      <td>100.0</td>\n",
       "      <td>NaN</td>\n",
       "      <td>NaN</td>\n",
       "      <td>102.6</td>\n",
       "      <td>NaN</td>\n",
       "      <td>NaN</td>\n",
       "      <td>104.1</td>\n",
       "      <td>NaN</td>\n",
       "      <td>NaN</td>\n",
       "      <td>...</td>\n",
       "      <td>NaN</td>\n",
       "      <td>107.2</td>\n",
       "      <td>NaN</td>\n",
       "      <td>NaN</td>\n",
       "      <td>109.0</td>\n",
       "      <td>NaN</td>\n",
       "      <td>NaN</td>\n",
       "      <td>115.8</td>\n",
       "      <td>NaN</td>\n",
       "      <td>NaN</td>\n",
       "    </tr>\n",
       "    <tr>\n",
       "      <th>4</th>\n",
       "      <td>Angola</td>\n",
       "      <td>100.0</td>\n",
       "      <td>NaN</td>\n",
       "      <td>NaN</td>\n",
       "      <td>113.5</td>\n",
       "      <td>NaN</td>\n",
       "      <td>NaN</td>\n",
       "      <td>125.2</td>\n",
       "      <td>NaN</td>\n",
       "      <td>NaN</td>\n",
       "      <td>...</td>\n",
       "      <td>NaN</td>\n",
       "      <td>463.5</td>\n",
       "      <td>NaN</td>\n",
       "      <td>NaN</td>\n",
       "      <td>582.9</td>\n",
       "      <td>NaN</td>\n",
       "      <td>NaN</td>\n",
       "      <td>707.4</td>\n",
       "      <td>NaN</td>\n",
       "      <td>NaN</td>\n",
       "    </tr>\n",
       "    <tr>\n",
       "      <th>...</th>\n",
       "      <td>...</td>\n",
       "      <td>...</td>\n",
       "      <td>...</td>\n",
       "      <td>...</td>\n",
       "      <td>...</td>\n",
       "      <td>...</td>\n",
       "      <td>...</td>\n",
       "      <td>...</td>\n",
       "      <td>...</td>\n",
       "      <td>...</td>\n",
       "      <td>...</td>\n",
       "      <td>...</td>\n",
       "      <td>...</td>\n",
       "      <td>...</td>\n",
       "      <td>...</td>\n",
       "      <td>...</td>\n",
       "      <td>...</td>\n",
       "      <td>...</td>\n",
       "      <td>...</td>\n",
       "      <td>...</td>\n",
       "      <td>...</td>\n",
       "    </tr>\n",
       "    <tr>\n",
       "      <th>238</th>\n",
       "      <td>Eastern Europe</td>\n",
       "      <td>100.0</td>\n",
       "      <td>NaN</td>\n",
       "      <td>NaN</td>\n",
       "      <td>107.6</td>\n",
       "      <td>NaN</td>\n",
       "      <td>NaN</td>\n",
       "      <td>113.6</td>\n",
       "      <td>NaN</td>\n",
       "      <td>NaN</td>\n",
       "      <td>...</td>\n",
       "      <td>NaN</td>\n",
       "      <td>164.1</td>\n",
       "      <td>NaN</td>\n",
       "      <td>NaN</td>\n",
       "      <td>173.8</td>\n",
       "      <td>NaN</td>\n",
       "      <td>NaN</td>\n",
       "      <td>198.6</td>\n",
       "      <td>NaN</td>\n",
       "      <td>NaN</td>\n",
       "    </tr>\n",
       "    <tr>\n",
       "      <th>239</th>\n",
       "      <td>Northern Europe</td>\n",
       "      <td>100.0</td>\n",
       "      <td>NaN</td>\n",
       "      <td>NaN</td>\n",
       "      <td>103.5</td>\n",
       "      <td>NaN</td>\n",
       "      <td>NaN</td>\n",
       "      <td>106.0</td>\n",
       "      <td>NaN</td>\n",
       "      <td>NaN</td>\n",
       "      <td>...</td>\n",
       "      <td>NaN</td>\n",
       "      <td>118.4</td>\n",
       "      <td>NaN</td>\n",
       "      <td>NaN</td>\n",
       "      <td>121.5</td>\n",
       "      <td>NaN</td>\n",
       "      <td>NaN</td>\n",
       "      <td>132.0</td>\n",
       "      <td>NaN</td>\n",
       "      <td>NaN</td>\n",
       "    </tr>\n",
       "    <tr>\n",
       "      <th>240</th>\n",
       "      <td>Southern Europe</td>\n",
       "      <td>100.0</td>\n",
       "      <td>NaN</td>\n",
       "      <td>NaN</td>\n",
       "      <td>103.1</td>\n",
       "      <td>NaN</td>\n",
       "      <td>NaN</td>\n",
       "      <td>106.1</td>\n",
       "      <td>NaN</td>\n",
       "      <td>NaN</td>\n",
       "      <td>...</td>\n",
       "      <td>NaN</td>\n",
       "      <td>110.9</td>\n",
       "      <td>NaN</td>\n",
       "      <td>NaN</td>\n",
       "      <td>113.3</td>\n",
       "      <td>NaN</td>\n",
       "      <td>NaN</td>\n",
       "      <td>123.2</td>\n",
       "      <td>NaN</td>\n",
       "      <td>NaN</td>\n",
       "    </tr>\n",
       "    <tr>\n",
       "      <th>241</th>\n",
       "      <td>Western Europe</td>\n",
       "      <td>100.0</td>\n",
       "      <td>NaN</td>\n",
       "      <td>NaN</td>\n",
       "      <td>102.3</td>\n",
       "      <td>NaN</td>\n",
       "      <td>NaN</td>\n",
       "      <td>104.4</td>\n",
       "      <td>NaN</td>\n",
       "      <td>NaN</td>\n",
       "      <td>...</td>\n",
       "      <td>NaN</td>\n",
       "      <td>112.9</td>\n",
       "      <td>NaN</td>\n",
       "      <td>NaN</td>\n",
       "      <td>115.8</td>\n",
       "      <td>NaN</td>\n",
       "      <td>NaN</td>\n",
       "      <td>124.7</td>\n",
       "      <td>NaN</td>\n",
       "      <td>NaN</td>\n",
       "    </tr>\n",
       "    <tr>\n",
       "      <th>242</th>\n",
       "      <td>Oceania</td>\n",
       "      <td>100.0</td>\n",
       "      <td>NaN</td>\n",
       "      <td>NaN</td>\n",
       "      <td>103.5</td>\n",
       "      <td>NaN</td>\n",
       "      <td>NaN</td>\n",
       "      <td>105.2</td>\n",
       "      <td>NaN</td>\n",
       "      <td>NaN</td>\n",
       "      <td>...</td>\n",
       "      <td>NaN</td>\n",
       "      <td>120.7</td>\n",
       "      <td>NaN</td>\n",
       "      <td>NaN</td>\n",
       "      <td>124.3</td>\n",
       "      <td>NaN</td>\n",
       "      <td>NaN</td>\n",
       "      <td>132.6</td>\n",
       "      <td>NaN</td>\n",
       "      <td>NaN</td>\n",
       "    </tr>\n",
       "  </tbody>\n",
       "</table>\n",
       "<p>243 rows × 40 columns</p>\n",
       "</div>"
      ],
      "text/plain": [
       "       Economy_Label  2010_Index_Base_2010_Value  \\\n",
       "0        Afghanistan                       100.0   \n",
       "1            Albania                       100.0   \n",
       "2            Algeria                       100.0   \n",
       "3            Andorra                       100.0   \n",
       "4             Angola                       100.0   \n",
       "..               ...                         ...   \n",
       "238   Eastern Europe                       100.0   \n",
       "239  Northern Europe                       100.0   \n",
       "240  Southern Europe                       100.0   \n",
       "241   Western Europe                       100.0   \n",
       "242          Oceania                       100.0   \n",
       "\n",
       "     2010_Index_Base_2010_Footnote 2010_Index_Base_2010_MissingValue  \\\n",
       "0                              NaN                               NaN   \n",
       "1                              NaN                               NaN   \n",
       "2                              NaN                               NaN   \n",
       "3                              NaN                               NaN   \n",
       "4                              NaN                               NaN   \n",
       "..                             ...                               ...   \n",
       "238                            NaN                               NaN   \n",
       "239                            NaN                               NaN   \n",
       "240                            NaN                               NaN   \n",
       "241                            NaN                               NaN   \n",
       "242                            NaN                               NaN   \n",
       "\n",
       "     2011_Index_Base_2010_Value  2011_Index_Base_2010_Footnote  \\\n",
       "0                         112.2                            NaN   \n",
       "1                         103.4                            NaN   \n",
       "2                         104.5                            NaN   \n",
       "3                         102.6                            NaN   \n",
       "4                         113.5                            NaN   \n",
       "..                          ...                            ...   \n",
       "238                       107.6                            NaN   \n",
       "239                       103.5                            NaN   \n",
       "240                       103.1                            NaN   \n",
       "241                       102.3                            NaN   \n",
       "242                       103.5                            NaN   \n",
       "\n",
       "    2011_Index_Base_2010_MissingValue  2012_Index_Base_2010_Value  \\\n",
       "0                                 NaN                        80.0   \n",
       "1                                 NaN                       105.5   \n",
       "2                                 NaN                       113.8   \n",
       "3                                 NaN                       104.1   \n",
       "4                                 NaN                       125.2   \n",
       "..                                ...                         ...   \n",
       "238                               NaN                       113.6   \n",
       "239                               NaN                       106.0   \n",
       "240                               NaN                       106.1   \n",
       "241                               NaN                       104.4   \n",
       "242                               NaN                       105.2   \n",
       "\n",
       "     2012_Index_Base_2010_Footnote 2012_Index_Base_2010_MissingValue  ...  \\\n",
       "0                              NaN                               NaN  ...   \n",
       "1                              NaN                               NaN  ...   \n",
       "2                              NaN                               NaN  ...   \n",
       "3                              NaN                               NaN  ...   \n",
       "4                              NaN                               NaN  ...   \n",
       "..                             ...                               ...  ...   \n",
       "238                            NaN                               NaN  ...   \n",
       "239                            NaN                               NaN  ...   \n",
       "240                            NaN                               NaN  ...   \n",
       "241                            NaN                               NaN  ...   \n",
       "242                            NaN                               NaN  ...   \n",
       "\n",
       "     2019_Index_Base_2010_MissingValue  2020_Index_Base_2010_Value  \\\n",
       "0                                  NaN                        73.8   \n",
       "1                                  NaN                       120.9   \n",
       "2                                  NaN                       155.0   \n",
       "3                                  NaN                       107.2   \n",
       "4                                  NaN                       463.5   \n",
       "..                                 ...                         ...   \n",
       "238                                NaN                       164.1   \n",
       "239                                NaN                       118.4   \n",
       "240                                NaN                       110.9   \n",
       "241                                NaN                       112.9   \n",
       "242                                NaN                       120.7   \n",
       "\n",
       "    2020_Index_Base_2010_Footnote  2020_Index_Base_2010_MissingValue  \\\n",
       "0                             NaN                                NaN   \n",
       "1                             NaN                                NaN   \n",
       "2                             NaN                                NaN   \n",
       "3                             NaN                                NaN   \n",
       "4                             NaN                                NaN   \n",
       "..                            ...                                ...   \n",
       "238                           NaN                                NaN   \n",
       "239                           NaN                                NaN   \n",
       "240                           NaN                                NaN   \n",
       "241                           NaN                                NaN   \n",
       "242                           NaN                                NaN   \n",
       "\n",
       "     2021_Index_Base_2010_Value 2021_Index_Base_2010_Footnote  \\\n",
       "0                          77.6                           NaN   \n",
       "1                         123.4                           NaN   \n",
       "2                         166.2                           NaN   \n",
       "3                         109.0                           NaN   \n",
       "4                         582.9                           NaN   \n",
       "..                          ...                           ...   \n",
       "238                       173.8                           NaN   \n",
       "239                       121.5                           NaN   \n",
       "240                       113.3                           NaN   \n",
       "241                       115.8                           NaN   \n",
       "242                       124.3                           NaN   \n",
       "\n",
       "     2021_Index_Base_2010_MissingValue  2022_Index_Base_2010_Value  \\\n",
       "0                                  NaN                        88.2   \n",
       "1                                  NaN                       131.7   \n",
       "2                                  NaN                       181.6   \n",
       "3                                  NaN                       115.8   \n",
       "4                                  NaN                       707.4   \n",
       "..                                 ...                         ...   \n",
       "238                                NaN                       198.6   \n",
       "239                                NaN                       132.0   \n",
       "240                                NaN                       123.2   \n",
       "241                                NaN                       124.7   \n",
       "242                                NaN                       132.6   \n",
       "\n",
       "    2022_Index_Base_2010_Footnote  2022_Index_Base_2010_MissingValue  \n",
       "0                             NaN                                NaN  \n",
       "1                             NaN                                NaN  \n",
       "2                             NaN                                NaN  \n",
       "3                             NaN                                NaN  \n",
       "4                             NaN                                NaN  \n",
       "..                            ...                                ...  \n",
       "238                           NaN                                NaN  \n",
       "239                           NaN                                NaN  \n",
       "240                           NaN                                NaN  \n",
       "241                           NaN                                NaN  \n",
       "242                           NaN                                NaN  \n",
       "\n",
       "[243 rows x 40 columns]"
      ]
     },
     "execution_count": 137,
     "metadata": {},
     "output_type": "execute_result"
    }
   ],
   "source": [
    "data = pd.read_csv(\"data/consumer_prices.csv\", sep=',')\n",
    "data\n",
    "\n",
    "# link to the dataset: https://unctadstat.unctad.org/datacentre/dataviewer/US.Cpi_A"
   ]
  },
  {
   "cell_type": "code",
   "execution_count": 138,
   "metadata": {},
   "outputs": [
    {
     "data": {
      "text/plain": [
       "'\\n1. Consumer Price Index (CPI):\\nDefinition: The CPI is an economic indicator that measures the average change over time in the prices paid by consumers for a basket of goods and services. It reflects the cost of living and is commonly used to gauge inflation.\\nBase Year (2010 in this case): The base year is the reference point against which price changes are measured. In your case, the year 2010 has a CPI value of 100, meaning the index starts from that point. Prices in subsequent years are compared to this baseline.\\n\\nExample: A CPI of 110 in 2024 means that the average price of the goods and services in the basket has increased by 10% compared to their prices in 2010.\\n\\nSignificance: CPI helps track how much prices have increased or decreased relative to the base year, allowing economists, policymakers, and businesses to understand inflationary trends and the purchasing power of consumers.\\n'"
      ]
     },
     "execution_count": 138,
     "metadata": {},
     "output_type": "execute_result"
    }
   ],
   "source": [
    "'''\n",
    "1. Consumer Price Index (CPI):\n",
    "Definition: The CPI is an economic indicator that measures the average change over time in the prices paid by consumers for a basket of goods and services. It reflects the cost of living and is commonly used to gauge inflation.\n",
    "Base Year (2010 in this case): The base year is the reference point against which price changes are measured. In your case, the year 2010 has a CPI value of 100, meaning the index starts from that point. Prices in subsequent years are compared to this baseline.\n",
    "\n",
    "Example: A CPI of 110 in 2024 means that the average price of the goods and services in the basket has increased by 10% compared to their prices in 2010.\n",
    "\n",
    "Significance: CPI helps track how much prices have increased or decreased relative to the base year, allowing economists, policymakers, and businesses to understand inflationary trends and the purchasing power of consumers.\n",
    "'''"
   ]
  },
  {
   "cell_type": "code",
   "execution_count": 139,
   "metadata": {},
   "outputs": [],
   "source": [
    "data.rename(columns={\"Economy_Label\":\"Country\"}, inplace=True)\n",
    "\n",
    "years = [\"2010\",\"2011\",\"2012\",\"2013\",\"2014\",\"2015\",\"2016\",\"2017\",\"2018\",\"2019\",\"2020\",\"2021\",\"2022\"]\n",
    "for year in years:\n",
    "    data.rename(columns={f'{year}_Index_Base_2010_Value': f'{year}'}, inplace=True)\n",
    "\n",
    "# pre_covid_years = [\"2018\",\"2019\"]\n",
    "# post_covid_years = [\"2022\"]\n",
    "\n",
    "# data['Pre_Covid'] = data[pre_covid_years].apply(pd.to_numeric, errors = 'coerce').mean(axis=1)\n",
    "# data['Post_Covid'] = data[post_covid_years].apply(pd.to_numeric, errors = 'coerce').mean(axis=1)\n",
    "\n",
    "selected_columns = [\"Country\",\"2017\",\"2018\",\"2019\",\"2020\",\"2021\",\"2022\"]\n",
    "filtered_data = data[selected_columns]\n",
    "\n",
    "melted_data = filtered_data.melt(id_vars = ['Country'], \n",
    "                        value_vars = [\"2017\",\"2018\",\"2019\",\"2020\",\"2021\",\"2022\"], \n",
    "                        var_name = 'Year', \n",
    "                        value_name = 'Consumer Price'\n",
    "                    )\n"
   ]
  },
  {
   "cell_type": "code",
   "execution_count": 140,
   "metadata": {},
   "outputs": [
    {
     "name": "stdout",
     "output_type": "stream",
     "text": [
      "Antigua and Barbuda\n",
      "Bolivia (Plurinational State\n",
      "Bosnia and Herzegovina\n",
      "British Virgin Islands\n",
      "Central African Republic\n",
      "China, Hong Kong\n",
      "China, Macao SAR\n",
      "China, Taiwan Province\n",
      "Congo, Dem. Rep.\n",
      "Iran (Islamic Republic\n",
      "Korea, Republic of\n",
      "Lao People's Dem.\n",
      "Micronesia (Federated States\n",
      "Moldova, Republic of\n",
      "Netherlands (Kingdom of\n",
      "Papua New Guinea\n",
      "Saint Kitts and\n",
      "Saint Vincent and\n",
      "Sao Tome and\n",
      "Sint Maarten (Dutch\n",
      "State of Palestine\n",
      "Syrian Arab Republic\n",
      "Tanzania, United Republic\n",
      "Trinidad and Tobago\n",
      "Turks and Caicos\n",
      "United Arab Emirates\n",
      "United Kingdom excl.\n",
      "United States of\n",
      "United States of\n",
      "Venezuela (Bolivarian Rep.\n",
      "Latin America and\n",
      "Antigua and Barbuda\n",
      "Bolivia (Plurinational State\n",
      "Bosnia and Herzegovina\n",
      "British Virgin Islands\n",
      "Central African Republic\n",
      "China, Hong Kong\n",
      "China, Macao SAR\n",
      "China, Taiwan Province\n",
      "Congo, Dem. Rep.\n",
      "Iran (Islamic Republic\n",
      "Korea, Republic of\n",
      "Lao People's Dem.\n",
      "Micronesia (Federated States\n",
      "Moldova, Republic of\n",
      "Netherlands (Kingdom of\n",
      "Papua New Guinea\n",
      "Saint Kitts and\n",
      "Saint Vincent and\n",
      "Sao Tome and\n",
      "Sint Maarten (Dutch\n",
      "State of Palestine\n",
      "Syrian Arab Republic\n",
      "Tanzania, United Republic\n",
      "Trinidad and Tobago\n",
      "Turks and Caicos\n",
      "United Arab Emirates\n",
      "United Kingdom excl.\n",
      "United States of\n",
      "United States of\n",
      "Venezuela (Bolivarian Rep.\n",
      "Latin America and\n",
      "Antigua and Barbuda\n",
      "Bolivia (Plurinational State\n",
      "Bosnia and Herzegovina\n",
      "British Virgin Islands\n",
      "Central African Republic\n",
      "China, Hong Kong\n",
      "China, Macao SAR\n",
      "China, Taiwan Province\n",
      "Congo, Dem. Rep.\n",
      "Iran (Islamic Republic\n",
      "Korea, Republic of\n",
      "Lao People's Dem.\n",
      "Micronesia (Federated States\n",
      "Moldova, Republic of\n",
      "Netherlands (Kingdom of\n",
      "Papua New Guinea\n",
      "Saint Kitts and\n",
      "Saint Vincent and\n",
      "Sao Tome and\n",
      "Sint Maarten (Dutch\n",
      "State of Palestine\n",
      "Syrian Arab Republic\n",
      "Tanzania, United Republic\n",
      "Trinidad and Tobago\n",
      "Turks and Caicos\n",
      "United Arab Emirates\n",
      "United Kingdom excl.\n",
      "United States of\n",
      "United States of\n",
      "Venezuela (Bolivarian Rep.\n",
      "Latin America and\n",
      "Antigua and Barbuda\n",
      "Bolivia (Plurinational State\n",
      "Bosnia and Herzegovina\n",
      "British Virgin Islands\n",
      "Central African Republic\n",
      "China, Hong Kong\n",
      "China, Macao SAR\n",
      "China, Taiwan Province\n",
      "Congo, Dem. Rep.\n",
      "Iran (Islamic Republic\n",
      "Korea, Republic of\n",
      "Lao People's Dem.\n",
      "Micronesia (Federated States\n",
      "Moldova, Republic of\n",
      "Netherlands (Kingdom of\n",
      "Papua New Guinea\n",
      "Saint Kitts and\n",
      "Saint Vincent and\n",
      "Sao Tome and\n",
      "Sint Maarten (Dutch\n",
      "State of Palestine\n",
      "Syrian Arab Republic\n",
      "Tanzania, United Republic\n",
      "Trinidad and Tobago\n",
      "Turks and Caicos\n",
      "United Arab Emirates\n",
      "United Kingdom excl.\n",
      "United States of\n",
      "United States of\n",
      "Venezuela (Bolivarian Rep.\n",
      "Latin America and\n",
      "Antigua and Barbuda\n",
      "Bolivia (Plurinational State\n",
      "Bosnia and Herzegovina\n",
      "British Virgin Islands\n",
      "Central African Republic\n",
      "China, Hong Kong\n",
      "China, Macao SAR\n",
      "China, Taiwan Province\n",
      "Congo, Dem. Rep.\n",
      "Iran (Islamic Republic\n",
      "Korea, Republic of\n",
      "Lao People's Dem.\n",
      "Micronesia (Federated States\n",
      "Moldova, Republic of\n",
      "Netherlands (Kingdom of\n",
      "Papua New Guinea\n",
      "Saint Kitts and\n",
      "Saint Vincent and\n",
      "Sao Tome and\n",
      "Sint Maarten (Dutch\n",
      "State of Palestine\n",
      "Syrian Arab Republic\n",
      "Tanzania, United Republic\n",
      "Trinidad and Tobago\n",
      "Turks and Caicos\n",
      "United Arab Emirates\n",
      "United Kingdom excl.\n",
      "United States of\n",
      "United States of\n",
      "Venezuela (Bolivarian Rep.\n",
      "Latin America and\n",
      "Antigua and Barbuda\n",
      "Bolivia (Plurinational State\n",
      "Bosnia and Herzegovina\n",
      "British Virgin Islands\n",
      "Central African Republic\n",
      "China, Hong Kong\n",
      "China, Macao SAR\n",
      "China, Taiwan Province\n",
      "Congo, Dem. Rep.\n",
      "Iran (Islamic Republic\n",
      "Korea, Republic of\n",
      "Lao People's Dem.\n",
      "Micronesia (Federated States\n",
      "Moldova, Republic of\n",
      "Netherlands (Kingdom of\n",
      "Papua New Guinea\n",
      "Saint Kitts and\n",
      "Saint Vincent and\n",
      "Sao Tome and\n",
      "Sint Maarten (Dutch\n",
      "State of Palestine\n",
      "Syrian Arab Republic\n",
      "Tanzania, United Republic\n",
      "Trinidad and Tobago\n",
      "Turks and Caicos\n",
      "United Arab Emirates\n",
      "United Kingdom excl.\n",
      "United States of\n",
      "United States of\n",
      "Venezuela (Bolivarian Rep.\n",
      "Latin America and\n"
     ]
    }
   ],
   "source": [
    "for i in range(0,len(melted_data[\"Country\"])):\n",
    "    n = melted_data[\"Country\"][i].split(\" \")\n",
    "    if len(n) >= 3:\n",
    "        melted_data.loc[i,\"Country\"] = f\"{n[0]} {n[1]} {n[2]}\"\n",
    "        print(f\"{n[0]} {n[1]} {n[2]}\")"
   ]
  },
  {
   "cell_type": "code",
   "execution_count": 141,
   "metadata": {},
   "outputs": [
    {
     "data": {
      "text/html": [
       "<div>\n",
       "<style scoped>\n",
       "    .dataframe tbody tr th:only-of-type {\n",
       "        vertical-align: middle;\n",
       "    }\n",
       "\n",
       "    .dataframe tbody tr th {\n",
       "        vertical-align: top;\n",
       "    }\n",
       "\n",
       "    .dataframe thead th {\n",
       "        text-align: right;\n",
       "    }\n",
       "</style>\n",
       "<table border=\"1\" class=\"dataframe\">\n",
       "  <thead>\n",
       "    <tr style=\"text-align: right;\">\n",
       "      <th></th>\n",
       "      <th>Country</th>\n",
       "      <th>Year</th>\n",
       "      <th>Consumer Price</th>\n",
       "    </tr>\n",
       "  </thead>\n",
       "  <tbody>\n",
       "  </tbody>\n",
       "</table>\n",
       "</div>"
      ],
      "text/plain": [
       "Empty DataFrame\n",
       "Columns: [Country, Year, Consumer Price]\n",
       "Index: []"
      ]
     },
     "execution_count": 141,
     "metadata": {},
     "output_type": "execute_result"
    }
   ],
   "source": [
    "melted_data[melted_data[\"Country\"] == \"Venezuela\"]"
   ]
  },
  {
   "cell_type": "code",
   "execution_count": 142,
   "metadata": {},
   "outputs": [],
   "source": [
    "def create_consumer_price_chart(data):\n",
    "  fig = px.line(data, \n",
    "                x = 'Year',\n",
    "                y = 'Consumer Price',\n",
    "                color = 'Country',\n",
    "                title = 'Impact of Covid-19 on Consumer Price',\n",
    "                labels = {'Year': 'Year', 'Consumer Price': 'Consumer Price (Index Base 10)'},\n",
    "                markers = True)\n",
    "  return fig"
   ]
  },
  {
   "cell_type": "code",
   "execution_count": 143,
   "metadata": {},
   "outputs": [
    {
     "data": {
      "application/vnd.plotly.v1+json": {
       "config": {
        "plotlyServerURL": "https://plot.ly"
       },
       "data": [
        {
         "hovertemplate": "Country=Afghanistan<br>Year=%{x}<br>Consumer Price (Index Base 10)=%{y}<extra></extra>",
         "legendgroup": "Afghanistan",
         "line": {
          "color": "#636efa",
          "dash": "solid"
         },
         "marker": {
          "symbol": "circle"
         },
         "mode": "lines+markers",
         "name": "Afghanistan",
         "showlegend": true,
         "type": "scattergl",
         "x": [
          "2017",
          "2018",
          "2019",
          "2020",
          "2021",
          "2022"
         ],
         "xaxis": "x",
         "y": [
          67.9,
          68.3,
          69.9,
          73.8,
          77.6,
          88.2
         ],
         "yaxis": "y"
        },
        {
         "hovertemplate": "Country=Albania<br>Year=%{x}<br>Consumer Price (Index Base 10)=%{y}<extra></extra>",
         "legendgroup": "Albania",
         "line": {
          "color": "#EF553B",
          "dash": "solid"
         },
         "marker": {
          "symbol": "circle"
         },
         "mode": "lines+markers",
         "name": "Albania",
         "showlegend": true,
         "type": "scattergl",
         "x": [
          "2017",
          "2018",
          "2019",
          "2020",
          "2021",
          "2022"
         ],
         "xaxis": "x",
         "y": [
          115,
          117.4,
          119,
          120.9,
          123.4,
          131.7
         ],
         "yaxis": "y"
        },
        {
         "hovertemplate": "Country=Algeria<br>Year=%{x}<br>Consumer Price (Index Base 10)=%{y}<extra></extra>",
         "legendgroup": "Algeria",
         "line": {
          "color": "#00cc96",
          "dash": "solid"
         },
         "marker": {
          "symbol": "circle"
         },
         "mode": "lines+markers",
         "name": "Algeria",
         "showlegend": true,
         "type": "scattergl",
         "x": [
          "2017",
          "2018",
          "2019",
          "2020",
          "2021",
          "2022"
         ],
         "xaxis": "x",
         "y": [
          142.4,
          148.5,
          151.4,
          155,
          166.2,
          181.6
         ],
         "yaxis": "y"
        },
        {
         "hovertemplate": "Country=Andorra<br>Year=%{x}<br>Consumer Price (Index Base 10)=%{y}<extra></extra>",
         "legendgroup": "Andorra",
         "line": {
          "color": "#ab63fa",
          "dash": "solid"
         },
         "marker": {
          "symbol": "circle"
         },
         "mode": "lines+markers",
         "name": "Andorra",
         "showlegend": true,
         "type": "scattergl",
         "x": [
          "2017",
          "2018",
          "2019",
          "2020",
          "2021",
          "2022"
         ],
         "xaxis": "x",
         "y": [
          105.5,
          106.5,
          107.1,
          107.2,
          109,
          115.8
         ],
         "yaxis": "y"
        },
        {
         "hovertemplate": "Country=Angola<br>Year=%{x}<br>Consumer Price (Index Base 10)=%{y}<extra></extra>",
         "legendgroup": "Angola",
         "line": {
          "color": "#FFA15A",
          "dash": "solid"
         },
         "marker": {
          "symbol": "circle"
         },
         "mode": "lines+markers",
         "name": "Angola",
         "showlegend": true,
         "type": "scattergl",
         "x": [
          "2017",
          "2018",
          "2019",
          "2020",
          "2021",
          "2022"
         ],
         "xaxis": "x",
         "y": [
          270.6,
          323.7,
          379,
          463.5,
          582.9,
          707.4
         ],
         "yaxis": "y"
        },
        {
         "hovertemplate": "Country=Anguilla<br>Year=%{x}<br>Consumer Price (Index Base 10)=%{y}<extra></extra>",
         "legendgroup": "Anguilla",
         "line": {
          "color": "#19d3f3",
          "dash": "solid"
         },
         "marker": {
          "symbol": "circle"
         },
         "mode": "lines+markers",
         "name": "Anguilla",
         "showlegend": true,
         "type": "scattergl",
         "x": [
          "2017",
          "2018",
          "2019",
          "2020",
          "2021",
          "2022"
         ],
         "xaxis": "x",
         "y": [
          105.9,
          106.3,
          107.1,
          106.6,
          108.5,
          111.8
         ],
         "yaxis": "y"
        },
        {
         "hovertemplate": "Country=Antigua and Barbuda<br>Year=%{x}<br>Consumer Price (Index Base 10)=%{y}<extra></extra>",
         "legendgroup": "Antigua and Barbuda",
         "line": {
          "color": "#FF6692",
          "dash": "solid"
         },
         "marker": {
          "symbol": "circle"
         },
         "mode": "lines+markers",
         "name": "Antigua and Barbuda",
         "showlegend": true,
         "type": "scattergl",
         "x": [
          "2017",
          "2018",
          "2019",
          "2020",
          "2021",
          "2022"
         ],
         "xaxis": "x",
         "y": [
          112.5,
          113.8,
          115.4,
          116.7,
          118.6,
          127.5
         ],
         "yaxis": "y"
        },
        {
         "hovertemplate": "Country=Argentina<br>Year=%{x}<br>Consumer Price (Index Base 10)=%{y}<extra></extra>",
         "legendgroup": "Argentina",
         "line": {
          "color": "#B6E880",
          "dash": "solid"
         },
         "marker": {
          "symbol": "circle"
         },
         "mode": "lines+markers",
         "name": "Argentina",
         "showlegend": true,
         "type": "scattergl",
         "x": [
          "2017",
          "2018",
          "2019",
          "2020",
          "2021",
          "2022"
         ],
         "xaxis": "x",
         "y": [
          347.8,
          466.6,
          713,
          1001.6,
          1473.4,
          2550.9
         ],
         "yaxis": "y"
        },
        {
         "hovertemplate": "Country=Armenia<br>Year=%{x}<br>Consumer Price (Index Base 10)=%{y}<extra></extra>",
         "legendgroup": "Armenia",
         "line": {
          "color": "#FF97FF",
          "dash": "solid"
         },
         "marker": {
          "symbol": "circle"
         },
         "mode": "lines+markers",
         "name": "Armenia",
         "showlegend": true,
         "type": "scattergl",
         "x": [
          "2017",
          "2018",
          "2019",
          "2020",
          "2021",
          "2022"
         ],
         "xaxis": "x",
         "y": [
          124.1,
          127.2,
          129,
          130.6,
          140,
          152.1
         ],
         "yaxis": "y"
        },
        {
         "hovertemplate": "Country=Aruba<br>Year=%{x}<br>Consumer Price (Index Base 10)=%{y}<extra></extra>",
         "legendgroup": "Aruba",
         "line": {
          "color": "#FECB52",
          "dash": "solid"
         },
         "marker": {
          "symbol": "circle"
         },
         "mode": "lines+markers",
         "name": "Aruba",
         "showlegend": true,
         "type": "scattergl",
         "x": [
          "2017",
          "2018",
          "2019",
          "2020",
          "2021",
          "2022"
         ],
         "xaxis": "x",
         "y": [
          101.4,
          105.1,
          109.2,
          107.8,
          108.6,
          114.6
         ],
         "yaxis": "y"
        },
        {
         "hovertemplate": "Country=Australia<br>Year=%{x}<br>Consumer Price (Index Base 10)=%{y}<extra></extra>",
         "legendgroup": "Australia",
         "line": {
          "color": "#636efa",
          "dash": "solid"
         },
         "marker": {
          "symbol": "circle"
         },
         "mode": "lines+markers",
         "name": "Australia",
         "showlegend": true,
         "type": "scattergl",
         "x": [
          "2017",
          "2018",
          "2019",
          "2020",
          "2021",
          "2022"
         ],
         "xaxis": "x",
         "y": [
          115.7,
          118,
          119.8,
          120.9,
          124.3,
          132.5
         ],
         "yaxis": "y"
        },
        {
         "hovertemplate": "Country=Austria<br>Year=%{x}<br>Consumer Price (Index Base 10)=%{y}<extra></extra>",
         "legendgroup": "Austria",
         "line": {
          "color": "#EF553B",
          "dash": "solid"
         },
         "marker": {
          "symbol": "circle"
         },
         "mode": "lines+markers",
         "name": "Austria",
         "showlegend": true,
         "type": "scattergl",
         "x": [
          "2017",
          "2018",
          "2019",
          "2020",
          "2021",
          "2022"
         ],
         "xaxis": "x",
         "y": [
          114.5,
          116.9,
          118.7,
          120.3,
          123.6,
          134.3
         ],
         "yaxis": "y"
        },
        {
         "hovertemplate": "Country=Azerbaijan<br>Year=%{x}<br>Consumer Price (Index Base 10)=%{y}<extra></extra>",
         "legendgroup": "Azerbaijan",
         "line": {
          "color": "#00cc96",
          "dash": "solid"
         },
         "marker": {
          "symbol": "circle"
         },
         "mode": "lines+markers",
         "name": "Azerbaijan",
         "showlegend": true,
         "type": "scattergl",
         "x": [
          "2017",
          "2018",
          "2019",
          "2020",
          "2021",
          "2022"
         ],
         "xaxis": "x",
         "y": [
          149.3,
          152.8,
          156.9,
          161.4,
          172.1,
          195.9
         ],
         "yaxis": "y"
        },
        {
         "hovertemplate": "Country=Bahamas<br>Year=%{x}<br>Consumer Price (Index Base 10)=%{y}<extra></extra>",
         "legendgroup": "Bahamas",
         "line": {
          "color": "#ab63fa",
          "dash": "solid"
         },
         "marker": {
          "symbol": "circle"
         },
         "mode": "lines+markers",
         "name": "Bahamas",
         "showlegend": true,
         "type": "scattergl",
         "x": [
          "2017",
          "2018",
          "2019",
          "2020",
          "2021",
          "2022"
         ],
         "xaxis": "x",
         "y": [
          110,
          112.5,
          115.3,
          115.4,
          118.7,
          125.4
         ],
         "yaxis": "y"
        },
        {
         "hovertemplate": "Country=Bahrain<br>Year=%{x}<br>Consumer Price (Index Base 10)=%{y}<extra></extra>",
         "legendgroup": "Bahrain",
         "line": {
          "color": "#FFA15A",
          "dash": "solid"
         },
         "marker": {
          "symbol": "circle"
         },
         "mode": "lines+markers",
         "name": "Bahrain",
         "showlegend": true,
         "type": "scattergl",
         "x": [
          "2017",
          "2018",
          "2019",
          "2020",
          "2021",
          "2022"
         ],
         "xaxis": "x",
         "y": [
          115.3,
          117.7,
          118.9,
          116.1,
          115.4,
          119.6
         ],
         "yaxis": "y"
        },
        {
         "hovertemplate": "Country=Bangladesh<br>Year=%{x}<br>Consumer Price (Index Base 10)=%{y}<extra></extra>",
         "legendgroup": "Bangladesh",
         "line": {
          "color": "#19d3f3",
          "dash": "solid"
         },
         "marker": {
          "symbol": "circle"
         },
         "mode": "lines+markers",
         "name": "Bangladesh",
         "showlegend": true,
         "type": "scattergl",
         "x": [
          "2017",
          "2018",
          "2019",
          "2020",
          "2021",
          "2022"
         ],
         "xaxis": "x",
         "y": [
          161.4,
          170.7,
          180,
          190.2,
          200.8,
          213.1
         ],
         "yaxis": "y"
        },
        {
         "hovertemplate": "Country=Barbados<br>Year=%{x}<br>Consumer Price (Index Base 10)=%{y}<extra></extra>",
         "legendgroup": "Barbados",
         "line": {
          "color": "#FF6692",
          "dash": "solid"
         },
         "marker": {
          "symbol": "circle"
         },
         "mode": "lines+markers",
         "name": "Barbados",
         "showlegend": true,
         "type": "scattergl",
         "x": [
          "2017",
          "2018",
          "2019",
          "2020",
          "2021",
          "2022"
         ],
         "xaxis": "x",
         "y": [
          124.2,
          128.8,
          134.1,
          138,
          142.2,
          155.6
         ],
         "yaxis": "y"
        },
        {
         "hovertemplate": "Country=Belarus<br>Year=%{x}<br>Consumer Price (Index Base 10)=%{y}<extra></extra>",
         "legendgroup": "Belarus",
         "line": {
          "color": "#B6E880",
          "dash": "solid"
         },
         "marker": {
          "symbol": "circle"
         },
         "mode": "lines+markers",
         "name": "Belarus",
         "showlegend": true,
         "type": "scattergl",
         "x": [
          "2017",
          "2018",
          "2019",
          "2020",
          "2021",
          "2022"
         ],
         "xaxis": "x",
         "y": [
          458.9,
          481.2,
          508.1,
          536.3,
          587,
          674.1
         ],
         "yaxis": "y"
        },
        {
         "hovertemplate": "Country=Belgium<br>Year=%{x}<br>Consumer Price (Index Base 10)=%{y}<extra></extra>",
         "legendgroup": "Belgium",
         "line": {
          "color": "#FF97FF",
          "dash": "solid"
         },
         "marker": {
          "symbol": "circle"
         },
         "mode": "lines+markers",
         "name": "Belgium",
         "showlegend": true,
         "type": "scattergl",
         "x": [
          "2017",
          "2018",
          "2019",
          "2020",
          "2021",
          "2022"
         ],
         "xaxis": "x",
         "y": [
          113,
          115.6,
          117,
          117.5,
          121.3,
          133.8
         ],
         "yaxis": "y"
        },
        {
         "hovertemplate": "Country=Belize<br>Year=%{x}<br>Consumer Price (Index Base 10)=%{y}<extra></extra>",
         "legendgroup": "Belize",
         "line": {
          "color": "#FECB52",
          "dash": "solid"
         },
         "marker": {
          "symbol": "circle"
         },
         "mode": "lines+markers",
         "name": "Belize",
         "showlegend": true,
         "type": "scattergl",
         "x": [
          "2017",
          "2018",
          "2019",
          "2020",
          "2021",
          "2022"
         ],
         "xaxis": "x",
         "y": [
          105.7,
          106,
          106.2,
          106.3,
          109.7,
          116.6
         ],
         "yaxis": "y"
        },
        {
         "hovertemplate": "Country=Benin<br>Year=%{x}<br>Consumer Price (Index Base 10)=%{y}<extra></extra>",
         "legendgroup": "Benin",
         "line": {
          "color": "#636efa",
          "dash": "solid"
         },
         "marker": {
          "symbol": "circle"
         },
         "mode": "lines+markers",
         "name": "Benin",
         "showlegend": true,
         "type": "scattergl",
         "x": [
          "2017",
          "2018",
          "2019",
          "2020",
          "2021",
          "2022"
         ],
         "xaxis": "x",
         "y": [
          111.2,
          112.2,
          111.1,
          114.5,
          116.4,
          118.2
         ],
         "yaxis": "y"
        },
        {
         "hovertemplate": "Country=Bermuda<br>Year=%{x}<br>Consumer Price (Index Base 10)=%{y}<extra></extra>",
         "legendgroup": "Bermuda",
         "line": {
          "color": "#EF553B",
          "dash": "solid"
         },
         "marker": {
          "symbol": "circle"
         },
         "mode": "lines+markers",
         "name": "Bermuda",
         "showlegend": true,
         "type": "scattergl",
         "x": [
          "2017",
          "2018",
          "2019",
          "2020",
          "2021",
          "2022"
         ],
         "xaxis": "x",
         "y": [
          90.9,
          92.1,
          93,
          93,
          94.3,
          97
         ],
         "yaxis": "y"
        },
        {
         "hovertemplate": "Country=Bhutan<br>Year=%{x}<br>Consumer Price (Index Base 10)=%{y}<extra></extra>",
         "legendgroup": "Bhutan",
         "line": {
          "color": "#00cc96",
          "dash": "solid"
         },
         "marker": {
          "symbol": "circle"
         },
         "mode": "lines+markers",
         "name": "Bhutan",
         "showlegend": true,
         "type": "scattergl",
         "x": [
          "2017",
          "2018",
          "2019",
          "2020",
          "2021",
          "2022"
         ],
         "xaxis": "x",
         "y": [
          162.8,
          168.7,
          173.5,
          178.8,
          193.4,
          204.9
         ],
         "yaxis": "y"
        },
        {
         "hovertemplate": "Country=Bolivia (Plurinational State<br>Year=%{x}<br>Consumer Price (Index Base 10)=%{y}<extra></extra>",
         "legendgroup": "Bolivia (Plurinational State",
         "line": {
          "color": "#ab63fa",
          "dash": "solid"
         },
         "marker": {
          "symbol": "circle"
         },
         "mode": "lines+markers",
         "name": "Bolivia (Plurinational State",
         "showlegend": true,
         "type": "scattergl",
         "x": [
          "2017",
          "2018",
          "2019",
          "2020",
          "2021",
          "2022"
         ],
         "xaxis": "x",
         "y": [
          142.4,
          145.6,
          148.3,
          149.7,
          150.8,
          153.5
         ],
         "yaxis": "y"
        },
        {
         "hovertemplate": "Country=Bosnia and Herzegovina<br>Year=%{x}<br>Consumer Price (Index Base 10)=%{y}<extra></extra>",
         "legendgroup": "Bosnia and Herzegovina",
         "line": {
          "color": "#FFA15A",
          "dash": "solid"
         },
         "marker": {
          "symbol": "circle"
         },
         "mode": "lines+markers",
         "name": "Bosnia and Herzegovina",
         "showlegend": true,
         "type": "scattergl",
         "x": [
          "2017",
          "2018",
          "2019",
          "2020",
          "2021",
          "2022"
         ],
         "xaxis": "x",
         "y": [
          103.2,
          104.6,
          105.2,
          104.1,
          106.2,
          121.1
         ],
         "yaxis": "y"
        },
        {
         "hovertemplate": "Country=Botswana<br>Year=%{x}<br>Consumer Price (Index Base 10)=%{y}<extra></extra>",
         "legendgroup": "Botswana",
         "line": {
          "color": "#19d3f3",
          "dash": "solid"
         },
         "marker": {
          "symbol": "circle"
         },
         "mode": "lines+markers",
         "name": "Botswana",
         "showlegend": true,
         "type": "scattergl",
         "x": [
          "2017",
          "2018",
          "2019",
          "2020",
          "2021",
          "2022"
         ],
         "xaxis": "x",
         "y": [
          141.1,
          145.7,
          149.7,
          152.5,
          162.7,
          182.6
         ],
         "yaxis": "y"
        },
        {
         "hovertemplate": "Country=Brazil<br>Year=%{x}<br>Consumer Price (Index Base 10)=%{y}<extra></extra>",
         "legendgroup": "Brazil",
         "line": {
          "color": "#FF6692",
          "dash": "solid"
         },
         "marker": {
          "symbol": "circle"
         },
         "mode": "lines+markers",
         "name": "Brazil",
         "showlegend": true,
         "type": "scattergl",
         "x": [
          "2017",
          "2018",
          "2019",
          "2020",
          "2021",
          "2022"
         ],
         "xaxis": "x",
         "y": [
          155.7,
          161.4,
          167.4,
          172.8,
          187.1,
          204.5
         ],
         "yaxis": "y"
        },
        {
         "hovertemplate": "Country=British Virgin Islands<br>Year=%{x}<br>Consumer Price (Index Base 10)=%{y}<extra></extra>",
         "legendgroup": "British Virgin Islands",
         "line": {
          "color": "#B6E880",
          "dash": "solid"
         },
         "marker": {
          "symbol": "circle"
         },
         "mode": "lines+markers",
         "name": "British Virgin Islands",
         "showlegend": true,
         "type": "scattergl",
         "x": [
          "2017",
          "2018",
          "2019",
          "2020",
          "2021",
          "2022"
         ],
         "xaxis": "x",
         "y": [
          113,
          115.3,
          117.3,
          118.9,
          122.3,
          132.6
         ],
         "yaxis": "y"
        },
        {
         "hovertemplate": "Country=Brunei Darussalam<br>Year=%{x}<br>Consumer Price (Index Base 10)=%{y}<extra></extra>",
         "legendgroup": "Brunei Darussalam",
         "line": {
          "color": "#FF97FF",
          "dash": "solid"
         },
         "marker": {
          "symbol": "circle"
         },
         "mode": "lines+markers",
         "name": "Brunei Darussalam",
         "showlegend": true,
         "type": "scattergl",
         "x": [
          "2017",
          "2018",
          "2019",
          "2020",
          "2021",
          "2022"
         ],
         "xaxis": "x",
         "y": [
          98.4,
          99.4,
          99,
          100.9,
          102.7,
          106.5
         ],
         "yaxis": "y"
        },
        {
         "hovertemplate": "Country=Bulgaria<br>Year=%{x}<br>Consumer Price (Index Base 10)=%{y}<extra></extra>",
         "legendgroup": "Bulgaria",
         "line": {
          "color": "#FECB52",
          "dash": "solid"
         },
         "marker": {
          "symbol": "circle"
         },
         "mode": "lines+markers",
         "name": "Bulgaria",
         "showlegend": true,
         "type": "scattergl",
         "x": [
          "2017",
          "2018",
          "2019",
          "2020",
          "2021",
          "2022"
         ],
         "xaxis": "x",
         "y": [
          103.3,
          106,
          108.6,
          109.9,
          113.1,
          127.8
         ],
         "yaxis": "y"
        },
        {
         "hovertemplate": "Country=Burkina Faso<br>Year=%{x}<br>Consumer Price (Index Base 10)=%{y}<extra></extra>",
         "legendgroup": "Burkina Faso",
         "line": {
          "color": "#636efa",
          "dash": "solid"
         },
         "marker": {
          "symbol": "circle"
         },
         "mode": "lines+markers",
         "name": "Burkina Faso",
         "showlegend": true,
         "type": "scattergl",
         "x": [
          "2017",
          "2018",
          "2019",
          "2020",
          "2021",
          "2022"
         ],
         "xaxis": "x",
         "y": [
          110.8,
          113,
          109.4,
          111.4,
          115.8,
          132.1
         ],
         "yaxis": "y"
        },
        {
         "hovertemplate": "Country=Burundi<br>Year=%{x}<br>Consumer Price (Index Base 10)=%{y}<extra></extra>",
         "legendgroup": "Burundi",
         "line": {
          "color": "#EF553B",
          "dash": "solid"
         },
         "marker": {
          "symbol": "circle"
         },
         "mode": "lines+markers",
         "name": "Burundi",
         "showlegend": true,
         "type": "scattergl",
         "x": [
          "2017",
          "2018",
          "2019",
          "2020",
          "2021",
          "2022"
         ],
         "xaxis": "x",
         "y": [
          189.6,
          184.3,
          183,
          196.4,
          212.7,
          252.9
         ],
         "yaxis": "y"
        },
        {
         "hovertemplate": "Country=Cabo Verde<br>Year=%{x}<br>Consumer Price (Index Base 10)=%{y}<extra></extra>",
         "legendgroup": "Cabo Verde",
         "line": {
          "color": "#00cc96",
          "dash": "solid"
         },
         "marker": {
          "symbol": "circle"
         },
         "mode": "lines+markers",
         "name": "Cabo Verde",
         "showlegend": true,
         "type": "scattergl",
         "x": [
          "2017",
          "2018",
          "2019",
          "2020",
          "2021",
          "2022"
         ],
         "xaxis": "x",
         "y": [
          107.9,
          109.3,
          110.5,
          111.2,
          113.2,
          122.2
         ],
         "yaxis": "y"
        },
        {
         "hovertemplate": "Country=Cambodia<br>Year=%{x}<br>Consumer Price (Index Base 10)=%{y}<extra></extra>",
         "legendgroup": "Cambodia",
         "line": {
          "color": "#ab63fa",
          "dash": "solid"
         },
         "marker": {
          "symbol": "circle"
         },
         "mode": "lines+markers",
         "name": "Cambodia",
         "showlegend": true,
         "type": "scattergl",
         "x": [
          "2017",
          "2018",
          "2019",
          "2020",
          "2021",
          "2022"
         ],
         "xaxis": "x",
         "y": [
          124.6,
          127.6,
          130.1,
          133.9,
          137.9,
          145.2
         ],
         "yaxis": "y"
        },
        {
         "hovertemplate": "Country=Cameroon<br>Year=%{x}<br>Consumer Price (Index Base 10)=%{y}<extra></extra>",
         "legendgroup": "Cameroon",
         "line": {
          "color": "#FFA15A",
          "dash": "solid"
         },
         "marker": {
          "symbol": "circle"
         },
         "mode": "lines+markers",
         "name": "Cameroon",
         "showlegend": true,
         "type": "scattergl",
         "x": [
          "2017",
          "2018",
          "2019",
          "2020",
          "2021",
          "2022"
         ],
         "xaxis": "x",
         "y": [
          114.2,
          115.4,
          118.3,
          121.2,
          123.9,
          130.5
         ],
         "yaxis": "y"
        },
        {
         "hovertemplate": "Country=Canada<br>Year=%{x}<br>Consumer Price (Index Base 10)=%{y}<extra></extra>",
         "legendgroup": "Canada",
         "line": {
          "color": "#19d3f3",
          "dash": "solid"
         },
         "marker": {
          "symbol": "circle"
         },
         "mode": "lines+markers",
         "name": "Canada",
         "showlegend": true,
         "type": "scattergl",
         "x": [
          "2017",
          "2018",
          "2019",
          "2020",
          "2021",
          "2022"
         ],
         "xaxis": "x",
         "y": [
          112,
          114.5,
          116.8,
          117.6,
          121.6,
          129.9
         ],
         "yaxis": "y"
        },
        {
         "hovertemplate": "Country=Cayman Islands<br>Year=%{x}<br>Consumer Price (Index Base 10)=%{y}<extra></extra>",
         "legendgroup": "Cayman Islands",
         "line": {
          "color": "#FF6692",
          "dash": "solid"
         },
         "marker": {
          "symbol": "circle"
         },
         "mode": "lines+markers",
         "name": "Cayman Islands",
         "showlegend": true,
         "type": "scattergl",
         "x": [
          "2017",
          "2018",
          "2019",
          "2020",
          "2021",
          "2022"
         ],
         "xaxis": "x",
         "y": [
          105,
          108.5,
          114.6,
          115.8,
          119.6,
          131.6
         ],
         "yaxis": "y"
        },
        {
         "hovertemplate": "Country=Central African Republic<br>Year=%{x}<br>Consumer Price (Index Base 10)=%{y}<extra></extra>",
         "legendgroup": "Central African Republic",
         "line": {
          "color": "#B6E880",
          "dash": "solid"
         },
         "marker": {
          "symbol": "circle"
         },
         "mode": "lines+markers",
         "name": "Central African Republic",
         "showlegend": true,
         "type": "scattergl",
         "x": [
          "2017",
          "2018",
          "2019",
          "2020",
          "2021",
          "2022"
         ],
         "xaxis": "x",
         "y": [
          145.5,
          147.8,
          151.9,
          153.2,
          159.8,
          169.1
         ],
         "yaxis": "y"
        },
        {
         "hovertemplate": "Country=Chad<br>Year=%{x}<br>Consumer Price (Index Base 10)=%{y}<extra></extra>",
         "legendgroup": "Chad",
         "line": {
          "color": "#FF97FF",
          "dash": "solid"
         },
         "marker": {
          "symbol": "circle"
         },
         "mode": "lines+markers",
         "name": "Chad",
         "showlegend": true,
         "type": "scattergl",
         "x": [
          "2017",
          "2018",
          "2019",
          "2020",
          "2021",
          "2022"
         ],
         "xaxis": "x",
         "y": [
          114.2,
          118.9,
          117.7,
          123,
          122,
          128.5
         ],
         "yaxis": "y"
        },
        {
         "hovertemplate": "Country=Chile<br>Year=%{x}<br>Consumer Price (Index Base 10)=%{y}<extra></extra>",
         "legendgroup": "Chile",
         "line": {
          "color": "#FECB52",
          "dash": "solid"
         },
         "marker": {
          "symbol": "circle"
         },
         "mode": "lines+markers",
         "name": "Chile",
         "showlegend": true,
         "type": "scattergl",
         "x": [
          "2017",
          "2018",
          "2019",
          "2020",
          "2021",
          "2022"
         ],
         "xaxis": "x",
         "y": [
          125.5,
          128.5,
          131.3,
          135.3,
          141.5,
          157.9
         ],
         "yaxis": "y"
        },
        {
         "hovertemplate": "Country=China<br>Year=%{x}<br>Consumer Price (Index Base 10)=%{y}<extra></extra>",
         "legendgroup": "China",
         "line": {
          "color": "#636efa",
          "dash": "solid"
         },
         "marker": {
          "symbol": "circle"
         },
         "mode": "lines+markers",
         "name": "China",
         "showlegend": true,
         "type": "scattergl",
         "x": [
          "2017",
          "2018",
          "2019",
          "2020",
          "2021",
          "2022"
         ],
         "xaxis": "x",
         "y": [
          119.3,
          121.6,
          125.2,
          128.3,
          129.4,
          131.8
         ],
         "yaxis": "y"
        },
        {
         "hovertemplate": "Country=China, Hong Kong<br>Year=%{x}<br>Consumer Price (Index Base 10)=%{y}<extra></extra>",
         "legendgroup": "China, Hong Kong",
         "line": {
          "color": "#EF553B",
          "dash": "solid"
         },
         "marker": {
          "symbol": "circle"
         },
         "mode": "lines+markers",
         "name": "China, Hong Kong",
         "showlegend": true,
         "type": "scattergl",
         "x": [
          "2017",
          "2018",
          "2019",
          "2020",
          "2021",
          "2022"
         ],
         "xaxis": "x",
         "y": [
          127.8,
          130.9,
          134.6,
          135,
          137.1,
          139.7
         ],
         "yaxis": "y"
        },
        {
         "hovertemplate": "Country=China, Macao SAR<br>Year=%{x}<br>Consumer Price (Index Base 10)=%{y}<extra></extra>",
         "legendgroup": "China, Macao SAR",
         "line": {
          "color": "#00cc96",
          "dash": "solid"
         },
         "marker": {
          "symbol": "circle"
         },
         "mode": "lines+markers",
         "name": "China, Macao SAR",
         "showlegend": true,
         "type": "scattergl",
         "x": [
          "2017",
          "2018",
          "2019",
          "2020",
          "2021",
          "2022"
         ],
         "xaxis": "x",
         "y": [
          136.1,
          140.2,
          144,
          145.2,
          145.3,
          146.8
         ],
         "yaxis": "y"
        },
        {
         "hovertemplate": "Country=China, Taiwan Province<br>Year=%{x}<br>Consumer Price (Index Base 10)=%{y}<extra></extra>",
         "legendgroup": "China, Taiwan Province",
         "line": {
          "color": "#ab63fa",
          "dash": "solid"
         },
         "marker": {
          "symbol": "circle"
         },
         "mode": "lines+markers",
         "name": "China, Taiwan Province",
         "showlegend": true,
         "type": "scattergl",
         "x": [
          "2017",
          "2018",
          "2019",
          "2020",
          "2021",
          "2022"
         ],
         "xaxis": "x",
         "y": [
          107.3,
          108.7,
          109.3,
          109,
          111.2,
          114.5
         ],
         "yaxis": "y"
        },
        {
         "hovertemplate": "Country=Colombia<br>Year=%{x}<br>Consumer Price (Index Base 10)=%{y}<extra></extra>",
         "legendgroup": "Colombia",
         "line": {
          "color": "#FFA15A",
          "dash": "solid"
         },
         "marker": {
          "symbol": "circle"
         },
         "mode": "lines+markers",
         "name": "Colombia",
         "showlegend": true,
         "type": "scattergl",
         "x": [
          "2017",
          "2018",
          "2019",
          "2020",
          "2021",
          "2022"
         ],
         "xaxis": "x",
         "y": [
          131.9,
          136.2,
          141,
          144.5,
          149.6,
          164.8
         ],
         "yaxis": "y"
        },
        {
         "hovertemplate": "Country=Comoros<br>Year=%{x}<br>Consumer Price (Index Base 10)=%{y}<extra></extra>",
         "legendgroup": "Comoros",
         "line": {
          "color": "#19d3f3",
          "dash": "solid"
         },
         "marker": {
          "symbol": "circle"
         },
         "mode": "lines+markers",
         "name": "Comoros",
         "showlegend": true,
         "type": "scattergl",
         "x": [
          "2017",
          "2018",
          "2019",
          "2020",
          "2021",
          "2022"
         ],
         "xaxis": "x",
         "y": [
          110.7,
          112.6,
          116.8,
          117.7,
          117.7,
          131.8
         ],
         "yaxis": "y"
        },
        {
         "hovertemplate": "Country=Congo<br>Year=%{x}<br>Consumer Price (Index Base 10)=%{y}<extra></extra>",
         "legendgroup": "Congo",
         "line": {
          "color": "#FF6692",
          "dash": "solid"
         },
         "marker": {
          "symbol": "circle"
         },
         "mode": "lines+markers",
         "name": "Congo",
         "showlegend": true,
         "type": "scattergl",
         "x": [
          "2017",
          "2018",
          "2019",
          "2020",
          "2021",
          "2022"
         ],
         "xaxis": "x",
         "y": [
          120.7,
          122,
          122.5,
          124.2,
          126.7,
          131.1
         ],
         "yaxis": "y"
        },
        {
         "hovertemplate": "Country=Congo, Dem. Rep.<br>Year=%{x}<br>Consumer Price (Index Base 10)=%{y}<extra></extra>",
         "legendgroup": "Congo, Dem. Rep.",
         "line": {
          "color": "#B6E880",
          "dash": "solid"
         },
         "marker": {
          "symbol": "circle"
         },
         "mode": "lines+markers",
         "name": "Congo, Dem. Rep.",
         "showlegend": true,
         "type": "scattergl",
         "x": [
          "2017",
          "2018",
          "2019",
          "2020",
          "2021",
          "2022"
         ],
         "xaxis": "x",
         "y": [
          167.1,
          216,
          226.1,
          251.8,
          274.4,
          299.1
         ],
         "yaxis": "y"
        },
        {
         "hovertemplate": "Country=Cook Islands<br>Year=%{x}<br>Consumer Price (Index Base 10)=%{y}<extra></extra>",
         "legendgroup": "Cook Islands",
         "line": {
          "color": "#FF97FF",
          "dash": "solid"
         },
         "marker": {
          "symbol": "circle"
         },
         "mode": "lines+markers",
         "name": "Cook Islands",
         "showlegend": true,
         "type": "scattergl",
         "x": [
          "2017",
          "2018",
          "2019",
          "2020",
          "2021",
          "2022"
         ],
         "xaxis": "x",
         "y": [
          108.2,
          108.2,
          108.7,
          109.8,
          111.9,
          123.7
         ],
         "yaxis": "y"
        },
        {
         "hovertemplate": "Country=Costa Rica<br>Year=%{x}<br>Consumer Price (Index Base 10)=%{y}<extra></extra>",
         "legendgroup": "Costa Rica",
         "line": {
          "color": "#FECB52",
          "dash": "solid"
         },
         "marker": {
          "symbol": "circle"
         },
         "mode": "lines+markers",
         "name": "Costa Rica",
         "showlegend": true,
         "type": "scattergl",
         "x": [
          "2017",
          "2018",
          "2019",
          "2020",
          "2021",
          "2022"
         ],
         "xaxis": "x",
         "y": [
          123.5,
          126.2,
          128.8,
          129.8,
          132,
          142.9
         ],
         "yaxis": "y"
        },
        {
         "hovertemplate": "Country=Cote d'Ivoire<br>Year=%{x}<br>Consumer Price (Index Base 10)=%{y}<extra></extra>",
         "legendgroup": "Cote d'Ivoire",
         "line": {
          "color": "#636efa",
          "dash": "solid"
         },
         "marker": {
          "symbol": "circle"
         },
         "mode": "lines+markers",
         "name": "Cote d'Ivoire",
         "showlegend": true,
         "type": "scattergl",
         "x": [
          "2017",
          "2018",
          "2019",
          "2020",
          "2021",
          "2022"
         ],
         "xaxis": "x",
         "y": [
          112.1,
          112.8,
          113.7,
          116.5,
          121.3,
          127.7
         ],
         "yaxis": "y"
        },
        {
         "hovertemplate": "Country=Croatia<br>Year=%{x}<br>Consumer Price (Index Base 10)=%{y}<extra></extra>",
         "legendgroup": "Croatia",
         "line": {
          "color": "#EF553B",
          "dash": "solid"
         },
         "marker": {
          "symbol": "circle"
         },
         "mode": "lines+markers",
         "name": "Croatia",
         "showlegend": true,
         "type": "scattergl",
         "x": [
          "2017",
          "2018",
          "2019",
          "2020",
          "2021",
          "2022"
         ],
         "xaxis": "x",
         "y": [
          108.8,
          110.5,
          111.3,
          111.3,
          114.3,
          126.5
         ],
         "yaxis": "y"
        },
        {
         "hovertemplate": "Country=Cuba<br>Year=%{x}<br>Consumer Price (Index Base 10)=%{y}<extra></extra>",
         "legendgroup": "Cuba",
         "line": {
          "color": "#00cc96",
          "dash": "solid"
         },
         "marker": {
          "symbol": "circle"
         },
         "mode": "lines+markers",
         "name": "Cuba",
         "showlegend": true,
         "type": "scattergl",
         "x": [
          "2017",
          "2018",
          "2019",
          "2020",
          "2021",
          "2022"
         ],
         "xaxis": "x",
         "y": [
          142.3,
          152.2,
          160.7,
          179.9,
          453.1,
          798
         ],
         "yaxis": "y"
        },
        {
         "hovertemplate": "Country=Curacao<br>Year=%{x}<br>Consumer Price (Index Base 10)=%{y}<extra></extra>",
         "legendgroup": "Curacao",
         "line": {
          "color": "#ab63fa",
          "dash": "solid"
         },
         "marker": {
          "symbol": "circle"
         },
         "mode": "lines+markers",
         "name": "Curacao",
         "showlegend": true,
         "type": "scattergl",
         "x": [
          "2017",
          "2018",
          "2019",
          "2020",
          "2021",
          "2022"
         ],
         "xaxis": "x",
         "y": [
          109.7,
          112.6,
          115.4,
          118,
          122.5,
          131.6
         ],
         "yaxis": "y"
        },
        {
         "hovertemplate": "Country=Cyprus<br>Year=%{x}<br>Consumer Price (Index Base 10)=%{y}<extra></extra>",
         "legendgroup": "Cyprus",
         "line": {
          "color": "#FFA15A",
          "dash": "solid"
         },
         "marker": {
          "symbol": "circle"
         },
         "mode": "lines+markers",
         "name": "Cyprus",
         "showlegend": true,
         "type": "scattergl",
         "x": [
          "2017",
          "2018",
          "2019",
          "2020",
          "2021",
          "2022"
         ],
         "xaxis": "x",
         "y": [
          104.6,
          105.4,
          106,
          104.8,
          107.2,
          115.8
         ],
         "yaxis": "y"
        },
        {
         "hovertemplate": "Country=Czechia<br>Year=%{x}<br>Consumer Price (Index Base 10)=%{y}<extra></extra>",
         "legendgroup": "Czechia",
         "line": {
          "color": "#19d3f3",
          "dash": "solid"
         },
         "marker": {
          "symbol": "circle"
         },
         "mode": "lines+markers",
         "name": "Czechia",
         "showlegend": true,
         "type": "scattergl",
         "x": [
          "2017",
          "2018",
          "2019",
          "2020",
          "2021",
          "2022"
         ],
         "xaxis": "x",
         "y": [
          110.9,
          113.3,
          116.5,
          120.2,
          124.8,
          143.6
         ],
         "yaxis": "y"
        },
        {
         "hovertemplate": "Country=Denmark<br>Year=%{x}<br>Consumer Price (Index Base 10)=%{y}<extra></extra>",
         "legendgroup": "Denmark",
         "line": {
          "color": "#FF6692",
          "dash": "solid"
         },
         "marker": {
          "symbol": "circle"
         },
         "mode": "lines+markers",
         "name": "Denmark",
         "showlegend": true,
         "type": "scattergl",
         "x": [
          "2017",
          "2018",
          "2019",
          "2020",
          "2021",
          "2022"
         ],
         "xaxis": "x",
         "y": [
          107.4,
          108.1,
          108.9,
          109.3,
          111.4,
          120.9
         ],
         "yaxis": "y"
        },
        {
         "hovertemplate": "Country=Djibouti<br>Year=%{x}<br>Consumer Price (Index Base 10)=%{y}<extra></extra>",
         "legendgroup": "Djibouti",
         "line": {
          "color": "#B6E880",
          "dash": "solid"
         },
         "marker": {
          "symbol": "circle"
         },
         "mode": "lines+markers",
         "name": "Djibouti",
         "showlegend": true,
         "type": "scattergl",
         "x": [
          "2017",
          "2018",
          "2019",
          "2020",
          "2021",
          "2022"
         ],
         "xaxis": "x",
         "y": [
          115.1,
          115.3,
          119.1,
          121.2,
          122.6,
          129.3
         ],
         "yaxis": "y"
        },
        {
         "hovertemplate": "Country=Dominica<br>Year=%{x}<br>Consumer Price (Index Base 10)=%{y}<extra></extra>",
         "legendgroup": "Dominica",
         "line": {
          "color": "#FF97FF",
          "dash": "solid"
         },
         "marker": {
          "symbol": "circle"
         },
         "mode": "lines+markers",
         "name": "Dominica",
         "showlegend": true,
         "type": "scattergl",
         "x": [
          "2017",
          "2018",
          "2019",
          "2020",
          "2021",
          "2022"
         ],
         "xaxis": "x",
         "y": [
          102.8,
          103.8,
          105.4,
          104.6,
          106.2,
          114.2
         ],
         "yaxis": "y"
        },
        {
         "hovertemplate": "Country=Dominican Republic<br>Year=%{x}<br>Consumer Price (Index Base 10)=%{y}<extra></extra>",
         "legendgroup": "Dominican Republic",
         "line": {
          "color": "#FECB52",
          "dash": "solid"
         },
         "marker": {
          "symbol": "circle"
         },
         "mode": "lines+markers",
         "name": "Dominican Republic",
         "showlegend": true,
         "type": "scattergl",
         "x": [
          "2017",
          "2018",
          "2019",
          "2020",
          "2021",
          "2022"
         ],
         "xaxis": "x",
         "y": [
          128.5,
          133.1,
          135.5,
          140.6,
          152.2,
          165.6
         ],
         "yaxis": "y"
        },
        {
         "hovertemplate": "Country=Ecuador<br>Year=%{x}<br>Consumer Price (Index Base 10)=%{y}<extra></extra>",
         "legendgroup": "Ecuador",
         "line": {
          "color": "#636efa",
          "dash": "solid"
         },
         "marker": {
          "symbol": "circle"
         },
         "mode": "lines+markers",
         "name": "Ecuador",
         "showlegend": true,
         "type": "scattergl",
         "x": [
          "2017",
          "2018",
          "2019",
          "2020",
          "2021",
          "2022"
         ],
         "xaxis": "x",
         "y": [
          124.1,
          123.8,
          124.1,
          123.7,
          123.9,
          128.2
         ],
         "yaxis": "y"
        },
        {
         "hovertemplate": "Country=Egypt<br>Year=%{x}<br>Consumer Price (Index Base 10)=%{y}<extra></extra>",
         "legendgroup": "Egypt",
         "line": {
          "color": "#EF553B",
          "dash": "solid"
         },
         "marker": {
          "symbol": "circle"
         },
         "mode": "lines+markers",
         "name": "Egypt",
         "showlegend": true,
         "type": "scattergl",
         "x": [
          "2017",
          "2018",
          "2019",
          "2020",
          "2021",
          "2022"
         ],
         "xaxis": "x",
         "y": [
          214.7,
          259.5,
          295.5,
          312.3,
          326.4,
          354.1
         ],
         "yaxis": "y"
        },
        {
         "hovertemplate": "Country=El Salvador<br>Year=%{x}<br>Consumer Price (Index Base 10)=%{y}<extra></extra>",
         "legendgroup": "El Salvador",
         "line": {
          "color": "#00cc96",
          "dash": "solid"
         },
         "marker": {
          "symbol": "circle"
         },
         "mode": "lines+markers",
         "name": "El Salvador",
         "showlegend": true,
         "type": "scattergl",
         "x": [
          "2017",
          "2018",
          "2019",
          "2020",
          "2021",
          "2022"
         ],
         "xaxis": "x",
         "y": [
          109.9,
          111.1,
          111.2,
          110.8,
          114.7,
          122.9
         ],
         "yaxis": "y"
        },
        {
         "hovertemplate": "Country=Equatorial Guinea<br>Year=%{x}<br>Consumer Price (Index Base 10)=%{y}<extra></extra>",
         "legendgroup": "Equatorial Guinea",
         "line": {
          "color": "#ab63fa",
          "dash": "solid"
         },
         "marker": {
          "symbol": "circle"
         },
         "mode": "lines+markers",
         "name": "Equatorial Guinea",
         "showlegend": true,
         "type": "scattergl",
         "x": [
          "2017",
          "2018",
          "2019",
          "2020",
          "2021",
          "2022"
         ],
         "xaxis": "x",
         "y": [
          121.2,
          122.8,
          124.3,
          130.3,
          130.2,
          136.7
         ],
         "yaxis": "y"
        },
        {
         "hovertemplate": "Country=Eritrea<br>Year=%{x}<br>Consumer Price (Index Base 10)=%{y}<extra></extra>",
         "legendgroup": "Eritrea",
         "line": {
          "color": "#FFA15A",
          "dash": "solid"
         },
         "marker": {
          "symbol": "circle"
         },
         "mode": "lines+markers",
         "name": "Eritrea",
         "showlegend": true,
         "type": "scattergl",
         "x": [
          "2017",
          "2018",
          "2019",
          "2020",
          "2021",
          "2022"
         ],
         "xaxis": "x",
         "y": [
          136,
          116.4,
          117.9,
          124.6,
          132.8,
          142.6
         ],
         "yaxis": "y"
        },
        {
         "hovertemplate": "Country=Estonia<br>Year=%{x}<br>Consumer Price (Index Base 10)=%{y}<extra></extra>",
         "legendgroup": "Estonia",
         "line": {
          "color": "#19d3f3",
          "dash": "solid"
         },
         "marker": {
          "symbol": "circle"
         },
         "mode": "lines+markers",
         "name": "Estonia",
         "showlegend": true,
         "type": "scattergl",
         "x": [
          "2017",
          "2018",
          "2019",
          "2020",
          "2021",
          "2022"
         ],
         "xaxis": "x",
         "y": [
          118.8,
          122.8,
          125.6,
          124.8,
          130.4,
          155.8
         ],
         "yaxis": "y"
        },
        {
         "hovertemplate": "Country=Eswatini<br>Year=%{x}<br>Consumer Price (Index Base 10)=%{y}<extra></extra>",
         "legendgroup": "Eswatini",
         "line": {
          "color": "#FF6692",
          "dash": "solid"
         },
         "marker": {
          "symbol": "circle"
         },
         "mode": "lines+markers",
         "name": "Eswatini",
         "showlegend": true,
         "type": "scattergl",
         "x": [
          "2017",
          "2018",
          "2019",
          "2020",
          "2021",
          "2022"
         ],
         "xaxis": "x",
         "y": [
          155.1,
          162.6,
          166.8,
          173.3,
          179.7,
          188.4
         ],
         "yaxis": "y"
        },
        {
         "hovertemplate": "Country=Ethiopia<br>Year=%{x}<br>Consumer Price (Index Base 10)=%{y}<extra></extra>",
         "legendgroup": "Ethiopia",
         "line": {
          "color": "#B6E880",
          "dash": "solid"
         },
         "marker": {
          "symbol": "circle"
         },
         "mode": "lines+markers",
         "name": "Ethiopia",
         "showlegend": true,
         "type": "scattergl",
         "x": [
          "2017",
          "2018",
          "2019",
          "2020",
          "2021",
          "2022"
         ],
         "xaxis": "x",
         "y": [
          248.2,
          282.6,
          327.3,
          393.9,
          499.4,
          668.9
         ],
         "yaxis": "y"
        },
        {
         "hovertemplate": "Country=Ethiopia (...1991)<br>Year=%{x}<br>Consumer Price (Index Base 10)=%{y}<extra></extra>",
         "legendgroup": "Ethiopia (...1991)",
         "line": {
          "color": "#FF97FF",
          "dash": "solid"
         },
         "marker": {
          "symbol": "circle"
         },
         "mode": "lines+markers",
         "name": "Ethiopia (...1991)",
         "showlegend": true,
         "type": "scattergl",
         "x": [
          "2017",
          "2018",
          "2019",
          "2020",
          "2021",
          "2022"
         ],
         "xaxis": "x",
         "y": [
          null,
          null,
          null,
          null,
          null,
          null
         ],
         "yaxis": "y"
        },
        {
         "hovertemplate": "Country=Fiji<br>Year=%{x}<br>Consumer Price (Index Base 10)=%{y}<extra></extra>",
         "legendgroup": "Fiji",
         "line": {
          "color": "#FECB52",
          "dash": "solid"
         },
         "marker": {
          "symbol": "circle"
         },
         "mode": "lines+markers",
         "name": "Fiji",
         "showlegend": true,
         "type": "scattergl",
         "x": [
          "2017",
          "2018",
          "2019",
          "2020",
          "2021",
          "2022"
         ],
         "xaxis": "x",
         "y": [
          124.9,
          130,
          132.3,
          128.9,
          129.1,
          134.9
         ],
         "yaxis": "y"
        },
        {
         "hovertemplate": "Country=Finland<br>Year=%{x}<br>Consumer Price (Index Base 10)=%{y}<extra></extra>",
         "legendgroup": "Finland",
         "line": {
          "color": "#636efa",
          "dash": "solid"
         },
         "marker": {
          "symbol": "circle"
         },
         "mode": "lines+markers",
         "name": "Finland",
         "showlegend": true,
         "type": "scattergl",
         "x": [
          "2017",
          "2018",
          "2019",
          "2020",
          "2021",
          "2022"
         ],
         "xaxis": "x",
         "y": [
          111.5,
          112.8,
          114,
          114.5,
          116.8,
          125.2
         ],
         "yaxis": "y"
        },
        {
         "hovertemplate": "Country=France<br>Year=%{x}<br>Consumer Price (Index Base 10)=%{y}<extra></extra>",
         "legendgroup": "France",
         "line": {
          "color": "#EF553B",
          "dash": "solid"
         },
         "marker": {
          "symbol": "circle"
         },
         "mode": "lines+markers",
         "name": "France",
         "showlegend": true,
         "type": "scattergl",
         "x": [
          "2017",
          "2018",
          "2019",
          "2020",
          "2021",
          "2022"
         ],
         "xaxis": "x",
         "y": [
          107.9,
          110.2,
          111.6,
          112.2,
          114.5,
          121.3
         ],
         "yaxis": "y"
        },
        {
         "hovertemplate": "Country=France, metropolitan<br>Year=%{x}<br>Consumer Price (Index Base 10)=%{y}<extra></extra>",
         "legendgroup": "France, metropolitan",
         "line": {
          "color": "#00cc96",
          "dash": "solid"
         },
         "marker": {
          "symbol": "circle"
         },
         "mode": "lines+markers",
         "name": "France, metropolitan",
         "showlegend": true,
         "type": "scattergl",
         "x": [
          "2017",
          "2018",
          "2019",
          "2020",
          "2021",
          "2022"
         ],
         "xaxis": "x",
         "y": [
          107.9,
          110.2,
          111.6,
          112.2,
          114.5,
          121.3
         ],
         "yaxis": "y"
        },
        {
         "hovertemplate": "Country=Monaco<br>Year=%{x}<br>Consumer Price (Index Base 10)=%{y}<extra></extra>",
         "legendgroup": "Monaco",
         "line": {
          "color": "#ab63fa",
          "dash": "solid"
         },
         "marker": {
          "symbol": "circle"
         },
         "mode": "lines+markers",
         "name": "Monaco",
         "showlegend": true,
         "type": "scattergl",
         "x": [
          "2017",
          "2018",
          "2019",
          "2020",
          "2021",
          "2022"
         ],
         "xaxis": "x",
         "y": [
          107.9,
          110.2,
          111.6,
          112.2,
          114.5,
          121.3
         ],
         "yaxis": "y"
        },
        {
         "hovertemplate": "Country=French Polynesia<br>Year=%{x}<br>Consumer Price (Index Base 10)=%{y}<extra></extra>",
         "legendgroup": "French Polynesia",
         "line": {
          "color": "#FFA15A",
          "dash": "solid"
         },
         "marker": {
          "symbol": "circle"
         },
         "mode": "lines+markers",
         "name": "French Polynesia",
         "showlegend": true,
         "type": "scattergl",
         "x": [
          "2017",
          "2018",
          "2019",
          "2020",
          "2021",
          "2022"
         ],
         "xaxis": "x",
         "y": [
          104.4,
          103.7,
          104,
          103.9,
          104.4,
          111.1
         ],
         "yaxis": "y"
        },
        {
         "hovertemplate": "Country=Gabon<br>Year=%{x}<br>Consumer Price (Index Base 10)=%{y}<extra></extra>",
         "legendgroup": "Gabon",
         "line": {
          "color": "#19d3f3",
          "dash": "solid"
         },
         "marker": {
          "symbol": "circle"
         },
         "mode": "lines+markers",
         "name": "Gabon",
         "showlegend": true,
         "type": "scattergl",
         "x": [
          "2017",
          "2018",
          "2019",
          "2020",
          "2021",
          "2022"
         ],
         "xaxis": "x",
         "y": [
          114.3,
          119.7,
          122.1,
          124.2,
          125.6,
          130.9
         ],
         "yaxis": "y"
        },
        {
         "hovertemplate": "Country=Gambia<br>Year=%{x}<br>Consumer Price (Index Base 10)=%{y}<extra></extra>",
         "legendgroup": "Gambia",
         "line": {
          "color": "#FF6692",
          "dash": "solid"
         },
         "marker": {
          "symbol": "circle"
         },
         "mode": "lines+markers",
         "name": "Gambia",
         "showlegend": true,
         "type": "scattergl",
         "x": [
          "2017",
          "2018",
          "2019",
          "2020",
          "2021",
          "2022"
         ],
         "xaxis": "x",
         "y": [
          151.8,
          161.7,
          173.2,
          183.4,
          196.9,
          219.6
         ],
         "yaxis": "y"
        },
        {
         "hovertemplate": "Country=Georgia<br>Year=%{x}<br>Consumer Price (Index Base 10)=%{y}<extra></extra>",
         "legendgroup": "Georgia",
         "line": {
          "color": "#B6E880",
          "dash": "solid"
         },
         "marker": {
          "symbol": "circle"
         },
         "mode": "lines+markers",
         "name": "Georgia",
         "showlegend": true,
         "type": "scattergl",
         "x": [
          "2017",
          "2018",
          "2019",
          "2020",
          "2021",
          "2022"
         ],
         "xaxis": "x",
         "y": [
          124.2,
          127.4,
          133.6,
          140.6,
          154,
          172.3
         ],
         "yaxis": "y"
        },
        {
         "hovertemplate": "Country=Germany<br>Year=%{x}<br>Consumer Price (Index Base 10)=%{y}<extra></extra>",
         "legendgroup": "Germany",
         "line": {
          "color": "#FF97FF",
          "dash": "solid"
         },
         "marker": {
          "symbol": "circle"
         },
         "mode": "lines+markers",
         "name": "Germany",
         "showlegend": true,
         "type": "scattergl",
         "x": [
          "2017",
          "2018",
          "2019",
          "2020",
          "2021",
          "2022"
         ],
         "xaxis": "x",
         "y": [
          110.2,
          112.3,
          113.8,
          114.2,
          117.9,
          128.1
         ],
         "yaxis": "y"
        },
        {
         "hovertemplate": "Country=Ghana<br>Year=%{x}<br>Consumer Price (Index Base 10)=%{y}<extra></extra>",
         "legendgroup": "Ghana",
         "line": {
          "color": "#FECB52",
          "dash": "solid"
         },
         "marker": {
          "symbol": "circle"
         },
         "mode": "lines+markers",
         "name": "Ghana",
         "showlegend": true,
         "type": "scattergl",
         "x": [
          "2017",
          "2018",
          "2019",
          "2020",
          "2021",
          "2022"
         ],
         "xaxis": "x",
         "y": [
          229.9,
          252.5,
          270.5,
          297.3,
          326.9,
          431.2
         ],
         "yaxis": "y"
        },
        {
         "hovertemplate": "Country=Greece<br>Year=%{x}<br>Consumer Price (Index Base 10)=%{y}<extra></extra>",
         "legendgroup": "Greece",
         "line": {
          "color": "#636efa",
          "dash": "solid"
         },
         "marker": {
          "symbol": "circle"
         },
         "mode": "lines+markers",
         "name": "Greece",
         "showlegend": true,
         "type": "scattergl",
         "x": [
          "2017",
          "2018",
          "2019",
          "2020",
          "2021",
          "2022"
         ],
         "xaxis": "x",
         "y": [
          101.9,
          102.7,
          103.2,
          101.9,
          102.5,
          112
         ],
         "yaxis": "y"
        },
        {
         "hovertemplate": "Country=Greenland<br>Year=%{x}<br>Consumer Price (Index Base 10)=%{y}<extra></extra>",
         "legendgroup": "Greenland",
         "line": {
          "color": "#EF553B",
          "dash": "solid"
         },
         "marker": {
          "symbol": "circle"
         },
         "mode": "lines+markers",
         "name": "Greenland",
         "showlegend": true,
         "type": "scattergl",
         "x": [
          "2017",
          "2018",
          "2019",
          "2020",
          "2021",
          "2022"
         ],
         "xaxis": "x",
         "y": [
          113.2,
          113.2,
          114.2,
          116.6,
          116.7,
          118.1
         ],
         "yaxis": "y"
        },
        {
         "hovertemplate": "Country=Grenada<br>Year=%{x}<br>Consumer Price (Index Base 10)=%{y}<extra></extra>",
         "legendgroup": "Grenada",
         "line": {
          "color": "#00cc96",
          "dash": "solid"
         },
         "marker": {
          "symbol": "circle"
         },
         "mode": "lines+markers",
         "name": "Grenada",
         "showlegend": true,
         "type": "scattergl",
         "x": [
          "2017",
          "2018",
          "2019",
          "2020",
          "2021",
          "2022"
         ],
         "xaxis": "x",
         "y": [
          106.6,
          107.4,
          108.1,
          107.3,
          108.6,
          111.5
         ],
         "yaxis": "y"
        },
        {
         "hovertemplate": "Country=Guatemala<br>Year=%{x}<br>Consumer Price (Index Base 10)=%{y}<extra></extra>",
         "legendgroup": "Guatemala",
         "line": {
          "color": "#ab63fa",
          "dash": "solid"
         },
         "marker": {
          "symbol": "circle"
         },
         "mode": "lines+markers",
         "name": "Guatemala",
         "showlegend": true,
         "type": "scattergl",
         "x": [
          "2017",
          "2018",
          "2019",
          "2020",
          "2021",
          "2022"
         ],
         "xaxis": "x",
         "y": [
          132.8,
          137.8,
          142.9,
          147.5,
          153.8,
          164.4
         ],
         "yaxis": "y"
        },
        {
         "hovertemplate": "Country=Guinea<br>Year=%{x}<br>Consumer Price (Index Base 10)=%{y}<extra></extra>",
         "legendgroup": "Guinea",
         "line": {
          "color": "#FFA15A",
          "dash": "solid"
         },
         "marker": {
          "symbol": "circle"
         },
         "mode": "lines+markers",
         "name": "Guinea",
         "showlegend": true,
         "type": "scattergl",
         "x": [
          "2017",
          "2018",
          "2019",
          "2020",
          "2021",
          "2022"
         ],
         "xaxis": "x",
         "y": [
          218.7,
          240.2,
          263,
          290.8,
          327.5,
          361.8
         ],
         "yaxis": "y"
        },
        {
         "hovertemplate": "Country=Guinea-Bissau<br>Year=%{x}<br>Consumer Price (Index Base 10)=%{y}<extra></extra>",
         "legendgroup": "Guinea-Bissau",
         "line": {
          "color": "#19d3f3",
          "dash": "solid"
         },
         "marker": {
          "symbol": "circle"
         },
         "mode": "lines+markers",
         "name": "Guinea-Bissau",
         "showlegend": true,
         "type": "scattergl",
         "x": [
          "2017",
          "2018",
          "2019",
          "2020",
          "2021",
          "2022"
         ],
         "xaxis": "x",
         "y": [
          111.3,
          111.7,
          112,
          113.6,
          117.4,
          126.7
         ],
         "yaxis": "y"
        },
        {
         "hovertemplate": "Country=Guyana<br>Year=%{x}<br>Consumer Price (Index Base 10)=%{y}<extra></extra>",
         "legendgroup": "Guyana",
         "line": {
          "color": "#FF6692",
          "dash": "solid"
         },
         "marker": {
          "symbol": "circle"
         },
         "mode": "lines+markers",
         "name": "Guyana",
         "showlegend": true,
         "type": "scattergl",
         "x": [
          "2017",
          "2018",
          "2019",
          "2020",
          "2021",
          "2022"
         ],
         "xaxis": "x",
         "y": [
          111.8,
          113.2,
          115.6,
          117,
          120.9,
          128.7
         ],
         "yaxis": "y"
        },
        {
         "hovertemplate": "Country=Haiti<br>Year=%{x}<br>Consumer Price (Index Base 10)=%{y}<extra></extra>",
         "legendgroup": "Haiti",
         "line": {
          "color": "#B6E880",
          "dash": "solid"
         },
         "marker": {
          "symbol": "circle"
         },
         "mode": "lines+markers",
         "name": "Haiti",
         "showlegend": true,
         "type": "scattergl",
         "x": [
          "2017",
          "2018",
          "2019",
          "2020",
          "2021",
          "2022"
         ],
         "xaxis": "x",
         "y": [
          156.8,
          174.8,
          205,
          252,
          292.2,
          372.8
         ],
         "yaxis": "y"
        },
        {
         "hovertemplate": "Country=Honduras<br>Year=%{x}<br>Consumer Price (Index Base 10)=%{y}<extra></extra>",
         "legendgroup": "Honduras",
         "line": {
          "color": "#FF97FF",
          "dash": "solid"
         },
         "marker": {
          "symbol": "circle"
         },
         "mode": "lines+markers",
         "name": "Honduras",
         "showlegend": true,
         "type": "scattergl",
         "x": [
          "2017",
          "2018",
          "2019",
          "2020",
          "2021",
          "2022"
         ],
         "xaxis": "x",
         "y": [
          138.1,
          144.1,
          150.3,
          155.6,
          162.5,
          177.3
         ],
         "yaxis": "y"
        },
        {
         "hovertemplate": "Country=Hungary<br>Year=%{x}<br>Consumer Price (Index Base 10)=%{y}<extra></extra>",
         "legendgroup": "Hungary",
         "line": {
          "color": "#FECB52",
          "dash": "solid"
         },
         "marker": {
          "symbol": "circle"
         },
         "mode": "lines+markers",
         "name": "Hungary",
         "showlegend": true,
         "type": "scattergl",
         "x": [
          "2017",
          "2018",
          "2019",
          "2020",
          "2021",
          "2022"
         ],
         "xaxis": "x",
         "y": [
          114.5,
          117.8,
          121.8,
          125.8,
          132.3,
          151.5
         ],
         "yaxis": "y"
        },
        {
         "hovertemplate": "Country=Iceland<br>Year=%{x}<br>Consumer Price (Index Base 10)=%{y}<extra></extra>",
         "legendgroup": "Iceland",
         "line": {
          "color": "#636efa",
          "dash": "solid"
         },
         "marker": {
          "symbol": "circle"
         },
         "mode": "lines+markers",
         "name": "Iceland",
         "showlegend": true,
         "type": "scattergl",
         "x": [
          "2017",
          "2018",
          "2019",
          "2020",
          "2021",
          "2022"
         ],
         "xaxis": "x",
         "y": [
          122,
          125.2,
          129,
          132.7,
          138.6,
          150.1
         ],
         "yaxis": "y"
        },
        {
         "hovertemplate": "Country=India<br>Year=%{x}<br>Consumer Price (Index Base 10)=%{y}<extra></extra>",
         "legendgroup": "India",
         "line": {
          "color": "#EF553B",
          "dash": "solid"
         },
         "marker": {
          "symbol": "circle"
         },
         "mode": "lines+markers",
         "name": "India",
         "showlegend": true,
         "type": "scattergl",
         "x": [
          "2017",
          "2018",
          "2019",
          "2020",
          "2021",
          "2022"
         ],
         "xaxis": "x",
         "y": [
          158.3,
          163.8,
          171.6,
          182.2,
          192.2,
          205
         ],
         "yaxis": "y"
        },
        {
         "hovertemplate": "Country=Indonesia<br>Year=%{x}<br>Consumer Price (Index Base 10)=%{y}<extra></extra>",
         "legendgroup": "Indonesia",
         "line": {
          "color": "#00cc96",
          "dash": "solid"
         },
         "marker": {
          "symbol": "circle"
         },
         "mode": "lines+markers",
         "name": "Indonesia",
         "showlegend": true,
         "type": "scattergl",
         "x": [
          "2017",
          "2018",
          "2019",
          "2020",
          "2021",
          "2022"
         ],
         "xaxis": "x",
         "y": [
          141.8,
          146.4,
          150.6,
          153.6,
          156,
          162.6
         ],
         "yaxis": "y"
        },
        {
         "hovertemplate": "Country=Indonesia (...2002)<br>Year=%{x}<br>Consumer Price (Index Base 10)=%{y}<extra></extra>",
         "legendgroup": "Indonesia (...2002)",
         "line": {
          "color": "#ab63fa",
          "dash": "solid"
         },
         "marker": {
          "symbol": "circle"
         },
         "mode": "lines+markers",
         "name": "Indonesia (...2002)",
         "showlegend": true,
         "type": "scattergl",
         "x": [
          "2017",
          "2018",
          "2019",
          "2020",
          "2021",
          "2022"
         ],
         "xaxis": "x",
         "y": [
          null,
          null,
          null,
          null,
          null,
          null
         ],
         "yaxis": "y"
        },
        {
         "hovertemplate": "Country=Iran (Islamic Republic<br>Year=%{x}<br>Consumer Price (Index Base 10)=%{y}<extra></extra>",
         "legendgroup": "Iran (Islamic Republic",
         "line": {
          "color": "#FFA15A",
          "dash": "solid"
         },
         "marker": {
          "symbol": "circle"
         },
         "mode": "lines+markers",
         "name": "Iran (Islamic Republic",
         "showlegend": true,
         "type": "scattergl",
         "x": [
          "2017",
          "2018",
          "2019",
          "2020",
          "2021",
          "2022"
         ],
         "xaxis": "x",
         "y": [
          330.5,
          430.4,
          579.4,
          790.6,
          1107.9,
          1650.3
         ],
         "yaxis": "y"
        },
        {
         "hovertemplate": "Country=Iraq<br>Year=%{x}<br>Consumer Price (Index Base 10)=%{y}<extra></extra>",
         "legendgroup": "Iraq",
         "line": {
          "color": "#19d3f3",
          "dash": "solid"
         },
         "marker": {
          "symbol": "circle"
         },
         "mode": "lines+markers",
         "name": "Iraq",
         "showlegend": true,
         "type": "scattergl",
         "x": [
          "2017",
          "2018",
          "2019",
          "2020",
          "2021",
          "2022"
         ],
         "xaxis": "x",
         "y": [
          114.7,
          115.1,
          114.9,
          115.5,
          122.5,
          129
         ],
         "yaxis": "y"
        },
        {
         "hovertemplate": "Country=Ireland<br>Year=%{x}<br>Consumer Price (Index Base 10)=%{y}<extra></extra>",
         "legendgroup": "Ireland",
         "line": {
          "color": "#FF6692",
          "dash": "solid"
         },
         "marker": {
          "symbol": "circle"
         },
         "mode": "lines+markers",
         "name": "Ireland",
         "showlegend": true,
         "type": "scattergl",
         "x": [
          "2017",
          "2018",
          "2019",
          "2020",
          "2021",
          "2022"
         ],
         "xaxis": "x",
         "y": [
          104,
          104.8,
          105.7,
          105.2,
          107.7,
          116.4
         ],
         "yaxis": "y"
        },
        {
         "hovertemplate": "Country=Israel<br>Year=%{x}<br>Consumer Price (Index Base 10)=%{y}<extra></extra>",
         "legendgroup": "Israel",
         "line": {
          "color": "#B6E880",
          "dash": "solid"
         },
         "marker": {
          "symbol": "circle"
         },
         "mode": "lines+markers",
         "name": "Israel",
         "showlegend": true,
         "type": "scattergl",
         "x": [
          "2017",
          "2018",
          "2019",
          "2020",
          "2021",
          "2022"
         ],
         "xaxis": "x",
         "y": [
          106.3,
          107.2,
          108.1,
          107.5,
          109.1,
          113.8
         ],
         "yaxis": "y"
        },
        {
         "hovertemplate": "Country=Italy<br>Year=%{x}<br>Consumer Price (Index Base 10)=%{y}<extra></extra>",
         "legendgroup": "Italy",
         "line": {
          "color": "#FF97FF",
          "dash": "solid"
         },
         "marker": {
          "symbol": "circle"
         },
         "mode": "lines+markers",
         "name": "Italy",
         "showlegend": true,
         "type": "scattergl",
         "x": [
          "2017",
          "2018",
          "2019",
          "2020",
          "2021",
          "2022"
         ],
         "xaxis": "x",
         "y": [
          109.4,
          110.8,
          111.5,
          111.3,
          113.5,
          123.4
         ],
         "yaxis": "y"
        },
        {
         "hovertemplate": "Country=Jamaica<br>Year=%{x}<br>Consumer Price (Index Base 10)=%{y}<extra></extra>",
         "legendgroup": "Jamaica",
         "line": {
          "color": "#FECB52",
          "dash": "solid"
         },
         "marker": {
          "symbol": "circle"
         },
         "mode": "lines+markers",
         "name": "Jamaica",
         "showlegend": true,
         "type": "scattergl",
         "x": [
          "2017",
          "2018",
          "2019",
          "2020",
          "2021",
          "2022"
         ],
         "xaxis": "x",
         "y": [
          150.7,
          156.4,
          162.5,
          171,
          181,
          198.2
         ],
         "yaxis": "y"
        },
        {
         "hovertemplate": "Country=Japan<br>Year=%{x}<br>Consumer Price (Index Base 10)=%{y}<extra></extra>",
         "legendgroup": "Japan",
         "line": {
          "color": "#636efa",
          "dash": "solid"
         },
         "marker": {
          "symbol": "circle"
         },
         "mode": "lines+markers",
         "name": "Japan",
         "showlegend": true,
         "type": "scattergl",
         "x": [
          "2017",
          "2018",
          "2019",
          "2020",
          "2021",
          "2022"
         ],
         "xaxis": "x",
         "y": [
          104,
          105,
          105.5,
          105.5,
          105.2,
          107.8
         ],
         "yaxis": "y"
        },
        {
         "hovertemplate": "Country=Jordan<br>Year=%{x}<br>Consumer Price (Index Base 10)=%{y}<extra></extra>",
         "legendgroup": "Jordan",
         "line": {
          "color": "#EF553B",
          "dash": "solid"
         },
         "marker": {
          "symbol": "circle"
         },
         "mode": "lines+markers",
         "name": "Jordan",
         "showlegend": true,
         "type": "scattergl",
         "x": [
          "2017",
          "2018",
          "2019",
          "2020",
          "2021",
          "2022"
         ],
         "xaxis": "x",
         "y": [
          119.9,
          125.2,
          126.1,
          126.6,
          128.3,
          133.7
         ],
         "yaxis": "y"
        },
        {
         "hovertemplate": "Country=Kazakhstan<br>Year=%{x}<br>Consumer Price (Index Base 10)=%{y}<extra></extra>",
         "legendgroup": "Kazakhstan",
         "line": {
          "color": "#00cc96",
          "dash": "solid"
         },
         "marker": {
          "symbol": "circle"
         },
         "mode": "lines+markers",
         "name": "Kazakhstan",
         "showlegend": true,
         "type": "scattergl",
         "x": [
          "2017",
          "2018",
          "2019",
          "2020",
          "2021",
          "2022"
         ],
         "xaxis": "x",
         "y": [
          168.8,
          179,
          188.4,
          201.2,
          217.3,
          249.8
         ],
         "yaxis": "y"
        },
        {
         "hovertemplate": "Country=Kenya<br>Year=%{x}<br>Consumer Price (Index Base 10)=%{y}<extra></extra>",
         "legendgroup": "Kenya",
         "line": {
          "color": "#ab63fa",
          "dash": "solid"
         },
         "marker": {
          "symbol": "circle"
         },
         "mode": "lines+markers",
         "name": "Kenya",
         "showlegend": true,
         "type": "scattergl",
         "x": [
          "2017",
          "2018",
          "2019",
          "2020",
          "2021",
          "2022"
         ],
         "xaxis": "x",
         "y": [
          172.4,
          180.5,
          190,
          200,
          212.2,
          228.5
         ],
         "yaxis": "y"
        },
        {
         "hovertemplate": "Country=Kiribati<br>Year=%{x}<br>Consumer Price (Index Base 10)=%{y}<extra></extra>",
         "legendgroup": "Kiribati",
         "line": {
          "color": "#FFA15A",
          "dash": "solid"
         },
         "marker": {
          "symbol": "circle"
         },
         "mode": "lines+markers",
         "name": "Kiribati",
         "showlegend": true,
         "type": "scattergl",
         "x": [
          "2017",
          "2018",
          "2019",
          "2020",
          "2021",
          "2022"
         ],
         "xaxis": "x",
         "y": [
          101.8,
          102.4,
          100.5,
          103.1,
          105.2,
          110.8
         ],
         "yaxis": "y"
        },
        {
         "hovertemplate": "Country=Korea, Republic of<br>Year=%{x}<br>Consumer Price (Index Base 10)=%{y}<extra></extra>",
         "legendgroup": "Korea, Republic of",
         "line": {
          "color": "#19d3f3",
          "dash": "solid"
         },
         "marker": {
          "symbol": "circle"
         },
         "mode": "lines+markers",
         "name": "Korea, Republic of",
         "showlegend": true,
         "type": "scattergl",
         "x": [
          "2017",
          "2018",
          "2019",
          "2020",
          "2021",
          "2022"
         ],
         "xaxis": "x",
         "y": [
          113.1,
          114.7,
          115.2,
          115.8,
          118.7,
          124.7
         ],
         "yaxis": "y"
        },
        {
         "hovertemplate": "Country=Kuwait<br>Year=%{x}<br>Consumer Price (Index Base 10)=%{y}<extra></extra>",
         "legendgroup": "Kuwait",
         "line": {
          "color": "#FF6692",
          "dash": "solid"
         },
         "marker": {
          "symbol": "circle"
         },
         "mode": "lines+markers",
         "name": "Kuwait",
         "showlegend": true,
         "type": "scattergl",
         "x": [
          "2017",
          "2018",
          "2019",
          "2020",
          "2021",
          "2022"
         ],
         "xaxis": "x",
         "y": [
          124.9,
          125.6,
          127,
          129.7,
          134.2,
          139.4
         ],
         "yaxis": "y"
        },
        {
         "hovertemplate": "Country=Kyrgyzstan<br>Year=%{x}<br>Consumer Price (Index Base 10)=%{y}<extra></extra>",
         "legendgroup": "Kyrgyzstan",
         "line": {
          "color": "#B6E880",
          "dash": "solid"
         },
         "marker": {
          "symbol": "circle"
         },
         "mode": "lines+markers",
         "name": "Kyrgyzstan",
         "showlegend": true,
         "type": "scattergl",
         "x": [
          "2017",
          "2018",
          "2019",
          "2020",
          "2021",
          "2022"
         ],
         "xaxis": "x",
         "y": [
          151.6,
          153.9,
          155.7,
          165.5,
          185.2,
          211
         ],
         "yaxis": "y"
        },
        {
         "hovertemplate": "Country=Lao People's Dem.<br>Year=%{x}<br>Consumer Price (Index Base 10)=%{y}<extra></extra>",
         "legendgroup": "Lao People's Dem.",
         "line": {
          "color": "#FF97FF",
          "dash": "solid"
         },
         "marker": {
          "symbol": "circle"
         },
         "mode": "lines+markers",
         "name": "Lao People's Dem.",
         "showlegend": true,
         "type": "scattergl",
         "x": [
          "2017",
          "2018",
          "2019",
          "2020",
          "2021",
          "2022"
         ],
         "xaxis": "x",
         "y": [
          128.9,
          131.5,
          135.9,
          142.8,
          148.2,
          182.2
         ],
         "yaxis": "y"
        },
        {
         "hovertemplate": "Country=Latvia<br>Year=%{x}<br>Consumer Price (Index Base 10)=%{y}<extra></extra>",
         "legendgroup": "Latvia",
         "line": {
          "color": "#FECB52",
          "dash": "solid"
         },
         "marker": {
          "symbol": "circle"
         },
         "mode": "lines+markers",
         "name": "Latvia",
         "showlegend": true,
         "type": "scattergl",
         "x": [
          "2017",
          "2018",
          "2019",
          "2020",
          "2021",
          "2022"
         ],
         "xaxis": "x",
         "y": [
          110.8,
          113.6,
          116.8,
          116.9,
          120.6,
          141.4
         ],
         "yaxis": "y"
        },
        {
         "hovertemplate": "Country=Lebanon<br>Year=%{x}<br>Consumer Price (Index Base 10)=%{y}<extra></extra>",
         "legendgroup": "Lebanon",
         "line": {
          "color": "#636efa",
          "dash": "solid"
         },
         "marker": {
          "symbol": "circle"
         },
         "mode": "lines+markers",
         "name": "Lebanon",
         "showlegend": true,
         "type": "scattergl",
         "x": [
          "2017",
          "2018",
          "2019",
          "2020",
          "2021",
          "2022"
         ],
         "xaxis": "x",
         "y": [
          119.1,
          126.4,
          130,
          240.4,
          612.4,
          1660.7
         ],
         "yaxis": "y"
        },
        {
         "hovertemplate": "Country=Lesotho<br>Year=%{x}<br>Consumer Price (Index Base 10)=%{y}<extra></extra>",
         "legendgroup": "Lesotho",
         "line": {
          "color": "#EF553B",
          "dash": "solid"
         },
         "marker": {
          "symbol": "circle"
         },
         "mode": "lines+markers",
         "name": "Lesotho",
         "showlegend": true,
         "type": "scattergl",
         "x": [
          "2017",
          "2018",
          "2019",
          "2020",
          "2021",
          "2022"
         ],
         "xaxis": "x",
         "y": [
          141.5,
          148.2,
          155.9,
          163.6,
          173.5,
          187.8
         ],
         "yaxis": "y"
        },
        {
         "hovertemplate": "Country=Liberia<br>Year=%{x}<br>Consumer Price (Index Base 10)=%{y}<extra></extra>",
         "legendgroup": "Liberia",
         "line": {
          "color": "#00cc96",
          "dash": "solid"
         },
         "marker": {
          "symbol": "circle"
         },
         "mode": "lines+markers",
         "name": "Liberia",
         "showlegend": true,
         "type": "scattergl",
         "x": [
          "2017",
          "2018",
          "2019",
          "2020",
          "2021",
          "2022"
         ],
         "xaxis": "x",
         "y": [
          180.6,
          223.1,
          283.3,
          331.3,
          357.2,
          384.4
         ],
         "yaxis": "y"
        },
        {
         "hovertemplate": "Country=Libya<br>Year=%{x}<br>Consumer Price (Index Base 10)=%{y}<extra></extra>",
         "legendgroup": "Libya",
         "line": {
          "color": "#ab63fa",
          "dash": "solid"
         },
         "marker": {
          "symbol": "circle"
         },
         "mode": "lines+markers",
         "name": "Libya",
         "showlegend": true,
         "type": "scattergl",
         "x": [
          "2017",
          "2018",
          "2019",
          "2020",
          "2021",
          "2022"
         ],
         "xaxis": "x",
         "y": [
          225.2,
          256.6,
          249.3,
          252.9,
          260.2,
          271.9
         ],
         "yaxis": "y"
        },
        {
         "hovertemplate": "Country=Lithuania<br>Year=%{x}<br>Consumer Price (Index Base 10)=%{y}<extra></extra>",
         "legendgroup": "Lithuania",
         "line": {
          "color": "#FFA15A",
          "dash": "solid"
         },
         "marker": {
          "symbol": "circle"
         },
         "mode": "lines+markers",
         "name": "Lithuania",
         "showlegend": true,
         "type": "scattergl",
         "x": [
          "2017",
          "2018",
          "2019",
          "2020",
          "2021",
          "2022"
         ],
         "xaxis": "x",
         "y": [
          113,
          115.8,
          118.4,
          119.7,
          125.2,
          148.8
         ],
         "yaxis": "y"
        },
        {
         "hovertemplate": "Country=Luxembourg<br>Year=%{x}<br>Consumer Price (Index Base 10)=%{y}<extra></extra>",
         "legendgroup": "Luxembourg",
         "line": {
          "color": "#19d3f3",
          "dash": "solid"
         },
         "marker": {
          "symbol": "circle"
         },
         "mode": "lines+markers",
         "name": "Luxembourg",
         "showlegend": true,
         "type": "scattergl",
         "x": [
          "2017",
          "2018",
          "2019",
          "2020",
          "2021",
          "2022"
         ],
         "xaxis": "x",
         "y": [
          111.7,
          114,
          115.9,
          115.9,
          119.9,
          129.6
         ],
         "yaxis": "y"
        },
        {
         "hovertemplate": "Country=Madagascar<br>Year=%{x}<br>Consumer Price (Index Base 10)=%{y}<extra></extra>",
         "legendgroup": "Madagascar",
         "line": {
          "color": "#FF6692",
          "dash": "solid"
         },
         "marker": {
          "symbol": "circle"
         },
         "mode": "lines+markers",
         "name": "Madagascar",
         "showlegend": true,
         "type": "scattergl",
         "x": [
          "2017",
          "2018",
          "2019",
          "2020",
          "2021",
          "2022"
         ],
         "xaxis": "x",
         "y": [
          160.7,
          174.5,
          184.3,
          192.1,
          203.2,
          219.9
         ],
         "yaxis": "y"
        },
        {
         "hovertemplate": "Country=Malawi<br>Year=%{x}<br>Consumer Price (Index Base 10)=%{y}<extra></extra>",
         "legendgroup": "Malawi",
         "line": {
          "color": "#B6E880",
          "dash": "solid"
         },
         "marker": {
          "symbol": "circle"
         },
         "mode": "lines+markers",
         "name": "Malawi",
         "showlegend": true,
         "type": "scattergl",
         "x": [
          "2017",
          "2018",
          "2019",
          "2020",
          "2021",
          "2022"
         ],
         "xaxis": "x",
         "y": [
          342.9,
          374.5,
          409.7,
          445.1,
          486.6,
          588.1
         ],
         "yaxis": "y"
        },
        {
         "hovertemplate": "Country=Malaysia<br>Year=%{x}<br>Consumer Price (Index Base 10)=%{y}<extra></extra>",
         "legendgroup": "Malaysia",
         "line": {
          "color": "#FF97FF",
          "dash": "solid"
         },
         "marker": {
          "symbol": "circle"
         },
         "mode": "lines+markers",
         "name": "Malaysia",
         "showlegend": true,
         "type": "scattergl",
         "x": [
          "2017",
          "2018",
          "2019",
          "2020",
          "2021",
          "2022"
         ],
         "xaxis": "x",
         "y": [
          119.5,
          120.7,
          121.5,
          120.1,
          123.1,
          127.2
         ],
         "yaxis": "y"
        },
        {
         "hovertemplate": "Country=Maldives<br>Year=%{x}<br>Consumer Price (Index Base 10)=%{y}<extra></extra>",
         "legendgroup": "Maldives",
         "line": {
          "color": "#FECB52",
          "dash": "solid"
         },
         "marker": {
          "symbol": "circle"
         },
         "mode": "lines+markers",
         "name": "Maldives",
         "showlegend": true,
         "type": "scattergl",
         "x": [
          "2017",
          "2018",
          "2019",
          "2020",
          "2021",
          "2022"
         ],
         "xaxis": "x",
         "y": [
          137.4,
          139.3,
          141.1,
          138.9,
          139.2,
          142.8
         ],
         "yaxis": "y"
        },
        {
         "hovertemplate": "Country=Mali<br>Year=%{x}<br>Consumer Price (Index Base 10)=%{y}<extra></extra>",
         "legendgroup": "Mali",
         "line": {
          "color": "#636efa",
          "dash": "solid"
         },
         "marker": {
          "symbol": "circle"
         },
         "mode": "lines+markers",
         "name": "Mali",
         "showlegend": true,
         "type": "scattergl",
         "x": [
          "2017",
          "2018",
          "2019",
          "2020",
          "2021",
          "2022"
         ],
         "xaxis": "x",
         "y": [
          110.9,
          113,
          109.6,
          110.1,
          114.3,
          125.8
         ],
         "yaxis": "y"
        },
        {
         "hovertemplate": "Country=Malta<br>Year=%{x}<br>Consumer Price (Index Base 10)=%{y}<extra></extra>",
         "legendgroup": "Malta",
         "line": {
          "color": "#EF553B",
          "dash": "solid"
         },
         "marker": {
          "symbol": "circle"
         },
         "mode": "lines+markers",
         "name": "Malta",
         "showlegend": true,
         "type": "scattergl",
         "x": [
          "2017",
          "2018",
          "2019",
          "2020",
          "2021",
          "2022"
         ],
         "xaxis": "x",
         "y": [
          111.3,
          113.3,
          115,
          115.9,
          116.7,
          123.9
         ],
         "yaxis": "y"
        },
        {
         "hovertemplate": "Country=Marshall Islands<br>Year=%{x}<br>Consumer Price (Index Base 10)=%{y}<extra></extra>",
         "legendgroup": "Marshall Islands",
         "line": {
          "color": "#00cc96",
          "dash": "solid"
         },
         "marker": {
          "symbol": "circle"
         },
         "mode": "lines+markers",
         "name": "Marshall Islands",
         "showlegend": true,
         "type": "scattergl",
         "x": [
          "2017",
          "2018",
          "2019",
          "2020",
          "2021",
          "2022"
         ],
         "xaxis": "x",
         "y": [
          109.1,
          109.9,
          109.8,
          109.1,
          111.9,
          118.8
         ],
         "yaxis": "y"
        },
        {
         "hovertemplate": "Country=Mauritania<br>Year=%{x}<br>Consumer Price (Index Base 10)=%{y}<extra></extra>",
         "legendgroup": "Mauritania",
         "line": {
          "color": "#ab63fa",
          "dash": "solid"
         },
         "marker": {
          "symbol": "circle"
         },
         "mode": "lines+markers",
         "name": "Mauritania",
         "showlegend": true,
         "type": "scattergl",
         "x": [
          "2017",
          "2018",
          "2019",
          "2020",
          "2021",
          "2022"
         ],
         "xaxis": "x",
         "y": [
          128.1,
          132,
          135,
          138.2,
          143.2,
          156.8
         ],
         "yaxis": "y"
        },
        {
         "hovertemplate": "Country=Mauritius<br>Year=%{x}<br>Consumer Price (Index Base 10)=%{y}<extra></extra>",
         "legendgroup": "Mauritius",
         "line": {
          "color": "#FFA15A",
          "dash": "solid"
         },
         "marker": {
          "symbol": "circle"
         },
         "mode": "lines+markers",
         "name": "Mauritius",
         "showlegend": true,
         "type": "scattergl",
         "x": [
          "2017",
          "2018",
          "2019",
          "2020",
          "2021",
          "2022"
         ],
         "xaxis": "x",
         "y": [
          125.4,
          129.4,
          130,
          133.3,
          138.7,
          153.7
         ],
         "yaxis": "y"
        },
        {
         "hovertemplate": "Country=Mexico<br>Year=%{x}<br>Consumer Price (Index Base 10)=%{y}<extra></extra>",
         "legendgroup": "Mexico",
         "line": {
          "color": "#19d3f3",
          "dash": "solid"
         },
         "marker": {
          "symbol": "circle"
         },
         "mode": "lines+markers",
         "name": "Mexico",
         "showlegend": true,
         "type": "scattergl",
         "x": [
          "2017",
          "2018",
          "2019",
          "2020",
          "2021",
          "2022"
         ],
         "xaxis": "x",
         "y": [
          130.2,
          136.6,
          141.5,
          146.3,
          154.7,
          166.9
         ],
         "yaxis": "y"
        },
        {
         "hovertemplate": "Country=Micronesia (Federated States<br>Year=%{x}<br>Consumer Price (Index Base 10)=%{y}<extra></extra>",
         "legendgroup": "Micronesia (Federated States",
         "line": {
          "color": "#FF6692",
          "dash": "solid"
         },
         "marker": {
          "symbol": "circle"
         },
         "mode": "lines+markers",
         "name": "Micronesia (Federated States",
         "showlegend": true,
         "type": "scattergl",
         "x": [
          "2017",
          "2018",
          "2019",
          "2020",
          "2021",
          "2022"
         ],
         "xaxis": "x",
         "y": [
          112.7,
          113.9,
          116.4,
          117.5,
          119.6,
          125.6
         ],
         "yaxis": "y"
        },
        {
         "hovertemplate": "Country=Moldova, Republic of<br>Year=%{x}<br>Consumer Price (Index Base 10)=%{y}<extra></extra>",
         "legendgroup": "Moldova, Republic of",
         "line": {
          "color": "#B6E880",
          "dash": "solid"
         },
         "marker": {
          "symbol": "circle"
         },
         "mode": "lines+markers",
         "name": "Moldova, Republic of",
         "showlegend": true,
         "type": "scattergl",
         "x": [
          "2017",
          "2018",
          "2019",
          "2020",
          "2021",
          "2022"
         ],
         "xaxis": "x",
         "y": [
          153.6,
          159.1,
          166.8,
          173.1,
          181.9,
          233.9
         ],
         "yaxis": "y"
        },
        {
         "hovertemplate": "Country=Mongolia<br>Year=%{x}<br>Consumer Price (Index Base 10)=%{y}<extra></extra>",
         "legendgroup": "Mongolia",
         "line": {
          "color": "#FF97FF",
          "dash": "solid"
         },
         "marker": {
          "symbol": "circle"
         },
         "mode": "lines+markers",
         "name": "Mongolia",
         "showlegend": true,
         "type": "scattergl",
         "x": [
          "2017",
          "2018",
          "2019",
          "2020",
          "2021",
          "2022"
         ],
         "xaxis": "x",
         "y": [
          173.5,
          185.3,
          198.9,
          206.3,
          221.5,
          255.1
         ],
         "yaxis": "y"
        },
        {
         "hovertemplate": "Country=Montenegro<br>Year=%{x}<br>Consumer Price (Index Base 10)=%{y}<extra></extra>",
         "legendgroup": "Montenegro",
         "line": {
          "color": "#FECB52",
          "dash": "solid"
         },
         "marker": {
          "symbol": "circle"
         },
         "mode": "lines+markers",
         "name": "Montenegro",
         "showlegend": true,
         "type": "scattergl",
         "x": [
          "2017",
          "2018",
          "2019",
          "2020",
          "2021",
          "2022"
         ],
         "xaxis": "x",
         "y": [
          113.4,
          116.3,
          116.7,
          116.5,
          119.3,
          134.8
         ],
         "yaxis": "y"
        },
        {
         "hovertemplate": "Country=Montserrat<br>Year=%{x}<br>Consumer Price (Index Base 10)=%{y}<extra></extra>",
         "legendgroup": "Montserrat",
         "line": {
          "color": "#636efa",
          "dash": "solid"
         },
         "marker": {
          "symbol": "circle"
         },
         "mode": "lines+markers",
         "name": "Montserrat",
         "showlegend": true,
         "type": "scattergl",
         "x": [
          "2017",
          "2018",
          "2019",
          "2020",
          "2021",
          "2022"
         ],
         "xaxis": "x",
         "y": [
          108.9,
          110.3,
          109.1,
          107.1,
          108.9,
          113.3
         ],
         "yaxis": "y"
        },
        {
         "hovertemplate": "Country=Morocco<br>Year=%{x}<br>Consumer Price (Index Base 10)=%{y}<extra></extra>",
         "legendgroup": "Morocco",
         "line": {
          "color": "#EF553B",
          "dash": "solid"
         },
         "marker": {
          "symbol": "circle"
         },
         "mode": "lines+markers",
         "name": "Morocco",
         "showlegend": true,
         "type": "scattergl",
         "x": [
          "2017",
          "2018",
          "2019",
          "2020",
          "2021",
          "2022"
         ],
         "xaxis": "x",
         "y": [
          107.6,
          109.2,
          109.5,
          110.2,
          111.7,
          119.2
         ],
         "yaxis": "y"
        },
        {
         "hovertemplate": "Country=Mozambique<br>Year=%{x}<br>Consumer Price (Index Base 10)=%{y}<extra></extra>",
         "legendgroup": "Mozambique",
         "line": {
          "color": "#00cc96",
          "dash": "solid"
         },
         "marker": {
          "symbol": "circle"
         },
         "mode": "lines+markers",
         "name": "Mozambique",
         "showlegend": true,
         "type": "scattergl",
         "x": [
          "2017",
          "2018",
          "2019",
          "2020",
          "2021",
          "2022"
         ],
         "xaxis": "x",
         "y": [
          170.7,
          177.4,
          182.3,
          188,
          198.7,
          218.2
         ],
         "yaxis": "y"
        },
        {
         "hovertemplate": "Country=Myanmar<br>Year=%{x}<br>Consumer Price (Index Base 10)=%{y}<extra></extra>",
         "legendgroup": "Myanmar",
         "line": {
          "color": "#ab63fa",
          "dash": "solid"
         },
         "marker": {
          "symbol": "circle"
         },
         "mode": "lines+markers",
         "name": "Myanmar",
         "showlegend": true,
         "type": "scattergl",
         "x": [
          "2017",
          "2018",
          "2019",
          "2020",
          "2021",
          "2022"
         ],
         "xaxis": "x",
         "y": [
          144.6,
          154.5,
          168.2,
          174.6,
          185.4,
          220.1
         ],
         "yaxis": "y"
        },
        {
         "hovertemplate": "Country=Namibia<br>Year=%{x}<br>Consumer Price (Index Base 10)=%{y}<extra></extra>",
         "legendgroup": "Namibia",
         "line": {
          "color": "#FFA15A",
          "dash": "solid"
         },
         "marker": {
          "symbol": "circle"
         },
         "mode": "lines+markers",
         "name": "Namibia",
         "showlegend": true,
         "type": "scattergl",
         "x": [
          "2017",
          "2018",
          "2019",
          "2020",
          "2021",
          "2022"
         ],
         "xaxis": "x",
         "y": [
          146.1,
          152.3,
          158,
          161.5,
          167.3,
          177.5
         ],
         "yaxis": "y"
        },
        {
         "hovertemplate": "Country=Nauru<br>Year=%{x}<br>Consumer Price (Index Base 10)=%{y}<extra></extra>",
         "legendgroup": "Nauru",
         "line": {
          "color": "#19d3f3",
          "dash": "solid"
         },
         "marker": {
          "symbol": "circle"
         },
         "mode": "lines+markers",
         "name": "Nauru",
         "showlegend": true,
         "type": "scattergl",
         "x": [
          "2017",
          "2018",
          "2019",
          "2020",
          "2021",
          "2022"
         ],
         "xaxis": "x",
         "y": [
          119.9,
          121.3,
          123.9,
          126.1,
          129.2,
          132.5
         ],
         "yaxis": "y"
        },
        {
         "hovertemplate": "Country=Nepal<br>Year=%{x}<br>Consumer Price (Index Base 10)=%{y}<extra></extra>",
         "legendgroup": "Nepal",
         "line": {
          "color": "#FF6692",
          "dash": "solid"
         },
         "marker": {
          "symbol": "circle"
         },
         "mode": "lines+markers",
         "name": "Nepal",
         "showlegend": true,
         "type": "scattergl",
         "x": [
          "2017",
          "2018",
          "2019",
          "2020",
          "2021",
          "2022"
         ],
         "xaxis": "x",
         "y": [
          175,
          182.3,
          190.7,
          202.5,
          209.8,
          222.9
         ],
         "yaxis": "y"
        },
        {
         "hovertemplate": "Country=Netherlands (Kingdom of<br>Year=%{x}<br>Consumer Price (Index Base 10)=%{y}<extra></extra>",
         "legendgroup": "Netherlands (Kingdom of",
         "line": {
          "color": "#B6E880",
          "dash": "solid"
         },
         "marker": {
          "symbol": "circle"
         },
         "mode": "lines+markers",
         "name": "Netherlands (Kingdom of",
         "showlegend": true,
         "type": "scattergl",
         "x": [
          "2017",
          "2018",
          "2019",
          "2020",
          "2021",
          "2022"
         ],
         "xaxis": "x",
         "y": [
          110.2,
          111.9,
          114.9,
          116.2,
          119.5,
          133.4
         ],
         "yaxis": "y"
        },
        {
         "hovertemplate": "Country=New Caledonia<br>Year=%{x}<br>Consumer Price (Index Base 10)=%{y}<extra></extra>",
         "legendgroup": "New Caledonia",
         "line": {
          "color": "#FF97FF",
          "dash": "solid"
         },
         "marker": {
          "symbol": "circle"
         },
         "mode": "lines+markers",
         "name": "New Caledonia",
         "showlegend": true,
         "type": "scattergl",
         "x": [
          "2017",
          "2018",
          "2019",
          "2020",
          "2021",
          "2022"
         ],
         "xaxis": "x",
         "y": [
          107.5,
          108.3,
          108.2,
          107.6,
          108.3,
          112.3
         ],
         "yaxis": "y"
        },
        {
         "hovertemplate": "Country=New Zealand<br>Year=%{x}<br>Consumer Price (Index Base 10)=%{y}<extra></extra>",
         "legendgroup": "New Zealand",
         "line": {
          "color": "#FECB52",
          "dash": "solid"
         },
         "marker": {
          "symbol": "circle"
         },
         "mode": "lines+markers",
         "name": "New Zealand",
         "showlegend": true,
         "type": "scattergl",
         "x": [
          "2017",
          "2018",
          "2019",
          "2020",
          "2021",
          "2022"
         ],
         "xaxis": "x",
         "y": [
          110.7,
          112.4,
          114.2,
          116.2,
          120.8,
          129.4
         ],
         "yaxis": "y"
        },
        {
         "hovertemplate": "Country=Nicaragua<br>Year=%{x}<br>Consumer Price (Index Base 10)=%{y}<extra></extra>",
         "legendgroup": "Nicaragua",
         "line": {
          "color": "#636efa",
          "dash": "solid"
         },
         "marker": {
          "symbol": "circle"
         },
         "mode": "lines+markers",
         "name": "Nicaragua",
         "showlegend": true,
         "type": "scattergl",
         "x": [
          "2017",
          "2018",
          "2019",
          "2020",
          "2021",
          "2022"
         ],
         "xaxis": "x",
         "y": [
          147.2,
          154.4,
          162.7,
          168.7,
          177,
          195.5
         ],
         "yaxis": "y"
        },
        {
         "hovertemplate": "Country=Niger<br>Year=%{x}<br>Consumer Price (Index Base 10)=%{y}<extra></extra>",
         "legendgroup": "Niger",
         "line": {
          "color": "#EF553B",
          "dash": "solid"
         },
         "marker": {
          "symbol": "circle"
         },
         "mode": "lines+markers",
         "name": "Niger",
         "showlegend": true,
         "type": "scattergl",
         "x": [
          "2017",
          "2018",
          "2019",
          "2020",
          "2021",
          "2022"
         ],
         "xaxis": "x",
         "y": [
          106.2,
          109.2,
          106.4,
          109.5,
          113.7,
          118.5
         ],
         "yaxis": "y"
        },
        {
         "hovertemplate": "Country=Nigeria<br>Year=%{x}<br>Consumer Price (Index Base 10)=%{y}<extra></extra>",
         "legendgroup": "Nigeria",
         "line": {
          "color": "#00cc96",
          "dash": "solid"
         },
         "marker": {
          "symbol": "circle"
         },
         "mode": "lines+markers",
         "name": "Nigeria",
         "showlegend": true,
         "type": "scattergl",
         "x": [
          "2017",
          "2018",
          "2019",
          "2020",
          "2021",
          "2022"
         ],
         "xaxis": "x",
         "y": [
          214.2,
          240.1,
          267.5,
          302.9,
          354.3,
          421.1
         ],
         "yaxis": "y"
        },
        {
         "hovertemplate": "Country=North Macedonia<br>Year=%{x}<br>Consumer Price (Index Base 10)=%{y}<extra></extra>",
         "legendgroup": "North Macedonia",
         "line": {
          "color": "#ab63fa",
          "dash": "solid"
         },
         "marker": {
          "symbol": "circle"
         },
         "mode": "lines+markers",
         "name": "North Macedonia",
         "showlegend": true,
         "type": "scattergl",
         "x": [
          "2017",
          "2018",
          "2019",
          "2020",
          "2021",
          "2022"
         ],
         "xaxis": "x",
         "y": [
          110.9,
          112.5,
          113.4,
          114.8,
          118.5,
          135.3
         ],
         "yaxis": "y"
        },
        {
         "hovertemplate": "Country=Norway<br>Year=%{x}<br>Consumer Price (Index Base 10)=%{y}<extra></extra>",
         "legendgroup": "Norway",
         "line": {
          "color": "#FFA15A",
          "dash": "solid"
         },
         "marker": {
          "symbol": "circle"
         },
         "mode": "lines+markers",
         "name": "Norway",
         "showlegend": true,
         "type": "scattergl",
         "x": [
          "2017",
          "2018",
          "2019",
          "2020",
          "2021",
          "2022"
         ],
         "xaxis": "x",
         "y": [
          114.6,
          117.7,
          120.3,
          121.8,
          126.1,
          133.3
         ],
         "yaxis": "y"
        },
        {
         "hovertemplate": "Country=Oman<br>Year=%{x}<br>Consumer Price (Index Base 10)=%{y}<extra></extra>",
         "legendgroup": "Oman",
         "line": {
          "color": "#19d3f3",
          "dash": "solid"
         },
         "marker": {
          "symbol": "circle"
         },
         "mode": "lines+markers",
         "name": "Oman",
         "showlegend": true,
         "type": "scattergl",
         "x": [
          "2017",
          "2018",
          "2019",
          "2020",
          "2021",
          "2022"
         ],
         "xaxis": "x",
         "y": [
          112.4,
          113.4,
          113.5,
          112.5,
          114.3,
          117.5
         ],
         "yaxis": "y"
        },
        {
         "hovertemplate": "Country=Pakistan<br>Year=%{x}<br>Consumer Price (Index Base 10)=%{y}<extra></extra>",
         "legendgroup": "Pakistan",
         "line": {
          "color": "#FF6692",
          "dash": "solid"
         },
         "marker": {
          "symbol": "circle"
         },
         "mode": "lines+markers",
         "name": "Pakistan",
         "showlegend": true,
         "type": "scattergl",
         "x": [
          "2017",
          "2018",
          "2019",
          "2020",
          "2021",
          "2022"
         ],
         "xaxis": "x",
         "y": [
          164.8,
          171.2,
          182.8,
          202.4,
          220.4,
          247.2
         ],
         "yaxis": "y"
        },
        {
         "hovertemplate": "Country=Palau<br>Year=%{x}<br>Consumer Price (Index Base 10)=%{y}<extra></extra>",
         "legendgroup": "Palau",
         "line": {
          "color": "#B6E880",
          "dash": "solid"
         },
         "marker": {
          "symbol": "circle"
         },
         "mode": "lines+markers",
         "name": "Palau",
         "showlegend": true,
         "type": "scattergl",
         "x": [
          "2017",
          "2018",
          "2019",
          "2020",
          "2021",
          "2022"
         ],
         "xaxis": "x",
         "y": [
          118,
          120.3,
          121,
          121.8,
          122.4,
          133.1
         ],
         "yaxis": "y"
        },
        {
         "hovertemplate": "Country=Panama<br>Year=%{x}<br>Consumer Price (Index Base 10)=%{y}<extra></extra>",
         "legendgroup": "Panama",
         "line": {
          "color": "#FF97FF",
          "dash": "solid"
         },
         "marker": {
          "symbol": "circle"
         },
         "mode": "lines+markers",
         "name": "Panama",
         "showlegend": true,
         "type": "scattergl",
         "x": [
          "2017",
          "2018",
          "2019",
          "2020",
          "2021",
          "2022"
         ],
         "xaxis": "x",
         "y": [
          121.6,
          122.5,
          122.1,
          120.2,
          122.1,
          125.6
         ],
         "yaxis": "y"
        },
        {
         "hovertemplate": "Country=Papua New Guinea<br>Year=%{x}<br>Consumer Price (Index Base 10)=%{y}<extra></extra>",
         "legendgroup": "Papua New Guinea",
         "line": {
          "color": "#FECB52",
          "dash": "solid"
         },
         "marker": {
          "symbol": "circle"
         },
         "mode": "lines+markers",
         "name": "Papua New Guinea",
         "showlegend": true,
         "type": "scattergl",
         "x": [
          "2017",
          "2018",
          "2019",
          "2020",
          "2021",
          "2022"
         ],
         "xaxis": "x",
         "y": [
          143.7,
          150.1,
          156,
          163.6,
          170.9,
          182.2
         ],
         "yaxis": "y"
        },
        {
         "hovertemplate": "Country=Paraguay<br>Year=%{x}<br>Consumer Price (Index Base 10)=%{y}<extra></extra>",
         "legendgroup": "Paraguay",
         "line": {
          "color": "#636efa",
          "dash": "solid"
         },
         "marker": {
          "symbol": "circle"
         },
         "mode": "lines+markers",
         "name": "Paraguay",
         "showlegend": true,
         "type": "scattergl",
         "x": [
          "2017",
          "2018",
          "2019",
          "2020",
          "2021",
          "2022"
         ],
         "xaxis": "x",
         "y": [
          134.6,
          140,
          143.8,
          146.4,
          153.4,
          168.3
         ],
         "yaxis": "y"
        },
        {
         "hovertemplate": "Country=Peru<br>Year=%{x}<br>Consumer Price (Index Base 10)=%{y}<extra></extra>",
         "legendgroup": "Peru",
         "line": {
          "color": "#EF553B",
          "dash": "solid"
         },
         "marker": {
          "symbol": "circle"
         },
         "mode": "lines+markers",
         "name": "Peru",
         "showlegend": true,
         "type": "scattergl",
         "x": [
          "2017",
          "2018",
          "2019",
          "2020",
          "2021",
          "2022"
         ],
         "xaxis": "x",
         "y": [
          125.4,
          127.1,
          129.8,
          132.2,
          137.4,
          148.2
         ],
         "yaxis": "y"
        },
        {
         "hovertemplate": "Country=Philippines<br>Year=%{x}<br>Consumer Price (Index Base 10)=%{y}<extra></extra>",
         "legendgroup": "Philippines",
         "line": {
          "color": "#00cc96",
          "dash": "solid"
         },
         "marker": {
          "symbol": "circle"
         },
         "mode": "lines+markers",
         "name": "Philippines",
         "showlegend": true,
         "type": "scattergl",
         "x": [
          "2017",
          "2018",
          "2019",
          "2020",
          "2021",
          "2022"
         ],
         "xaxis": "x",
         "y": [
          120.4,
          126.8,
          129.8,
          132.9,
          138.1,
          146.2
         ],
         "yaxis": "y"
        },
        {
         "hovertemplate": "Country=Poland<br>Year=%{x}<br>Consumer Price (Index Base 10)=%{y}<extra></extra>",
         "legendgroup": "Poland",
         "line": {
          "color": "#ab63fa",
          "dash": "solid"
         },
         "marker": {
          "symbol": "circle"
         },
         "mode": "lines+markers",
         "name": "Poland",
         "showlegend": true,
         "type": "scattergl",
         "x": [
          "2017",
          "2018",
          "2019",
          "2020",
          "2021",
          "2022"
         ],
         "xaxis": "x",
         "y": [
          109.8,
          111.7,
          114.3,
          118.1,
          124.2,
          142
         ],
         "yaxis": "y"
        },
        {
         "hovertemplate": "Country=Portugal<br>Year=%{x}<br>Consumer Price (Index Base 10)=%{y}<extra></extra>",
         "legendgroup": "Portugal",
         "line": {
          "color": "#FFA15A",
          "dash": "solid"
         },
         "marker": {
          "symbol": "circle"
         },
         "mode": "lines+markers",
         "name": "Portugal",
         "showlegend": true,
         "type": "scattergl",
         "x": [
          "2017",
          "2018",
          "2019",
          "2020",
          "2021",
          "2022"
         ],
         "xaxis": "x",
         "y": [
          109.6,
          110.9,
          111.2,
          111.1,
          112.2,
          121.2
         ],
         "yaxis": "y"
        },
        {
         "hovertemplate": "Country=Qatar<br>Year=%{x}<br>Consumer Price (Index Base 10)=%{y}<extra></extra>",
         "legendgroup": "Qatar",
         "line": {
          "color": "#19d3f3",
          "dash": "solid"
         },
         "marker": {
          "symbol": "circle"
         },
         "mode": "lines+markers",
         "name": "Qatar",
         "showlegend": true,
         "type": "scattergl",
         "x": [
          "2017",
          "2018",
          "2019",
          "2020",
          "2021",
          "2022"
         ],
         "xaxis": "x",
         "y": [
          116.4,
          116.6,
          115.5,
          112.6,
          115.2,
          120.9
         ],
         "yaxis": "y"
        },
        {
         "hovertemplate": "Country=Romania<br>Year=%{x}<br>Consumer Price (Index Base 10)=%{y}<extra></extra>",
         "legendgroup": "Romania",
         "line": {
          "color": "#FF6692",
          "dash": "solid"
         },
         "marker": {
          "symbol": "circle"
         },
         "mode": "lines+markers",
         "name": "Romania",
         "showlegend": true,
         "type": "scattergl",
         "x": [
          "2017",
          "2018",
          "2019",
          "2020",
          "2021",
          "2022"
         ],
         "xaxis": "x",
         "y": [
          114,
          119.3,
          123.8,
          127.1,
          133.5,
          151.9
         ],
         "yaxis": "y"
        },
        {
         "hovertemplate": "Country=Russian Federation<br>Year=%{x}<br>Consumer Price (Index Base 10)=%{y}<extra></extra>",
         "legendgroup": "Russian Federation",
         "line": {
          "color": "#B6E880",
          "dash": "solid"
         },
         "marker": {
          "symbol": "circle"
         },
         "mode": "lines+markers",
         "name": "Russian Federation",
         "showlegend": true,
         "type": "scattergl",
         "x": [
          "2017",
          "2018",
          "2019",
          "2020",
          "2021",
          "2022"
         ],
         "xaxis": "x",
         "y": [
          168.2,
          173,
          180.7,
          186.9,
          199.4,
          226.8
         ],
         "yaxis": "y"
        },
        {
         "hovertemplate": "Country=Rwanda<br>Year=%{x}<br>Consumer Price (Index Base 10)=%{y}<extra></extra>",
         "legendgroup": "Rwanda",
         "line": {
          "color": "#FF97FF",
          "dash": "solid"
         },
         "marker": {
          "symbol": "circle"
         },
         "mode": "lines+markers",
         "name": "Rwanda",
         "showlegend": true,
         "type": "scattergl",
         "x": [
          "2017",
          "2018",
          "2019",
          "2020",
          "2021",
          "2022"
         ],
         "xaxis": "x",
         "y": [
          135.3,
          137.2,
          140.5,
          151.4,
          152.6,
          173.8
         ],
         "yaxis": "y"
        },
        {
         "hovertemplate": "Country=Saint Kitts and<br>Year=%{x}<br>Consumer Price (Index Base 10)=%{y}<extra></extra>",
         "legendgroup": "Saint Kitts and",
         "line": {
          "color": "#FECB52",
          "dash": "solid"
         },
         "marker": {
          "symbol": "circle"
         },
         "mode": "lines+markers",
         "name": "Saint Kitts and",
         "showlegend": true,
         "type": "scattergl",
         "x": [
          "2017",
          "2018",
          "2019",
          "2020",
          "2021",
          "2022"
         ],
         "xaxis": "x",
         "y": [
          105.7,
          104.6,
          104.2,
          103,
          104.2,
          107.1
         ],
         "yaxis": "y"
        },
        {
         "hovertemplate": "Country=Saint Lucia<br>Year=%{x}<br>Consumer Price (Index Base 10)=%{y}<extra></extra>",
         "legendgroup": "Saint Lucia",
         "line": {
          "color": "#636efa",
          "dash": "solid"
         },
         "marker": {
          "symbol": "circle"
         },
         "mode": "lines+markers",
         "name": "Saint Lucia",
         "showlegend": true,
         "type": "scattergl",
         "x": [
          "2017",
          "2018",
          "2019",
          "2020",
          "2021",
          "2022"
         ],
         "xaxis": "x",
         "y": [
          108,
          110.8,
          111.4,
          109.4,
          112,
          119.6
         ],
         "yaxis": "y"
        },
        {
         "hovertemplate": "Country=Saint Vincent and<br>Year=%{x}<br>Consumer Price (Index Base 10)=%{y}<extra></extra>",
         "legendgroup": "Saint Vincent and",
         "line": {
          "color": "#EF553B",
          "dash": "solid"
         },
         "marker": {
          "symbol": "circle"
         },
         "mode": "lines+markers",
         "name": "Saint Vincent and",
         "showlegend": true,
         "type": "scattergl",
         "x": [
          "2017",
          "2018",
          "2019",
          "2020",
          "2021",
          "2022"
         ],
         "xaxis": "x",
         "y": [
          107.2,
          109.7,
          110.7,
          110,
          111.7,
          118
         ],
         "yaxis": "y"
        },
        {
         "hovertemplate": "Country=Samoa<br>Year=%{x}<br>Consumer Price (Index Base 10)=%{y}<extra></extra>",
         "legendgroup": "Samoa",
         "line": {
          "color": "#00cc96",
          "dash": "solid"
         },
         "marker": {
          "symbol": "circle"
         },
         "mode": "lines+markers",
         "name": "Samoa",
         "showlegend": true,
         "type": "scattergl",
         "x": [
          "2017",
          "2018",
          "2019",
          "2020",
          "2021",
          "2022"
         ],
         "xaxis": "x",
         "y": [
          111.3,
          115.4,
          117.9,
          119.7,
          116.1,
          126.2
         ],
         "yaxis": "y"
        },
        {
         "hovertemplate": "Country=San Marino<br>Year=%{x}<br>Consumer Price (Index Base 10)=%{y}<extra></extra>",
         "legendgroup": "San Marino",
         "line": {
          "color": "#ab63fa",
          "dash": "solid"
         },
         "marker": {
          "symbol": "circle"
         },
         "mode": "lines+markers",
         "name": "San Marino",
         "showlegend": true,
         "type": "scattergl",
         "x": [
          "2017",
          "2018",
          "2019",
          "2020",
          "2021",
          "2022"
         ],
         "xaxis": "x",
         "y": [
          109.9,
          111.8,
          112.9,
          113.1,
          115.5,
          123.7
         ],
         "yaxis": "y"
        },
        {
         "hovertemplate": "Country=Sao Tome and<br>Year=%{x}<br>Consumer Price (Index Base 10)=%{y}<extra></extra>",
         "legendgroup": "Sao Tome and",
         "line": {
          "color": "#FFA15A",
          "dash": "solid"
         },
         "marker": {
          "symbol": "circle"
         },
         "mode": "lines+markers",
         "name": "Sao Tome and",
         "showlegend": true,
         "type": "scattergl",
         "x": [
          "2017",
          "2018",
          "2019",
          "2020",
          "2021",
          "2022"
         ],
         "xaxis": "x",
         "y": [
          173,
          186.6,
          201,
          220.7,
          238.7,
          281.6
         ],
         "yaxis": "y"
        },
        {
         "hovertemplate": "Country=Saudi Arabia<br>Year=%{x}<br>Consumer Price (Index Base 10)=%{y}<extra></extra>",
         "legendgroup": "Saudi Arabia",
         "line": {
          "color": "#19d3f3",
          "dash": "solid"
         },
         "marker": {
          "symbol": "circle"
         },
         "mode": "lines+markers",
         "name": "Saudi Arabia",
         "showlegend": true,
         "type": "scattergl",
         "x": [
          "2017",
          "2018",
          "2019",
          "2020",
          "2021",
          "2022"
         ],
         "xaxis": "x",
         "y": [
          115.7,
          118.5,
          116.1,
          120.1,
          123.7,
          126.8
         ],
         "yaxis": "y"
        },
        {
         "hovertemplate": "Country=Senegal<br>Year=%{x}<br>Consumer Price (Index Base 10)=%{y}<extra></extra>",
         "legendgroup": "Senegal",
         "line": {
          "color": "#FF6692",
          "dash": "solid"
         },
         "marker": {
          "symbol": "circle"
         },
         "mode": "lines+markers",
         "name": "Senegal",
         "showlegend": true,
         "type": "scattergl",
         "x": [
          "2017",
          "2018",
          "2019",
          "2020",
          "2021",
          "2022"
         ],
         "xaxis": "x",
         "y": [
          107.8,
          108.3,
          109.4,
          112.2,
          114.6,
          125.7
         ],
         "yaxis": "y"
        },
        {
         "hovertemplate": "Country=Serbia<br>Year=%{x}<br>Consumer Price (Index Base 10)=%{y}<extra></extra>",
         "legendgroup": "Serbia",
         "line": {
          "color": "#B6E880",
          "dash": "solid"
         },
         "marker": {
          "symbol": "circle"
         },
         "mode": "lines+markers",
         "name": "Serbia",
         "showlegend": true,
         "type": "scattergl",
         "x": [
          "2017",
          "2018",
          "2019",
          "2020",
          "2021",
          "2022"
         ],
         "xaxis": "x",
         "y": [
          138.7,
          141.4,
          144,
          146.3,
          152.2,
          170.5
         ],
         "yaxis": "y"
        },
        {
         "hovertemplate": "Country=Seychelles<br>Year=%{x}<br>Consumer Price (Index Base 10)=%{y}<extra></extra>",
         "legendgroup": "Seychelles",
         "line": {
          "color": "#FF97FF",
          "dash": "solid"
         },
         "marker": {
          "symbol": "circle"
         },
         "mode": "lines+markers",
         "name": "Seychelles",
         "showlegend": true,
         "type": "scattergl",
         "x": [
          "2017",
          "2018",
          "2019",
          "2020",
          "2021",
          "2022"
         ],
         "xaxis": "x",
         "y": [
          123.1,
          127.7,
          130,
          131.5,
          144.4,
          148.3
         ],
         "yaxis": "y"
        },
        {
         "hovertemplate": "Country=Sierra Leone<br>Year=%{x}<br>Consumer Price (Index Base 10)=%{y}<extra></extra>",
         "legendgroup": "Sierra Leone",
         "line": {
          "color": "#FECB52",
          "dash": "solid"
         },
         "marker": {
          "symbol": "circle"
         },
         "mode": "lines+markers",
         "name": "Sierra Leone",
         "showlegend": true,
         "type": "scattergl",
         "x": [
          "2017",
          "2018",
          "2019",
          "2020",
          "2021",
          "2022"
         ],
         "xaxis": "x",
         "y": [
          175.8,
          204,
          234.2,
          265.6,
          297.2,
          378.1
         ],
         "yaxis": "y"
        },
        {
         "hovertemplate": "Country=Singapore<br>Year=%{x}<br>Consumer Price (Index Base 10)=%{y}<extra></extra>",
         "legendgroup": "Singapore",
         "line": {
          "color": "#636efa",
          "dash": "solid"
         },
         "marker": {
          "symbol": "circle"
         },
         "mode": "lines+markers",
         "name": "Singapore",
         "showlegend": true,
         "type": "scattergl",
         "x": [
          "2017",
          "2018",
          "2019",
          "2020",
          "2021",
          "2022"
         ],
         "xaxis": "x",
         "y": [
          113.3,
          113.8,
          114.4,
          114.2,
          116.8,
          124
         ],
         "yaxis": "y"
        },
        {
         "hovertemplate": "Country=Sint Maarten (Dutch<br>Year=%{x}<br>Consumer Price (Index Base 10)=%{y}<extra></extra>",
         "legendgroup": "Sint Maarten (Dutch",
         "line": {
          "color": "#EF553B",
          "dash": "solid"
         },
         "marker": {
          "symbol": "circle"
         },
         "mode": "lines+markers",
         "name": "Sint Maarten (Dutch",
         "showlegend": true,
         "type": "scattergl",
         "x": [
          "2017",
          "2018",
          "2019",
          "2020",
          "2021",
          "2022"
         ],
         "xaxis": "x",
         "y": [
          116.7,
          95.7,
          96.1,
          96.8,
          99.5,
          103.3
         ],
         "yaxis": "y"
        },
        {
         "hovertemplate": "Country=Slovakia<br>Year=%{x}<br>Consumer Price (Index Base 10)=%{y}<extra></extra>",
         "legendgroup": "Slovakia",
         "line": {
          "color": "#00cc96",
          "dash": "solid"
         },
         "marker": {
          "symbol": "circle"
         },
         "mode": "lines+markers",
         "name": "Slovakia",
         "showlegend": true,
         "type": "scattergl",
         "x": [
          "2017",
          "2018",
          "2019",
          "2020",
          "2021",
          "2022"
         ],
         "xaxis": "x",
         "y": [
          110.1,
          112.8,
          116,
          118.3,
          121.6,
          136.4
         ],
         "yaxis": "y"
        },
        {
         "hovertemplate": "Country=Slovenia<br>Year=%{x}<br>Consumer Price (Index Base 10)=%{y}<extra></extra>",
         "legendgroup": "Slovenia",
         "line": {
          "color": "#ab63fa",
          "dash": "solid"
         },
         "marker": {
          "symbol": "circle"
         },
         "mode": "lines+markers",
         "name": "Slovenia",
         "showlegend": true,
         "type": "scattergl",
         "x": [
          "2017",
          "2018",
          "2019",
          "2020",
          "2021",
          "2022"
         ],
         "xaxis": "x",
         "y": [
          107.4,
          109.3,
          111.1,
          111,
          113.1,
          123.1
         ],
         "yaxis": "y"
        },
        {
         "hovertemplate": "Country=Solomon Islands<br>Year=%{x}<br>Consumer Price (Index Base 10)=%{y}<extra></extra>",
         "legendgroup": "Solomon Islands",
         "line": {
          "color": "#FFA15A",
          "dash": "solid"
         },
         "marker": {
          "symbol": "circle"
         },
         "mode": "lines+markers",
         "name": "Solomon Islands",
         "showlegend": true,
         "type": "scattergl",
         "x": [
          "2017",
          "2018",
          "2019",
          "2020",
          "2021",
          "2022"
         ],
         "xaxis": "x",
         "y": [
          126.6,
          131,
          133.2,
          137.1,
          137,
          144.5
         ],
         "yaxis": "y"
        },
        {
         "hovertemplate": "Country=Somalia<br>Year=%{x}<br>Consumer Price (Index Base 10)=%{y}<extra></extra>",
         "legendgroup": "Somalia",
         "line": {
          "color": "#19d3f3",
          "dash": "solid"
         },
         "marker": {
          "symbol": "circle"
         },
         "mode": "lines+markers",
         "name": "Somalia",
         "showlegend": true,
         "type": "scattergl",
         "x": [
          "2017",
          "2018",
          "2019",
          "2020",
          "2021",
          "2022"
         ],
         "xaxis": "x",
         "y": [
          109.3,
          114,
          119.2,
          124.3,
          130,
          138.9
         ],
         "yaxis": "y"
        },
        {
         "hovertemplate": "Country=South Africa<br>Year=%{x}<br>Consumer Price (Index Base 10)=%{y}<extra></extra>",
         "legendgroup": "South Africa",
         "line": {
          "color": "#FF6692",
          "dash": "solid"
         },
         "marker": {
          "symbol": "circle"
         },
         "mode": "lines+markers",
         "name": "South Africa",
         "showlegend": true,
         "type": "scattergl",
         "x": [
          "2017",
          "2018",
          "2019",
          "2020",
          "2021",
          "2022"
         ],
         "xaxis": "x",
         "y": [
          145.7,
          152.4,
          158.7,
          163.9,
          171.4,
          183.1
         ],
         "yaxis": "y"
        },
        {
         "hovertemplate": "Country=South Sudan<br>Year=%{x}<br>Consumer Price (Index Base 10)=%{y}<extra></extra>",
         "legendgroup": "South Sudan",
         "line": {
          "color": "#B6E880",
          "dash": "solid"
         },
         "marker": {
          "symbol": "circle"
         },
         "mode": "lines+markers",
         "name": "South Sudan",
         "showlegend": true,
         "type": "scattergl",
         "x": [
          "2017",
          "2018",
          "2019",
          "2020",
          "2021",
          "2022"
         ],
         "xaxis": "x",
         "y": [
          4583.7,
          8411.2,
          15749.2,
          20422.9,
          22570.7,
          21061.3
         ],
         "yaxis": "y"
        },
        {
         "hovertemplate": "Country=Spain<br>Year=%{x}<br>Consumer Price (Index Base 10)=%{y}<extra></extra>",
         "legendgroup": "Spain",
         "line": {
          "color": "#FF97FF",
          "dash": "solid"
         },
         "marker": {
          "symbol": "circle"
         },
         "mode": "lines+markers",
         "name": "Spain",
         "showlegend": true,
         "type": "scattergl",
         "x": [
          "2017",
          "2018",
          "2019",
          "2020",
          "2021",
          "2022"
         ],
         "xaxis": "x",
         "y": [
          108.1,
          110,
          110.8,
          110.5,
          113.8,
          123.2
         ],
         "yaxis": "y"
        },
        {
         "hovertemplate": "Country=Sri Lanka<br>Year=%{x}<br>Consumer Price (Index Base 10)=%{y}<extra></extra>",
         "legendgroup": "Sri Lanka",
         "line": {
          "color": "#FECB52",
          "dash": "solid"
         },
         "marker": {
          "symbol": "circle"
         },
         "mode": "lines+markers",
         "name": "Sri Lanka",
         "showlegend": true,
         "type": "scattergl",
         "x": [
          "2017",
          "2018",
          "2019",
          "2020",
          "2021",
          "2022"
         ],
         "xaxis": "x",
         "y": [
          142.9,
          149,
          155.4,
          162.5,
          172.2,
          252
         ],
         "yaxis": "y"
        },
        {
         "hovertemplate": "Country=State of Palestine<br>Year=%{x}<br>Consumer Price (Index Base 10)=%{y}<extra></extra>",
         "legendgroup": "State of Palestine",
         "line": {
          "color": "#636efa",
          "dash": "solid"
         },
         "marker": {
          "symbol": "circle"
         },
         "mode": "lines+markers",
         "name": "State of Palestine",
         "showlegend": true,
         "type": "scattergl",
         "x": [
          "2017",
          "2018",
          "2019",
          "2020",
          "2021",
          "2022"
         ],
         "xaxis": "x",
         "y": [
          111,
          110.8,
          112.5,
          111.7,
          113.1,
          117.3
         ],
         "yaxis": "y"
        },
        {
         "hovertemplate": "Country=Sudan<br>Year=%{x}<br>Consumer Price (Index Base 10)=%{y}<extra></extra>",
         "legendgroup": "Sudan",
         "line": {
          "color": "#EF553B",
          "dash": "solid"
         },
         "marker": {
          "symbol": "circle"
         },
         "mode": "lines+markers",
         "name": "Sudan",
         "showlegend": true,
         "type": "scattergl",
         "x": [
          "2017",
          "2018",
          "2019",
          "2020",
          "2021",
          "2022"
         ],
         "xaxis": "x",
         "y": [
          545.2,
          890.2,
          1344.2,
          3538.7,
          16245.9,
          38796.5
         ],
         "yaxis": "y"
        },
        {
         "hovertemplate": "Country=Sudan (...2011)<br>Year=%{x}<br>Consumer Price (Index Base 10)=%{y}<extra></extra>",
         "legendgroup": "Sudan (...2011)",
         "line": {
          "color": "#00cc96",
          "dash": "solid"
         },
         "marker": {
          "symbol": "circle"
         },
         "mode": "lines+markers",
         "name": "Sudan (...2011)",
         "showlegend": true,
         "type": "scattergl",
         "x": [
          "2017",
          "2018",
          "2019",
          "2020",
          "2021",
          "2022"
         ],
         "xaxis": "x",
         "y": [
          null,
          null,
          null,
          null,
          null,
          null
         ],
         "yaxis": "y"
        },
        {
         "hovertemplate": "Country=Suriname<br>Year=%{x}<br>Consumer Price (Index Base 10)=%{y}<extra></extra>",
         "legendgroup": "Suriname",
         "line": {
          "color": "#ab63fa",
          "dash": "solid"
         },
         "marker": {
          "symbol": "circle"
         },
         "mode": "lines+markers",
         "name": "Suriname",
         "showlegend": true,
         "type": "scattergl",
         "x": [
          "2017",
          "2018",
          "2019",
          "2020",
          "2021",
          "2022"
         ],
         "xaxis": "x",
         "y": [
          264.1,
          282.4,
          294.8,
          397.7,
          632.8,
          964.8
         ],
         "yaxis": "y"
        },
        {
         "hovertemplate": "Country=Sweden<br>Year=%{x}<br>Consumer Price (Index Base 10)=%{y}<extra></extra>",
         "legendgroup": "Sweden",
         "line": {
          "color": "#FFA15A",
          "dash": "solid"
         },
         "marker": {
          "symbol": "circle"
         },
         "mode": "lines+markers",
         "name": "Sweden",
         "showlegend": true,
         "type": "scattergl",
         "x": [
          "2017",
          "2018",
          "2019",
          "2020",
          "2021",
          "2022"
         ],
         "xaxis": "x",
         "y": [
          106.8,
          109,
          110.9,
          111.6,
          114.6,
          123.8
         ],
         "yaxis": "y"
        },
        {
         "hovertemplate": "Country=Switzerland, Liechtenstein<br>Year=%{x}<br>Consumer Price (Index Base 10)=%{y}<extra></extra>",
         "legendgroup": "Switzerland, Liechtenstein",
         "line": {
          "color": "#19d3f3",
          "dash": "solid"
         },
         "marker": {
          "symbol": "circle"
         },
         "mode": "lines+markers",
         "name": "Switzerland, Liechtenstein",
         "showlegend": true,
         "type": "scattergl",
         "x": [
          "2017",
          "2018",
          "2019",
          "2020",
          "2021",
          "2022"
         ],
         "xaxis": "x",
         "y": [
          98.3,
          99.2,
          99.5,
          98.8,
          99.4,
          102.2
         ],
         "yaxis": "y"
        },
        {
         "hovertemplate": "Country=Liechtenstein<br>Year=%{x}<br>Consumer Price (Index Base 10)=%{y}<extra></extra>",
         "legendgroup": "Liechtenstein",
         "line": {
          "color": "#FF6692",
          "dash": "solid"
         },
         "marker": {
          "symbol": "circle"
         },
         "mode": "lines+markers",
         "name": "Liechtenstein",
         "showlegend": true,
         "type": "scattergl",
         "x": [
          "2017",
          "2018",
          "2019",
          "2020",
          "2021",
          "2022"
         ],
         "xaxis": "x",
         "y": [
          98.3,
          99.2,
          99.5,
          98.8,
          99.4,
          102.2
         ],
         "yaxis": "y"
        },
        {
         "hovertemplate": "Country=Switzerland<br>Year=%{x}<br>Consumer Price (Index Base 10)=%{y}<extra></extra>",
         "legendgroup": "Switzerland",
         "line": {
          "color": "#B6E880",
          "dash": "solid"
         },
         "marker": {
          "symbol": "circle"
         },
         "mode": "lines+markers",
         "name": "Switzerland",
         "showlegend": true,
         "type": "scattergl",
         "x": [
          "2017",
          "2018",
          "2019",
          "2020",
          "2021",
          "2022"
         ],
         "xaxis": "x",
         "y": [
          98.3,
          99.2,
          99.5,
          98.8,
          99.4,
          102.2
         ],
         "yaxis": "y"
        },
        {
         "hovertemplate": "Country=Syrian Arab Republic<br>Year=%{x}<br>Consumer Price (Index Base 10)=%{y}<extra></extra>",
         "legendgroup": "Syrian Arab Republic",
         "line": {
          "color": "#FF97FF",
          "dash": "solid"
         },
         "marker": {
          "symbol": "circle"
         },
         "mode": "lines+markers",
         "name": "Syrian Arab Republic",
         "showlegend": true,
         "type": "scattergl",
         "x": [
          "2017",
          "2018",
          "2019",
          "2020",
          "2021",
          "2022"
         ],
         "xaxis": "x",
         "y": [
          782.8,
          790.1,
          896.2,
          1919.7,
          3807.2,
          7390.2
         ],
         "yaxis": "y"
        },
        {
         "hovertemplate": "Country=Tajikistan<br>Year=%{x}<br>Consumer Price (Index Base 10)=%{y}<extra></extra>",
         "legendgroup": "Tajikistan",
         "line": {
          "color": "#FECB52",
          "dash": "solid"
         },
         "marker": {
          "symbol": "circle"
         },
         "mode": "lines+markers",
         "name": "Tajikistan",
         "showlegend": true,
         "type": "scattergl",
         "x": [
          "2017",
          "2018",
          "2019",
          "2020",
          "2021",
          "2022"
         ],
         "xaxis": "x",
         "y": [
          159.3,
          165.4,
          178.3,
          193.6,
          211,
          225
         ],
         "yaxis": "y"
        },
        {
         "hovertemplate": "Country=Tanzania, United Republic<br>Year=%{x}<br>Consumer Price (Index Base 10)=%{y}<extra></extra>",
         "legendgroup": "Tanzania, United Republic",
         "line": {
          "color": "#636efa",
          "dash": "solid"
         },
         "marker": {
          "symbol": "circle"
         },
         "mode": "lines+markers",
         "name": "Tanzania, United Republic",
         "showlegend": true,
         "type": "scattergl",
         "x": [
          "2017",
          "2018",
          "2019",
          "2020",
          "2021",
          "2022"
         ],
         "xaxis": "x",
         "y": [
          175,
          181.2,
          187.4,
          193.6,
          200.7,
          209.5
         ],
         "yaxis": "y"
        },
        {
         "hovertemplate": "Country=Thailand<br>Year=%{x}<br>Consumer Price (Index Base 10)=%{y}<extra></extra>",
         "legendgroup": "Thailand",
         "line": {
          "color": "#EF553B",
          "dash": "solid"
         },
         "marker": {
          "symbol": "circle"
         },
         "mode": "lines+markers",
         "name": "Thailand",
         "showlegend": true,
         "type": "scattergl",
         "x": [
          "2017",
          "2018",
          "2019",
          "2020",
          "2021",
          "2022"
         ],
         "xaxis": "x",
         "y": [
          111.3,
          112.5,
          113.3,
          112.3,
          113.7,
          120.6
         ],
         "yaxis": "y"
        },
        {
         "hovertemplate": "Country=Timor-Leste<br>Year=%{x}<br>Consumer Price (Index Base 10)=%{y}<extra></extra>",
         "legendgroup": "Timor-Leste",
         "line": {
          "color": "#00cc96",
          "dash": "solid"
         },
         "marker": {
          "symbol": "circle"
         },
         "mode": "lines+markers",
         "name": "Timor-Leste",
         "showlegend": true,
         "type": "scattergl",
         "x": [
          "2017",
          "2018",
          "2019",
          "2020",
          "2021",
          "2022"
         ],
         "xaxis": "x",
         "y": [
          138.1,
          141.3,
          142.6,
          143.3,
          148.7,
          159.1
         ],
         "yaxis": "y"
        },
        {
         "hovertemplate": "Country=Togo<br>Year=%{x}<br>Consumer Price (Index Base 10)=%{y}<extra></extra>",
         "legendgroup": "Togo",
         "line": {
          "color": "#ab63fa",
          "dash": "solid"
         },
         "marker": {
          "symbol": "circle"
         },
         "mode": "lines+markers",
         "name": "Togo",
         "showlegend": true,
         "type": "scattergl",
         "x": [
          "2017",
          "2018",
          "2019",
          "2020",
          "2021",
          "2022"
         ],
         "xaxis": "x",
         "y": [
          111,
          112,
          112.8,
          114.9,
          120.1,
          129.2
         ],
         "yaxis": "y"
        },
        {
         "hovertemplate": "Country=Tonga<br>Year=%{x}<br>Consumer Price (Index Base 10)=%{y}<extra></extra>",
         "legendgroup": "Tonga",
         "line": {
          "color": "#FFA15A",
          "dash": "solid"
         },
         "marker": {
          "symbol": "circle"
         },
         "mode": "lines+markers",
         "name": "Tonga",
         "showlegend": true,
         "type": "scattergl",
         "x": [
          "2017",
          "2018",
          "2019",
          "2020",
          "2021",
          "2022"
         ],
         "xaxis": "x",
         "y": [
          120.2,
          128.3,
          132.6,
          133.1,
          135,
          146.5
         ],
         "yaxis": "y"
        },
        {
         "hovertemplate": "Country=Trinidad and Tobago<br>Year=%{x}<br>Consumer Price (Index Base 10)=%{y}<extra></extra>",
         "legendgroup": "Trinidad and Tobago",
         "line": {
          "color": "#19d3f3",
          "dash": "solid"
         },
         "marker": {
          "symbol": "circle"
         },
         "mode": "lines+markers",
         "name": "Trinidad and Tobago",
         "showlegend": true,
         "type": "scattergl",
         "x": [
          "2017",
          "2018",
          "2019",
          "2020",
          "2021",
          "2022"
         ],
         "xaxis": "x",
         "y": [
          140.3,
          141.8,
          143.2,
          144,
          147,
          155.6
         ],
         "yaxis": "y"
        },
        {
         "hovertemplate": "Country=Tunisia<br>Year=%{x}<br>Consumer Price (Index Base 10)=%{y}<extra></extra>",
         "legendgroup": "Tunisia",
         "line": {
          "color": "#FF6692",
          "dash": "solid"
         },
         "marker": {
          "symbol": "circle"
         },
         "mode": "lines+markers",
         "name": "Tunisia",
         "showlegend": true,
         "type": "scattergl",
         "x": [
          "2017",
          "2018",
          "2019",
          "2020",
          "2021",
          "2022"
         ],
         "xaxis": "x",
         "y": [
          135.6,
          145.5,
          155.3,
          164.1,
          173.4,
          187.9
         ],
         "yaxis": "y"
        },
        {
         "hovertemplate": "Country=Turkiye<br>Year=%{x}<br>Consumer Price (Index Base 10)=%{y}<extra></extra>",
         "legendgroup": "Turkiye",
         "line": {
          "color": "#B6E880",
          "dash": "solid"
         },
         "marker": {
          "symbol": "circle"
         },
         "mode": "lines+markers",
         "name": "Turkiye",
         "showlegend": true,
         "type": "scattergl",
         "x": [
          "2017",
          "2018",
          "2019",
          "2020",
          "2021",
          "2022"
         ],
         "xaxis": "x",
         "y": [
          175,
          203.5,
          234.4,
          263.2,
          314.8,
          542.4
         ],
         "yaxis": "y"
        },
        {
         "hovertemplate": "Country=Turkmenistan<br>Year=%{x}<br>Consumer Price (Index Base 10)=%{y}<extra></extra>",
         "legendgroup": "Turkmenistan",
         "line": {
          "color": "#FF97FF",
          "dash": "solid"
         },
         "marker": {
          "symbol": "circle"
         },
         "mode": "lines+markers",
         "name": "Turkmenistan",
         "showlegend": true,
         "type": "scattergl",
         "x": [
          "2017",
          "2018",
          "2019",
          "2020",
          "2021",
          "2022"
         ],
         "xaxis": "x",
         "y": [
          151,
          171.1,
          179.8,
          190.7,
          227.9,
          254.1
         ],
         "yaxis": "y"
        },
        {
         "hovertemplate": "Country=Turks and Caicos<br>Year=%{x}<br>Consumer Price (Index Base 10)=%{y}<extra></extra>",
         "legendgroup": "Turks and Caicos",
         "line": {
          "color": "#FECB52",
          "dash": "solid"
         },
         "marker": {
          "symbol": "circle"
         },
         "mode": "lines+markers",
         "name": "Turks and Caicos",
         "showlegend": true,
         "type": "scattergl",
         "x": [
          "2017",
          "2018",
          "2019",
          "2020",
          "2021",
          "2022"
         ],
         "xaxis": "x",
         "y": [
          121.1,
          123.6,
          126.4,
          129.4,
          135.8,
          147.4
         ],
         "yaxis": "y"
        },
        {
         "hovertemplate": "Country=Tuvalu<br>Year=%{x}<br>Consumer Price (Index Base 10)=%{y}<extra></extra>",
         "legendgroup": "Tuvalu",
         "line": {
          "color": "#636efa",
          "dash": "solid"
         },
         "marker": {
          "symbol": "circle"
         },
         "mode": "lines+markers",
         "name": "Tuvalu",
         "showlegend": true,
         "type": "scattergl",
         "x": [
          "2017",
          "2018",
          "2019",
          "2020",
          "2021",
          "2022"
         ],
         "xaxis": "x",
         "y": [
          116.8,
          119.3,
          123.5,
          125.8,
          133.6,
          149
         ],
         "yaxis": "y"
        },
        {
         "hovertemplate": "Country=Uganda<br>Year=%{x}<br>Consumer Price (Index Base 10)=%{y}<extra></extra>",
         "legendgroup": "Uganda",
         "line": {
          "color": "#EF553B",
          "dash": "solid"
         },
         "marker": {
          "symbol": "circle"
         },
         "mode": "lines+markers",
         "name": "Uganda",
         "showlegend": true,
         "type": "scattergl",
         "x": [
          "2017",
          "2018",
          "2019",
          "2020",
          "2021",
          "2022"
         ],
         "xaxis": "x",
         "y": [
          171.3,
          175.7,
          179.4,
          184.4,
          188.5,
          201.2
         ],
         "yaxis": "y"
        },
        {
         "hovertemplate": "Country=Ukraine<br>Year=%{x}<br>Consumer Price (Index Base 10)=%{y}<extra></extra>",
         "legendgroup": "Ukraine",
         "line": {
          "color": "#00cc96",
          "dash": "solid"
         },
         "marker": {
          "symbol": "circle"
         },
         "mode": "lines+markers",
         "name": "Ukraine",
         "showlegend": true,
         "type": "scattergl",
         "x": [
          "2017",
          "2018",
          "2019",
          "2020",
          "2021",
          "2022"
         ],
         "xaxis": "x",
         "y": [
          235.3,
          261,
          281.6,
          289.3,
          316.4,
          380.3
         ],
         "yaxis": "y"
        },
        {
         "hovertemplate": "Country=United Arab Emirates<br>Year=%{x}<br>Consumer Price (Index Base 10)=%{y}<extra></extra>",
         "legendgroup": "United Arab Emirates",
         "line": {
          "color": "#ab63fa",
          "dash": "solid"
         },
         "marker": {
          "symbol": "circle"
         },
         "mode": "lines+markers",
         "name": "United Arab Emirates",
         "showlegend": true,
         "type": "scattergl",
         "x": [
          "2017",
          "2018",
          "2019",
          "2020",
          "2021",
          "2022"
         ],
         "xaxis": "x",
         "y": [
          113.3,
          116.8,
          114.5,
          112.1,
          112,
          117.4
         ],
         "yaxis": "y"
        },
        {
         "hovertemplate": "Country=United Kingdom<br>Year=%{x}<br>Consumer Price (Index Base 10)=%{y}<extra></extra>",
         "legendgroup": "United Kingdom",
         "line": {
          "color": "#FFA15A",
          "dash": "solid"
         },
         "marker": {
          "symbol": "circle"
         },
         "mode": "lines+markers",
         "name": "United Kingdom",
         "showlegend": true,
         "type": "scattergl",
         "x": [
          "2017",
          "2018",
          "2019",
          "2020",
          "2021",
          "2022"
         ],
         "xaxis": "x",
         "y": [
          115.6,
          118.5,
          120.6,
          121.6,
          124.7,
          136.1
         ],
         "yaxis": "y"
        },
        {
         "hovertemplate": "Country=United Kingdom excl.<br>Year=%{x}<br>Consumer Price (Index Base 10)=%{y}<extra></extra>",
         "legendgroup": "United Kingdom excl.",
         "line": {
          "color": "#19d3f3",
          "dash": "solid"
         },
         "marker": {
          "symbol": "circle"
         },
         "mode": "lines+markers",
         "name": "United Kingdom excl.",
         "showlegend": true,
         "type": "scattergl",
         "x": [
          "2017",
          "2018",
          "2019",
          "2020",
          "2021",
          "2022"
         ],
         "xaxis": "x",
         "y": [
          115.6,
          118.5,
          120.6,
          121.6,
          124.7,
          136.1
         ],
         "yaxis": "y"
        },
        {
         "hovertemplate": "Country=United States of<br>Year=%{x}<br>Consumer Price (Index Base 10)=%{y}<extra></extra>",
         "legendgroup": "United States of",
         "line": {
          "color": "#FF6692",
          "dash": "solid"
         },
         "marker": {
          "symbol": "circle"
         },
         "mode": "lines+markers",
         "name": "United States of",
         "showlegend": true,
         "type": "scattergl",
         "x": [
          "2017",
          "2017",
          "2018",
          "2018",
          "2019",
          "2019",
          "2020",
          "2020",
          "2021",
          "2021",
          "2022",
          "2022"
         ],
         "xaxis": "x",
         "y": [
          112.4,
          112.4,
          115.1,
          115.1,
          117.2,
          117.2,
          118.7,
          118.7,
          124.3,
          124.3,
          134.2,
          134.2
         ],
         "yaxis": "y"
        },
        {
         "hovertemplate": "Country=Puerto Rico<br>Year=%{x}<br>Consumer Price (Index Base 10)=%{y}<extra></extra>",
         "legendgroup": "Puerto Rico",
         "line": {
          "color": "#B6E880",
          "dash": "solid"
         },
         "marker": {
          "symbol": "circle"
         },
         "mode": "lines+markers",
         "name": "Puerto Rico",
         "showlegend": true,
         "type": "scattergl",
         "x": [
          "2017",
          "2018",
          "2019",
          "2020",
          "2021",
          "2022"
         ],
         "xaxis": "x",
         "y": [
          106.7,
          108.1,
          108.2,
          107.6,
          110.2,
          115
         ],
         "yaxis": "y"
        },
        {
         "hovertemplate": "Country=Uruguay<br>Year=%{x}<br>Consumer Price (Index Base 10)=%{y}<extra></extra>",
         "legendgroup": "Uruguay",
         "line": {
          "color": "#FF97FF",
          "dash": "solid"
         },
         "marker": {
          "symbol": "circle"
         },
         "mode": "lines+markers",
         "name": "Uruguay",
         "showlegend": true,
         "type": "scattergl",
         "x": [
          "2017",
          "2018",
          "2019",
          "2020",
          "2021",
          "2022"
         ],
         "xaxis": "x",
         "y": [
          174.8,
          188.1,
          202.9,
          222.7,
          240,
          261.8
         ],
         "yaxis": "y"
        },
        {
         "hovertemplate": "Country=Uzbekistan<br>Year=%{x}<br>Consumer Price (Index Base 10)=%{y}<extra></extra>",
         "legendgroup": "Uzbekistan",
         "line": {
          "color": "#FECB52",
          "dash": "solid"
         },
         "marker": {
          "symbol": "circle"
         },
         "mode": "lines+markers",
         "name": "Uzbekistan",
         "showlegend": true,
         "type": "scattergl",
         "x": [
          "2017",
          "2018",
          "2019",
          "2020",
          "2021",
          "2022"
         ],
         "xaxis": "x",
         "y": [
          206.1,
          242.2,
          277.4,
          313,
          347,
          386.7
         ],
         "yaxis": "y"
        },
        {
         "hovertemplate": "Country=Vanuatu<br>Year=%{x}<br>Consumer Price (Index Base 10)=%{y}<extra></extra>",
         "legendgroup": "Vanuatu",
         "line": {
          "color": "#636efa",
          "dash": "solid"
         },
         "marker": {
          "symbol": "circle"
         },
         "mode": "lines+markers",
         "name": "Vanuatu",
         "showlegend": true,
         "type": "scattergl",
         "x": [
          "2017",
          "2018",
          "2019",
          "2020",
          "2021",
          "2022"
         ],
         "xaxis": "x",
         "y": [
          111.4,
          114,
          117.1,
          123.4,
          126.3,
          132.1
         ],
         "yaxis": "y"
        },
        {
         "hovertemplate": "Country=Venezuela (Bolivarian Rep.<br>Year=%{x}<br>Consumer Price (Index Base 10)=%{y}<extra></extra>",
         "legendgroup": "Venezuela (Bolivarian Rep.",
         "line": {
          "color": "#EF553B",
          "dash": "solid"
         },
         "marker": {
          "symbol": "circle"
         },
         "mode": "lines+markers",
         "name": "Venezuela (Bolivarian Rep.",
         "showlegend": true,
         "type": "scattergl",
         "x": [
          "2017",
          "2018",
          "2019",
          "2020",
          "2021",
          "2022"
         ],
         "xaxis": "x",
         "y": [
          14745.9,
          9654750.4,
          1931531712.7,
          47421947585.7,
          800725817552.9,
          2409493549038.6
         ],
         "yaxis": "y"
        },
        {
         "hovertemplate": "Country=Viet Nam<br>Year=%{x}<br>Consumer Price (Index Base 10)=%{y}<extra></extra>",
         "legendgroup": "Viet Nam",
         "line": {
          "color": "#00cc96",
          "dash": "solid"
         },
         "marker": {
          "symbol": "circle"
         },
         "mode": "lines+markers",
         "name": "Viet Nam",
         "showlegend": true,
         "type": "scattergl",
         "x": [
          "2017",
          "2018",
          "2019",
          "2020",
          "2021",
          "2022"
         ],
         "xaxis": "x",
         "y": [
          153.6,
          159.1,
          163.5,
          168.8,
          171.9,
          177.4
         ],
         "yaxis": "y"
        },
        {
         "hovertemplate": "Country=Yemen<br>Year=%{x}<br>Consumer Price (Index Base 10)=%{y}<extra></extra>",
         "legendgroup": "Yemen",
         "line": {
          "color": "#ab63fa",
          "dash": "solid"
         },
         "marker": {
          "symbol": "circle"
         },
         "mode": "lines+markers",
         "name": "Yemen",
         "showlegend": true,
         "type": "scattergl",
         "x": [
          "2017",
          "2018",
          "2019",
          "2020",
          "2021",
          "2022"
         ],
         "xaxis": "x",
         "y": [
          304.2,
          406.6,
          469.4,
          561.3,
          707.4,
          913
         ],
         "yaxis": "y"
        },
        {
         "hovertemplate": "Country=Zambia<br>Year=%{x}<br>Consumer Price (Index Base 10)=%{y}<extra></extra>",
         "legendgroup": "Zambia",
         "line": {
          "color": "#FFA15A",
          "dash": "solid"
         },
         "marker": {
          "symbol": "circle"
         },
         "mode": "lines+markers",
         "name": "Zambia",
         "showlegend": true,
         "type": "scattergl",
         "x": [
          "2017",
          "2018",
          "2019",
          "2020",
          "2021",
          "2022"
         ],
         "xaxis": "x",
         "y": [
          184.7,
          198.6,
          216.8,
          250.9,
          306.1,
          339.7
         ],
         "yaxis": "y"
        },
        {
         "hovertemplate": "Country=Zimbabwe<br>Year=%{x}<br>Consumer Price (Index Base 10)=%{y}<extra></extra>",
         "legendgroup": "Zimbabwe",
         "line": {
          "color": "#19d3f3",
          "dash": "solid"
         },
         "marker": {
          "symbol": "circle"
         },
         "mode": "lines+markers",
         "name": "Zimbabwe",
         "showlegend": true,
         "type": "scattergl",
         "x": [
          "2017",
          "2018",
          "2019",
          "2020",
          "2021",
          "2022"
         ],
         "xaxis": "x",
         "y": [
          105.5,
          116.7,
          414.6,
          2725,
          5410.4,
          15874
         ],
         "yaxis": "y"
        },
        {
         "hovertemplate": "Country=World<br>Year=%{x}<br>Consumer Price (Index Base 10)=%{y}<extra></extra>",
         "legendgroup": "World",
         "line": {
          "color": "#FF6692",
          "dash": "solid"
         },
         "marker": {
          "symbol": "circle"
         },
         "mode": "lines+markers",
         "name": "World",
         "showlegend": true,
         "type": "scattergl",
         "x": [
          "2017",
          "2018",
          "2019",
          "2020",
          "2021",
          "2022"
         ],
         "xaxis": "x",
         "y": [
          122.1,
          126,
          129.8,
          133.4,
          139.7,
          151.6
         ],
         "yaxis": "y"
        },
        {
         "hovertemplate": "Country=Africa<br>Year=%{x}<br>Consumer Price (Index Base 10)=%{y}<extra></extra>",
         "legendgroup": "Africa",
         "line": {
          "color": "#B6E880",
          "dash": "solid"
         },
         "marker": {
          "symbol": "circle"
         },
         "mode": "lines+markers",
         "name": "Africa",
         "showlegend": true,
         "type": "scattergl",
         "x": [
          "2017",
          "2018",
          "2019",
          "2020",
          "2021",
          "2022"
         ],
         "xaxis": "x",
         "y": [
          185.5,
          207.7,
          230.8,
          270.6,
          330.3,
          388.6
         ],
         "yaxis": "y"
        },
        {
         "hovertemplate": "Country=Northern Africa<br>Year=%{x}<br>Consumer Price (Index Base 10)=%{y}<extra></extra>",
         "legendgroup": "Northern Africa",
         "line": {
          "color": "#FF97FF",
          "dash": "solid"
         },
         "marker": {
          "symbol": "circle"
         },
         "mode": "lines+markers",
         "name": "Northern Africa",
         "showlegend": true,
         "type": "scattergl",
         "x": [
          "2017",
          "2018",
          "2019",
          "2020",
          "2021",
          "2022"
         ],
         "xaxis": "x",
         "y": [
          196.6,
          232.4,
          260.3,
          315.5,
          452,
          549.1
         ],
         "yaxis": "y"
        },
        {
         "hovertemplate": "Country=Sub-Saharan Africa<br>Year=%{x}<br>Consumer Price (Index Base 10)=%{y}<extra></extra>",
         "legendgroup": "Sub-Saharan Africa",
         "line": {
          "color": "#FECB52",
          "dash": "solid"
         },
         "marker": {
          "symbol": "circle"
         },
         "mode": "lines+markers",
         "name": "Sub-Saharan Africa",
         "showlegend": true,
         "type": "scattergl",
         "x": [
          "2017",
          "2018",
          "2019",
          "2020",
          "2021",
          "2022"
         ],
         "xaxis": "x",
         "y": [
          180.2,
          196.2,
          217.3,
          250.5,
          280.5,
          324.8
         ],
         "yaxis": "y"
        },
        {
         "hovertemplate": "Country=Eastern Africa<br>Year=%{x}<br>Consumer Price (Index Base 10)=%{y}<extra></extra>",
         "legendgroup": "Eastern Africa",
         "line": {
          "color": "#636efa",
          "dash": "solid"
         },
         "marker": {
          "symbol": "circle"
         },
         "mode": "lines+markers",
         "name": "Eastern Africa",
         "showlegend": true,
         "type": "scattergl",
         "x": [
          "2017",
          "2018",
          "2019",
          "2020",
          "2021",
          "2022"
         ],
         "xaxis": "x",
         "y": [
          195.6,
          210.8,
          257.8,
          353.1,
          406.9,
          499.1
         ],
         "yaxis": "y"
        },
        {
         "hovertemplate": "Country=Middle Africa<br>Year=%{x}<br>Consumer Price (Index Base 10)=%{y}<extra></extra>",
         "legendgroup": "Middle Africa",
         "line": {
          "color": "#EF553B",
          "dash": "solid"
         },
         "marker": {
          "symbol": "circle"
         },
         "mode": "lines+markers",
         "name": "Middle Africa",
         "showlegend": true,
         "type": "scattergl",
         "x": [
          "2017",
          "2018",
          "2019",
          "2020",
          "2021",
          "2022"
         ],
         "xaxis": "x",
         "y": [
          188.8,
          217,
          237,
          268.2,
          304.4,
          343.6
         ],
         "yaxis": "y"
        },
        {
         "hovertemplate": "Country=Southern Africa<br>Year=%{x}<br>Consumer Price (Index Base 10)=%{y}<extra></extra>",
         "legendgroup": "Southern Africa",
         "line": {
          "color": "#00cc96",
          "dash": "solid"
         },
         "marker": {
          "symbol": "circle"
         },
         "mode": "lines+markers",
         "name": "Southern Africa",
         "showlegend": true,
         "type": "scattergl",
         "x": [
          "2017",
          "2018",
          "2019",
          "2020",
          "2021",
          "2022"
         ],
         "xaxis": "x",
         "y": [
          145.6,
          152.2,
          158.4,
          163.5,
          171,
          183.1
         ],
         "yaxis": "y"
        },
        {
         "hovertemplate": "Country=Western Africa<br>Year=%{x}<br>Consumer Price (Index Base 10)=%{y}<extra></extra>",
         "legendgroup": "Western Africa",
         "line": {
          "color": "#ab63fa",
          "dash": "solid"
         },
         "marker": {
          "symbol": "circle"
         },
         "mode": "lines+markers",
         "name": "Western Africa",
         "showlegend": true,
         "type": "scattergl",
         "x": [
          "2017",
          "2018",
          "2019",
          "2020",
          "2021",
          "2022"
         ],
         "xaxis": "x",
         "y": [
          192.7,
          211.5,
          229.9,
          254.3,
          288.1,
          337.9
         ],
         "yaxis": "y"
        },
        {
         "hovertemplate": "Country=Americas<br>Year=%{x}<br>Consumer Price (Index Base 10)=%{y}<extra></extra>",
         "legendgroup": "Americas",
         "line": {
          "color": "#FFA15A",
          "dash": "solid"
         },
         "marker": {
          "symbol": "circle"
         },
         "mode": "lines+markers",
         "name": "Americas",
         "showlegend": true,
         "type": "scattergl",
         "x": [
          "2017",
          "2018",
          "2019",
          "2020",
          "2021",
          "2022"
         ],
         "xaxis": "x",
         "y": [
          120.9,
          125.1,
          129.3,
          132.4,
          140.7,
          154.3
         ],
         "yaxis": "y"
        },
        {
         "hovertemplate": "Country=Northern America<br>Year=%{x}<br>Consumer Price (Index Base 10)=%{y}<extra></extra>",
         "legendgroup": "Northern America",
         "line": {
          "color": "#19d3f3",
          "dash": "solid"
         },
         "marker": {
          "symbol": "circle"
         },
         "mode": "lines+markers",
         "name": "Northern America",
         "showlegend": true,
         "type": "scattergl",
         "x": [
          "2017",
          "2018",
          "2019",
          "2020",
          "2021",
          "2022"
         ],
         "xaxis": "x",
         "y": [
          112.4,
          115.1,
          117.2,
          118.6,
          124,
          133.8
         ],
         "yaxis": "y"
        },
        {
         "hovertemplate": "Country=Latin America and<br>Year=%{x}<br>Consumer Price (Index Base 10)=%{y}<extra></extra>",
         "legendgroup": "Latin America and",
         "line": {
          "color": "#FF6692",
          "dash": "solid"
         },
         "marker": {
          "symbol": "circle"
         },
         "mode": "lines+markers",
         "name": "Latin America and",
         "showlegend": true,
         "type": "scattergl",
         "x": [
          "2017",
          "2018",
          "2019",
          "2020",
          "2021",
          "2022"
         ],
         "xaxis": "x",
         "y": [
          159.7,
          171.8,
          187.9,
          202.2,
          229,
          268.8
         ],
         "yaxis": "y"
        },
        {
         "hovertemplate": "Country=Caribbean<br>Year=%{x}<br>Consumer Price (Index Base 10)=%{y}<extra></extra>",
         "legendgroup": "Caribbean",
         "line": {
          "color": "#B6E880",
          "dash": "solid"
         },
         "marker": {
          "symbol": "circle"
         },
         "mode": "lines+markers",
         "name": "Caribbean",
         "showlegend": true,
         "type": "scattergl",
         "x": [
          "2017",
          "2018",
          "2019",
          "2020",
          "2021",
          "2022"
         ],
         "xaxis": "x",
         "y": [
          134.4,
          140.6,
          146.5,
          156.5,
          241.6,
          315.3
         ],
         "yaxis": "y"
        },
        {
         "hovertemplate": "Country=Central America<br>Year=%{x}<br>Consumer Price (Index Base 10)=%{y}<extra></extra>",
         "legendgroup": "Central America",
         "line": {
          "color": "#FF97FF",
          "dash": "solid"
         },
         "marker": {
          "symbol": "circle"
         },
         "mode": "lines+markers",
         "name": "Central America",
         "showlegend": true,
         "type": "scattergl",
         "x": [
          "2017",
          "2018",
          "2019",
          "2020",
          "2021",
          "2022"
         ],
         "xaxis": "x",
         "y": [
          129.5,
          135.3,
          139.9,
          144.1,
          151.6,
          163.3
         ],
         "yaxis": "y"
        },
        {
         "hovertemplate": "Country=South America<br>Year=%{x}<br>Consumer Price (Index Base 10)=%{y}<extra></extra>",
         "legendgroup": "South America",
         "line": {
          "color": "#FECB52",
          "dash": "solid"
         },
         "marker": {
          "symbol": "circle"
         },
         "mode": "lines+markers",
         "name": "South America",
         "showlegend": true,
         "type": "scattergl",
         "x": [
          "2017",
          "2018",
          "2019",
          "2020",
          "2021",
          "2022"
         ],
         "xaxis": "x",
         "y": [
          175.3,
          191.3,
          215,
          235.8,
          267.9,
          322.7
         ],
         "yaxis": "y"
        },
        {
         "hovertemplate": "Country=Asia<br>Year=%{x}<br>Consumer Price (Index Base 10)=%{y}<extra></extra>",
         "legendgroup": "Asia",
         "line": {
          "color": "#636efa",
          "dash": "solid"
         },
         "marker": {
          "symbol": "circle"
         },
         "mode": "lines+markers",
         "name": "Asia",
         "showlegend": true,
         "type": "scattergl",
         "x": [
          "2017",
          "2018",
          "2019",
          "2020",
          "2021",
          "2022"
         ],
         "xaxis": "x",
         "y": [
          124.7,
          128.5,
          132.6,
          136.9,
          141.1,
          150.4
         ],
         "yaxis": "y"
        },
        {
         "hovertemplate": "Country=Central Asia<br>Year=%{x}<br>Consumer Price (Index Base 10)=%{y}<extra></extra>",
         "legendgroup": "Central Asia",
         "line": {
          "color": "#EF553B",
          "dash": "solid"
         },
         "marker": {
          "symbol": "circle"
         },
         "mode": "lines+markers",
         "name": "Central Asia",
         "showlegend": true,
         "type": "scattergl",
         "x": [
          "2017",
          "2018",
          "2019",
          "2020",
          "2021",
          "2022"
         ],
         "xaxis": "x",
         "y": [
          175,
          192.2,
          207.1,
          224.7,
          247.2,
          280.1
         ],
         "yaxis": "y"
        },
        {
         "hovertemplate": "Country=Eastern Asia<br>Year=%{x}<br>Consumer Price (Index Base 10)=%{y}<extra></extra>",
         "legendgroup": "Eastern Asia",
         "line": {
          "color": "#00cc96",
          "dash": "solid"
         },
         "marker": {
          "symbol": "circle"
         },
         "mode": "lines+markers",
         "name": "Eastern Asia",
         "showlegend": true,
         "type": "scattergl",
         "x": [
          "2017",
          "2018",
          "2019",
          "2020",
          "2021",
          "2022"
         ],
         "xaxis": "x",
         "y": [
          114.1,
          116,
          118.5,
          120.5,
          121.4,
          124.2
         ],
         "yaxis": "y"
        },
        {
         "hovertemplate": "Country=South-eastern Asia<br>Year=%{x}<br>Consumer Price (Index Base 10)=%{y}<extra></extra>",
         "legendgroup": "South-eastern Asia",
         "line": {
          "color": "#ab63fa",
          "dash": "solid"
         },
         "marker": {
          "symbol": "circle"
         },
         "mode": "lines+markers",
         "name": "South-eastern Asia",
         "showlegend": true,
         "type": "scattergl",
         "x": [
          "2017",
          "2018",
          "2019",
          "2020",
          "2021",
          "2022"
         ],
         "xaxis": "x",
         "y": [
          128.2,
          131.6,
          134.3,
          135.9,
          138.9,
          146
         ],
         "yaxis": "y"
        },
        {
         "hovertemplate": "Country=Southern Asia<br>Year=%{x}<br>Consumer Price (Index Base 10)=%{y}<extra></extra>",
         "legendgroup": "Southern Asia",
         "line": {
          "color": "#FFA15A",
          "dash": "solid"
         },
         "marker": {
          "symbol": "circle"
         },
         "mode": "lines+markers",
         "name": "Southern Asia",
         "showlegend": true,
         "type": "scattergl",
         "x": [
          "2017",
          "2018",
          "2019",
          "2020",
          "2021",
          "2022"
         ],
         "xaxis": "x",
         "y": [
          178.1,
          190.6,
          206.8,
          227.1,
          249.7,
          282
         ],
         "yaxis": "y"
        },
        {
         "hovertemplate": "Country=Western Asia<br>Year=%{x}<br>Consumer Price (Index Base 10)=%{y}<extra></extra>",
         "legendgroup": "Western Asia",
         "line": {
          "color": "#19d3f3",
          "dash": "solid"
         },
         "marker": {
          "symbol": "circle"
         },
         "mode": "lines+markers",
         "name": "Western Asia",
         "showlegend": true,
         "type": "scattergl",
         "x": [
          "2017",
          "2018",
          "2019",
          "2020",
          "2021",
          "2022"
         ],
         "xaxis": "x",
         "y": [
          134.7,
          143.5,
          149.8,
          159.1,
          175.5,
          227.1
         ],
         "yaxis": "y"
        },
        {
         "hovertemplate": "Country=Europe<br>Year=%{x}<br>Consumer Price (Index Base 10)=%{y}<extra></extra>",
         "legendgroup": "Europe",
         "line": {
          "color": "#FF6692",
          "dash": "solid"
         },
         "marker": {
          "symbol": "circle"
         },
         "mode": "lines+markers",
         "name": "Europe",
         "showlegend": true,
         "type": "scattergl",
         "x": [
          "2017",
          "2018",
          "2019",
          "2020",
          "2021",
          "2022"
         ],
         "xaxis": "x",
         "y": [
          114.8,
          117.1,
          119,
          120,
          123.6,
          134.8
         ],
         "yaxis": "y"
        },
        {
         "hovertemplate": "Country=Eastern Europe<br>Year=%{x}<br>Consumer Price (Index Base 10)=%{y}<extra></extra>",
         "legendgroup": "Eastern Europe",
         "line": {
          "color": "#B6E880",
          "dash": "solid"
         },
         "marker": {
          "symbol": "circle"
         },
         "mode": "lines+markers",
         "name": "Eastern Europe",
         "showlegend": true,
         "type": "scattergl",
         "x": [
          "2017",
          "2018",
          "2019",
          "2020",
          "2021",
          "2022"
         ],
         "xaxis": "x",
         "y": [
          148.5,
          153,
          158.9,
          164.1,
          173.8,
          198.6
         ],
         "yaxis": "y"
        },
        {
         "hovertemplate": "Country=Northern Europe<br>Year=%{x}<br>Consumer Price (Index Base 10)=%{y}<extra></extra>",
         "legendgroup": "Northern Europe",
         "line": {
          "color": "#FF97FF",
          "dash": "solid"
         },
         "marker": {
          "symbol": "circle"
         },
         "mode": "lines+markers",
         "name": "Northern Europe",
         "showlegend": true,
         "type": "scattergl",
         "x": [
          "2017",
          "2018",
          "2019",
          "2020",
          "2021",
          "2022"
         ],
         "xaxis": "x",
         "y": [
          113.2,
          115.6,
          117.5,
          118.4,
          121.5,
          132
         ],
         "yaxis": "y"
        },
        {
         "hovertemplate": "Country=Southern Europe<br>Year=%{x}<br>Consumer Price (Index Base 10)=%{y}<extra></extra>",
         "legendgroup": "Southern Europe",
         "line": {
          "color": "#FECB52",
          "dash": "solid"
         },
         "marker": {
          "symbol": "circle"
         },
         "mode": "lines+markers",
         "name": "Southern Europe",
         "showlegend": true,
         "type": "scattergl",
         "x": [
          "2017",
          "2018",
          "2019",
          "2020",
          "2021",
          "2022"
         ],
         "xaxis": "x",
         "y": [
          108.8,
          110.4,
          111.1,
          110.9,
          113.3,
          123.2
         ],
         "yaxis": "y"
        },
        {
         "hovertemplate": "Country=Western Europe<br>Year=%{x}<br>Consumer Price (Index Base 10)=%{y}<extra></extra>",
         "legendgroup": "Western Europe",
         "line": {
          "color": "#636efa",
          "dash": "solid"
         },
         "marker": {
          "symbol": "circle"
         },
         "mode": "lines+markers",
         "name": "Western Europe",
         "showlegend": true,
         "type": "scattergl",
         "x": [
          "2017",
          "2018",
          "2019",
          "2020",
          "2021",
          "2022"
         ],
         "xaxis": "x",
         "y": [
          108.8,
          110.9,
          112.4,
          112.9,
          115.8,
          124.7
         ],
         "yaxis": "y"
        },
        {
         "hovertemplate": "Country=Oceania<br>Year=%{x}<br>Consumer Price (Index Base 10)=%{y}<extra></extra>",
         "legendgroup": "Oceania",
         "line": {
          "color": "#EF553B",
          "dash": "solid"
         },
         "marker": {
          "symbol": "circle"
         },
         "mode": "lines+markers",
         "name": "Oceania",
         "showlegend": true,
         "type": "scattergl",
         "x": [
          "2017",
          "2018",
          "2019",
          "2020",
          "2021",
          "2022"
         ],
         "xaxis": "x",
         "y": [
          115.4,
          117.6,
          119.5,
          120.7,
          124.3,
          132.6
         ],
         "yaxis": "y"
        }
       ],
       "layout": {
        "legend": {
         "title": {
          "text": "Country"
         },
         "tracegroupgap": 0
        },
        "template": {
         "data": {
          "bar": [
           {
            "error_x": {
             "color": "#2a3f5f"
            },
            "error_y": {
             "color": "#2a3f5f"
            },
            "marker": {
             "line": {
              "color": "#E5ECF6",
              "width": 0.5
             },
             "pattern": {
              "fillmode": "overlay",
              "size": 10,
              "solidity": 0.2
             }
            },
            "type": "bar"
           }
          ],
          "barpolar": [
           {
            "marker": {
             "line": {
              "color": "#E5ECF6",
              "width": 0.5
             },
             "pattern": {
              "fillmode": "overlay",
              "size": 10,
              "solidity": 0.2
             }
            },
            "type": "barpolar"
           }
          ],
          "carpet": [
           {
            "aaxis": {
             "endlinecolor": "#2a3f5f",
             "gridcolor": "white",
             "linecolor": "white",
             "minorgridcolor": "white",
             "startlinecolor": "#2a3f5f"
            },
            "baxis": {
             "endlinecolor": "#2a3f5f",
             "gridcolor": "white",
             "linecolor": "white",
             "minorgridcolor": "white",
             "startlinecolor": "#2a3f5f"
            },
            "type": "carpet"
           }
          ],
          "choropleth": [
           {
            "colorbar": {
             "outlinewidth": 0,
             "ticks": ""
            },
            "type": "choropleth"
           }
          ],
          "contour": [
           {
            "colorbar": {
             "outlinewidth": 0,
             "ticks": ""
            },
            "colorscale": [
             [
              0,
              "#0d0887"
             ],
             [
              0.1111111111111111,
              "#46039f"
             ],
             [
              0.2222222222222222,
              "#7201a8"
             ],
             [
              0.3333333333333333,
              "#9c179e"
             ],
             [
              0.4444444444444444,
              "#bd3786"
             ],
             [
              0.5555555555555556,
              "#d8576b"
             ],
             [
              0.6666666666666666,
              "#ed7953"
             ],
             [
              0.7777777777777778,
              "#fb9f3a"
             ],
             [
              0.8888888888888888,
              "#fdca26"
             ],
             [
              1,
              "#f0f921"
             ]
            ],
            "type": "contour"
           }
          ],
          "contourcarpet": [
           {
            "colorbar": {
             "outlinewidth": 0,
             "ticks": ""
            },
            "type": "contourcarpet"
           }
          ],
          "heatmap": [
           {
            "colorbar": {
             "outlinewidth": 0,
             "ticks": ""
            },
            "colorscale": [
             [
              0,
              "#0d0887"
             ],
             [
              0.1111111111111111,
              "#46039f"
             ],
             [
              0.2222222222222222,
              "#7201a8"
             ],
             [
              0.3333333333333333,
              "#9c179e"
             ],
             [
              0.4444444444444444,
              "#bd3786"
             ],
             [
              0.5555555555555556,
              "#d8576b"
             ],
             [
              0.6666666666666666,
              "#ed7953"
             ],
             [
              0.7777777777777778,
              "#fb9f3a"
             ],
             [
              0.8888888888888888,
              "#fdca26"
             ],
             [
              1,
              "#f0f921"
             ]
            ],
            "type": "heatmap"
           }
          ],
          "heatmapgl": [
           {
            "colorbar": {
             "outlinewidth": 0,
             "ticks": ""
            },
            "colorscale": [
             [
              0,
              "#0d0887"
             ],
             [
              0.1111111111111111,
              "#46039f"
             ],
             [
              0.2222222222222222,
              "#7201a8"
             ],
             [
              0.3333333333333333,
              "#9c179e"
             ],
             [
              0.4444444444444444,
              "#bd3786"
             ],
             [
              0.5555555555555556,
              "#d8576b"
             ],
             [
              0.6666666666666666,
              "#ed7953"
             ],
             [
              0.7777777777777778,
              "#fb9f3a"
             ],
             [
              0.8888888888888888,
              "#fdca26"
             ],
             [
              1,
              "#f0f921"
             ]
            ],
            "type": "heatmapgl"
           }
          ],
          "histogram": [
           {
            "marker": {
             "pattern": {
              "fillmode": "overlay",
              "size": 10,
              "solidity": 0.2
             }
            },
            "type": "histogram"
           }
          ],
          "histogram2d": [
           {
            "colorbar": {
             "outlinewidth": 0,
             "ticks": ""
            },
            "colorscale": [
             [
              0,
              "#0d0887"
             ],
             [
              0.1111111111111111,
              "#46039f"
             ],
             [
              0.2222222222222222,
              "#7201a8"
             ],
             [
              0.3333333333333333,
              "#9c179e"
             ],
             [
              0.4444444444444444,
              "#bd3786"
             ],
             [
              0.5555555555555556,
              "#d8576b"
             ],
             [
              0.6666666666666666,
              "#ed7953"
             ],
             [
              0.7777777777777778,
              "#fb9f3a"
             ],
             [
              0.8888888888888888,
              "#fdca26"
             ],
             [
              1,
              "#f0f921"
             ]
            ],
            "type": "histogram2d"
           }
          ],
          "histogram2dcontour": [
           {
            "colorbar": {
             "outlinewidth": 0,
             "ticks": ""
            },
            "colorscale": [
             [
              0,
              "#0d0887"
             ],
             [
              0.1111111111111111,
              "#46039f"
             ],
             [
              0.2222222222222222,
              "#7201a8"
             ],
             [
              0.3333333333333333,
              "#9c179e"
             ],
             [
              0.4444444444444444,
              "#bd3786"
             ],
             [
              0.5555555555555556,
              "#d8576b"
             ],
             [
              0.6666666666666666,
              "#ed7953"
             ],
             [
              0.7777777777777778,
              "#fb9f3a"
             ],
             [
              0.8888888888888888,
              "#fdca26"
             ],
             [
              1,
              "#f0f921"
             ]
            ],
            "type": "histogram2dcontour"
           }
          ],
          "mesh3d": [
           {
            "colorbar": {
             "outlinewidth": 0,
             "ticks": ""
            },
            "type": "mesh3d"
           }
          ],
          "parcoords": [
           {
            "line": {
             "colorbar": {
              "outlinewidth": 0,
              "ticks": ""
             }
            },
            "type": "parcoords"
           }
          ],
          "pie": [
           {
            "automargin": true,
            "type": "pie"
           }
          ],
          "scatter": [
           {
            "fillpattern": {
             "fillmode": "overlay",
             "size": 10,
             "solidity": 0.2
            },
            "type": "scatter"
           }
          ],
          "scatter3d": [
           {
            "line": {
             "colorbar": {
              "outlinewidth": 0,
              "ticks": ""
             }
            },
            "marker": {
             "colorbar": {
              "outlinewidth": 0,
              "ticks": ""
             }
            },
            "type": "scatter3d"
           }
          ],
          "scattercarpet": [
           {
            "marker": {
             "colorbar": {
              "outlinewidth": 0,
              "ticks": ""
             }
            },
            "type": "scattercarpet"
           }
          ],
          "scattergeo": [
           {
            "marker": {
             "colorbar": {
              "outlinewidth": 0,
              "ticks": ""
             }
            },
            "type": "scattergeo"
           }
          ],
          "scattergl": [
           {
            "marker": {
             "colorbar": {
              "outlinewidth": 0,
              "ticks": ""
             }
            },
            "type": "scattergl"
           }
          ],
          "scattermapbox": [
           {
            "marker": {
             "colorbar": {
              "outlinewidth": 0,
              "ticks": ""
             }
            },
            "type": "scattermapbox"
           }
          ],
          "scatterpolar": [
           {
            "marker": {
             "colorbar": {
              "outlinewidth": 0,
              "ticks": ""
             }
            },
            "type": "scatterpolar"
           }
          ],
          "scatterpolargl": [
           {
            "marker": {
             "colorbar": {
              "outlinewidth": 0,
              "ticks": ""
             }
            },
            "type": "scatterpolargl"
           }
          ],
          "scatterternary": [
           {
            "marker": {
             "colorbar": {
              "outlinewidth": 0,
              "ticks": ""
             }
            },
            "type": "scatterternary"
           }
          ],
          "surface": [
           {
            "colorbar": {
             "outlinewidth": 0,
             "ticks": ""
            },
            "colorscale": [
             [
              0,
              "#0d0887"
             ],
             [
              0.1111111111111111,
              "#46039f"
             ],
             [
              0.2222222222222222,
              "#7201a8"
             ],
             [
              0.3333333333333333,
              "#9c179e"
             ],
             [
              0.4444444444444444,
              "#bd3786"
             ],
             [
              0.5555555555555556,
              "#d8576b"
             ],
             [
              0.6666666666666666,
              "#ed7953"
             ],
             [
              0.7777777777777778,
              "#fb9f3a"
             ],
             [
              0.8888888888888888,
              "#fdca26"
             ],
             [
              1,
              "#f0f921"
             ]
            ],
            "type": "surface"
           }
          ],
          "table": [
           {
            "cells": {
             "fill": {
              "color": "#EBF0F8"
             },
             "line": {
              "color": "white"
             }
            },
            "header": {
             "fill": {
              "color": "#C8D4E3"
             },
             "line": {
              "color": "white"
             }
            },
            "type": "table"
           }
          ]
         },
         "layout": {
          "annotationdefaults": {
           "arrowcolor": "#2a3f5f",
           "arrowhead": 0,
           "arrowwidth": 1
          },
          "autotypenumbers": "strict",
          "coloraxis": {
           "colorbar": {
            "outlinewidth": 0,
            "ticks": ""
           }
          },
          "colorscale": {
           "diverging": [
            [
             0,
             "#8e0152"
            ],
            [
             0.1,
             "#c51b7d"
            ],
            [
             0.2,
             "#de77ae"
            ],
            [
             0.3,
             "#f1b6da"
            ],
            [
             0.4,
             "#fde0ef"
            ],
            [
             0.5,
             "#f7f7f7"
            ],
            [
             0.6,
             "#e6f5d0"
            ],
            [
             0.7,
             "#b8e186"
            ],
            [
             0.8,
             "#7fbc41"
            ],
            [
             0.9,
             "#4d9221"
            ],
            [
             1,
             "#276419"
            ]
           ],
           "sequential": [
            [
             0,
             "#0d0887"
            ],
            [
             0.1111111111111111,
             "#46039f"
            ],
            [
             0.2222222222222222,
             "#7201a8"
            ],
            [
             0.3333333333333333,
             "#9c179e"
            ],
            [
             0.4444444444444444,
             "#bd3786"
            ],
            [
             0.5555555555555556,
             "#d8576b"
            ],
            [
             0.6666666666666666,
             "#ed7953"
            ],
            [
             0.7777777777777778,
             "#fb9f3a"
            ],
            [
             0.8888888888888888,
             "#fdca26"
            ],
            [
             1,
             "#f0f921"
            ]
           ],
           "sequentialminus": [
            [
             0,
             "#0d0887"
            ],
            [
             0.1111111111111111,
             "#46039f"
            ],
            [
             0.2222222222222222,
             "#7201a8"
            ],
            [
             0.3333333333333333,
             "#9c179e"
            ],
            [
             0.4444444444444444,
             "#bd3786"
            ],
            [
             0.5555555555555556,
             "#d8576b"
            ],
            [
             0.6666666666666666,
             "#ed7953"
            ],
            [
             0.7777777777777778,
             "#fb9f3a"
            ],
            [
             0.8888888888888888,
             "#fdca26"
            ],
            [
             1,
             "#f0f921"
            ]
           ]
          },
          "colorway": [
           "#636efa",
           "#EF553B",
           "#00cc96",
           "#ab63fa",
           "#FFA15A",
           "#19d3f3",
           "#FF6692",
           "#B6E880",
           "#FF97FF",
           "#FECB52"
          ],
          "font": {
           "color": "#2a3f5f"
          },
          "geo": {
           "bgcolor": "white",
           "lakecolor": "white",
           "landcolor": "#E5ECF6",
           "showlakes": true,
           "showland": true,
           "subunitcolor": "white"
          },
          "hoverlabel": {
           "align": "left"
          },
          "hovermode": "closest",
          "mapbox": {
           "style": "light"
          },
          "paper_bgcolor": "white",
          "plot_bgcolor": "#E5ECF6",
          "polar": {
           "angularaxis": {
            "gridcolor": "white",
            "linecolor": "white",
            "ticks": ""
           },
           "bgcolor": "#E5ECF6",
           "radialaxis": {
            "gridcolor": "white",
            "linecolor": "white",
            "ticks": ""
           }
          },
          "scene": {
           "xaxis": {
            "backgroundcolor": "#E5ECF6",
            "gridcolor": "white",
            "gridwidth": 2,
            "linecolor": "white",
            "showbackground": true,
            "ticks": "",
            "zerolinecolor": "white"
           },
           "yaxis": {
            "backgroundcolor": "#E5ECF6",
            "gridcolor": "white",
            "gridwidth": 2,
            "linecolor": "white",
            "showbackground": true,
            "ticks": "",
            "zerolinecolor": "white"
           },
           "zaxis": {
            "backgroundcolor": "#E5ECF6",
            "gridcolor": "white",
            "gridwidth": 2,
            "linecolor": "white",
            "showbackground": true,
            "ticks": "",
            "zerolinecolor": "white"
           }
          },
          "shapedefaults": {
           "line": {
            "color": "#2a3f5f"
           }
          },
          "ternary": {
           "aaxis": {
            "gridcolor": "white",
            "linecolor": "white",
            "ticks": ""
           },
           "baxis": {
            "gridcolor": "white",
            "linecolor": "white",
            "ticks": ""
           },
           "bgcolor": "#E5ECF6",
           "caxis": {
            "gridcolor": "white",
            "linecolor": "white",
            "ticks": ""
           }
          },
          "title": {
           "x": 0.05
          },
          "xaxis": {
           "automargin": true,
           "gridcolor": "white",
           "linecolor": "white",
           "ticks": "",
           "title": {
            "standoff": 15
           },
           "zerolinecolor": "white",
           "zerolinewidth": 2
          },
          "yaxis": {
           "automargin": true,
           "gridcolor": "white",
           "linecolor": "white",
           "ticks": "",
           "title": {
            "standoff": 15
           },
           "zerolinecolor": "white",
           "zerolinewidth": 2
          }
         }
        },
        "title": {
         "text": "Impact of Covid-19 on Consumer Price"
        },
        "xaxis": {
         "anchor": "y",
         "domain": [
          0,
          1
         ],
         "title": {
          "text": "Year"
         }
        },
        "yaxis": {
         "anchor": "x",
         "domain": [
          0,
          1
         ],
         "title": {
          "text": "Consumer Price (Index Base 10)"
         }
        }
       }
      }
     },
     "metadata": {},
     "output_type": "display_data"
    }
   ],
   "source": [
    "create_consumer_price_chart(melted_data)"
   ]
  },
  {
   "cell_type": "code",
   "execution_count": 144,
   "metadata": {},
   "outputs": [
    {
     "data": {
      "text/html": [
       "<div>\n",
       "<style scoped>\n",
       "    .dataframe tbody tr th:only-of-type {\n",
       "        vertical-align: middle;\n",
       "    }\n",
       "\n",
       "    .dataframe tbody tr th {\n",
       "        vertical-align: top;\n",
       "    }\n",
       "\n",
       "    .dataframe thead th {\n",
       "        text-align: right;\n",
       "    }\n",
       "</style>\n",
       "<table border=\"1\" class=\"dataframe\">\n",
       "  <thead>\n",
       "    <tr style=\"text-align: right;\">\n",
       "      <th></th>\n",
       "      <th>Country</th>\n",
       "      <th>2017</th>\n",
       "      <th>2018</th>\n",
       "      <th>2019</th>\n",
       "      <th>2020</th>\n",
       "      <th>2021</th>\n",
       "      <th>2022</th>\n",
       "    </tr>\n",
       "  </thead>\n",
       "  <tbody>\n",
       "    <tr>\n",
       "      <th>0</th>\n",
       "      <td>Afghanistan</td>\n",
       "      <td>67.9</td>\n",
       "      <td>68.3</td>\n",
       "      <td>69.9</td>\n",
       "      <td>73.8</td>\n",
       "      <td>77.6</td>\n",
       "      <td>88.2</td>\n",
       "    </tr>\n",
       "    <tr>\n",
       "      <th>1</th>\n",
       "      <td>Albania</td>\n",
       "      <td>115.0</td>\n",
       "      <td>117.4</td>\n",
       "      <td>119.0</td>\n",
       "      <td>120.9</td>\n",
       "      <td>123.4</td>\n",
       "      <td>131.7</td>\n",
       "    </tr>\n",
       "    <tr>\n",
       "      <th>2</th>\n",
       "      <td>Algeria</td>\n",
       "      <td>142.4</td>\n",
       "      <td>148.5</td>\n",
       "      <td>151.4</td>\n",
       "      <td>155.0</td>\n",
       "      <td>166.2</td>\n",
       "      <td>181.6</td>\n",
       "    </tr>\n",
       "    <tr>\n",
       "      <th>3</th>\n",
       "      <td>Andorra</td>\n",
       "      <td>105.5</td>\n",
       "      <td>106.5</td>\n",
       "      <td>107.1</td>\n",
       "      <td>107.2</td>\n",
       "      <td>109.0</td>\n",
       "      <td>115.8</td>\n",
       "    </tr>\n",
       "    <tr>\n",
       "      <th>4</th>\n",
       "      <td>Angola</td>\n",
       "      <td>270.6</td>\n",
       "      <td>323.7</td>\n",
       "      <td>379.0</td>\n",
       "      <td>463.5</td>\n",
       "      <td>582.9</td>\n",
       "      <td>707.4</td>\n",
       "    </tr>\n",
       "    <tr>\n",
       "      <th>...</th>\n",
       "      <td>...</td>\n",
       "      <td>...</td>\n",
       "      <td>...</td>\n",
       "      <td>...</td>\n",
       "      <td>...</td>\n",
       "      <td>...</td>\n",
       "      <td>...</td>\n",
       "    </tr>\n",
       "    <tr>\n",
       "      <th>238</th>\n",
       "      <td>Eastern Europe</td>\n",
       "      <td>148.5</td>\n",
       "      <td>153.0</td>\n",
       "      <td>158.9</td>\n",
       "      <td>164.1</td>\n",
       "      <td>173.8</td>\n",
       "      <td>198.6</td>\n",
       "    </tr>\n",
       "    <tr>\n",
       "      <th>239</th>\n",
       "      <td>Northern Europe</td>\n",
       "      <td>113.2</td>\n",
       "      <td>115.6</td>\n",
       "      <td>117.5</td>\n",
       "      <td>118.4</td>\n",
       "      <td>121.5</td>\n",
       "      <td>132.0</td>\n",
       "    </tr>\n",
       "    <tr>\n",
       "      <th>240</th>\n",
       "      <td>Southern Europe</td>\n",
       "      <td>108.8</td>\n",
       "      <td>110.4</td>\n",
       "      <td>111.1</td>\n",
       "      <td>110.9</td>\n",
       "      <td>113.3</td>\n",
       "      <td>123.2</td>\n",
       "    </tr>\n",
       "    <tr>\n",
       "      <th>241</th>\n",
       "      <td>Western Europe</td>\n",
       "      <td>108.8</td>\n",
       "      <td>110.9</td>\n",
       "      <td>112.4</td>\n",
       "      <td>112.9</td>\n",
       "      <td>115.8</td>\n",
       "      <td>124.7</td>\n",
       "    </tr>\n",
       "    <tr>\n",
       "      <th>242</th>\n",
       "      <td>Oceania</td>\n",
       "      <td>115.4</td>\n",
       "      <td>117.6</td>\n",
       "      <td>119.5</td>\n",
       "      <td>120.7</td>\n",
       "      <td>124.3</td>\n",
       "      <td>132.6</td>\n",
       "    </tr>\n",
       "  </tbody>\n",
       "</table>\n",
       "<p>243 rows × 7 columns</p>\n",
       "</div>"
      ],
      "text/plain": [
       "             Country   2017   2018   2019   2020   2021   2022\n",
       "0        Afghanistan   67.9   68.3   69.9   73.8   77.6   88.2\n",
       "1            Albania  115.0  117.4  119.0  120.9  123.4  131.7\n",
       "2            Algeria  142.4  148.5  151.4  155.0  166.2  181.6\n",
       "3            Andorra  105.5  106.5  107.1  107.2  109.0  115.8\n",
       "4             Angola  270.6  323.7  379.0  463.5  582.9  707.4\n",
       "..               ...    ...    ...    ...    ...    ...    ...\n",
       "238   Eastern Europe  148.5  153.0  158.9  164.1  173.8  198.6\n",
       "239  Northern Europe  113.2  115.6  117.5  118.4  121.5  132.0\n",
       "240  Southern Europe  108.8  110.4  111.1  110.9  113.3  123.2\n",
       "241   Western Europe  108.8  110.9  112.4  112.9  115.8  124.7\n",
       "242          Oceania  115.4  117.6  119.5  120.7  124.3  132.6\n",
       "\n",
       "[243 rows x 7 columns]"
      ]
     },
     "execution_count": 144,
     "metadata": {},
     "output_type": "execute_result"
    }
   ],
   "source": [
    "filtered_data"
   ]
  },
  {
   "cell_type": "code",
   "execution_count": 92,
   "metadata": {},
   "outputs": [
    {
     "data": {
      "text/plain": [
       "Index(['2017', '2018', '2019', '2020', '2021', '2022'], dtype='object')"
      ]
     },
     "execution_count": 92,
     "metadata": {},
     "output_type": "execute_result"
    }
   ],
   "source": [
    "filtered_data.columns[1:]"
   ]
  },
  {
   "cell_type": "code",
   "execution_count": 94,
   "metadata": {},
   "outputs": [
    {
     "data": {
      "text/html": [
       "<div>\n",
       "<style scoped>\n",
       "    .dataframe tbody tr th:only-of-type {\n",
       "        vertical-align: middle;\n",
       "    }\n",
       "\n",
       "    .dataframe tbody tr th {\n",
       "        vertical-align: top;\n",
       "    }\n",
       "\n",
       "    .dataframe thead th {\n",
       "        text-align: right;\n",
       "    }\n",
       "</style>\n",
       "<table border=\"1\" class=\"dataframe\">\n",
       "  <thead>\n",
       "    <tr style=\"text-align: right;\">\n",
       "      <th></th>\n",
       "      <th>Country</th>\n",
       "      <th>Year</th>\n",
       "      <th>Consumer Price</th>\n",
       "    </tr>\n",
       "  </thead>\n",
       "  <tbody>\n",
       "    <tr>\n",
       "      <th>0</th>\n",
       "      <td>Afghanistan</td>\n",
       "      <td>2017</td>\n",
       "      <td>67.9</td>\n",
       "    </tr>\n",
       "    <tr>\n",
       "      <th>1</th>\n",
       "      <td>Albania</td>\n",
       "      <td>2017</td>\n",
       "      <td>115.0</td>\n",
       "    </tr>\n",
       "    <tr>\n",
       "      <th>2</th>\n",
       "      <td>Algeria</td>\n",
       "      <td>2017</td>\n",
       "      <td>142.4</td>\n",
       "    </tr>\n",
       "    <tr>\n",
       "      <th>3</th>\n",
       "      <td>Andorra</td>\n",
       "      <td>2017</td>\n",
       "      <td>105.5</td>\n",
       "    </tr>\n",
       "    <tr>\n",
       "      <th>4</th>\n",
       "      <td>Angola</td>\n",
       "      <td>2017</td>\n",
       "      <td>270.6</td>\n",
       "    </tr>\n",
       "    <tr>\n",
       "      <th>...</th>\n",
       "      <td>...</td>\n",
       "      <td>...</td>\n",
       "      <td>...</td>\n",
       "    </tr>\n",
       "    <tr>\n",
       "      <th>1453</th>\n",
       "      <td>Eastern Europe</td>\n",
       "      <td>2022</td>\n",
       "      <td>198.6</td>\n",
       "    </tr>\n",
       "    <tr>\n",
       "      <th>1454</th>\n",
       "      <td>Northern Europe</td>\n",
       "      <td>2022</td>\n",
       "      <td>132.0</td>\n",
       "    </tr>\n",
       "    <tr>\n",
       "      <th>1455</th>\n",
       "      <td>Southern Europe</td>\n",
       "      <td>2022</td>\n",
       "      <td>123.2</td>\n",
       "    </tr>\n",
       "    <tr>\n",
       "      <th>1456</th>\n",
       "      <td>Western Europe</td>\n",
       "      <td>2022</td>\n",
       "      <td>124.7</td>\n",
       "    </tr>\n",
       "    <tr>\n",
       "      <th>1457</th>\n",
       "      <td>Oceania</td>\n",
       "      <td>2022</td>\n",
       "      <td>132.6</td>\n",
       "    </tr>\n",
       "  </tbody>\n",
       "</table>\n",
       "<p>1458 rows × 3 columns</p>\n",
       "</div>"
      ],
      "text/plain": [
       "              Country  Year  Consumer Price\n",
       "0         Afghanistan  2017            67.9\n",
       "1             Albania  2017           115.0\n",
       "2             Algeria  2017           142.4\n",
       "3             Andorra  2017           105.5\n",
       "4              Angola  2017           270.6\n",
       "...               ...   ...             ...\n",
       "1453   Eastern Europe  2022           198.6\n",
       "1454  Northern Europe  2022           132.0\n",
       "1455  Southern Europe  2022           123.2\n",
       "1456   Western Europe  2022           124.7\n",
       "1457          Oceania  2022           132.6\n",
       "\n",
       "[1458 rows x 3 columns]"
      ]
     },
     "execution_count": 94,
     "metadata": {},
     "output_type": "execute_result"
    }
   ],
   "source": [
    "melted_data"
   ]
  },
  {
   "cell_type": "code",
   "execution_count": 145,
   "metadata": {},
   "outputs": [
    {
     "ename": "ValueError",
     "evalue": "Index contains duplicate entries, cannot reshape",
     "output_type": "error",
     "traceback": [
      "\u001b[0;31m---------------------------------------------------------------------------\u001b[0m",
      "\u001b[0;31mValueError\u001b[0m                                Traceback (most recent call last)",
      "Cell \u001b[0;32mIn[145], line 25\u001b[0m\n\u001b[1;32m     19\u001b[0m     fig\u001b[38;5;241m.\u001b[39mupdate_yaxes(tickmode\u001b[38;5;241m=\u001b[39m\u001b[38;5;124m'\u001b[39m\u001b[38;5;124mlinear\u001b[39m\u001b[38;5;124m'\u001b[39m,  \u001b[38;5;66;03m# Ensure all ticks are displayed\u001b[39;00m\n\u001b[1;32m     20\u001b[0m                      ticks\u001b[38;5;241m=\u001b[39m\u001b[38;5;124m'\u001b[39m\u001b[38;5;124moutside\u001b[39m\u001b[38;5;124m'\u001b[39m,  \u001b[38;5;66;03m# Draw ticks outside the axis\u001b[39;00m\n\u001b[1;32m     21\u001b[0m                      automargin\u001b[38;5;241m=\u001b[39m\u001b[38;5;28;01mTrue\u001b[39;00m)  \u001b[38;5;66;03m# Automatically adjust margins\u001b[39;00m\n\u001b[1;32m     23\u001b[0m     \u001b[38;5;28;01mreturn\u001b[39;00m fig\n\u001b[0;32m---> 25\u001b[0m \u001b[43mcreate_consumer_price_heatmap\u001b[49m\u001b[43m(\u001b[49m\u001b[43mmelted_data\u001b[49m\u001b[43m)\u001b[49m\n",
      "Cell \u001b[0;32mIn[145], line 3\u001b[0m, in \u001b[0;36mcreate_consumer_price_heatmap\u001b[0;34m(melted_data)\u001b[0m\n\u001b[1;32m      1\u001b[0m \u001b[38;5;28;01mdef\u001b[39;00m \u001b[38;5;21mcreate_consumer_price_heatmap\u001b[39m(melted_data):\n\u001b[1;32m      2\u001b[0m     \u001b[38;5;66;03m# Create a pivot table from the melted data\u001b[39;00m\n\u001b[0;32m----> 3\u001b[0m     pivot_data \u001b[38;5;241m=\u001b[39m \u001b[43mmelted_data\u001b[49m\u001b[38;5;241;43m.\u001b[39;49m\u001b[43mpivot\u001b[49m\u001b[43m(\u001b[49m\u001b[43mindex\u001b[49m\u001b[38;5;241;43m=\u001b[39;49m\u001b[38;5;124;43m'\u001b[39;49m\u001b[38;5;124;43mCountry\u001b[39;49m\u001b[38;5;124;43m'\u001b[39;49m\u001b[43m,\u001b[49m\u001b[43m \u001b[49m\u001b[43mcolumns\u001b[49m\u001b[38;5;241;43m=\u001b[39;49m\u001b[38;5;124;43m'\u001b[39;49m\u001b[38;5;124;43mYear\u001b[39;49m\u001b[38;5;124;43m'\u001b[39;49m\u001b[43m,\u001b[49m\u001b[43m \u001b[49m\u001b[43mvalues\u001b[49m\u001b[38;5;241;43m=\u001b[39;49m\u001b[38;5;124;43m'\u001b[39;49m\u001b[38;5;124;43mConsumer Price\u001b[39;49m\u001b[38;5;124;43m'\u001b[39;49m\u001b[43m)\u001b[49m\n\u001b[1;32m      5\u001b[0m     \u001b[38;5;66;03m# Create a heatmap using Plotly Express\u001b[39;00m\n\u001b[1;32m      6\u001b[0m     fig \u001b[38;5;241m=\u001b[39m px\u001b[38;5;241m.\u001b[39mimshow(\n\u001b[1;32m      7\u001b[0m         pivot_data,\n\u001b[1;32m      8\u001b[0m         title\u001b[38;5;241m=\u001b[39m\u001b[38;5;124m'\u001b[39m\u001b[38;5;124mImpact of Covid-19 on Consumer Price\u001b[39m\u001b[38;5;124m'\u001b[39m,\n\u001b[1;32m      9\u001b[0m         labels\u001b[38;5;241m=\u001b[39m\u001b[38;5;28mdict\u001b[39m(x\u001b[38;5;241m=\u001b[39m\u001b[38;5;124m\"\u001b[39m\u001b[38;5;124mYear\u001b[39m\u001b[38;5;124m\"\u001b[39m, y\u001b[38;5;241m=\u001b[39m\u001b[38;5;124m\"\u001b[39m\u001b[38;5;124mCountry\u001b[39m\u001b[38;5;124m\"\u001b[39m, color\u001b[38;5;241m=\u001b[39m\u001b[38;5;124m\"\u001b[39m\u001b[38;5;124mConsumer Price Index\u001b[39m\u001b[38;5;124m\"\u001b[39m),\n\u001b[1;32m     10\u001b[0m         color_continuous_scale\u001b[38;5;241m=\u001b[39m\u001b[38;5;124m'\u001b[39m\u001b[38;5;124mViridis\u001b[39m\u001b[38;5;124m'\u001b[39m  \u001b[38;5;66;03m# Choose a color scale\u001b[39;00m\n\u001b[1;32m     11\u001b[0m     )\n",
      "File \u001b[0;32m/opt/anaconda3/envs/ml/lib/python3.10/site-packages/pandas/core/frame.py:9339\u001b[0m, in \u001b[0;36mDataFrame.pivot\u001b[0;34m(self, columns, index, values)\u001b[0m\n\u001b[1;32m   9332\u001b[0m \u001b[38;5;129m@Substitution\u001b[39m(\u001b[38;5;124m\"\u001b[39m\u001b[38;5;124m\"\u001b[39m)\n\u001b[1;32m   9333\u001b[0m \u001b[38;5;129m@Appender\u001b[39m(_shared_docs[\u001b[38;5;124m\"\u001b[39m\u001b[38;5;124mpivot\u001b[39m\u001b[38;5;124m\"\u001b[39m])\n\u001b[1;32m   9334\u001b[0m \u001b[38;5;28;01mdef\u001b[39;00m \u001b[38;5;21mpivot\u001b[39m(\n\u001b[1;32m   9335\u001b[0m     \u001b[38;5;28mself\u001b[39m, \u001b[38;5;241m*\u001b[39m, columns, index\u001b[38;5;241m=\u001b[39mlib\u001b[38;5;241m.\u001b[39mno_default, values\u001b[38;5;241m=\u001b[39mlib\u001b[38;5;241m.\u001b[39mno_default\n\u001b[1;32m   9336\u001b[0m ) \u001b[38;5;241m-\u001b[39m\u001b[38;5;241m>\u001b[39m DataFrame:\n\u001b[1;32m   9337\u001b[0m     \u001b[38;5;28;01mfrom\u001b[39;00m \u001b[38;5;21;01mpandas\u001b[39;00m\u001b[38;5;21;01m.\u001b[39;00m\u001b[38;5;21;01mcore\u001b[39;00m\u001b[38;5;21;01m.\u001b[39;00m\u001b[38;5;21;01mreshape\u001b[39;00m\u001b[38;5;21;01m.\u001b[39;00m\u001b[38;5;21;01mpivot\u001b[39;00m \u001b[38;5;28;01mimport\u001b[39;00m pivot\n\u001b[0;32m-> 9339\u001b[0m     \u001b[38;5;28;01mreturn\u001b[39;00m \u001b[43mpivot\u001b[49m\u001b[43m(\u001b[49m\u001b[38;5;28;43mself\u001b[39;49m\u001b[43m,\u001b[49m\u001b[43m \u001b[49m\u001b[43mindex\u001b[49m\u001b[38;5;241;43m=\u001b[39;49m\u001b[43mindex\u001b[49m\u001b[43m,\u001b[49m\u001b[43m \u001b[49m\u001b[43mcolumns\u001b[49m\u001b[38;5;241;43m=\u001b[39;49m\u001b[43mcolumns\u001b[49m\u001b[43m,\u001b[49m\u001b[43m \u001b[49m\u001b[43mvalues\u001b[49m\u001b[38;5;241;43m=\u001b[39;49m\u001b[43mvalues\u001b[49m\u001b[43m)\u001b[49m\n",
      "File \u001b[0;32m/opt/anaconda3/envs/ml/lib/python3.10/site-packages/pandas/core/reshape/pivot.py:570\u001b[0m, in \u001b[0;36mpivot\u001b[0;34m(data, columns, index, values)\u001b[0m\n\u001b[1;32m    566\u001b[0m         indexed \u001b[38;5;241m=\u001b[39m data\u001b[38;5;241m.\u001b[39m_constructor_sliced(data[values]\u001b[38;5;241m.\u001b[39m_values, index\u001b[38;5;241m=\u001b[39mmultiindex)\n\u001b[1;32m    567\u001b[0m \u001b[38;5;66;03m# error: Argument 1 to \"unstack\" of \"DataFrame\" has incompatible type \"Union\u001b[39;00m\n\u001b[1;32m    568\u001b[0m \u001b[38;5;66;03m# [List[Any], ExtensionArray, ndarray[Any, Any], Index, Series]\"; expected\u001b[39;00m\n\u001b[1;32m    569\u001b[0m \u001b[38;5;66;03m# \"Hashable\"\u001b[39;00m\n\u001b[0;32m--> 570\u001b[0m result \u001b[38;5;241m=\u001b[39m \u001b[43mindexed\u001b[49m\u001b[38;5;241;43m.\u001b[39;49m\u001b[43munstack\u001b[49m\u001b[43m(\u001b[49m\u001b[43mcolumns_listlike\u001b[49m\u001b[43m)\u001b[49m  \u001b[38;5;66;03m# type: ignore[arg-type]\u001b[39;00m\n\u001b[1;32m    571\u001b[0m result\u001b[38;5;241m.\u001b[39mindex\u001b[38;5;241m.\u001b[39mnames \u001b[38;5;241m=\u001b[39m [\n\u001b[1;32m    572\u001b[0m     name \u001b[38;5;28;01mif\u001b[39;00m name \u001b[38;5;129;01mis\u001b[39;00m \u001b[38;5;129;01mnot\u001b[39;00m lib\u001b[38;5;241m.\u001b[39mno_default \u001b[38;5;28;01melse\u001b[39;00m \u001b[38;5;28;01mNone\u001b[39;00m \u001b[38;5;28;01mfor\u001b[39;00m name \u001b[38;5;129;01min\u001b[39;00m result\u001b[38;5;241m.\u001b[39mindex\u001b[38;5;241m.\u001b[39mnames\n\u001b[1;32m    573\u001b[0m ]\n\u001b[1;32m    575\u001b[0m \u001b[38;5;28;01mreturn\u001b[39;00m result\n",
      "File \u001b[0;32m/opt/anaconda3/envs/ml/lib/python3.10/site-packages/pandas/core/series.py:4615\u001b[0m, in \u001b[0;36mSeries.unstack\u001b[0;34m(self, level, fill_value, sort)\u001b[0m\n\u001b[1;32m   4570\u001b[0m \u001b[38;5;250m\u001b[39m\u001b[38;5;124;03m\"\"\"\u001b[39;00m\n\u001b[1;32m   4571\u001b[0m \u001b[38;5;124;03mUnstack, also known as pivot, Series with MultiIndex to produce DataFrame.\u001b[39;00m\n\u001b[1;32m   4572\u001b[0m \n\u001b[0;32m   (...)\u001b[0m\n\u001b[1;32m   4611\u001b[0m \u001b[38;5;124;03mb    2    4\u001b[39;00m\n\u001b[1;32m   4612\u001b[0m \u001b[38;5;124;03m\"\"\"\u001b[39;00m\n\u001b[1;32m   4613\u001b[0m \u001b[38;5;28;01mfrom\u001b[39;00m \u001b[38;5;21;01mpandas\u001b[39;00m\u001b[38;5;21;01m.\u001b[39;00m\u001b[38;5;21;01mcore\u001b[39;00m\u001b[38;5;21;01m.\u001b[39;00m\u001b[38;5;21;01mreshape\u001b[39;00m\u001b[38;5;21;01m.\u001b[39;00m\u001b[38;5;21;01mreshape\u001b[39;00m \u001b[38;5;28;01mimport\u001b[39;00m unstack\n\u001b[0;32m-> 4615\u001b[0m \u001b[38;5;28;01mreturn\u001b[39;00m \u001b[43munstack\u001b[49m\u001b[43m(\u001b[49m\u001b[38;5;28;43mself\u001b[39;49m\u001b[43m,\u001b[49m\u001b[43m \u001b[49m\u001b[43mlevel\u001b[49m\u001b[43m,\u001b[49m\u001b[43m \u001b[49m\u001b[43mfill_value\u001b[49m\u001b[43m,\u001b[49m\u001b[43m \u001b[49m\u001b[43msort\u001b[49m\u001b[43m)\u001b[49m\n",
      "File \u001b[0;32m/opt/anaconda3/envs/ml/lib/python3.10/site-packages/pandas/core/reshape/reshape.py:517\u001b[0m, in \u001b[0;36munstack\u001b[0;34m(obj, level, fill_value, sort)\u001b[0m\n\u001b[1;32m    515\u001b[0m \u001b[38;5;28;01mif\u001b[39;00m is_1d_only_ea_dtype(obj\u001b[38;5;241m.\u001b[39mdtype):\n\u001b[1;32m    516\u001b[0m     \u001b[38;5;28;01mreturn\u001b[39;00m _unstack_extension_series(obj, level, fill_value, sort\u001b[38;5;241m=\u001b[39msort)\n\u001b[0;32m--> 517\u001b[0m unstacker \u001b[38;5;241m=\u001b[39m \u001b[43m_Unstacker\u001b[49m\u001b[43m(\u001b[49m\n\u001b[1;32m    518\u001b[0m \u001b[43m    \u001b[49m\u001b[43mobj\u001b[49m\u001b[38;5;241;43m.\u001b[39;49m\u001b[43mindex\u001b[49m\u001b[43m,\u001b[49m\u001b[43m \u001b[49m\u001b[43mlevel\u001b[49m\u001b[38;5;241;43m=\u001b[39;49m\u001b[43mlevel\u001b[49m\u001b[43m,\u001b[49m\u001b[43m \u001b[49m\u001b[43mconstructor\u001b[49m\u001b[38;5;241;43m=\u001b[39;49m\u001b[43mobj\u001b[49m\u001b[38;5;241;43m.\u001b[39;49m\u001b[43m_constructor_expanddim\u001b[49m\u001b[43m,\u001b[49m\u001b[43m \u001b[49m\u001b[43msort\u001b[49m\u001b[38;5;241;43m=\u001b[39;49m\u001b[43msort\u001b[49m\n\u001b[1;32m    519\u001b[0m \u001b[43m\u001b[49m\u001b[43m)\u001b[49m\n\u001b[1;32m    520\u001b[0m \u001b[38;5;28;01mreturn\u001b[39;00m unstacker\u001b[38;5;241m.\u001b[39mget_result(\n\u001b[1;32m    521\u001b[0m     obj\u001b[38;5;241m.\u001b[39m_values, value_columns\u001b[38;5;241m=\u001b[39m\u001b[38;5;28;01mNone\u001b[39;00m, fill_value\u001b[38;5;241m=\u001b[39mfill_value\n\u001b[1;32m    522\u001b[0m )\n",
      "File \u001b[0;32m/opt/anaconda3/envs/ml/lib/python3.10/site-packages/pandas/core/reshape/reshape.py:154\u001b[0m, in \u001b[0;36m_Unstacker.__init__\u001b[0;34m(self, index, level, constructor, sort)\u001b[0m\n\u001b[1;32m    146\u001b[0m \u001b[38;5;28;01mif\u001b[39;00m num_cells \u001b[38;5;241m>\u001b[39m np\u001b[38;5;241m.\u001b[39miinfo(np\u001b[38;5;241m.\u001b[39mint32)\u001b[38;5;241m.\u001b[39mmax:\n\u001b[1;32m    147\u001b[0m     warnings\u001b[38;5;241m.\u001b[39mwarn(\n\u001b[1;32m    148\u001b[0m         \u001b[38;5;124mf\u001b[39m\u001b[38;5;124m\"\u001b[39m\u001b[38;5;124mThe following operation may generate \u001b[39m\u001b[38;5;132;01m{\u001b[39;00mnum_cells\u001b[38;5;132;01m}\u001b[39;00m\u001b[38;5;124m cells \u001b[39m\u001b[38;5;124m\"\u001b[39m\n\u001b[1;32m    149\u001b[0m         \u001b[38;5;124mf\u001b[39m\u001b[38;5;124m\"\u001b[39m\u001b[38;5;124min the resulting pandas object.\u001b[39m\u001b[38;5;124m\"\u001b[39m,\n\u001b[1;32m    150\u001b[0m         PerformanceWarning,\n\u001b[1;32m    151\u001b[0m         stacklevel\u001b[38;5;241m=\u001b[39mfind_stack_level(),\n\u001b[1;32m    152\u001b[0m     )\n\u001b[0;32m--> 154\u001b[0m \u001b[38;5;28;43mself\u001b[39;49m\u001b[38;5;241;43m.\u001b[39;49m\u001b[43m_make_selectors\u001b[49m\u001b[43m(\u001b[49m\u001b[43m)\u001b[49m\n",
      "File \u001b[0;32m/opt/anaconda3/envs/ml/lib/python3.10/site-packages/pandas/core/reshape/reshape.py:210\u001b[0m, in \u001b[0;36m_Unstacker._make_selectors\u001b[0;34m(self)\u001b[0m\n\u001b[1;32m    207\u001b[0m mask\u001b[38;5;241m.\u001b[39mput(selector, \u001b[38;5;28;01mTrue\u001b[39;00m)\n\u001b[1;32m    209\u001b[0m \u001b[38;5;28;01mif\u001b[39;00m mask\u001b[38;5;241m.\u001b[39msum() \u001b[38;5;241m<\u001b[39m \u001b[38;5;28mlen\u001b[39m(\u001b[38;5;28mself\u001b[39m\u001b[38;5;241m.\u001b[39mindex):\n\u001b[0;32m--> 210\u001b[0m     \u001b[38;5;28;01mraise\u001b[39;00m \u001b[38;5;167;01mValueError\u001b[39;00m(\u001b[38;5;124m\"\u001b[39m\u001b[38;5;124mIndex contains duplicate entries, cannot reshape\u001b[39m\u001b[38;5;124m\"\u001b[39m)\n\u001b[1;32m    212\u001b[0m \u001b[38;5;28mself\u001b[39m\u001b[38;5;241m.\u001b[39mgroup_index \u001b[38;5;241m=\u001b[39m comp_index\n\u001b[1;32m    213\u001b[0m \u001b[38;5;28mself\u001b[39m\u001b[38;5;241m.\u001b[39mmask \u001b[38;5;241m=\u001b[39m mask\n",
      "\u001b[0;31mValueError\u001b[0m: Index contains duplicate entries, cannot reshape"
     ]
    }
   ],
   "source": [
    "def create_consumer_price_heatmap(melted_data):\n",
    "    # Create a pivot table from the melted data\n",
    "    pivot_data = melted_data.pivot(index='Country', columns='Year', values='Consumer Price')\n",
    "    \n",
    "    # Create a heatmap using Plotly Express\n",
    "    fig = px.imshow(\n",
    "        pivot_data,\n",
    "        title='Impact of Covid-19 on Consumer Price',\n",
    "        labels=dict(x=\"Year\", y=\"Country\", color=\"Consumer Price Index\"),\n",
    "        color_continuous_scale='Viridis'  # Choose a color scale\n",
    "    )\n",
    "    \n",
    "    # Adjust x-axis and y-axis properties\n",
    "    fig.update_xaxes(tickangle=45,  # Rotate x-axis labels for better visibility\n",
    "                     tickmode='linear',  # Ensure all ticks are displayed\n",
    "                     ticks='outside',  # Draw ticks outside the axis\n",
    "                     automargin=True)  # Automatically adjust margins\n",
    "\n",
    "    fig.update_yaxes(tickmode='linear',  # Ensure all ticks are displayed\n",
    "                     ticks='outside',  # Draw ticks outside the axis\n",
    "                     automargin=True)  # Automatically adjust margins\n",
    "    \n",
    "    return fig\n",
    "\n",
    "create_consumer_price_heatmap(melted_data)"
   ]
  },
  {
   "cell_type": "code",
   "execution_count": 105,
   "metadata": {},
   "outputs": [
    {
     "data": {
      "application/vnd.plotly.v1+json": {
       "config": {
        "plotlyServerURL": "https://plot.ly"
       },
       "data": [
        {
         "coloraxis": "coloraxis",
         "hovertemplate": "Country: %{x}<br>Year: %{y}<br>color: %{z}<extra></extra>",
         "name": "0",
         "type": "heatmap",
         "x": [
          "Afghanistan",
          "Africa",
          "Albania",
          "Algeria",
          "Americas",
          "Andorra",
          "Angola",
          "Anguilla",
          "Antigua and Barbuda",
          "Argentina",
          "Armenia",
          "Aruba",
          "Asia",
          "Australia",
          "Austria",
          "Azerbaijan",
          "Bahamas",
          "Bahrain",
          "Bangladesh",
          "Barbados",
          "Belarus",
          "Belgium",
          "Belize",
          "Benin",
          "Bermuda",
          "Bhutan",
          "Bolivia (Plurinational State of)",
          "Bosnia and Herzegovina",
          "Botswana",
          "Brazil",
          "British Virgin Islands",
          "Brunei Darussalam",
          "Bulgaria",
          "Burkina Faso",
          "Burundi",
          "Cabo Verde",
          "Cambodia",
          "Cameroon",
          "Canada",
          "Caribbean",
          "Cayman Islands",
          "Central African Republic",
          "Central America",
          "Central Asia",
          "Chad",
          "Chile",
          "China",
          "China, Hong Kong SAR",
          "China, Macao SAR",
          "China, Taiwan Province of",
          "Colombia",
          "Comoros",
          "Congo",
          "Congo, Dem. Rep. of the",
          "Cook Islands",
          "Costa Rica",
          "Cote d'Ivoire",
          "Croatia",
          "Cuba",
          "Curacao",
          "Cyprus",
          "Czechia",
          "Denmark",
          "Djibouti",
          "Dominica",
          "Dominican Republic",
          "Eastern Africa",
          "Eastern Asia",
          "Eastern Europe",
          "Ecuador",
          "Egypt",
          "El Salvador",
          "Equatorial Guinea",
          "Eritrea",
          "Estonia",
          "Eswatini",
          "Ethiopia",
          "Ethiopia (...1991)",
          "Europe",
          "Fiji",
          "Finland",
          "France",
          "France, metropolitan",
          "French Polynesia",
          "Gabon",
          "Gambia",
          "Georgia",
          "Germany",
          "Ghana",
          "Greece",
          "Greenland",
          "Grenada",
          "Guatemala",
          "Guinea",
          "Guinea-Bissau",
          "Guyana",
          "Haiti",
          "Honduras",
          "Hungary",
          "Iceland",
          "India",
          "Indonesia",
          "Indonesia (...2002)",
          "Iran (Islamic Republic of)",
          "Iraq",
          "Ireland",
          "Israel",
          "Italy",
          "Jamaica",
          "Japan",
          "Jordan",
          "Kazakhstan",
          "Kenya",
          "Kiribati",
          "Korea, Republic of",
          "Kuwait",
          "Kyrgyzstan",
          "Lao People's Dem. Rep.",
          "Latin America and the Caribbean",
          "Latvia",
          "Lebanon",
          "Lesotho",
          "Liberia",
          "Libya",
          "Liechtenstein",
          "Lithuania",
          "Luxembourg",
          "Madagascar",
          "Malawi",
          "Malaysia",
          "Maldives",
          "Mali",
          "Malta",
          "Marshall Islands",
          "Mauritania",
          "Mauritius",
          "Mexico",
          "Micronesia (Federated States of)",
          "Middle Africa",
          "Moldova, Republic of",
          "Monaco",
          "Mongolia",
          "Montenegro",
          "Montserrat",
          "Morocco",
          "Mozambique",
          "Myanmar",
          "Namibia",
          "Nauru",
          "Nepal",
          "Netherlands (Kingdom of the)",
          "New Caledonia",
          "New Zealand",
          "Nicaragua",
          "Niger",
          "Nigeria",
          "North Macedonia",
          "Northern Africa",
          "Northern America",
          "Northern Europe",
          "Norway",
          "Oceania",
          "Oman",
          "Pakistan",
          "Palau",
          "Panama",
          "Papua New Guinea",
          "Paraguay",
          "Peru",
          "Philippines",
          "Poland",
          "Portugal",
          "Puerto Rico",
          "Qatar",
          "Romania",
          "Russian Federation",
          "Rwanda",
          "Saint Kitts and Nevis",
          "Saint Lucia",
          "Saint Vincent and the Grenadines",
          "Samoa",
          "San Marino",
          "Sao Tome and Principe",
          "Saudi Arabia",
          "Senegal",
          "Serbia",
          "Seychelles",
          "Sierra Leone",
          "Singapore",
          "Sint Maarten (Dutch part)",
          "Slovakia",
          "Slovenia",
          "Solomon Islands",
          "Somalia",
          "South Africa",
          "South America",
          "South Sudan",
          "South-eastern Asia",
          "Southern Africa",
          "Southern Asia",
          "Southern Europe",
          "Spain",
          "Sri Lanka",
          "State of Palestine",
          "Sub-Saharan Africa",
          "Sudan",
          "Sudan (...2011)",
          "Suriname",
          "Sweden",
          "Switzerland",
          "Switzerland, Liechtenstein",
          "Syrian Arab Republic",
          "Tajikistan",
          "Tanzania, United Republic of",
          "Thailand",
          "Timor-Leste",
          "Togo",
          "Tonga",
          "Trinidad and Tobago",
          "Tunisia",
          "Turkiye",
          "Turkmenistan",
          "Turks and Caicos Islands",
          "Tuvalu",
          "Uganda",
          "Ukraine",
          "United Arab Emirates",
          "United Kingdom",
          "United Kingdom excl. Channel Islands and Isle of Man",
          "United States of America",
          "United States of America excluding Puerto Rico and United States Virgin Islands",
          "Uruguay",
          "Uzbekistan",
          "Vanuatu",
          "Venezuela (Bolivarian Rep. of)",
          "Viet Nam",
          "Western Africa",
          "Western Asia",
          "Western Europe",
          "World",
          "Yemen",
          "Zambia",
          "Zimbabwe"
         ],
         "xaxis": "x",
         "y": [
          "2017",
          "2018",
          "2019",
          "2020",
          "2021",
          "2022"
         ],
         "yaxis": "y",
         "z": [
          [
           67.9,
           185.5,
           115,
           142.4,
           120.9,
           105.5,
           270.6,
           105.9,
           112.5,
           347.8,
           124.1,
           101.4,
           124.7,
           115.7,
           114.5,
           149.3,
           110,
           115.3,
           161.4,
           124.2,
           458.9,
           113,
           105.7,
           111.2,
           90.9,
           162.8,
           142.4,
           103.2,
           141.1,
           155.7,
           113,
           98.4,
           103.3,
           110.8,
           189.6,
           107.9,
           124.6,
           114.2,
           112,
           134.4,
           105,
           145.5,
           129.5,
           175,
           114.2,
           125.5,
           119.3,
           127.8,
           136.1,
           107.3,
           131.9,
           110.7,
           120.7,
           167.1,
           108.2,
           123.5,
           112.1,
           108.8,
           142.3,
           109.7,
           104.6,
           110.9,
           107.4,
           115.1,
           102.8,
           128.5,
           195.6,
           114.1,
           148.5,
           124.1,
           214.7,
           109.9,
           121.2,
           136,
           118.8,
           155.1,
           248.2,
           null,
           114.8,
           124.9,
           111.5,
           107.9,
           107.9,
           104.4,
           114.3,
           151.8,
           124.2,
           110.2,
           229.9,
           101.9,
           113.2,
           106.6,
           132.8,
           218.7,
           111.3,
           111.8,
           156.8,
           138.1,
           114.5,
           122,
           158.3,
           141.8,
           null,
           330.5,
           114.7,
           104,
           106.3,
           109.4,
           150.7,
           104,
           119.9,
           168.8,
           172.4,
           101.8,
           113.1,
           124.9,
           151.6,
           128.9,
           159.7,
           110.8,
           119.1,
           141.5,
           180.6,
           225.2,
           98.3,
           113,
           111.7,
           160.7,
           342.9,
           119.5,
           137.4,
           110.9,
           111.3,
           109.1,
           128.1,
           125.4,
           130.2,
           112.7,
           188.8,
           153.6,
           107.9,
           173.5,
           113.4,
           108.9,
           107.6,
           170.7,
           144.6,
           146.1,
           119.9,
           175,
           110.2,
           107.5,
           110.7,
           147.2,
           106.2,
           214.2,
           110.9,
           196.6,
           112.4,
           113.2,
           114.6,
           115.4,
           112.4,
           164.8,
           118,
           121.6,
           143.7,
           134.6,
           125.4,
           120.4,
           109.8,
           109.6,
           106.7,
           116.4,
           114,
           168.2,
           135.3,
           105.7,
           108,
           107.2,
           111.3,
           109.9,
           173,
           115.7,
           107.8,
           138.7,
           123.1,
           175.8,
           113.3,
           116.7,
           110.1,
           107.4,
           126.6,
           109.3,
           145.7,
           175.3,
           4583.7,
           128.2,
           145.6,
           178.1,
           108.8,
           108.1,
           142.9,
           111,
           180.2,
           545.2,
           null,
           264.1,
           106.8,
           98.3,
           98.3,
           782.8,
           159.3,
           175,
           111.3,
           138.1,
           111,
           120.2,
           140.3,
           135.6,
           175,
           151,
           121.1,
           116.8,
           171.3,
           235.3,
           113.3,
           115.6,
           115.6,
           112.4,
           112.4,
           174.8,
           206.1,
           111.4,
           14745.9,
           153.6,
           192.7,
           134.7,
           108.8,
           122.1,
           304.2,
           184.7,
           105.5
          ],
          [
           68.3,
           207.7,
           117.4,
           148.5,
           125.1,
           106.5,
           323.7,
           106.3,
           113.8,
           466.6,
           127.2,
           105.1,
           128.5,
           118,
           116.9,
           152.8,
           112.5,
           117.7,
           170.7,
           128.8,
           481.2,
           115.6,
           106,
           112.2,
           92.1,
           168.7,
           145.6,
           104.6,
           145.7,
           161.4,
           115.3,
           99.4,
           106,
           113,
           184.3,
           109.3,
           127.6,
           115.4,
           114.5,
           140.6,
           108.5,
           147.8,
           135.3,
           192.2,
           118.9,
           128.5,
           121.6,
           130.9,
           140.2,
           108.7,
           136.2,
           112.6,
           122,
           216,
           108.2,
           126.2,
           112.8,
           110.5,
           152.2,
           112.6,
           105.4,
           113.3,
           108.1,
           115.3,
           103.8,
           133.1,
           210.8,
           116,
           153,
           123.8,
           259.5,
           111.1,
           122.8,
           116.4,
           122.8,
           162.6,
           282.6,
           null,
           117.1,
           130,
           112.8,
           110.2,
           110.2,
           103.7,
           119.7,
           161.7,
           127.4,
           112.3,
           252.5,
           102.7,
           113.2,
           107.4,
           137.8,
           240.2,
           111.7,
           113.2,
           174.8,
           144.1,
           117.8,
           125.2,
           163.8,
           146.4,
           null,
           430.4,
           115.1,
           104.8,
           107.2,
           110.8,
           156.4,
           105,
           125.2,
           179,
           180.5,
           102.4,
           114.7,
           125.6,
           153.9,
           131.5,
           171.8,
           113.6,
           126.4,
           148.2,
           223.1,
           256.6,
           99.2,
           115.8,
           114,
           174.5,
           374.5,
           120.7,
           139.3,
           113,
           113.3,
           109.9,
           132,
           129.4,
           136.6,
           113.9,
           217,
           159.1,
           110.2,
           185.3,
           116.3,
           110.3,
           109.2,
           177.4,
           154.5,
           152.3,
           121.3,
           182.3,
           111.9,
           108.3,
           112.4,
           154.4,
           109.2,
           240.1,
           112.5,
           232.4,
           115.1,
           115.6,
           117.7,
           117.6,
           113.4,
           171.2,
           120.3,
           122.5,
           150.1,
           140,
           127.1,
           126.8,
           111.7,
           110.9,
           108.1,
           116.6,
           119.3,
           173,
           137.2,
           104.6,
           110.8,
           109.7,
           115.4,
           111.8,
           186.6,
           118.5,
           108.3,
           141.4,
           127.7,
           204,
           113.8,
           95.7,
           112.8,
           109.3,
           131,
           114,
           152.4,
           191.3,
           8411.2,
           131.6,
           152.2,
           190.6,
           110.4,
           110,
           149,
           110.8,
           196.2,
           890.2,
           null,
           282.4,
           109,
           99.2,
           99.2,
           790.1,
           165.4,
           181.2,
           112.5,
           141.3,
           112,
           128.3,
           141.8,
           145.5,
           203.5,
           171.1,
           123.6,
           119.3,
           175.7,
           261,
           116.8,
           118.5,
           118.5,
           115.1,
           115.1,
           188.1,
           242.2,
           114,
           9654750.4,
           159.1,
           211.5,
           143.5,
           110.9,
           126,
           406.6,
           198.6,
           116.7
          ],
          [
           69.9,
           230.8,
           119,
           151.4,
           129.3,
           107.1,
           379,
           107.1,
           115.4,
           713,
           129,
           109.2,
           132.6,
           119.8,
           118.7,
           156.9,
           115.3,
           118.9,
           180,
           134.1,
           508.1,
           117,
           106.2,
           111.1,
           93,
           173.5,
           148.3,
           105.2,
           149.7,
           167.4,
           117.3,
           99,
           108.6,
           109.4,
           183,
           110.5,
           130.1,
           118.3,
           116.8,
           146.5,
           114.6,
           151.9,
           139.9,
           207.1,
           117.7,
           131.3,
           125.2,
           134.6,
           144,
           109.3,
           141,
           116.8,
           122.5,
           226.1,
           108.7,
           128.8,
           113.7,
           111.3,
           160.7,
           115.4,
           106,
           116.5,
           108.9,
           119.1,
           105.4,
           135.5,
           257.8,
           118.5,
           158.9,
           124.1,
           295.5,
           111.2,
           124.3,
           117.9,
           125.6,
           166.8,
           327.3,
           null,
           119,
           132.3,
           114,
           111.6,
           111.6,
           104,
           122.1,
           173.2,
           133.6,
           113.8,
           270.5,
           103.2,
           114.2,
           108.1,
           142.9,
           263,
           112,
           115.6,
           205,
           150.3,
           121.8,
           129,
           171.6,
           150.6,
           null,
           579.4,
           114.9,
           105.7,
           108.1,
           111.5,
           162.5,
           105.5,
           126.1,
           188.4,
           190,
           100.5,
           115.2,
           127,
           155.7,
           135.9,
           187.9,
           116.8,
           130,
           155.9,
           283.3,
           249.3,
           99.5,
           118.4,
           115.9,
           184.3,
           409.7,
           121.5,
           141.1,
           109.6,
           115,
           109.8,
           135,
           130,
           141.5,
           116.4,
           237,
           166.8,
           111.6,
           198.9,
           116.7,
           109.1,
           109.5,
           182.3,
           168.2,
           158,
           123.9,
           190.7,
           114.9,
           108.2,
           114.2,
           162.7,
           106.4,
           267.5,
           113.4,
           260.3,
           117.2,
           117.5,
           120.3,
           119.5,
           113.5,
           182.8,
           121,
           122.1,
           156,
           143.8,
           129.8,
           129.8,
           114.3,
           111.2,
           108.2,
           115.5,
           123.8,
           180.7,
           140.5,
           104.2,
           111.4,
           110.7,
           117.9,
           112.9,
           201,
           116.1,
           109.4,
           144,
           130,
           234.2,
           114.4,
           96.1,
           116,
           111.1,
           133.2,
           119.2,
           158.7,
           215,
           15749.2,
           134.3,
           158.4,
           206.8,
           111.1,
           110.8,
           155.4,
           112.5,
           217.3,
           1344.2,
           null,
           294.8,
           110.9,
           99.5,
           99.5,
           896.2,
           178.3,
           187.4,
           113.3,
           142.6,
           112.8,
           132.6,
           143.2,
           155.3,
           234.4,
           179.8,
           126.4,
           123.5,
           179.4,
           281.6,
           114.5,
           120.6,
           120.6,
           117.2,
           117.2,
           202.9,
           277.4,
           117.1,
           1931531712.7,
           163.5,
           229.9,
           149.8,
           112.4,
           129.8,
           469.4,
           216.8,
           414.6
          ],
          [
           73.8,
           270.6,
           120.9,
           155,
           132.4,
           107.2,
           463.5,
           106.6,
           116.7,
           1001.6,
           130.6,
           107.8,
           136.9,
           120.9,
           120.3,
           161.4,
           115.4,
           116.1,
           190.2,
           138,
           536.3,
           117.5,
           106.3,
           114.5,
           93,
           178.8,
           149.7,
           104.1,
           152.5,
           172.8,
           118.9,
           100.9,
           109.9,
           111.4,
           196.4,
           111.2,
           133.9,
           121.2,
           117.6,
           156.5,
           115.8,
           153.2,
           144.1,
           224.7,
           123,
           135.3,
           128.3,
           135,
           145.2,
           109,
           144.5,
           117.7,
           124.2,
           251.8,
           109.8,
           129.8,
           116.5,
           111.3,
           179.9,
           118,
           104.8,
           120.2,
           109.3,
           121.2,
           104.6,
           140.6,
           353.1,
           120.5,
           164.1,
           123.7,
           312.3,
           110.8,
           130.3,
           124.6,
           124.8,
           173.3,
           393.9,
           null,
           120,
           128.9,
           114.5,
           112.2,
           112.2,
           103.9,
           124.2,
           183.4,
           140.6,
           114.2,
           297.3,
           101.9,
           116.6,
           107.3,
           147.5,
           290.8,
           113.6,
           117,
           252,
           155.6,
           125.8,
           132.7,
           182.2,
           153.6,
           null,
           790.6,
           115.5,
           105.2,
           107.5,
           111.3,
           171,
           105.5,
           126.6,
           201.2,
           200,
           103.1,
           115.8,
           129.7,
           165.5,
           142.8,
           202.2,
           116.9,
           240.4,
           163.6,
           331.3,
           252.9,
           98.8,
           119.7,
           115.9,
           192.1,
           445.1,
           120.1,
           138.9,
           110.1,
           115.9,
           109.1,
           138.2,
           133.3,
           146.3,
           117.5,
           268.2,
           173.1,
           112.2,
           206.3,
           116.5,
           107.1,
           110.2,
           188,
           174.6,
           161.5,
           126.1,
           202.5,
           116.2,
           107.6,
           116.2,
           168.7,
           109.5,
           302.9,
           114.8,
           315.5,
           118.6,
           118.4,
           121.8,
           120.7,
           112.5,
           202.4,
           121.8,
           120.2,
           163.6,
           146.4,
           132.2,
           132.9,
           118.1,
           111.1,
           107.6,
           112.6,
           127.1,
           186.9,
           151.4,
           103,
           109.4,
           110,
           119.7,
           113.1,
           220.7,
           120.1,
           112.2,
           146.3,
           131.5,
           265.6,
           114.2,
           96.8,
           118.3,
           111,
           137.1,
           124.3,
           163.9,
           235.8,
           20422.9,
           135.9,
           163.5,
           227.1,
           110.9,
           110.5,
           162.5,
           111.7,
           250.5,
           3538.7,
           null,
           397.7,
           111.6,
           98.8,
           98.8,
           1919.7,
           193.6,
           193.6,
           112.3,
           143.3,
           114.9,
           133.1,
           144,
           164.1,
           263.2,
           190.7,
           129.4,
           125.8,
           184.4,
           289.3,
           112.1,
           121.6,
           121.6,
           118.7,
           118.7,
           222.7,
           313,
           123.4,
           47421947585.7,
           168.8,
           254.3,
           159.1,
           112.9,
           133.4,
           561.3,
           250.9,
           2725
          ],
          [
           77.6,
           330.3,
           123.4,
           166.2,
           140.7,
           109,
           582.9,
           108.5,
           118.6,
           1473.4,
           140,
           108.6,
           141.1,
           124.3,
           123.6,
           172.1,
           118.7,
           115.4,
           200.8,
           142.2,
           587,
           121.3,
           109.7,
           116.4,
           94.3,
           193.4,
           150.8,
           106.2,
           162.7,
           187.1,
           122.3,
           102.7,
           113.1,
           115.8,
           212.7,
           113.2,
           137.9,
           123.9,
           121.6,
           241.6,
           119.6,
           159.8,
           151.6,
           247.2,
           122,
           141.5,
           129.4,
           137.1,
           145.3,
           111.2,
           149.6,
           117.7,
           126.7,
           274.4,
           111.9,
           132,
           121.3,
           114.3,
           453.1,
           122.5,
           107.2,
           124.8,
           111.4,
           122.6,
           106.2,
           152.2,
           406.9,
           121.4,
           173.8,
           123.9,
           326.4,
           114.7,
           130.2,
           132.8,
           130.4,
           179.7,
           499.4,
           null,
           123.6,
           129.1,
           116.8,
           114.5,
           114.5,
           104.4,
           125.6,
           196.9,
           154,
           117.9,
           326.9,
           102.5,
           116.7,
           108.6,
           153.8,
           327.5,
           117.4,
           120.9,
           292.2,
           162.5,
           132.3,
           138.6,
           192.2,
           156,
           null,
           1107.9,
           122.5,
           107.7,
           109.1,
           113.5,
           181,
           105.2,
           128.3,
           217.3,
           212.2,
           105.2,
           118.7,
           134.2,
           185.2,
           148.2,
           229,
           120.6,
           612.4,
           173.5,
           357.2,
           260.2,
           99.4,
           125.2,
           119.9,
           203.2,
           486.6,
           123.1,
           139.2,
           114.3,
           116.7,
           111.9,
           143.2,
           138.7,
           154.7,
           119.6,
           304.4,
           181.9,
           114.5,
           221.5,
           119.3,
           108.9,
           111.7,
           198.7,
           185.4,
           167.3,
           129.2,
           209.8,
           119.5,
           108.3,
           120.8,
           177,
           113.7,
           354.3,
           118.5,
           452,
           124,
           121.5,
           126.1,
           124.3,
           114.3,
           220.4,
           122.4,
           122.1,
           170.9,
           153.4,
           137.4,
           138.1,
           124.2,
           112.2,
           110.2,
           115.2,
           133.5,
           199.4,
           152.6,
           104.2,
           112,
           111.7,
           116.1,
           115.5,
           238.7,
           123.7,
           114.6,
           152.2,
           144.4,
           297.2,
           116.8,
           99.5,
           121.6,
           113.1,
           137,
           130,
           171.4,
           267.9,
           22570.7,
           138.9,
           171,
           249.7,
           113.3,
           113.8,
           172.2,
           113.1,
           280.5,
           16245.9,
           null,
           632.8,
           114.6,
           99.4,
           99.4,
           3807.2,
           211,
           200.7,
           113.7,
           148.7,
           120.1,
           135,
           147,
           173.4,
           314.8,
           227.9,
           135.8,
           133.6,
           188.5,
           316.4,
           112,
           124.7,
           124.7,
           124.3,
           124.3,
           240,
           347,
           126.3,
           800725817552.9,
           171.9,
           288.1,
           175.5,
           115.8,
           139.7,
           707.4,
           306.1,
           5410.4
          ],
          [
           88.2,
           388.6,
           131.7,
           181.6,
           154.3,
           115.8,
           707.4,
           111.8,
           127.5,
           2550.9,
           152.1,
           114.6,
           150.4,
           132.5,
           134.3,
           195.9,
           125.4,
           119.6,
           213.1,
           155.6,
           674.1,
           133.8,
           116.6,
           118.2,
           97,
           204.9,
           153.5,
           121.1,
           182.6,
           204.5,
           132.6,
           106.5,
           127.8,
           132.1,
           252.9,
           122.2,
           145.2,
           130.5,
           129.9,
           315.3,
           131.6,
           169.1,
           163.3,
           280.1,
           128.5,
           157.9,
           131.8,
           139.7,
           146.8,
           114.5,
           164.8,
           131.8,
           131.1,
           299.1,
           123.7,
           142.9,
           127.7,
           126.5,
           798,
           131.6,
           115.8,
           143.6,
           120.9,
           129.3,
           114.2,
           165.6,
           499.1,
           124.2,
           198.6,
           128.2,
           354.1,
           122.9,
           136.7,
           142.6,
           155.8,
           188.4,
           668.9,
           null,
           134.8,
           134.9,
           125.2,
           121.3,
           121.3,
           111.1,
           130.9,
           219.6,
           172.3,
           128.1,
           431.2,
           112,
           118.1,
           111.5,
           164.4,
           361.8,
           126.7,
           128.7,
           372.8,
           177.3,
           151.5,
           150.1,
           205,
           162.6,
           null,
           1650.3,
           129,
           116.4,
           113.8,
           123.4,
           198.2,
           107.8,
           133.7,
           249.8,
           228.5,
           110.8,
           124.7,
           139.4,
           211,
           182.2,
           268.8,
           141.4,
           1660.7,
           187.8,
           384.4,
           271.9,
           102.2,
           148.8,
           129.6,
           219.9,
           588.1,
           127.2,
           142.8,
           125.8,
           123.9,
           118.8,
           156.8,
           153.7,
           166.9,
           125.6,
           343.6,
           233.9,
           121.3,
           255.1,
           134.8,
           113.3,
           119.2,
           218.2,
           220.1,
           177.5,
           132.5,
           222.9,
           133.4,
           112.3,
           129.4,
           195.5,
           118.5,
           421.1,
           135.3,
           549.1,
           133.8,
           132,
           133.3,
           132.6,
           117.5,
           247.2,
           133.1,
           125.6,
           182.2,
           168.3,
           148.2,
           146.2,
           142,
           121.2,
           115,
           120.9,
           151.9,
           226.8,
           173.8,
           107.1,
           119.6,
           118,
           126.2,
           123.7,
           281.6,
           126.8,
           125.7,
           170.5,
           148.3,
           378.1,
           124,
           103.3,
           136.4,
           123.1,
           144.5,
           138.9,
           183.1,
           322.7,
           21061.3,
           146,
           183.1,
           282,
           123.2,
           123.2,
           252,
           117.3,
           324.8,
           38796.5,
           null,
           964.8,
           123.8,
           102.2,
           102.2,
           7390.2,
           225,
           209.5,
           120.6,
           159.1,
           129.2,
           146.5,
           155.6,
           187.9,
           542.4,
           254.1,
           147.4,
           149,
           201.2,
           380.3,
           117.4,
           136.1,
           136.1,
           134.2,
           134.2,
           261.8,
           386.7,
           132.1,
           2409493549038.6,
           177.4,
           337.9,
           227.1,
           124.7,
           151.6,
           913,
           339.7,
           15874
          ]
         ]
        }
       ],
       "layout": {
        "coloraxis": {
         "colorscale": [
          [
           0,
           "#440154"
          ],
          [
           0.1111111111111111,
           "#482878"
          ],
          [
           0.2222222222222222,
           "#3e4989"
          ],
          [
           0.3333333333333333,
           "#31688e"
          ],
          [
           0.4444444444444444,
           "#26828e"
          ],
          [
           0.5555555555555556,
           "#1f9e89"
          ],
          [
           0.6666666666666666,
           "#35b779"
          ],
          [
           0.7777777777777778,
           "#6ece58"
          ],
          [
           0.8888888888888888,
           "#b5de2b"
          ],
          [
           1,
           "#fde725"
          ]
         ]
        },
        "template": {
         "data": {
          "bar": [
           {
            "error_x": {
             "color": "#2a3f5f"
            },
            "error_y": {
             "color": "#2a3f5f"
            },
            "marker": {
             "line": {
              "color": "#E5ECF6",
              "width": 0.5
             },
             "pattern": {
              "fillmode": "overlay",
              "size": 10,
              "solidity": 0.2
             }
            },
            "type": "bar"
           }
          ],
          "barpolar": [
           {
            "marker": {
             "line": {
              "color": "#E5ECF6",
              "width": 0.5
             },
             "pattern": {
              "fillmode": "overlay",
              "size": 10,
              "solidity": 0.2
             }
            },
            "type": "barpolar"
           }
          ],
          "carpet": [
           {
            "aaxis": {
             "endlinecolor": "#2a3f5f",
             "gridcolor": "white",
             "linecolor": "white",
             "minorgridcolor": "white",
             "startlinecolor": "#2a3f5f"
            },
            "baxis": {
             "endlinecolor": "#2a3f5f",
             "gridcolor": "white",
             "linecolor": "white",
             "minorgridcolor": "white",
             "startlinecolor": "#2a3f5f"
            },
            "type": "carpet"
           }
          ],
          "choropleth": [
           {
            "colorbar": {
             "outlinewidth": 0,
             "ticks": ""
            },
            "type": "choropleth"
           }
          ],
          "contour": [
           {
            "colorbar": {
             "outlinewidth": 0,
             "ticks": ""
            },
            "colorscale": [
             [
              0,
              "#0d0887"
             ],
             [
              0.1111111111111111,
              "#46039f"
             ],
             [
              0.2222222222222222,
              "#7201a8"
             ],
             [
              0.3333333333333333,
              "#9c179e"
             ],
             [
              0.4444444444444444,
              "#bd3786"
             ],
             [
              0.5555555555555556,
              "#d8576b"
             ],
             [
              0.6666666666666666,
              "#ed7953"
             ],
             [
              0.7777777777777778,
              "#fb9f3a"
             ],
             [
              0.8888888888888888,
              "#fdca26"
             ],
             [
              1,
              "#f0f921"
             ]
            ],
            "type": "contour"
           }
          ],
          "contourcarpet": [
           {
            "colorbar": {
             "outlinewidth": 0,
             "ticks": ""
            },
            "type": "contourcarpet"
           }
          ],
          "heatmap": [
           {
            "colorbar": {
             "outlinewidth": 0,
             "ticks": ""
            },
            "colorscale": [
             [
              0,
              "#0d0887"
             ],
             [
              0.1111111111111111,
              "#46039f"
             ],
             [
              0.2222222222222222,
              "#7201a8"
             ],
             [
              0.3333333333333333,
              "#9c179e"
             ],
             [
              0.4444444444444444,
              "#bd3786"
             ],
             [
              0.5555555555555556,
              "#d8576b"
             ],
             [
              0.6666666666666666,
              "#ed7953"
             ],
             [
              0.7777777777777778,
              "#fb9f3a"
             ],
             [
              0.8888888888888888,
              "#fdca26"
             ],
             [
              1,
              "#f0f921"
             ]
            ],
            "type": "heatmap"
           }
          ],
          "heatmapgl": [
           {
            "colorbar": {
             "outlinewidth": 0,
             "ticks": ""
            },
            "colorscale": [
             [
              0,
              "#0d0887"
             ],
             [
              0.1111111111111111,
              "#46039f"
             ],
             [
              0.2222222222222222,
              "#7201a8"
             ],
             [
              0.3333333333333333,
              "#9c179e"
             ],
             [
              0.4444444444444444,
              "#bd3786"
             ],
             [
              0.5555555555555556,
              "#d8576b"
             ],
             [
              0.6666666666666666,
              "#ed7953"
             ],
             [
              0.7777777777777778,
              "#fb9f3a"
             ],
             [
              0.8888888888888888,
              "#fdca26"
             ],
             [
              1,
              "#f0f921"
             ]
            ],
            "type": "heatmapgl"
           }
          ],
          "histogram": [
           {
            "marker": {
             "pattern": {
              "fillmode": "overlay",
              "size": 10,
              "solidity": 0.2
             }
            },
            "type": "histogram"
           }
          ],
          "histogram2d": [
           {
            "colorbar": {
             "outlinewidth": 0,
             "ticks": ""
            },
            "colorscale": [
             [
              0,
              "#0d0887"
             ],
             [
              0.1111111111111111,
              "#46039f"
             ],
             [
              0.2222222222222222,
              "#7201a8"
             ],
             [
              0.3333333333333333,
              "#9c179e"
             ],
             [
              0.4444444444444444,
              "#bd3786"
             ],
             [
              0.5555555555555556,
              "#d8576b"
             ],
             [
              0.6666666666666666,
              "#ed7953"
             ],
             [
              0.7777777777777778,
              "#fb9f3a"
             ],
             [
              0.8888888888888888,
              "#fdca26"
             ],
             [
              1,
              "#f0f921"
             ]
            ],
            "type": "histogram2d"
           }
          ],
          "histogram2dcontour": [
           {
            "colorbar": {
             "outlinewidth": 0,
             "ticks": ""
            },
            "colorscale": [
             [
              0,
              "#0d0887"
             ],
             [
              0.1111111111111111,
              "#46039f"
             ],
             [
              0.2222222222222222,
              "#7201a8"
             ],
             [
              0.3333333333333333,
              "#9c179e"
             ],
             [
              0.4444444444444444,
              "#bd3786"
             ],
             [
              0.5555555555555556,
              "#d8576b"
             ],
             [
              0.6666666666666666,
              "#ed7953"
             ],
             [
              0.7777777777777778,
              "#fb9f3a"
             ],
             [
              0.8888888888888888,
              "#fdca26"
             ],
             [
              1,
              "#f0f921"
             ]
            ],
            "type": "histogram2dcontour"
           }
          ],
          "mesh3d": [
           {
            "colorbar": {
             "outlinewidth": 0,
             "ticks": ""
            },
            "type": "mesh3d"
           }
          ],
          "parcoords": [
           {
            "line": {
             "colorbar": {
              "outlinewidth": 0,
              "ticks": ""
             }
            },
            "type": "parcoords"
           }
          ],
          "pie": [
           {
            "automargin": true,
            "type": "pie"
           }
          ],
          "scatter": [
           {
            "fillpattern": {
             "fillmode": "overlay",
             "size": 10,
             "solidity": 0.2
            },
            "type": "scatter"
           }
          ],
          "scatter3d": [
           {
            "line": {
             "colorbar": {
              "outlinewidth": 0,
              "ticks": ""
             }
            },
            "marker": {
             "colorbar": {
              "outlinewidth": 0,
              "ticks": ""
             }
            },
            "type": "scatter3d"
           }
          ],
          "scattercarpet": [
           {
            "marker": {
             "colorbar": {
              "outlinewidth": 0,
              "ticks": ""
             }
            },
            "type": "scattercarpet"
           }
          ],
          "scattergeo": [
           {
            "marker": {
             "colorbar": {
              "outlinewidth": 0,
              "ticks": ""
             }
            },
            "type": "scattergeo"
           }
          ],
          "scattergl": [
           {
            "marker": {
             "colorbar": {
              "outlinewidth": 0,
              "ticks": ""
             }
            },
            "type": "scattergl"
           }
          ],
          "scattermapbox": [
           {
            "marker": {
             "colorbar": {
              "outlinewidth": 0,
              "ticks": ""
             }
            },
            "type": "scattermapbox"
           }
          ],
          "scatterpolar": [
           {
            "marker": {
             "colorbar": {
              "outlinewidth": 0,
              "ticks": ""
             }
            },
            "type": "scatterpolar"
           }
          ],
          "scatterpolargl": [
           {
            "marker": {
             "colorbar": {
              "outlinewidth": 0,
              "ticks": ""
             }
            },
            "type": "scatterpolargl"
           }
          ],
          "scatterternary": [
           {
            "marker": {
             "colorbar": {
              "outlinewidth": 0,
              "ticks": ""
             }
            },
            "type": "scatterternary"
           }
          ],
          "surface": [
           {
            "colorbar": {
             "outlinewidth": 0,
             "ticks": ""
            },
            "colorscale": [
             [
              0,
              "#0d0887"
             ],
             [
              0.1111111111111111,
              "#46039f"
             ],
             [
              0.2222222222222222,
              "#7201a8"
             ],
             [
              0.3333333333333333,
              "#9c179e"
             ],
             [
              0.4444444444444444,
              "#bd3786"
             ],
             [
              0.5555555555555556,
              "#d8576b"
             ],
             [
              0.6666666666666666,
              "#ed7953"
             ],
             [
              0.7777777777777778,
              "#fb9f3a"
             ],
             [
              0.8888888888888888,
              "#fdca26"
             ],
             [
              1,
              "#f0f921"
             ]
            ],
            "type": "surface"
           }
          ],
          "table": [
           {
            "cells": {
             "fill": {
              "color": "#EBF0F8"
             },
             "line": {
              "color": "white"
             }
            },
            "header": {
             "fill": {
              "color": "#C8D4E3"
             },
             "line": {
              "color": "white"
             }
            },
            "type": "table"
           }
          ]
         },
         "layout": {
          "annotationdefaults": {
           "arrowcolor": "#2a3f5f",
           "arrowhead": 0,
           "arrowwidth": 1
          },
          "autotypenumbers": "strict",
          "coloraxis": {
           "colorbar": {
            "outlinewidth": 0,
            "ticks": ""
           }
          },
          "colorscale": {
           "diverging": [
            [
             0,
             "#8e0152"
            ],
            [
             0.1,
             "#c51b7d"
            ],
            [
             0.2,
             "#de77ae"
            ],
            [
             0.3,
             "#f1b6da"
            ],
            [
             0.4,
             "#fde0ef"
            ],
            [
             0.5,
             "#f7f7f7"
            ],
            [
             0.6,
             "#e6f5d0"
            ],
            [
             0.7,
             "#b8e186"
            ],
            [
             0.8,
             "#7fbc41"
            ],
            [
             0.9,
             "#4d9221"
            ],
            [
             1,
             "#276419"
            ]
           ],
           "sequential": [
            [
             0,
             "#0d0887"
            ],
            [
             0.1111111111111111,
             "#46039f"
            ],
            [
             0.2222222222222222,
             "#7201a8"
            ],
            [
             0.3333333333333333,
             "#9c179e"
            ],
            [
             0.4444444444444444,
             "#bd3786"
            ],
            [
             0.5555555555555556,
             "#d8576b"
            ],
            [
             0.6666666666666666,
             "#ed7953"
            ],
            [
             0.7777777777777778,
             "#fb9f3a"
            ],
            [
             0.8888888888888888,
             "#fdca26"
            ],
            [
             1,
             "#f0f921"
            ]
           ],
           "sequentialminus": [
            [
             0,
             "#0d0887"
            ],
            [
             0.1111111111111111,
             "#46039f"
            ],
            [
             0.2222222222222222,
             "#7201a8"
            ],
            [
             0.3333333333333333,
             "#9c179e"
            ],
            [
             0.4444444444444444,
             "#bd3786"
            ],
            [
             0.5555555555555556,
             "#d8576b"
            ],
            [
             0.6666666666666666,
             "#ed7953"
            ],
            [
             0.7777777777777778,
             "#fb9f3a"
            ],
            [
             0.8888888888888888,
             "#fdca26"
            ],
            [
             1,
             "#f0f921"
            ]
           ]
          },
          "colorway": [
           "#636efa",
           "#EF553B",
           "#00cc96",
           "#ab63fa",
           "#FFA15A",
           "#19d3f3",
           "#FF6692",
           "#B6E880",
           "#FF97FF",
           "#FECB52"
          ],
          "font": {
           "color": "#2a3f5f"
          },
          "geo": {
           "bgcolor": "white",
           "lakecolor": "white",
           "landcolor": "#E5ECF6",
           "showlakes": true,
           "showland": true,
           "subunitcolor": "white"
          },
          "hoverlabel": {
           "align": "left"
          },
          "hovermode": "closest",
          "mapbox": {
           "style": "light"
          },
          "paper_bgcolor": "white",
          "plot_bgcolor": "#E5ECF6",
          "polar": {
           "angularaxis": {
            "gridcolor": "white",
            "linecolor": "white",
            "ticks": ""
           },
           "bgcolor": "#E5ECF6",
           "radialaxis": {
            "gridcolor": "white",
            "linecolor": "white",
            "ticks": ""
           }
          },
          "scene": {
           "xaxis": {
            "backgroundcolor": "#E5ECF6",
            "gridcolor": "white",
            "gridwidth": 2,
            "linecolor": "white",
            "showbackground": true,
            "ticks": "",
            "zerolinecolor": "white"
           },
           "yaxis": {
            "backgroundcolor": "#E5ECF6",
            "gridcolor": "white",
            "gridwidth": 2,
            "linecolor": "white",
            "showbackground": true,
            "ticks": "",
            "zerolinecolor": "white"
           },
           "zaxis": {
            "backgroundcolor": "#E5ECF6",
            "gridcolor": "white",
            "gridwidth": 2,
            "linecolor": "white",
            "showbackground": true,
            "ticks": "",
            "zerolinecolor": "white"
           }
          },
          "shapedefaults": {
           "line": {
            "color": "#2a3f5f"
           }
          },
          "ternary": {
           "aaxis": {
            "gridcolor": "white",
            "linecolor": "white",
            "ticks": ""
           },
           "baxis": {
            "gridcolor": "white",
            "linecolor": "white",
            "ticks": ""
           },
           "bgcolor": "#E5ECF6",
           "caxis": {
            "gridcolor": "white",
            "linecolor": "white",
            "ticks": ""
           }
          },
          "title": {
           "x": 0.05
          },
          "xaxis": {
           "automargin": true,
           "gridcolor": "white",
           "linecolor": "white",
           "ticks": "",
           "title": {
            "standoff": 15
           },
           "zerolinecolor": "white",
           "zerolinewidth": 2
          },
          "yaxis": {
           "automargin": true,
           "gridcolor": "white",
           "linecolor": "white",
           "ticks": "",
           "title": {
            "standoff": 15
           },
           "zerolinecolor": "white",
           "zerolinewidth": 2
          }
         }
        },
        "title": {
         "text": "Impact of Covid-19 on Consumer Price"
        },
        "xaxis": {
         "anchor": "y",
         "automargin": true,
         "constrain": "domain",
         "domain": [
          0,
          1
         ],
         "scaleanchor": "y",
         "tickangle": 45,
         "tickmode": "linear",
         "ticks": "outside",
         "title": {
          "text": "Country"
         }
        },
        "yaxis": {
         "anchor": "x",
         "automargin": true,
         "autorange": "reversed",
         "constrain": "domain",
         "domain": [
          0,
          1
         ],
         "tickmode": "linear",
         "ticks": "outside",
         "title": {
          "text": "Year"
         }
        }
       }
      }
     },
     "metadata": {},
     "output_type": "display_data"
    }
   ],
   "source": [
    "import plotly.express as px\n",
    "\n",
    "def create_consumer_price_heatmap(melted_data):\n",
    "    # Create a pivot table from the melted data\n",
    "    pivot_data = melted_data.pivot(index='Country', columns='Year', values='Consumer Price')\n",
    "\n",
    "    # Create a heatmap using Plotly Express\n",
    "    fig = px.imshow(\n",
    "        pivot_data.transpose(),  # Transpose the pivot table for better visualization\n",
    "        title='Impact of Covid-19 on Consumer Price',\n",
    "        labels=dict(x=\"Country\", y=\"Year\", color=\"Consumer Price Index\"),\n",
    "        color_continuous_scale='Viridis'  # Choose a color scale\n",
    "    )\n",
    "\n",
    "    # Adjust x-axis and y-axis properties\n",
    "    fig.update_xaxes(tickangle=45,  # Rotate x-axis labels for better visibility\n",
    "                     tickmode='linear',  # Ensure all ticks are displayed\n",
    "                     ticks='outside',  # Draw ticks outside the axis\n",
    "                     automargin=True)  # Automatically adjust margins\n",
    "\n",
    "    fig.update_yaxes(tickmode='linear',  # Ensure all ticks are displayed\n",
    "                     ticks='outside',  # Draw ticks outside the axis\n",
    "                     automargin=True)  # Automatically adjust margins\n",
    "    \n",
    "    return fig\n",
    "\n",
    "create_consumer_price_heatmap(melted_data)"
   ]
  },
  {
   "cell_type": "code",
   "execution_count": null,
   "metadata": {},
   "outputs": [],
   "source": []
  },
  {
   "cell_type": "code",
   "execution_count": 56,
   "metadata": {},
   "outputs": [
    {
     "data": {
      "text/plain": [
       "'\\nThe trend of inflation rates across countries before, during, and after COVID-19 reflects the significant economic disruptions caused by the pandemic. Here’s an overview:\\n\\nBefore COVID-19 (Pre-2020):\\nStable or Low Inflation:\\nIn many advanced economies (e.g., U.S., EU, Japan), inflation rates were relatively stable or low due to steady growth, controlled central bank policies, and low global energy prices.\\nEmerging economies saw more variability depending on local conditions, but inflation was generally under control.\\nGlobalization & Supply Chain Efficiency:\\nThe global supply chains were functioning smoothly, contributing to stable inflation levels, as production costs were kept in check through outsourcing and international trade.\\n\\n\\nDuring COVID-19 (2020-2021):\\nInitial Deflationary Pressure (Early 2020):\\nAt the onset of the pandemic, there was a sharp drop in consumer demand as lockdowns and social distancing measures were imposed. This led to a deflationary environment in some sectors (e.g., travel, hospitality).\\nOil prices dropped significantly, reducing inflationary pressure in energy-dependent sectors.\\nSupply Chain Disruptions & Inflationary Pressure (Mid to Late 2020):\\nAs the pandemic progressed, global supply chains were severely disrupted due to factory closures, transportation bottlenecks, and labor shortages. This led to scarcity of goods, pushing prices upward.\\nGovernments worldwide implemented large fiscal stimulus packages to prevent economic collapse. Central banks cut interest rates and engaged in quantitative easing, increasing money supply, which started driving inflation upwards.\\nDivergent Inflation Trends:\\nAdvanced economies generally saw moderate inflation during the pandemic, as demand remained suppressed due to lockdowns and cautious consumer behavior.\\nEmerging economies, especially those heavily reliant on imports or with weaker currencies, faced sharper inflation spikes due to supply chain issues and depreciated currencies.\\n\\n\\nAfter COVID-19 (2021-2024):\\nSharp Rise in Inflation (2021-2022):\\nAs economies reopened, there was a surge in demand for goods and services, especially as consumers released pent-up savings. However, supply chains had not fully recovered, leading to a significant mismatch between supply and demand.\\nEnergy prices, particularly oil and gas, soared due to supply constraints, further contributing to inflation.\\nCentral banks initially viewed the inflation as \"transitory,\" expecting it to ease once supply chains normalized. However, it persisted longer than expected.\\nPost-Pandemic Inflationary Peaks (2022-2023):\\nMany countries, especially in the U.S., Europe, and some emerging markets, experienced inflation reaching multi-decade highs. Key drivers included labor shortages, rising energy prices, and continued supply chain disruptions.\\nCentral banks began tightening monetary policies by raising interest rates to curb inflation. For example, the Federal Reserve and European Central Bank increased rates, which eventually started slowing inflation.\\nDisinflation (2023 and beyond):\\nBy late 2023 and into 2024, inflation rates began to moderate in many countries as supply chains improved, energy prices stabilized, and the effects of higher interest rates curtailed demand.\\nHowever, inflation levels in some regions remained elevated due to structural issues like wage increases or geopolitical tensions (e.g., energy supply disruptions from conflicts).\\nKey Takeaways:\\nPre-COVID: Inflation was stable and low, particularly in advanced economies.\\nDuring COVID: Initial deflation, followed by rising inflation due to supply chain issues and fiscal stimulus.\\nPost-COVID: Sharp inflation spike as economies reopened, followed by efforts to bring inflation under control through monetary tightening, leading to disinflation.\\nThe post-COVID inflation trajectory varies across countries based on factors like energy dependence, fiscal policies, and the robustness of economic recovery.\\n'"
      ]
     },
     "execution_count": 56,
     "metadata": {},
     "output_type": "execute_result"
    }
   ],
   "source": [
    "'''\n",
    "The trend of inflation rates across countries before, during, and after COVID-19 reflects the significant economic disruptions caused by the pandemic. Here’s an overview:\n",
    "\n",
    "Before COVID-19 (Pre-2020):\n",
    "Stable or Low Inflation:\n",
    "In many advanced economies (e.g., U.S., EU, Japan), inflation rates were relatively stable or low due to steady growth, controlled central bank policies, and low global energy prices.\n",
    "Emerging economies saw more variability depending on local conditions, but inflation was generally under control.\n",
    "Globalization & Supply Chain Efficiency:\n",
    "The global supply chains were functioning smoothly, contributing to stable inflation levels, as production costs were kept in check through outsourcing and international trade.\n",
    "\n",
    "\n",
    "During COVID-19 (2020-2021):\n",
    "Initial Deflationary Pressure (Early 2020):\n",
    "At the onset of the pandemic, there was a sharp drop in consumer demand as lockdowns and social distancing measures were imposed. This led to a deflationary environment in some sectors (e.g., travel, hospitality).\n",
    "Oil prices dropped significantly, reducing inflationary pressure in energy-dependent sectors.\n",
    "Supply Chain Disruptions & Inflationary Pressure (Mid to Late 2020):\n",
    "As the pandemic progressed, global supply chains were severely disrupted due to factory closures, transportation bottlenecks, and labor shortages. This led to scarcity of goods, pushing prices upward.\n",
    "Governments worldwide implemented large fiscal stimulus packages to prevent economic collapse. Central banks cut interest rates and engaged in quantitative easing, increasing money supply, which started driving inflation upwards.\n",
    "Divergent Inflation Trends:\n",
    "Advanced economies generally saw moderate inflation during the pandemic, as demand remained suppressed due to lockdowns and cautious consumer behavior.\n",
    "Emerging economies, especially those heavily reliant on imports or with weaker currencies, faced sharper inflation spikes due to supply chain issues and depreciated currencies.\n",
    "\n",
    "\n",
    "After COVID-19 (2021-2024):\n",
    "Sharp Rise in Inflation (2021-2022):\n",
    "As economies reopened, there was a surge in demand for goods and services, especially as consumers released pent-up savings. However, supply chains had not fully recovered, leading to a significant mismatch between supply and demand.\n",
    "Energy prices, particularly oil and gas, soared due to supply constraints, further contributing to inflation.\n",
    "Central banks initially viewed the inflation as \"transitory,\" expecting it to ease once supply chains normalized. However, it persisted longer than expected.\n",
    "Post-Pandemic Inflationary Peaks (2022-2023):\n",
    "Many countries, especially in the U.S., Europe, and some emerging markets, experienced inflation reaching multi-decade highs. Key drivers included labor shortages, rising energy prices, and continued supply chain disruptions.\n",
    "Central banks began tightening monetary policies by raising interest rates to curb inflation. For example, the Federal Reserve and European Central Bank increased rates, which eventually started slowing inflation.\n",
    "Disinflation (2023 and beyond):\n",
    "By late 2023 and into 2024, inflation rates began to moderate in many countries as supply chains improved, energy prices stabilized, and the effects of higher interest rates curtailed demand.\n",
    "However, inflation levels in some regions remained elevated due to structural issues like wage increases or geopolitical tensions (e.g., energy supply disruptions from conflicts).\n",
    "Key Takeaways:\n",
    "Pre-COVID: Inflation was stable and low, particularly in advanced economies.\n",
    "During COVID: Initial deflation, followed by rising inflation due to supply chain issues and fiscal stimulus.\n",
    "Post-COVID: Sharp inflation spike as economies reopened, followed by efforts to bring inflation under control through monetary tightening, leading to disinflation.\n",
    "The post-COVID inflation trajectory varies across countries based on factors like energy dependence, fiscal policies, and the robustness of economic recovery.\n",
    "'''"
   ]
  },
  {
   "cell_type": "code",
   "execution_count": 27,
   "metadata": {},
   "outputs": [
    {
     "data": {
      "text/html": [
       "<div>\n",
       "<style scoped>\n",
       "    .dataframe tbody tr th:only-of-type {\n",
       "        vertical-align: middle;\n",
       "    }\n",
       "\n",
       "    .dataframe tbody tr th {\n",
       "        vertical-align: top;\n",
       "    }\n",
       "\n",
       "    .dataframe thead th {\n",
       "        text-align: right;\n",
       "    }\n",
       "</style>\n",
       "<table border=\"1\" class=\"dataframe\">\n",
       "  <thead>\n",
       "    <tr style=\"text-align: right;\">\n",
       "      <th></th>\n",
       "      <th>Commodity_Label</th>\n",
       "      <th>2010_Prices_Value</th>\n",
       "      <th>2011_Prices_Value</th>\n",
       "      <th>2012_Prices_Value</th>\n",
       "      <th>2013_Prices_Value</th>\n",
       "      <th>2014_Prices_Value</th>\n",
       "      <th>2015_Prices_Value</th>\n",
       "      <th>2016_Prices_Value</th>\n",
       "      <th>2017_Prices_Value</th>\n",
       "      <th>2018_Prices_Value</th>\n",
       "      <th>2019_Prices_Value</th>\n",
       "      <th>2020_Prices_Value</th>\n",
       "      <th>2021_Prices_Value</th>\n",
       "      <th>2022_Prices_Value</th>\n",
       "      <th>2023_Prices_Value</th>\n",
       "    </tr>\n",
       "  </thead>\n",
       "  <tbody>\n",
       "    <tr>\n",
       "      <th>0</th>\n",
       "      <td>Bananas, Central and South America, FOT, US im...</td>\n",
       "      <td>0.9</td>\n",
       "      <td>1.0</td>\n",
       "      <td>1.0</td>\n",
       "      <td>0.9</td>\n",
       "      <td>0.9</td>\n",
       "      <td>0.9</td>\n",
       "      <td>1.0</td>\n",
       "      <td>1.1</td>\n",
       "      <td>1.1</td>\n",
       "      <td>1.1</td>\n",
       "      <td>1.2</td>\n",
       "      <td>1.2</td>\n",
       "      <td>1.5</td>\n",
       "      <td>1.6</td>\n",
       "    </tr>\n",
       "    <tr>\n",
       "      <th>1</th>\n",
       "      <td>Bananas, Central America, Main Brands (average...</td>\n",
       "      <td>0.9</td>\n",
       "      <td>1.0</td>\n",
       "      <td>1.0</td>\n",
       "      <td>0.9</td>\n",
       "      <td>1.0</td>\n",
       "      <td>1.0</td>\n",
       "      <td>0.9</td>\n",
       "      <td>0.9</td>\n",
       "      <td>NaN</td>\n",
       "      <td>NaN</td>\n",
       "      <td>NaN</td>\n",
       "      <td>NaN</td>\n",
       "      <td>NaN</td>\n",
       "      <td>NaN</td>\n",
       "    </tr>\n",
       "    <tr>\n",
       "      <th>2</th>\n",
       "      <td>Beef, Australia/New Zealand, frozen, CIF US po...</td>\n",
       "      <td>3.4</td>\n",
       "      <td>4.1</td>\n",
       "      <td>4.2</td>\n",
       "      <td>4.1</td>\n",
       "      <td>5.0</td>\n",
       "      <td>4.5</td>\n",
       "      <td>4.1</td>\n",
       "      <td>4.4</td>\n",
       "      <td>4.2</td>\n",
       "      <td>4.8</td>\n",
       "      <td>4.7</td>\n",
       "      <td>5.3</td>\n",
       "      <td>5.6</td>\n",
       "      <td>4.9</td>\n",
       "    </tr>\n",
       "    <tr>\n",
       "      <th>3</th>\n",
       "      <td>Maize, Argentina, Rosario, Up River, FOB ($/t)</td>\n",
       "      <td>196.7</td>\n",
       "      <td>288.4</td>\n",
       "      <td>271.4</td>\n",
       "      <td>243.4</td>\n",
       "      <td>199.9</td>\n",
       "      <td>169.2</td>\n",
       "      <td>175.4</td>\n",
       "      <td>159.6</td>\n",
       "      <td>172.2</td>\n",
       "      <td>165.1</td>\n",
       "      <td>180.0</td>\n",
       "      <td>248.2</td>\n",
       "      <td>300.3</td>\n",
       "      <td>254.3</td>\n",
       "    </tr>\n",
       "    <tr>\n",
       "      <th>4</th>\n",
       "      <td>Maize, United States, n° 3 yellow, FOB Gulf ($/t)</td>\n",
       "      <td>195.1</td>\n",
       "      <td>292.9</td>\n",
       "      <td>300.7</td>\n",
       "      <td>264.3</td>\n",
       "      <td>205.6</td>\n",
       "      <td>175.5</td>\n",
       "      <td>168.2</td>\n",
       "      <td>160.8</td>\n",
       "      <td>172.4</td>\n",
       "      <td>176.2</td>\n",
       "      <td>181.0</td>\n",
       "      <td>271.4</td>\n",
       "      <td>328.7</td>\n",
       "      <td>254.5</td>\n",
       "    </tr>\n",
       "    <tr>\n",
       "      <th>5</th>\n",
       "      <td>Rice, Thailand, white milled, 5% broken, expor...</td>\n",
       "      <td>488.9</td>\n",
       "      <td>543.0</td>\n",
       "      <td>563.0</td>\n",
       "      <td>505.9</td>\n",
       "      <td>422.8</td>\n",
       "      <td>386.0</td>\n",
       "      <td>396.2</td>\n",
       "      <td>398.9</td>\n",
       "      <td>420.7</td>\n",
       "      <td>418.0</td>\n",
       "      <td>496.8</td>\n",
       "      <td>458.3</td>\n",
       "      <td>436.8</td>\n",
       "      <td>553.7</td>\n",
       "    </tr>\n",
       "    <tr>\n",
       "      <th>6</th>\n",
       "      <td>Salmon, fresh, fish-farm bred, export price, N...</td>\n",
       "      <td>6.2</td>\n",
       "      <td>5.9</td>\n",
       "      <td>4.8</td>\n",
       "      <td>6.8</td>\n",
       "      <td>6.6</td>\n",
       "      <td>5.3</td>\n",
       "      <td>7.2</td>\n",
       "      <td>7.4</td>\n",
       "      <td>7.5</td>\n",
       "      <td>6.9</td>\n",
       "      <td>6.1</td>\n",
       "      <td>6.9</td>\n",
       "      <td>8.4</td>\n",
       "      <td>9.0</td>\n",
       "    </tr>\n",
       "    <tr>\n",
       "      <th>7</th>\n",
       "      <td>Shrimps, brown, no. 1, shell-on, headless, Mex...</td>\n",
       "      <td>10.6</td>\n",
       "      <td>12.1</td>\n",
       "      <td>11.5</td>\n",
       "      <td>14.2</td>\n",
       "      <td>17.8</td>\n",
       "      <td>13.2</td>\n",
       "      <td>11.2</td>\n",
       "      <td>13.3</td>\n",
       "      <td>12.2</td>\n",
       "      <td>12.6</td>\n",
       "      <td>12.7</td>\n",
       "      <td>13.7</td>\n",
       "      <td>13.5</td>\n",
       "      <td>NaN</td>\n",
       "    </tr>\n",
       "    <tr>\n",
       "      <th>8</th>\n",
       "      <td>Soybean meal, in bulk, 45/46% protein, Hamburg...</td>\n",
       "      <td>398.3</td>\n",
       "      <td>408.7</td>\n",
       "      <td>531.7</td>\n",
       "      <td>543.5</td>\n",
       "      <td>522.5</td>\n",
       "      <td>389.4</td>\n",
       "      <td>374.7</td>\n",
       "      <td>350.2</td>\n",
       "      <td>405.2</td>\n",
       "      <td>347.0</td>\n",
       "      <td>394.2</td>\n",
       "      <td>481.0</td>\n",
       "      <td>547.9</td>\n",
       "      <td>541.4</td>\n",
       "    </tr>\n",
       "    <tr>\n",
       "      <th>9</th>\n",
       "      <td>Sugar, average of I.S.A. daily prices, FOB &amp; S...</td>\n",
       "      <td>21.3</td>\n",
       "      <td>26.0</td>\n",
       "      <td>21.5</td>\n",
       "      <td>17.7</td>\n",
       "      <td>17.0</td>\n",
       "      <td>13.4</td>\n",
       "      <td>18.1</td>\n",
       "      <td>16.0</td>\n",
       "      <td>12.6</td>\n",
       "      <td>12.7</td>\n",
       "      <td>12.8</td>\n",
       "      <td>17.7</td>\n",
       "      <td>18.5</td>\n",
       "      <td>23.4</td>\n",
       "    </tr>\n",
       "    <tr>\n",
       "      <th>10</th>\n",
       "      <td>Wheat, Argentina, Trigo Pan, Up River, FOB ($/t)</td>\n",
       "      <td>252.2</td>\n",
       "      <td>306.8</td>\n",
       "      <td>295.8</td>\n",
       "      <td>325.3</td>\n",
       "      <td>301.2</td>\n",
       "      <td>225.2</td>\n",
       "      <td>195.3</td>\n",
       "      <td>186.1</td>\n",
       "      <td>228.6</td>\n",
       "      <td>227.8</td>\n",
       "      <td>244.8</td>\n",
       "      <td>285.9</td>\n",
       "      <td>406.4</td>\n",
       "      <td>327.8</td>\n",
       "    </tr>\n",
       "    <tr>\n",
       "      <th>11</th>\n",
       "      <td>Wheat, United States, n° 2 Hard Red Winter (or...</td>\n",
       "      <td>243.1</td>\n",
       "      <td>328.6</td>\n",
       "      <td>328.3</td>\n",
       "      <td>321.9</td>\n",
       "      <td>302.3</td>\n",
       "      <td>232.3</td>\n",
       "      <td>196.4</td>\n",
       "      <td>211.8</td>\n",
       "      <td>241.1</td>\n",
       "      <td>219.8</td>\n",
       "      <td>239.4</td>\n",
       "      <td>315.8</td>\n",
       "      <td>430.1</td>\n",
       "      <td>339.9</td>\n",
       "    </tr>\n",
       "    <tr>\n",
       "      <th>12</th>\n",
       "      <td>Cocoa beans, average daily prices New York/Lon...</td>\n",
       "      <td>142.1</td>\n",
       "      <td>135.2</td>\n",
       "      <td>108.5</td>\n",
       "      <td>110.6</td>\n",
       "      <td>139.0</td>\n",
       "      <td>142.2</td>\n",
       "      <td>131.2</td>\n",
       "      <td>92.0</td>\n",
       "      <td>104.0</td>\n",
       "      <td>106.2</td>\n",
       "      <td>107.5</td>\n",
       "      <td>110.1</td>\n",
       "      <td>107.5</td>\n",
       "      <td>147.8</td>\n",
       "    </tr>\n",
       "    <tr>\n",
       "      <th>13</th>\n",
       "      <td>Coffee, Brazilian and other natural Arabicas, ...</td>\n",
       "      <td>145.7</td>\n",
       "      <td>243.7</td>\n",
       "      <td>171.3</td>\n",
       "      <td>117.9</td>\n",
       "      <td>161.3</td>\n",
       "      <td>123.1</td>\n",
       "      <td>124.1</td>\n",
       "      <td>126.5</td>\n",
       "      <td>109.6</td>\n",
       "      <td>100.1</td>\n",
       "      <td>102.5</td>\n",
       "      <td>158.2</td>\n",
       "      <td>217.3</td>\n",
       "      <td>179.1</td>\n",
       "    </tr>\n",
       "    <tr>\n",
       "      <th>14</th>\n",
       "      <td>Coffee, Colombian mild Arabicas, ex-dock US (¢...</td>\n",
       "      <td>223.8</td>\n",
       "      <td>283.8</td>\n",
       "      <td>203.9</td>\n",
       "      <td>148.3</td>\n",
       "      <td>198.1</td>\n",
       "      <td>149.9</td>\n",
       "      <td>155.5</td>\n",
       "      <td>154.1</td>\n",
       "      <td>139.6</td>\n",
       "      <td>137.1</td>\n",
       "      <td>166.3</td>\n",
       "      <td>228.4</td>\n",
       "      <td>294.6</td>\n",
       "      <td>216.0</td>\n",
       "    </tr>\n",
       "    <tr>\n",
       "      <th>15</th>\n",
       "      <td>Coffee, other mild Arabicas, ex-dock EU (¢/lb.)</td>\n",
       "      <td>196.6</td>\n",
       "      <td>269.5</td>\n",
       "      <td>185.7</td>\n",
       "      <td>138.4</td>\n",
       "      <td>199.1</td>\n",
       "      <td>159.5</td>\n",
       "      <td>163.4</td>\n",
       "      <td>149.5</td>\n",
       "      <td>129.1</td>\n",
       "      <td>125.5</td>\n",
       "      <td>146.8</td>\n",
       "      <td>201.4</td>\n",
       "      <td>249.6</td>\n",
       "      <td>200.9</td>\n",
       "    </tr>\n",
       "    <tr>\n",
       "      <th>16</th>\n",
       "      <td>Coffee, other mild Arabicas, ex-dock US (¢/lb.)</td>\n",
       "      <td>194.4</td>\n",
       "      <td>273.2</td>\n",
       "      <td>187.5</td>\n",
       "      <td>141.1</td>\n",
       "      <td>202.8</td>\n",
       "      <td>160.5</td>\n",
       "      <td>164.6</td>\n",
       "      <td>152.4</td>\n",
       "      <td>137.4</td>\n",
       "      <td>137.4</td>\n",
       "      <td>156.9</td>\n",
       "      <td>209.8</td>\n",
       "      <td>265.7</td>\n",
       "      <td>214.9</td>\n",
       "    </tr>\n",
       "    <tr>\n",
       "      <th>17</th>\n",
       "      <td>Coffee, Robustas, ex-dock EU (¢/lb.)</td>\n",
       "      <td>77.6</td>\n",
       "      <td>107.9</td>\n",
       "      <td>101.3</td>\n",
       "      <td>93.0</td>\n",
       "      <td>99.5</td>\n",
       "      <td>86.8</td>\n",
       "      <td>87.4</td>\n",
       "      <td>100.3</td>\n",
       "      <td>84.0</td>\n",
       "      <td>72.2</td>\n",
       "      <td>66.7</td>\n",
       "      <td>87.7</td>\n",
       "      <td>101.8</td>\n",
       "      <td>116.2</td>\n",
       "    </tr>\n",
       "    <tr>\n",
       "      <th>18</th>\n",
       "      <td>Coffee, Robustas, ex-dock US (¢/lb.)</td>\n",
       "      <td>84.1</td>\n",
       "      <td>116.0</td>\n",
       "      <td>110.6</td>\n",
       "      <td>100.5</td>\n",
       "      <td>105.6</td>\n",
       "      <td>94.2</td>\n",
       "      <td>94.2</td>\n",
       "      <td>104.1</td>\n",
       "      <td>88.3</td>\n",
       "      <td>80.0</td>\n",
       "      <td>78.2</td>\n",
       "      <td>99.8</td>\n",
       "      <td>113.9</td>\n",
       "      <td>134.7</td>\n",
       "    </tr>\n",
       "    <tr>\n",
       "      <th>19</th>\n",
       "      <td>Tea, Kenya Mombasa/Nairobi, auction price ($/kg)</td>\n",
       "      <td>2.6</td>\n",
       "      <td>2.7</td>\n",
       "      <td>2.9</td>\n",
       "      <td>2.4</td>\n",
       "      <td>2.0</td>\n",
       "      <td>3.0</td>\n",
       "      <td>2.4</td>\n",
       "      <td>3.0</td>\n",
       "      <td>2.6</td>\n",
       "      <td>2.2</td>\n",
       "      <td>2.0</td>\n",
       "      <td>2.1</td>\n",
       "      <td>2.4</td>\n",
       "      <td>2.2</td>\n",
       "    </tr>\n",
       "    <tr>\n",
       "      <th>20</th>\n",
       "      <td>Coconut oil, in bulk, Philippines/Indonesia, C...</td>\n",
       "      <td>1123.6</td>\n",
       "      <td>1730.1</td>\n",
       "      <td>1110.8</td>\n",
       "      <td>939.5</td>\n",
       "      <td>1281.1</td>\n",
       "      <td>1103.5</td>\n",
       "      <td>1481.8</td>\n",
       "      <td>1650.7</td>\n",
       "      <td>996.8</td>\n",
       "      <td>735.6</td>\n",
       "      <td>1010.4</td>\n",
       "      <td>1636.3</td>\n",
       "      <td>1634.6</td>\n",
       "      <td>1075.2</td>\n",
       "    </tr>\n",
       "    <tr>\n",
       "      <th>21</th>\n",
       "      <td>Groundnut oil, in bulk, any origin, CIF Rotter...</td>\n",
       "      <td>1401.0</td>\n",
       "      <td>1866.1</td>\n",
       "      <td>2359.1</td>\n",
       "      <td>1820.6</td>\n",
       "      <td>1395.0</td>\n",
       "      <td>1378.0</td>\n",
       "      <td>1380.6</td>\n",
       "      <td>1460.8</td>\n",
       "      <td>1446.0</td>\n",
       "      <td>1407.4</td>\n",
       "      <td>1697.8</td>\n",
       "      <td>2075.1</td>\n",
       "      <td>2202.6</td>\n",
       "      <td>2034.7</td>\n",
       "    </tr>\n",
       "    <tr>\n",
       "      <th>22</th>\n",
       "      <td>Palm kernel oil, in bulk, Malaysia/Indonesia, ...</td>\n",
       "      <td>1187.4</td>\n",
       "      <td>1653.6</td>\n",
       "      <td>1107.4</td>\n",
       "      <td>896.9</td>\n",
       "      <td>1119.7</td>\n",
       "      <td>903.3</td>\n",
       "      <td>1301.3</td>\n",
       "      <td>1288.5</td>\n",
       "      <td>926.5</td>\n",
       "      <td>665.4</td>\n",
       "      <td>824.1</td>\n",
       "      <td>1533.1</td>\n",
       "      <td>1616.7</td>\n",
       "      <td>990.5</td>\n",
       "    </tr>\n",
       "    <tr>\n",
       "      <th>23</th>\n",
       "      <td>Palm oil, in bulk, Malaysia/Indonesia, 5% FFA,...</td>\n",
       "      <td>933.0</td>\n",
       "      <td>1193.4</td>\n",
       "      <td>1043.4</td>\n",
       "      <td>870.7</td>\n",
       "      <td>837.5</td>\n",
       "      <td>663.4</td>\n",
       "      <td>735.7</td>\n",
       "      <td>750.8</td>\n",
       "      <td>638.6</td>\n",
       "      <td>601.4</td>\n",
       "      <td>751.8</td>\n",
       "      <td>1130.6</td>\n",
       "      <td>1276.0</td>\n",
       "      <td>886.5</td>\n",
       "    </tr>\n",
       "    <tr>\n",
       "      <th>24</th>\n",
       "      <td>Soybean oil, in bulk, Netherlands, FOB ex-mill...</td>\n",
       "      <td>1000.9</td>\n",
       "      <td>1297.7</td>\n",
       "      <td>1225.6</td>\n",
       "      <td>1055.4</td>\n",
       "      <td>906.0</td>\n",
       "      <td>755.6</td>\n",
       "      <td>815.0</td>\n",
       "      <td>850.4</td>\n",
       "      <td>789.1</td>\n",
       "      <td>765.4</td>\n",
       "      <td>837.8</td>\n",
       "      <td>1385.4</td>\n",
       "      <td>1666.8</td>\n",
       "      <td>1118.5</td>\n",
       "    </tr>\n",
       "    <tr>\n",
       "      <th>25</th>\n",
       "      <td>Soybeans, in bulk, United States, n° 2 yellow,...</td>\n",
       "      <td>447.1</td>\n",
       "      <td>537.5</td>\n",
       "      <td>595.5</td>\n",
       "      <td>551.4</td>\n",
       "      <td>484.9</td>\n",
       "      <td>392.1</td>\n",
       "      <td>405.4</td>\n",
       "      <td>393.4</td>\n",
       "      <td>394.4</td>\n",
       "      <td>368.9</td>\n",
       "      <td>406.6</td>\n",
       "      <td>583.3</td>\n",
       "      <td>675.4</td>\n",
       "      <td>597.9</td>\n",
       "    </tr>\n",
       "    <tr>\n",
       "      <th>26</th>\n",
       "      <td>Sunflower oil, in bulk, European Union, FOB N....</td>\n",
       "      <td>1074.3</td>\n",
       "      <td>1597.7</td>\n",
       "      <td>1447.6</td>\n",
       "      <td>1155.4</td>\n",
       "      <td>920.3</td>\n",
       "      <td>888.5</td>\n",
       "      <td>867.3</td>\n",
       "      <td>817.9</td>\n",
       "      <td>765.5</td>\n",
       "      <td>741.1</td>\n",
       "      <td>881.0</td>\n",
       "      <td>1404.1</td>\n",
       "      <td>1650.8</td>\n",
       "      <td>1006.7</td>\n",
       "    </tr>\n",
       "    <tr>\n",
       "      <th>27</th>\n",
       "      <td>Cattle hides, US Chicago packer's heavy native...</td>\n",
       "      <td>72.0</td>\n",
       "      <td>82.0</td>\n",
       "      <td>83.2</td>\n",
       "      <td>94.7</td>\n",
       "      <td>110.4</td>\n",
       "      <td>87.6</td>\n",
       "      <td>71.1</td>\n",
       "      <td>NaN</td>\n",
       "      <td>NaN</td>\n",
       "      <td>NaN</td>\n",
       "      <td>NaN</td>\n",
       "      <td>NaN</td>\n",
       "      <td>NaN</td>\n",
       "      <td>NaN</td>\n",
       "    </tr>\n",
       "    <tr>\n",
       "      <th>28</th>\n",
       "      <td>Coarse wool, 23 micron, AWEX auction price, Au...</td>\n",
       "      <td>8201.2</td>\n",
       "      <td>12092.0</td>\n",
       "      <td>12125.7</td>\n",
       "      <td>11281.4</td>\n",
       "      <td>10304.1</td>\n",
       "      <td>9228.3</td>\n",
       "      <td>10161.5</td>\n",
       "      <td>NaN</td>\n",
       "      <td>NaN</td>\n",
       "      <td>NaN</td>\n",
       "      <td>NaN</td>\n",
       "      <td>NaN</td>\n",
       "      <td>NaN</td>\n",
       "      <td>NaN</td>\n",
       "    </tr>\n",
       "    <tr>\n",
       "      <th>29</th>\n",
       "      <td>Fine wool, 19 micron, Australia ($/t)</td>\n",
       "      <td>10232.3</td>\n",
       "      <td>16381.8</td>\n",
       "      <td>13453.3</td>\n",
       "      <td>11977.5</td>\n",
       "      <td>10743.8</td>\n",
       "      <td>10057.5</td>\n",
       "      <td>11121.7</td>\n",
       "      <td>NaN</td>\n",
       "      <td>NaN</td>\n",
       "      <td>NaN</td>\n",
       "      <td>NaN</td>\n",
       "      <td>NaN</td>\n",
       "      <td>NaN</td>\n",
       "      <td>NaN</td>\n",
       "    </tr>\n",
       "    <tr>\n",
       "      <th>30</th>\n",
       "      <td>Fine wool, 19 Micron, AWEX auction price, Aust...</td>\n",
       "      <td>NaN</td>\n",
       "      <td>NaN</td>\n",
       "      <td>NaN</td>\n",
       "      <td>11940.7</td>\n",
       "      <td>10712.3</td>\n",
       "      <td>10015.4</td>\n",
       "      <td>11111.7</td>\n",
       "      <td>NaN</td>\n",
       "      <td>NaN</td>\n",
       "      <td>NaN</td>\n",
       "      <td>NaN</td>\n",
       "      <td>NaN</td>\n",
       "      <td>11544.6</td>\n",
       "      <td>10123.6</td>\n",
       "    </tr>\n",
       "    <tr>\n",
       "      <th>31</th>\n",
       "      <td>Fish meal, in bulk, 64/65% protein, FCA, Breme...</td>\n",
       "      <td>1139.0</td>\n",
       "      <td>1442.0</td>\n",
       "      <td>1527.8</td>\n",
       "      <td>1750.8</td>\n",
       "      <td>1680.6</td>\n",
       "      <td>1554.2</td>\n",
       "      <td>1490.6</td>\n",
       "      <td>1367.0</td>\n",
       "      <td>1525.1</td>\n",
       "      <td>1448.0</td>\n",
       "      <td>1432.7</td>\n",
       "      <td>1480.9</td>\n",
       "      <td>1595.6</td>\n",
       "      <td>1814.9</td>\n",
       "    </tr>\n",
       "    <tr>\n",
       "      <th>32</th>\n",
       "      <td>Jute, Bangladesh, BWD, FOB Mongla ($/t)</td>\n",
       "      <td>864.2</td>\n",
       "      <td>638.3</td>\n",
       "      <td>521.7</td>\n",
       "      <td>599.2</td>\n",
       "      <td>635.4</td>\n",
       "      <td>732.5</td>\n",
       "      <td>784.2</td>\n",
       "      <td>672.5</td>\n",
       "      <td>797.5</td>\n",
       "      <td>809.2</td>\n",
       "      <td>852.5</td>\n",
       "      <td>1545.4</td>\n",
       "      <td>1155.0</td>\n",
       "      <td>820.0</td>\n",
       "    </tr>\n",
       "    <tr>\n",
       "      <th>33</th>\n",
       "      <td>Non-coniferous woods, UK import price index, d...</td>\n",
       "      <td>NaN</td>\n",
       "      <td>NaN</td>\n",
       "      <td>96.4</td>\n",
       "      <td>99.4</td>\n",
       "      <td>102.8</td>\n",
       "      <td>92.0</td>\n",
       "      <td>92.6</td>\n",
       "      <td>104.2</td>\n",
       "      <td>118.2</td>\n",
       "      <td>113.3</td>\n",
       "      <td>103.9</td>\n",
       "      <td>154.5</td>\n",
       "      <td>152.0</td>\n",
       "      <td>120.0</td>\n",
       "    </tr>\n",
       "    <tr>\n",
       "      <th>34</th>\n",
       "      <td>Plywood, Africa &amp; SE Asia, Lauan, 3-ply, 91cmx...</td>\n",
       "      <td>569.1</td>\n",
       "      <td>607.5</td>\n",
       "      <td>610.3</td>\n",
       "      <td>560.2</td>\n",
       "      <td>517.3</td>\n",
       "      <td>451.2</td>\n",
       "      <td>503.3</td>\n",
       "      <td>486.9</td>\n",
       "      <td>494.7</td>\n",
       "      <td>500.9</td>\n",
       "      <td>511.6</td>\n",
       "      <td>497.7</td>\n",
       "      <td>418.2</td>\n",
       "      <td>389.5</td>\n",
       "    </tr>\n",
       "    <tr>\n",
       "      <th>35</th>\n",
       "      <td>Rubber, RSS n°3, Singapore Commodity Exchange,...</td>\n",
       "      <td>365.4</td>\n",
       "      <td>482.3</td>\n",
       "      <td>337.7</td>\n",
       "      <td>279.4</td>\n",
       "      <td>195.1</td>\n",
       "      <td>157.1</td>\n",
       "      <td>160.5</td>\n",
       "      <td>199.5</td>\n",
       "      <td>156.5</td>\n",
       "      <td>164.0</td>\n",
       "      <td>172.8</td>\n",
       "      <td>207.1</td>\n",
       "      <td>181.0</td>\n",
       "      <td>157.7</td>\n",
       "    </tr>\n",
       "    <tr>\n",
       "      <th>36</th>\n",
       "      <td>Rubber, TSR 20, New York CIF ($/t)</td>\n",
       "      <td>3577.5</td>\n",
       "      <td>4794.7</td>\n",
       "      <td>3416.5</td>\n",
       "      <td>2746.9</td>\n",
       "      <td>1961.0</td>\n",
       "      <td>1609.9</td>\n",
       "      <td>1532.8</td>\n",
       "      <td>1843.8</td>\n",
       "      <td>1614.5</td>\n",
       "      <td>1662.2</td>\n",
       "      <td>1651.3</td>\n",
       "      <td>2150.1</td>\n",
       "      <td>2098.9</td>\n",
       "      <td>1903.0</td>\n",
       "    </tr>\n",
       "    <tr>\n",
       "      <th>37</th>\n",
       "      <td>Sawnwood, Dark Red Meranti, Malaysia, CFR plus...</td>\n",
       "      <td>848.3</td>\n",
       "      <td>939.4</td>\n",
       "      <td>876.3</td>\n",
       "      <td>852.8</td>\n",
       "      <td>897.9</td>\n",
       "      <td>833.3</td>\n",
       "      <td>738.9</td>\n",
       "      <td>702.1</td>\n",
       "      <td>727.9</td>\n",
       "      <td>695.9</td>\n",
       "      <td>699.7</td>\n",
       "      <td>750.0</td>\n",
       "      <td>674.5</td>\n",
       "      <td>677.7</td>\n",
       "    </tr>\n",
       "    <tr>\n",
       "      <th>38</th>\n",
       "      <td>Sisal, Tanzania/Kenya, n° 2 &amp; 3 long, FOB ($/t)</td>\n",
       "      <td>1110.8</td>\n",
       "      <td>1430.8</td>\n",
       "      <td>1599.6</td>\n",
       "      <td>1511.0</td>\n",
       "      <td>1769.6</td>\n",
       "      <td>2132.9</td>\n",
       "      <td>2290.4</td>\n",
       "      <td>2039.6</td>\n",
       "      <td>1987.5</td>\n",
       "      <td>2018.8</td>\n",
       "      <td>2025.0</td>\n",
       "      <td>2110.4</td>\n",
       "      <td>2275.0</td>\n",
       "      <td>2012.5</td>\n",
       "    </tr>\n",
       "    <tr>\n",
       "      <th>39</th>\n",
       "      <td>Sisal, Tanzania/Kenya, n° 3 &amp; UG, FOB ($/t)</td>\n",
       "      <td>1009.6</td>\n",
       "      <td>1378.8</td>\n",
       "      <td>1486.4</td>\n",
       "      <td>1395.8</td>\n",
       "      <td>1586.3</td>\n",
       "      <td>2009.6</td>\n",
       "      <td>2131.7</td>\n",
       "      <td>1802.1</td>\n",
       "      <td>1725.0</td>\n",
       "      <td>1750.0</td>\n",
       "      <td>1750.0</td>\n",
       "      <td>1858.3</td>\n",
       "      <td>2025.0</td>\n",
       "      <td>1783.3</td>\n",
       "    </tr>\n",
       "    <tr>\n",
       "      <th>40</th>\n",
       "      <td>Tobacco, unmanufactured, US import unit value ...</td>\n",
       "      <td>4313.4</td>\n",
       "      <td>4470.4</td>\n",
       "      <td>4301.5</td>\n",
       "      <td>4569.9</td>\n",
       "      <td>4987.9</td>\n",
       "      <td>4906.2</td>\n",
       "      <td>4766.1</td>\n",
       "      <td>4627.4</td>\n",
       "      <td>4865.9</td>\n",
       "      <td>4580.0</td>\n",
       "      <td>4336.6</td>\n",
       "      <td>4147.0</td>\n",
       "      <td>4281.4</td>\n",
       "      <td>5014.1</td>\n",
       "    </tr>\n",
       "    <tr>\n",
       "      <th>41</th>\n",
       "      <td>Tropical logs, Okoume (60% CI, 40% CE, 20% CS)...</td>\n",
       "      <td>291.6</td>\n",
       "      <td>342.8</td>\n",
       "      <td>330.4</td>\n",
       "      <td>353.9</td>\n",
       "      <td>449.8</td>\n",
       "      <td>274.7</td>\n",
       "      <td>227.0</td>\n",
       "      <td>266.2</td>\n",
       "      <td>290.3</td>\n",
       "      <td>246.3</td>\n",
       "      <td>252.0</td>\n",
       "      <td>263.5</td>\n",
       "      <td>231.4</td>\n",
       "      <td>218.5</td>\n",
       "    </tr>\n",
       "    <tr>\n",
       "      <th>42</th>\n",
       "      <td>Tropical logs, Sapele, high quality (loyal and...</td>\n",
       "      <td>428.6</td>\n",
       "      <td>484.8</td>\n",
       "      <td>451.4</td>\n",
       "      <td>463.5</td>\n",
       "      <td>465.2</td>\n",
       "      <td>388.6</td>\n",
       "      <td>387.4</td>\n",
       "      <td>395.2</td>\n",
       "      <td>413.5</td>\n",
       "      <td>391.9</td>\n",
       "      <td>399.5</td>\n",
       "      <td>414.2</td>\n",
       "      <td>368.9</td>\n",
       "      <td>378.6</td>\n",
       "    </tr>\n",
       "    <tr>\n",
       "      <th>43</th>\n",
       "      <td>Phosphate rock, Khouribga, 70% BPL, contract, ...</td>\n",
       "      <td>105.3</td>\n",
       "      <td>163.6</td>\n",
       "      <td>184.9</td>\n",
       "      <td>126.3</td>\n",
       "      <td>110.5</td>\n",
       "      <td>120.3</td>\n",
       "      <td>110.5</td>\n",
       "      <td>89.7</td>\n",
       "      <td>87.9</td>\n",
       "      <td>88.0</td>\n",
       "      <td>76.0</td>\n",
       "      <td>123.2</td>\n",
       "      <td>266.1</td>\n",
       "      <td>NaN</td>\n",
       "    </tr>\n",
       "    <tr>\n",
       "      <th>44</th>\n",
       "      <td>Zinc, Prime Western, delivered, North America ...</td>\n",
       "      <td>102.0</td>\n",
       "      <td>106.2</td>\n",
       "      <td>95.8</td>\n",
       "      <td>95.6</td>\n",
       "      <td>107.1</td>\n",
       "      <td>95.5</td>\n",
       "      <td>101.4</td>\n",
       "      <td>139.3</td>\n",
       "      <td>141.0</td>\n",
       "      <td>124.1</td>\n",
       "      <td>110.8</td>\n",
       "      <td>145.8</td>\n",
       "      <td>190.2</td>\n",
       "      <td>151.3</td>\n",
       "    </tr>\n",
       "    <tr>\n",
       "      <th>45</th>\n",
       "      <td>Crude oil, Dubai, medium, Fateh API 32°, spot ...</td>\n",
       "      <td>78.1</td>\n",
       "      <td>106.0</td>\n",
       "      <td>108.9</td>\n",
       "      <td>105.4</td>\n",
       "      <td>96.7</td>\n",
       "      <td>51.2</td>\n",
       "      <td>41.2</td>\n",
       "      <td>53.1</td>\n",
       "      <td>69.2</td>\n",
       "      <td>63.2</td>\n",
       "      <td>42.2</td>\n",
       "      <td>68.8</td>\n",
       "      <td>97.0</td>\n",
       "      <td>82.0</td>\n",
       "    </tr>\n",
       "    <tr>\n",
       "      <th>46</th>\n",
       "      <td>Crude oil, UK Brent, light blend API 38°, spot...</td>\n",
       "      <td>79.6</td>\n",
       "      <td>110.9</td>\n",
       "      <td>112.0</td>\n",
       "      <td>108.8</td>\n",
       "      <td>98.9</td>\n",
       "      <td>52.4</td>\n",
       "      <td>44.0</td>\n",
       "      <td>54.4</td>\n",
       "      <td>71.1</td>\n",
       "      <td>64.0</td>\n",
       "      <td>42.3</td>\n",
       "      <td>70.4</td>\n",
       "      <td>99.8</td>\n",
       "      <td>82.6</td>\n",
       "    </tr>\n",
       "    <tr>\n",
       "      <th>47</th>\n",
       "      <td>Natural gas, index, Europe, United States and ...</td>\n",
       "      <td>100.0</td>\n",
       "      <td>108.5</td>\n",
       "      <td>99.2</td>\n",
       "      <td>112.1</td>\n",
       "      <td>111.7</td>\n",
       "      <td>71.6</td>\n",
       "      <td>57.0</td>\n",
       "      <td>69.0</td>\n",
       "      <td>82.1</td>\n",
       "      <td>61.1</td>\n",
       "      <td>45.5</td>\n",
       "      <td>130.7</td>\n",
       "      <td>281.6</td>\n",
       "      <td>102.9</td>\n",
       "    </tr>\n",
       "  </tbody>\n",
       "</table>\n",
       "</div>"
      ],
      "text/plain": [
       "                                      Commodity_Label  2010_Prices_Value  \\\n",
       "0   Bananas, Central and South America, FOT, US im...                0.9   \n",
       "1   Bananas, Central America, Main Brands (average...                0.9   \n",
       "2   Beef, Australia/New Zealand, frozen, CIF US po...                3.4   \n",
       "3      Maize, Argentina, Rosario, Up River, FOB ($/t)              196.7   \n",
       "4   Maize, United States, n° 3 yellow, FOB Gulf ($/t)              195.1   \n",
       "5   Rice, Thailand, white milled, 5% broken, expor...              488.9   \n",
       "6   Salmon, fresh, fish-farm bred, export price, N...                6.2   \n",
       "7   Shrimps, brown, no. 1, shell-on, headless, Mex...               10.6   \n",
       "8   Soybean meal, in bulk, 45/46% protein, Hamburg...              398.3   \n",
       "9   Sugar, average of I.S.A. daily prices, FOB & S...               21.3   \n",
       "10   Wheat, Argentina, Trigo Pan, Up River, FOB ($/t)              252.2   \n",
       "11  Wheat, United States, n° 2 Hard Red Winter (or...              243.1   \n",
       "12  Cocoa beans, average daily prices New York/Lon...              142.1   \n",
       "13  Coffee, Brazilian and other natural Arabicas, ...              145.7   \n",
       "14  Coffee, Colombian mild Arabicas, ex-dock US (¢...              223.8   \n",
       "15    Coffee, other mild Arabicas, ex-dock EU (¢/lb.)              196.6   \n",
       "16    Coffee, other mild Arabicas, ex-dock US (¢/lb.)              194.4   \n",
       "17               Coffee, Robustas, ex-dock EU (¢/lb.)               77.6   \n",
       "18               Coffee, Robustas, ex-dock US (¢/lb.)               84.1   \n",
       "19   Tea, Kenya Mombasa/Nairobi, auction price ($/kg)                2.6   \n",
       "20  Coconut oil, in bulk, Philippines/Indonesia, C...             1123.6   \n",
       "21  Groundnut oil, in bulk, any origin, CIF Rotter...             1401.0   \n",
       "22  Palm kernel oil, in bulk, Malaysia/Indonesia, ...             1187.4   \n",
       "23  Palm oil, in bulk, Malaysia/Indonesia, 5% FFA,...              933.0   \n",
       "24  Soybean oil, in bulk, Netherlands, FOB ex-mill...             1000.9   \n",
       "25  Soybeans, in bulk, United States, n° 2 yellow,...              447.1   \n",
       "26  Sunflower oil, in bulk, European Union, FOB N....             1074.3   \n",
       "27  Cattle hides, US Chicago packer's heavy native...               72.0   \n",
       "28  Coarse wool, 23 micron, AWEX auction price, Au...             8201.2   \n",
       "29              Fine wool, 19 micron, Australia ($/t)            10232.3   \n",
       "30  Fine wool, 19 Micron, AWEX auction price, Aust...                NaN   \n",
       "31  Fish meal, in bulk, 64/65% protein, FCA, Breme...             1139.0   \n",
       "32            Jute, Bangladesh, BWD, FOB Mongla ($/t)              864.2   \n",
       "33  Non-coniferous woods, UK import price index, d...                NaN   \n",
       "34  Plywood, Africa & SE Asia, Lauan, 3-ply, 91cmx...              569.1   \n",
       "35  Rubber, RSS n°3, Singapore Commodity Exchange,...              365.4   \n",
       "36                 Rubber, TSR 20, New York CIF ($/t)             3577.5   \n",
       "37  Sawnwood, Dark Red Meranti, Malaysia, CFR plus...              848.3   \n",
       "38    Sisal, Tanzania/Kenya, n° 2 & 3 long, FOB ($/t)             1110.8   \n",
       "39        Sisal, Tanzania/Kenya, n° 3 & UG, FOB ($/t)             1009.6   \n",
       "40  Tobacco, unmanufactured, US import unit value ...             4313.4   \n",
       "41  Tropical logs, Okoume (60% CI, 40% CE, 20% CS)...              291.6   \n",
       "42  Tropical logs, Sapele, high quality (loyal and...              428.6   \n",
       "43  Phosphate rock, Khouribga, 70% BPL, contract, ...              105.3   \n",
       "44  Zinc, Prime Western, delivered, North America ...              102.0   \n",
       "45  Crude oil, Dubai, medium, Fateh API 32°, spot ...               78.1   \n",
       "46  Crude oil, UK Brent, light blend API 38°, spot...               79.6   \n",
       "47  Natural gas, index, Europe, United States and ...              100.0   \n",
       "\n",
       "    2011_Prices_Value  2012_Prices_Value  2013_Prices_Value  \\\n",
       "0                 1.0                1.0                0.9   \n",
       "1                 1.0                1.0                0.9   \n",
       "2                 4.1                4.2                4.1   \n",
       "3               288.4              271.4              243.4   \n",
       "4               292.9              300.7              264.3   \n",
       "5               543.0              563.0              505.9   \n",
       "6                 5.9                4.8                6.8   \n",
       "7                12.1               11.5               14.2   \n",
       "8               408.7              531.7              543.5   \n",
       "9                26.0               21.5               17.7   \n",
       "10              306.8              295.8              325.3   \n",
       "11              328.6              328.3              321.9   \n",
       "12              135.2              108.5              110.6   \n",
       "13              243.7              171.3              117.9   \n",
       "14              283.8              203.9              148.3   \n",
       "15              269.5              185.7              138.4   \n",
       "16              273.2              187.5              141.1   \n",
       "17              107.9              101.3               93.0   \n",
       "18              116.0              110.6              100.5   \n",
       "19                2.7                2.9                2.4   \n",
       "20             1730.1             1110.8              939.5   \n",
       "21             1866.1             2359.1             1820.6   \n",
       "22             1653.6             1107.4              896.9   \n",
       "23             1193.4             1043.4              870.7   \n",
       "24             1297.7             1225.6             1055.4   \n",
       "25              537.5              595.5              551.4   \n",
       "26             1597.7             1447.6             1155.4   \n",
       "27               82.0               83.2               94.7   \n",
       "28            12092.0            12125.7            11281.4   \n",
       "29            16381.8            13453.3            11977.5   \n",
       "30                NaN                NaN            11940.7   \n",
       "31             1442.0             1527.8             1750.8   \n",
       "32              638.3              521.7              599.2   \n",
       "33                NaN               96.4               99.4   \n",
       "34              607.5              610.3              560.2   \n",
       "35              482.3              337.7              279.4   \n",
       "36             4794.7             3416.5             2746.9   \n",
       "37              939.4              876.3              852.8   \n",
       "38             1430.8             1599.6             1511.0   \n",
       "39             1378.8             1486.4             1395.8   \n",
       "40             4470.4             4301.5             4569.9   \n",
       "41              342.8              330.4              353.9   \n",
       "42              484.8              451.4              463.5   \n",
       "43              163.6              184.9              126.3   \n",
       "44              106.2               95.8               95.6   \n",
       "45              106.0              108.9              105.4   \n",
       "46              110.9              112.0              108.8   \n",
       "47              108.5               99.2              112.1   \n",
       "\n",
       "    2014_Prices_Value  2015_Prices_Value  2016_Prices_Value  \\\n",
       "0                 0.9                0.9                1.0   \n",
       "1                 1.0                1.0                0.9   \n",
       "2                 5.0                4.5                4.1   \n",
       "3               199.9              169.2              175.4   \n",
       "4               205.6              175.5              168.2   \n",
       "5               422.8              386.0              396.2   \n",
       "6                 6.6                5.3                7.2   \n",
       "7                17.8               13.2               11.2   \n",
       "8               522.5              389.4              374.7   \n",
       "9                17.0               13.4               18.1   \n",
       "10              301.2              225.2              195.3   \n",
       "11              302.3              232.3              196.4   \n",
       "12              139.0              142.2              131.2   \n",
       "13              161.3              123.1              124.1   \n",
       "14              198.1              149.9              155.5   \n",
       "15              199.1              159.5              163.4   \n",
       "16              202.8              160.5              164.6   \n",
       "17               99.5               86.8               87.4   \n",
       "18              105.6               94.2               94.2   \n",
       "19                2.0                3.0                2.4   \n",
       "20             1281.1             1103.5             1481.8   \n",
       "21             1395.0             1378.0             1380.6   \n",
       "22             1119.7              903.3             1301.3   \n",
       "23              837.5              663.4              735.7   \n",
       "24              906.0              755.6              815.0   \n",
       "25              484.9              392.1              405.4   \n",
       "26              920.3              888.5              867.3   \n",
       "27              110.4               87.6               71.1   \n",
       "28            10304.1             9228.3            10161.5   \n",
       "29            10743.8            10057.5            11121.7   \n",
       "30            10712.3            10015.4            11111.7   \n",
       "31             1680.6             1554.2             1490.6   \n",
       "32              635.4              732.5              784.2   \n",
       "33              102.8               92.0               92.6   \n",
       "34              517.3              451.2              503.3   \n",
       "35              195.1              157.1              160.5   \n",
       "36             1961.0             1609.9             1532.8   \n",
       "37              897.9              833.3              738.9   \n",
       "38             1769.6             2132.9             2290.4   \n",
       "39             1586.3             2009.6             2131.7   \n",
       "40             4987.9             4906.2             4766.1   \n",
       "41              449.8              274.7              227.0   \n",
       "42              465.2              388.6              387.4   \n",
       "43              110.5              120.3              110.5   \n",
       "44              107.1               95.5              101.4   \n",
       "45               96.7               51.2               41.2   \n",
       "46               98.9               52.4               44.0   \n",
       "47              111.7               71.6               57.0   \n",
       "\n",
       "    2017_Prices_Value  2018_Prices_Value  2019_Prices_Value  \\\n",
       "0                 1.1                1.1                1.1   \n",
       "1                 0.9                NaN                NaN   \n",
       "2                 4.4                4.2                4.8   \n",
       "3               159.6              172.2              165.1   \n",
       "4               160.8              172.4              176.2   \n",
       "5               398.9              420.7              418.0   \n",
       "6                 7.4                7.5                6.9   \n",
       "7                13.3               12.2               12.6   \n",
       "8               350.2              405.2              347.0   \n",
       "9                16.0               12.6               12.7   \n",
       "10              186.1              228.6              227.8   \n",
       "11              211.8              241.1              219.8   \n",
       "12               92.0              104.0              106.2   \n",
       "13              126.5              109.6              100.1   \n",
       "14              154.1              139.6              137.1   \n",
       "15              149.5              129.1              125.5   \n",
       "16              152.4              137.4              137.4   \n",
       "17              100.3               84.0               72.2   \n",
       "18              104.1               88.3               80.0   \n",
       "19                3.0                2.6                2.2   \n",
       "20             1650.7              996.8              735.6   \n",
       "21             1460.8             1446.0             1407.4   \n",
       "22             1288.5              926.5              665.4   \n",
       "23              750.8              638.6              601.4   \n",
       "24              850.4              789.1              765.4   \n",
       "25              393.4              394.4              368.9   \n",
       "26              817.9              765.5              741.1   \n",
       "27                NaN                NaN                NaN   \n",
       "28                NaN                NaN                NaN   \n",
       "29                NaN                NaN                NaN   \n",
       "30                NaN                NaN                NaN   \n",
       "31             1367.0             1525.1             1448.0   \n",
       "32              672.5              797.5              809.2   \n",
       "33              104.2              118.2              113.3   \n",
       "34              486.9              494.7              500.9   \n",
       "35              199.5              156.5              164.0   \n",
       "36             1843.8             1614.5             1662.2   \n",
       "37              702.1              727.9              695.9   \n",
       "38             2039.6             1987.5             2018.8   \n",
       "39             1802.1             1725.0             1750.0   \n",
       "40             4627.4             4865.9             4580.0   \n",
       "41              266.2              290.3              246.3   \n",
       "42              395.2              413.5              391.9   \n",
       "43               89.7               87.9               88.0   \n",
       "44              139.3              141.0              124.1   \n",
       "45               53.1               69.2               63.2   \n",
       "46               54.4               71.1               64.0   \n",
       "47               69.0               82.1               61.1   \n",
       "\n",
       "    2020_Prices_Value  2021_Prices_Value  2022_Prices_Value  2023_Prices_Value  \n",
       "0                 1.2                1.2                1.5                1.6  \n",
       "1                 NaN                NaN                NaN                NaN  \n",
       "2                 4.7                5.3                5.6                4.9  \n",
       "3               180.0              248.2              300.3              254.3  \n",
       "4               181.0              271.4              328.7              254.5  \n",
       "5               496.8              458.3              436.8              553.7  \n",
       "6                 6.1                6.9                8.4                9.0  \n",
       "7                12.7               13.7               13.5                NaN  \n",
       "8               394.2              481.0              547.9              541.4  \n",
       "9                12.8               17.7               18.5               23.4  \n",
       "10              244.8              285.9              406.4              327.8  \n",
       "11              239.4              315.8              430.1              339.9  \n",
       "12              107.5              110.1              107.5              147.8  \n",
       "13              102.5              158.2              217.3              179.1  \n",
       "14              166.3              228.4              294.6              216.0  \n",
       "15              146.8              201.4              249.6              200.9  \n",
       "16              156.9              209.8              265.7              214.9  \n",
       "17               66.7               87.7              101.8              116.2  \n",
       "18               78.2               99.8              113.9              134.7  \n",
       "19                2.0                2.1                2.4                2.2  \n",
       "20             1010.4             1636.3             1634.6             1075.2  \n",
       "21             1697.8             2075.1             2202.6             2034.7  \n",
       "22              824.1             1533.1             1616.7              990.5  \n",
       "23              751.8             1130.6             1276.0              886.5  \n",
       "24              837.8             1385.4             1666.8             1118.5  \n",
       "25              406.6              583.3              675.4              597.9  \n",
       "26              881.0             1404.1             1650.8             1006.7  \n",
       "27                NaN                NaN                NaN                NaN  \n",
       "28                NaN                NaN                NaN                NaN  \n",
       "29                NaN                NaN                NaN                NaN  \n",
       "30                NaN                NaN            11544.6            10123.6  \n",
       "31             1432.7             1480.9             1595.6             1814.9  \n",
       "32              852.5             1545.4             1155.0              820.0  \n",
       "33              103.9              154.5              152.0              120.0  \n",
       "34              511.6              497.7              418.2              389.5  \n",
       "35              172.8              207.1              181.0              157.7  \n",
       "36             1651.3             2150.1             2098.9             1903.0  \n",
       "37              699.7              750.0              674.5              677.7  \n",
       "38             2025.0             2110.4             2275.0             2012.5  \n",
       "39             1750.0             1858.3             2025.0             1783.3  \n",
       "40             4336.6             4147.0             4281.4             5014.1  \n",
       "41              252.0              263.5              231.4              218.5  \n",
       "42              399.5              414.2              368.9              378.6  \n",
       "43               76.0              123.2              266.1                NaN  \n",
       "44              110.8              145.8              190.2              151.3  \n",
       "45               42.2               68.8               97.0               82.0  \n",
       "46               42.3               70.4               99.8               82.6  \n",
       "47               45.5              130.7              281.6              102.9  "
      ]
     },
     "execution_count": 27,
     "metadata": {},
     "output_type": "execute_result"
    }
   ],
   "source": [
    "data_commodity = pd.read_csv(\"data/CommodityPrices.csv\", sep=',')\n",
    "data_commodity\n",
    "\n",
    "# link: https://unctadstat.unctad.org/datacentre/dataviewer/US.CommodityPrice_A\n"
   ]
  },
  {
   "cell_type": "code",
   "execution_count": 28,
   "metadata": {},
   "outputs": [
    {
     "data": {
      "text/html": [
       "<div>\n",
       "<style scoped>\n",
       "    .dataframe tbody tr th:only-of-type {\n",
       "        vertical-align: middle;\n",
       "    }\n",
       "\n",
       "    .dataframe tbody tr th {\n",
       "        vertical-align: top;\n",
       "    }\n",
       "\n",
       "    .dataframe thead th {\n",
       "        text-align: right;\n",
       "    }\n",
       "</style>\n",
       "<table border=\"1\" class=\"dataframe\">\n",
       "  <thead>\n",
       "    <tr style=\"text-align: right;\">\n",
       "      <th></th>\n",
       "      <th>Commodity</th>\n",
       "      <th>2010</th>\n",
       "      <th>2011</th>\n",
       "      <th>2012</th>\n",
       "      <th>2013</th>\n",
       "      <th>2014</th>\n",
       "      <th>2015</th>\n",
       "      <th>2016</th>\n",
       "      <th>2017</th>\n",
       "      <th>2018</th>\n",
       "      <th>2019</th>\n",
       "      <th>2020</th>\n",
       "      <th>2021</th>\n",
       "      <th>2022</th>\n",
       "      <th>2023</th>\n",
       "    </tr>\n",
       "  </thead>\n",
       "  <tbody>\n",
       "    <tr>\n",
       "      <th>0</th>\n",
       "      <td>Bananas, Central and South America, FOT, US im...</td>\n",
       "      <td>0.9</td>\n",
       "      <td>1.0</td>\n",
       "      <td>1.0</td>\n",
       "      <td>0.9</td>\n",
       "      <td>0.9</td>\n",
       "      <td>0.9</td>\n",
       "      <td>1.0</td>\n",
       "      <td>1.1</td>\n",
       "      <td>1.1</td>\n",
       "      <td>1.1</td>\n",
       "      <td>1.2</td>\n",
       "      <td>1.2</td>\n",
       "      <td>1.5</td>\n",
       "      <td>1.6</td>\n",
       "    </tr>\n",
       "    <tr>\n",
       "      <th>1</th>\n",
       "      <td>Bananas, Central America, Main Brands (average...</td>\n",
       "      <td>0.9</td>\n",
       "      <td>1.0</td>\n",
       "      <td>1.0</td>\n",
       "      <td>0.9</td>\n",
       "      <td>1.0</td>\n",
       "      <td>1.0</td>\n",
       "      <td>0.9</td>\n",
       "      <td>0.9</td>\n",
       "      <td>NaN</td>\n",
       "      <td>NaN</td>\n",
       "      <td>NaN</td>\n",
       "      <td>NaN</td>\n",
       "      <td>NaN</td>\n",
       "      <td>NaN</td>\n",
       "    </tr>\n",
       "    <tr>\n",
       "      <th>2</th>\n",
       "      <td>Beef, Australia/New Zealand, frozen, CIF US po...</td>\n",
       "      <td>3.4</td>\n",
       "      <td>4.1</td>\n",
       "      <td>4.2</td>\n",
       "      <td>4.1</td>\n",
       "      <td>5.0</td>\n",
       "      <td>4.5</td>\n",
       "      <td>4.1</td>\n",
       "      <td>4.4</td>\n",
       "      <td>4.2</td>\n",
       "      <td>4.8</td>\n",
       "      <td>4.7</td>\n",
       "      <td>5.3</td>\n",
       "      <td>5.6</td>\n",
       "      <td>4.9</td>\n",
       "    </tr>\n",
       "    <tr>\n",
       "      <th>3</th>\n",
       "      <td>Maize, Argentina, Rosario, Up River, FOB ($/t)</td>\n",
       "      <td>196.7</td>\n",
       "      <td>288.4</td>\n",
       "      <td>271.4</td>\n",
       "      <td>243.4</td>\n",
       "      <td>199.9</td>\n",
       "      <td>169.2</td>\n",
       "      <td>175.4</td>\n",
       "      <td>159.6</td>\n",
       "      <td>172.2</td>\n",
       "      <td>165.1</td>\n",
       "      <td>180.0</td>\n",
       "      <td>248.2</td>\n",
       "      <td>300.3</td>\n",
       "      <td>254.3</td>\n",
       "    </tr>\n",
       "    <tr>\n",
       "      <th>4</th>\n",
       "      <td>Maize, United States, n° 3 yellow, FOB Gulf ($/t)</td>\n",
       "      <td>195.1</td>\n",
       "      <td>292.9</td>\n",
       "      <td>300.7</td>\n",
       "      <td>264.3</td>\n",
       "      <td>205.6</td>\n",
       "      <td>175.5</td>\n",
       "      <td>168.2</td>\n",
       "      <td>160.8</td>\n",
       "      <td>172.4</td>\n",
       "      <td>176.2</td>\n",
       "      <td>181.0</td>\n",
       "      <td>271.4</td>\n",
       "      <td>328.7</td>\n",
       "      <td>254.5</td>\n",
       "    </tr>\n",
       "    <tr>\n",
       "      <th>5</th>\n",
       "      <td>Rice, Thailand, white milled, 5% broken, expor...</td>\n",
       "      <td>488.9</td>\n",
       "      <td>543.0</td>\n",
       "      <td>563.0</td>\n",
       "      <td>505.9</td>\n",
       "      <td>422.8</td>\n",
       "      <td>386.0</td>\n",
       "      <td>396.2</td>\n",
       "      <td>398.9</td>\n",
       "      <td>420.7</td>\n",
       "      <td>418.0</td>\n",
       "      <td>496.8</td>\n",
       "      <td>458.3</td>\n",
       "      <td>436.8</td>\n",
       "      <td>553.7</td>\n",
       "    </tr>\n",
       "    <tr>\n",
       "      <th>6</th>\n",
       "      <td>Salmon, fresh, fish-farm bred, export price, N...</td>\n",
       "      <td>6.2</td>\n",
       "      <td>5.9</td>\n",
       "      <td>4.8</td>\n",
       "      <td>6.8</td>\n",
       "      <td>6.6</td>\n",
       "      <td>5.3</td>\n",
       "      <td>7.2</td>\n",
       "      <td>7.4</td>\n",
       "      <td>7.5</td>\n",
       "      <td>6.9</td>\n",
       "      <td>6.1</td>\n",
       "      <td>6.9</td>\n",
       "      <td>8.4</td>\n",
       "      <td>9.0</td>\n",
       "    </tr>\n",
       "    <tr>\n",
       "      <th>7</th>\n",
       "      <td>Shrimps, brown, no. 1, shell-on, headless, Mex...</td>\n",
       "      <td>10.6</td>\n",
       "      <td>12.1</td>\n",
       "      <td>11.5</td>\n",
       "      <td>14.2</td>\n",
       "      <td>17.8</td>\n",
       "      <td>13.2</td>\n",
       "      <td>11.2</td>\n",
       "      <td>13.3</td>\n",
       "      <td>12.2</td>\n",
       "      <td>12.6</td>\n",
       "      <td>12.7</td>\n",
       "      <td>13.7</td>\n",
       "      <td>13.5</td>\n",
       "      <td>NaN</td>\n",
       "    </tr>\n",
       "    <tr>\n",
       "      <th>8</th>\n",
       "      <td>Soybean meal, in bulk, 45/46% protein, Hamburg...</td>\n",
       "      <td>398.3</td>\n",
       "      <td>408.7</td>\n",
       "      <td>531.7</td>\n",
       "      <td>543.5</td>\n",
       "      <td>522.5</td>\n",
       "      <td>389.4</td>\n",
       "      <td>374.7</td>\n",
       "      <td>350.2</td>\n",
       "      <td>405.2</td>\n",
       "      <td>347.0</td>\n",
       "      <td>394.2</td>\n",
       "      <td>481.0</td>\n",
       "      <td>547.9</td>\n",
       "      <td>541.4</td>\n",
       "    </tr>\n",
       "    <tr>\n",
       "      <th>9</th>\n",
       "      <td>Sugar, average of I.S.A. daily prices, FOB &amp; S...</td>\n",
       "      <td>21.3</td>\n",
       "      <td>26.0</td>\n",
       "      <td>21.5</td>\n",
       "      <td>17.7</td>\n",
       "      <td>17.0</td>\n",
       "      <td>13.4</td>\n",
       "      <td>18.1</td>\n",
       "      <td>16.0</td>\n",
       "      <td>12.6</td>\n",
       "      <td>12.7</td>\n",
       "      <td>12.8</td>\n",
       "      <td>17.7</td>\n",
       "      <td>18.5</td>\n",
       "      <td>23.4</td>\n",
       "    </tr>\n",
       "    <tr>\n",
       "      <th>10</th>\n",
       "      <td>Wheat, Argentina, Trigo Pan, Up River, FOB ($/t)</td>\n",
       "      <td>252.2</td>\n",
       "      <td>306.8</td>\n",
       "      <td>295.8</td>\n",
       "      <td>325.3</td>\n",
       "      <td>301.2</td>\n",
       "      <td>225.2</td>\n",
       "      <td>195.3</td>\n",
       "      <td>186.1</td>\n",
       "      <td>228.6</td>\n",
       "      <td>227.8</td>\n",
       "      <td>244.8</td>\n",
       "      <td>285.9</td>\n",
       "      <td>406.4</td>\n",
       "      <td>327.8</td>\n",
       "    </tr>\n",
       "    <tr>\n",
       "      <th>11</th>\n",
       "      <td>Wheat, United States, n° 2 Hard Red Winter (or...</td>\n",
       "      <td>243.1</td>\n",
       "      <td>328.6</td>\n",
       "      <td>328.3</td>\n",
       "      <td>321.9</td>\n",
       "      <td>302.3</td>\n",
       "      <td>232.3</td>\n",
       "      <td>196.4</td>\n",
       "      <td>211.8</td>\n",
       "      <td>241.1</td>\n",
       "      <td>219.8</td>\n",
       "      <td>239.4</td>\n",
       "      <td>315.8</td>\n",
       "      <td>430.1</td>\n",
       "      <td>339.9</td>\n",
       "    </tr>\n",
       "    <tr>\n",
       "      <th>12</th>\n",
       "      <td>Cocoa beans, average daily prices New York/Lon...</td>\n",
       "      <td>142.1</td>\n",
       "      <td>135.2</td>\n",
       "      <td>108.5</td>\n",
       "      <td>110.6</td>\n",
       "      <td>139.0</td>\n",
       "      <td>142.2</td>\n",
       "      <td>131.2</td>\n",
       "      <td>92.0</td>\n",
       "      <td>104.0</td>\n",
       "      <td>106.2</td>\n",
       "      <td>107.5</td>\n",
       "      <td>110.1</td>\n",
       "      <td>107.5</td>\n",
       "      <td>147.8</td>\n",
       "    </tr>\n",
       "    <tr>\n",
       "      <th>13</th>\n",
       "      <td>Coffee, Brazilian and other natural Arabicas, ...</td>\n",
       "      <td>145.7</td>\n",
       "      <td>243.7</td>\n",
       "      <td>171.3</td>\n",
       "      <td>117.9</td>\n",
       "      <td>161.3</td>\n",
       "      <td>123.1</td>\n",
       "      <td>124.1</td>\n",
       "      <td>126.5</td>\n",
       "      <td>109.6</td>\n",
       "      <td>100.1</td>\n",
       "      <td>102.5</td>\n",
       "      <td>158.2</td>\n",
       "      <td>217.3</td>\n",
       "      <td>179.1</td>\n",
       "    </tr>\n",
       "    <tr>\n",
       "      <th>14</th>\n",
       "      <td>Coffee, Colombian mild Arabicas, ex-dock US (¢...</td>\n",
       "      <td>223.8</td>\n",
       "      <td>283.8</td>\n",
       "      <td>203.9</td>\n",
       "      <td>148.3</td>\n",
       "      <td>198.1</td>\n",
       "      <td>149.9</td>\n",
       "      <td>155.5</td>\n",
       "      <td>154.1</td>\n",
       "      <td>139.6</td>\n",
       "      <td>137.1</td>\n",
       "      <td>166.3</td>\n",
       "      <td>228.4</td>\n",
       "      <td>294.6</td>\n",
       "      <td>216.0</td>\n",
       "    </tr>\n",
       "    <tr>\n",
       "      <th>15</th>\n",
       "      <td>Coffee, other mild Arabicas, ex-dock EU (¢/lb.)</td>\n",
       "      <td>196.6</td>\n",
       "      <td>269.5</td>\n",
       "      <td>185.7</td>\n",
       "      <td>138.4</td>\n",
       "      <td>199.1</td>\n",
       "      <td>159.5</td>\n",
       "      <td>163.4</td>\n",
       "      <td>149.5</td>\n",
       "      <td>129.1</td>\n",
       "      <td>125.5</td>\n",
       "      <td>146.8</td>\n",
       "      <td>201.4</td>\n",
       "      <td>249.6</td>\n",
       "      <td>200.9</td>\n",
       "    </tr>\n",
       "    <tr>\n",
       "      <th>16</th>\n",
       "      <td>Coffee, other mild Arabicas, ex-dock US (¢/lb.)</td>\n",
       "      <td>194.4</td>\n",
       "      <td>273.2</td>\n",
       "      <td>187.5</td>\n",
       "      <td>141.1</td>\n",
       "      <td>202.8</td>\n",
       "      <td>160.5</td>\n",
       "      <td>164.6</td>\n",
       "      <td>152.4</td>\n",
       "      <td>137.4</td>\n",
       "      <td>137.4</td>\n",
       "      <td>156.9</td>\n",
       "      <td>209.8</td>\n",
       "      <td>265.7</td>\n",
       "      <td>214.9</td>\n",
       "    </tr>\n",
       "    <tr>\n",
       "      <th>17</th>\n",
       "      <td>Coffee, Robustas, ex-dock EU (¢/lb.)</td>\n",
       "      <td>77.6</td>\n",
       "      <td>107.9</td>\n",
       "      <td>101.3</td>\n",
       "      <td>93.0</td>\n",
       "      <td>99.5</td>\n",
       "      <td>86.8</td>\n",
       "      <td>87.4</td>\n",
       "      <td>100.3</td>\n",
       "      <td>84.0</td>\n",
       "      <td>72.2</td>\n",
       "      <td>66.7</td>\n",
       "      <td>87.7</td>\n",
       "      <td>101.8</td>\n",
       "      <td>116.2</td>\n",
       "    </tr>\n",
       "    <tr>\n",
       "      <th>18</th>\n",
       "      <td>Coffee, Robustas, ex-dock US (¢/lb.)</td>\n",
       "      <td>84.1</td>\n",
       "      <td>116.0</td>\n",
       "      <td>110.6</td>\n",
       "      <td>100.5</td>\n",
       "      <td>105.6</td>\n",
       "      <td>94.2</td>\n",
       "      <td>94.2</td>\n",
       "      <td>104.1</td>\n",
       "      <td>88.3</td>\n",
       "      <td>80.0</td>\n",
       "      <td>78.2</td>\n",
       "      <td>99.8</td>\n",
       "      <td>113.9</td>\n",
       "      <td>134.7</td>\n",
       "    </tr>\n",
       "    <tr>\n",
       "      <th>19</th>\n",
       "      <td>Tea, Kenya Mombasa/Nairobi, auction price ($/kg)</td>\n",
       "      <td>2.6</td>\n",
       "      <td>2.7</td>\n",
       "      <td>2.9</td>\n",
       "      <td>2.4</td>\n",
       "      <td>2.0</td>\n",
       "      <td>3.0</td>\n",
       "      <td>2.4</td>\n",
       "      <td>3.0</td>\n",
       "      <td>2.6</td>\n",
       "      <td>2.2</td>\n",
       "      <td>2.0</td>\n",
       "      <td>2.1</td>\n",
       "      <td>2.4</td>\n",
       "      <td>2.2</td>\n",
       "    </tr>\n",
       "    <tr>\n",
       "      <th>20</th>\n",
       "      <td>Coconut oil, in bulk, Philippines/Indonesia, C...</td>\n",
       "      <td>1123.6</td>\n",
       "      <td>1730.1</td>\n",
       "      <td>1110.8</td>\n",
       "      <td>939.5</td>\n",
       "      <td>1281.1</td>\n",
       "      <td>1103.5</td>\n",
       "      <td>1481.8</td>\n",
       "      <td>1650.7</td>\n",
       "      <td>996.8</td>\n",
       "      <td>735.6</td>\n",
       "      <td>1010.4</td>\n",
       "      <td>1636.3</td>\n",
       "      <td>1634.6</td>\n",
       "      <td>1075.2</td>\n",
       "    </tr>\n",
       "    <tr>\n",
       "      <th>21</th>\n",
       "      <td>Groundnut oil, in bulk, any origin, CIF Rotter...</td>\n",
       "      <td>1401.0</td>\n",
       "      <td>1866.1</td>\n",
       "      <td>2359.1</td>\n",
       "      <td>1820.6</td>\n",
       "      <td>1395.0</td>\n",
       "      <td>1378.0</td>\n",
       "      <td>1380.6</td>\n",
       "      <td>1460.8</td>\n",
       "      <td>1446.0</td>\n",
       "      <td>1407.4</td>\n",
       "      <td>1697.8</td>\n",
       "      <td>2075.1</td>\n",
       "      <td>2202.6</td>\n",
       "      <td>2034.7</td>\n",
       "    </tr>\n",
       "    <tr>\n",
       "      <th>22</th>\n",
       "      <td>Palm kernel oil, in bulk, Malaysia/Indonesia, ...</td>\n",
       "      <td>1187.4</td>\n",
       "      <td>1653.6</td>\n",
       "      <td>1107.4</td>\n",
       "      <td>896.9</td>\n",
       "      <td>1119.7</td>\n",
       "      <td>903.3</td>\n",
       "      <td>1301.3</td>\n",
       "      <td>1288.5</td>\n",
       "      <td>926.5</td>\n",
       "      <td>665.4</td>\n",
       "      <td>824.1</td>\n",
       "      <td>1533.1</td>\n",
       "      <td>1616.7</td>\n",
       "      <td>990.5</td>\n",
       "    </tr>\n",
       "    <tr>\n",
       "      <th>23</th>\n",
       "      <td>Palm oil, in bulk, Malaysia/Indonesia, 5% FFA,...</td>\n",
       "      <td>933.0</td>\n",
       "      <td>1193.4</td>\n",
       "      <td>1043.4</td>\n",
       "      <td>870.7</td>\n",
       "      <td>837.5</td>\n",
       "      <td>663.4</td>\n",
       "      <td>735.7</td>\n",
       "      <td>750.8</td>\n",
       "      <td>638.6</td>\n",
       "      <td>601.4</td>\n",
       "      <td>751.8</td>\n",
       "      <td>1130.6</td>\n",
       "      <td>1276.0</td>\n",
       "      <td>886.5</td>\n",
       "    </tr>\n",
       "    <tr>\n",
       "      <th>24</th>\n",
       "      <td>Soybean oil, in bulk, Netherlands, FOB ex-mill...</td>\n",
       "      <td>1000.9</td>\n",
       "      <td>1297.7</td>\n",
       "      <td>1225.6</td>\n",
       "      <td>1055.4</td>\n",
       "      <td>906.0</td>\n",
       "      <td>755.6</td>\n",
       "      <td>815.0</td>\n",
       "      <td>850.4</td>\n",
       "      <td>789.1</td>\n",
       "      <td>765.4</td>\n",
       "      <td>837.8</td>\n",
       "      <td>1385.4</td>\n",
       "      <td>1666.8</td>\n",
       "      <td>1118.5</td>\n",
       "    </tr>\n",
       "    <tr>\n",
       "      <th>25</th>\n",
       "      <td>Soybeans, in bulk, United States, n° 2 yellow,...</td>\n",
       "      <td>447.1</td>\n",
       "      <td>537.5</td>\n",
       "      <td>595.5</td>\n",
       "      <td>551.4</td>\n",
       "      <td>484.9</td>\n",
       "      <td>392.1</td>\n",
       "      <td>405.4</td>\n",
       "      <td>393.4</td>\n",
       "      <td>394.4</td>\n",
       "      <td>368.9</td>\n",
       "      <td>406.6</td>\n",
       "      <td>583.3</td>\n",
       "      <td>675.4</td>\n",
       "      <td>597.9</td>\n",
       "    </tr>\n",
       "    <tr>\n",
       "      <th>26</th>\n",
       "      <td>Sunflower oil, in bulk, European Union, FOB N....</td>\n",
       "      <td>1074.3</td>\n",
       "      <td>1597.7</td>\n",
       "      <td>1447.6</td>\n",
       "      <td>1155.4</td>\n",
       "      <td>920.3</td>\n",
       "      <td>888.5</td>\n",
       "      <td>867.3</td>\n",
       "      <td>817.9</td>\n",
       "      <td>765.5</td>\n",
       "      <td>741.1</td>\n",
       "      <td>881.0</td>\n",
       "      <td>1404.1</td>\n",
       "      <td>1650.8</td>\n",
       "      <td>1006.7</td>\n",
       "    </tr>\n",
       "    <tr>\n",
       "      <th>27</th>\n",
       "      <td>Cattle hides, US Chicago packer's heavy native...</td>\n",
       "      <td>72.0</td>\n",
       "      <td>82.0</td>\n",
       "      <td>83.2</td>\n",
       "      <td>94.7</td>\n",
       "      <td>110.4</td>\n",
       "      <td>87.6</td>\n",
       "      <td>71.1</td>\n",
       "      <td>NaN</td>\n",
       "      <td>NaN</td>\n",
       "      <td>NaN</td>\n",
       "      <td>NaN</td>\n",
       "      <td>NaN</td>\n",
       "      <td>NaN</td>\n",
       "      <td>NaN</td>\n",
       "    </tr>\n",
       "    <tr>\n",
       "      <th>28</th>\n",
       "      <td>Coarse wool, 23 micron, AWEX auction price, Au...</td>\n",
       "      <td>8201.2</td>\n",
       "      <td>12092.0</td>\n",
       "      <td>12125.7</td>\n",
       "      <td>11281.4</td>\n",
       "      <td>10304.1</td>\n",
       "      <td>9228.3</td>\n",
       "      <td>10161.5</td>\n",
       "      <td>NaN</td>\n",
       "      <td>NaN</td>\n",
       "      <td>NaN</td>\n",
       "      <td>NaN</td>\n",
       "      <td>NaN</td>\n",
       "      <td>NaN</td>\n",
       "      <td>NaN</td>\n",
       "    </tr>\n",
       "    <tr>\n",
       "      <th>29</th>\n",
       "      <td>Fine wool, 19 micron, Australia ($/t)</td>\n",
       "      <td>10232.3</td>\n",
       "      <td>16381.8</td>\n",
       "      <td>13453.3</td>\n",
       "      <td>11977.5</td>\n",
       "      <td>10743.8</td>\n",
       "      <td>10057.5</td>\n",
       "      <td>11121.7</td>\n",
       "      <td>NaN</td>\n",
       "      <td>NaN</td>\n",
       "      <td>NaN</td>\n",
       "      <td>NaN</td>\n",
       "      <td>NaN</td>\n",
       "      <td>NaN</td>\n",
       "      <td>NaN</td>\n",
       "    </tr>\n",
       "    <tr>\n",
       "      <th>30</th>\n",
       "      <td>Fine wool, 19 Micron, AWEX auction price, Aust...</td>\n",
       "      <td>NaN</td>\n",
       "      <td>NaN</td>\n",
       "      <td>NaN</td>\n",
       "      <td>11940.7</td>\n",
       "      <td>10712.3</td>\n",
       "      <td>10015.4</td>\n",
       "      <td>11111.7</td>\n",
       "      <td>NaN</td>\n",
       "      <td>NaN</td>\n",
       "      <td>NaN</td>\n",
       "      <td>NaN</td>\n",
       "      <td>NaN</td>\n",
       "      <td>11544.6</td>\n",
       "      <td>10123.6</td>\n",
       "    </tr>\n",
       "    <tr>\n",
       "      <th>31</th>\n",
       "      <td>Fish meal, in bulk, 64/65% protein, FCA, Breme...</td>\n",
       "      <td>1139.0</td>\n",
       "      <td>1442.0</td>\n",
       "      <td>1527.8</td>\n",
       "      <td>1750.8</td>\n",
       "      <td>1680.6</td>\n",
       "      <td>1554.2</td>\n",
       "      <td>1490.6</td>\n",
       "      <td>1367.0</td>\n",
       "      <td>1525.1</td>\n",
       "      <td>1448.0</td>\n",
       "      <td>1432.7</td>\n",
       "      <td>1480.9</td>\n",
       "      <td>1595.6</td>\n",
       "      <td>1814.9</td>\n",
       "    </tr>\n",
       "    <tr>\n",
       "      <th>32</th>\n",
       "      <td>Jute, Bangladesh, BWD, FOB Mongla ($/t)</td>\n",
       "      <td>864.2</td>\n",
       "      <td>638.3</td>\n",
       "      <td>521.7</td>\n",
       "      <td>599.2</td>\n",
       "      <td>635.4</td>\n",
       "      <td>732.5</td>\n",
       "      <td>784.2</td>\n",
       "      <td>672.5</td>\n",
       "      <td>797.5</td>\n",
       "      <td>809.2</td>\n",
       "      <td>852.5</td>\n",
       "      <td>1545.4</td>\n",
       "      <td>1155.0</td>\n",
       "      <td>820.0</td>\n",
       "    </tr>\n",
       "    <tr>\n",
       "      <th>33</th>\n",
       "      <td>Non-coniferous woods, UK import price index, d...</td>\n",
       "      <td>NaN</td>\n",
       "      <td>NaN</td>\n",
       "      <td>96.4</td>\n",
       "      <td>99.4</td>\n",
       "      <td>102.8</td>\n",
       "      <td>92.0</td>\n",
       "      <td>92.6</td>\n",
       "      <td>104.2</td>\n",
       "      <td>118.2</td>\n",
       "      <td>113.3</td>\n",
       "      <td>103.9</td>\n",
       "      <td>154.5</td>\n",
       "      <td>152.0</td>\n",
       "      <td>120.0</td>\n",
       "    </tr>\n",
       "    <tr>\n",
       "      <th>34</th>\n",
       "      <td>Plywood, Africa &amp; SE Asia, Lauan, 3-ply, 91cmx...</td>\n",
       "      <td>569.1</td>\n",
       "      <td>607.5</td>\n",
       "      <td>610.3</td>\n",
       "      <td>560.2</td>\n",
       "      <td>517.3</td>\n",
       "      <td>451.2</td>\n",
       "      <td>503.3</td>\n",
       "      <td>486.9</td>\n",
       "      <td>494.7</td>\n",
       "      <td>500.9</td>\n",
       "      <td>511.6</td>\n",
       "      <td>497.7</td>\n",
       "      <td>418.2</td>\n",
       "      <td>389.5</td>\n",
       "    </tr>\n",
       "    <tr>\n",
       "      <th>35</th>\n",
       "      <td>Rubber, RSS n°3, Singapore Commodity Exchange,...</td>\n",
       "      <td>365.4</td>\n",
       "      <td>482.3</td>\n",
       "      <td>337.7</td>\n",
       "      <td>279.4</td>\n",
       "      <td>195.1</td>\n",
       "      <td>157.1</td>\n",
       "      <td>160.5</td>\n",
       "      <td>199.5</td>\n",
       "      <td>156.5</td>\n",
       "      <td>164.0</td>\n",
       "      <td>172.8</td>\n",
       "      <td>207.1</td>\n",
       "      <td>181.0</td>\n",
       "      <td>157.7</td>\n",
       "    </tr>\n",
       "    <tr>\n",
       "      <th>36</th>\n",
       "      <td>Rubber, TSR 20, New York CIF ($/t)</td>\n",
       "      <td>3577.5</td>\n",
       "      <td>4794.7</td>\n",
       "      <td>3416.5</td>\n",
       "      <td>2746.9</td>\n",
       "      <td>1961.0</td>\n",
       "      <td>1609.9</td>\n",
       "      <td>1532.8</td>\n",
       "      <td>1843.8</td>\n",
       "      <td>1614.5</td>\n",
       "      <td>1662.2</td>\n",
       "      <td>1651.3</td>\n",
       "      <td>2150.1</td>\n",
       "      <td>2098.9</td>\n",
       "      <td>1903.0</td>\n",
       "    </tr>\n",
       "    <tr>\n",
       "      <th>37</th>\n",
       "      <td>Sawnwood, Dark Red Meranti, Malaysia, CFR plus...</td>\n",
       "      <td>848.3</td>\n",
       "      <td>939.4</td>\n",
       "      <td>876.3</td>\n",
       "      <td>852.8</td>\n",
       "      <td>897.9</td>\n",
       "      <td>833.3</td>\n",
       "      <td>738.9</td>\n",
       "      <td>702.1</td>\n",
       "      <td>727.9</td>\n",
       "      <td>695.9</td>\n",
       "      <td>699.7</td>\n",
       "      <td>750.0</td>\n",
       "      <td>674.5</td>\n",
       "      <td>677.7</td>\n",
       "    </tr>\n",
       "    <tr>\n",
       "      <th>38</th>\n",
       "      <td>Sisal, Tanzania/Kenya, n° 2 &amp; 3 long, FOB ($/t)</td>\n",
       "      <td>1110.8</td>\n",
       "      <td>1430.8</td>\n",
       "      <td>1599.6</td>\n",
       "      <td>1511.0</td>\n",
       "      <td>1769.6</td>\n",
       "      <td>2132.9</td>\n",
       "      <td>2290.4</td>\n",
       "      <td>2039.6</td>\n",
       "      <td>1987.5</td>\n",
       "      <td>2018.8</td>\n",
       "      <td>2025.0</td>\n",
       "      <td>2110.4</td>\n",
       "      <td>2275.0</td>\n",
       "      <td>2012.5</td>\n",
       "    </tr>\n",
       "    <tr>\n",
       "      <th>39</th>\n",
       "      <td>Sisal, Tanzania/Kenya, n° 3 &amp; UG, FOB ($/t)</td>\n",
       "      <td>1009.6</td>\n",
       "      <td>1378.8</td>\n",
       "      <td>1486.4</td>\n",
       "      <td>1395.8</td>\n",
       "      <td>1586.3</td>\n",
       "      <td>2009.6</td>\n",
       "      <td>2131.7</td>\n",
       "      <td>1802.1</td>\n",
       "      <td>1725.0</td>\n",
       "      <td>1750.0</td>\n",
       "      <td>1750.0</td>\n",
       "      <td>1858.3</td>\n",
       "      <td>2025.0</td>\n",
       "      <td>1783.3</td>\n",
       "    </tr>\n",
       "    <tr>\n",
       "      <th>40</th>\n",
       "      <td>Tobacco, unmanufactured, US import unit value ...</td>\n",
       "      <td>4313.4</td>\n",
       "      <td>4470.4</td>\n",
       "      <td>4301.5</td>\n",
       "      <td>4569.9</td>\n",
       "      <td>4987.9</td>\n",
       "      <td>4906.2</td>\n",
       "      <td>4766.1</td>\n",
       "      <td>4627.4</td>\n",
       "      <td>4865.9</td>\n",
       "      <td>4580.0</td>\n",
       "      <td>4336.6</td>\n",
       "      <td>4147.0</td>\n",
       "      <td>4281.4</td>\n",
       "      <td>5014.1</td>\n",
       "    </tr>\n",
       "    <tr>\n",
       "      <th>41</th>\n",
       "      <td>Tropical logs, Okoume (60% CI, 40% CE, 20% CS)...</td>\n",
       "      <td>291.6</td>\n",
       "      <td>342.8</td>\n",
       "      <td>330.4</td>\n",
       "      <td>353.9</td>\n",
       "      <td>449.8</td>\n",
       "      <td>274.7</td>\n",
       "      <td>227.0</td>\n",
       "      <td>266.2</td>\n",
       "      <td>290.3</td>\n",
       "      <td>246.3</td>\n",
       "      <td>252.0</td>\n",
       "      <td>263.5</td>\n",
       "      <td>231.4</td>\n",
       "      <td>218.5</td>\n",
       "    </tr>\n",
       "    <tr>\n",
       "      <th>42</th>\n",
       "      <td>Tropical logs, Sapele, high quality (loyal and...</td>\n",
       "      <td>428.6</td>\n",
       "      <td>484.8</td>\n",
       "      <td>451.4</td>\n",
       "      <td>463.5</td>\n",
       "      <td>465.2</td>\n",
       "      <td>388.6</td>\n",
       "      <td>387.4</td>\n",
       "      <td>395.2</td>\n",
       "      <td>413.5</td>\n",
       "      <td>391.9</td>\n",
       "      <td>399.5</td>\n",
       "      <td>414.2</td>\n",
       "      <td>368.9</td>\n",
       "      <td>378.6</td>\n",
       "    </tr>\n",
       "    <tr>\n",
       "      <th>43</th>\n",
       "      <td>Phosphate rock, Khouribga, 70% BPL, contract, ...</td>\n",
       "      <td>105.3</td>\n",
       "      <td>163.6</td>\n",
       "      <td>184.9</td>\n",
       "      <td>126.3</td>\n",
       "      <td>110.5</td>\n",
       "      <td>120.3</td>\n",
       "      <td>110.5</td>\n",
       "      <td>89.7</td>\n",
       "      <td>87.9</td>\n",
       "      <td>88.0</td>\n",
       "      <td>76.0</td>\n",
       "      <td>123.2</td>\n",
       "      <td>266.1</td>\n",
       "      <td>NaN</td>\n",
       "    </tr>\n",
       "    <tr>\n",
       "      <th>44</th>\n",
       "      <td>Zinc, Prime Western, delivered, North America ...</td>\n",
       "      <td>102.0</td>\n",
       "      <td>106.2</td>\n",
       "      <td>95.8</td>\n",
       "      <td>95.6</td>\n",
       "      <td>107.1</td>\n",
       "      <td>95.5</td>\n",
       "      <td>101.4</td>\n",
       "      <td>139.3</td>\n",
       "      <td>141.0</td>\n",
       "      <td>124.1</td>\n",
       "      <td>110.8</td>\n",
       "      <td>145.8</td>\n",
       "      <td>190.2</td>\n",
       "      <td>151.3</td>\n",
       "    </tr>\n",
       "    <tr>\n",
       "      <th>45</th>\n",
       "      <td>Crude oil, Dubai, medium, Fateh API 32°, spot ...</td>\n",
       "      <td>78.1</td>\n",
       "      <td>106.0</td>\n",
       "      <td>108.9</td>\n",
       "      <td>105.4</td>\n",
       "      <td>96.7</td>\n",
       "      <td>51.2</td>\n",
       "      <td>41.2</td>\n",
       "      <td>53.1</td>\n",
       "      <td>69.2</td>\n",
       "      <td>63.2</td>\n",
       "      <td>42.2</td>\n",
       "      <td>68.8</td>\n",
       "      <td>97.0</td>\n",
       "      <td>82.0</td>\n",
       "    </tr>\n",
       "    <tr>\n",
       "      <th>46</th>\n",
       "      <td>Crude oil, UK Brent, light blend API 38°, spot...</td>\n",
       "      <td>79.6</td>\n",
       "      <td>110.9</td>\n",
       "      <td>112.0</td>\n",
       "      <td>108.8</td>\n",
       "      <td>98.9</td>\n",
       "      <td>52.4</td>\n",
       "      <td>44.0</td>\n",
       "      <td>54.4</td>\n",
       "      <td>71.1</td>\n",
       "      <td>64.0</td>\n",
       "      <td>42.3</td>\n",
       "      <td>70.4</td>\n",
       "      <td>99.8</td>\n",
       "      <td>82.6</td>\n",
       "    </tr>\n",
       "    <tr>\n",
       "      <th>47</th>\n",
       "      <td>Natural gas, index, Europe, United States and ...</td>\n",
       "      <td>100.0</td>\n",
       "      <td>108.5</td>\n",
       "      <td>99.2</td>\n",
       "      <td>112.1</td>\n",
       "      <td>111.7</td>\n",
       "      <td>71.6</td>\n",
       "      <td>57.0</td>\n",
       "      <td>69.0</td>\n",
       "      <td>82.1</td>\n",
       "      <td>61.1</td>\n",
       "      <td>45.5</td>\n",
       "      <td>130.7</td>\n",
       "      <td>281.6</td>\n",
       "      <td>102.9</td>\n",
       "    </tr>\n",
       "  </tbody>\n",
       "</table>\n",
       "</div>"
      ],
      "text/plain": [
       "                                            Commodity     2010     2011  \\\n",
       "0   Bananas, Central and South America, FOT, US im...      0.9      1.0   \n",
       "1   Bananas, Central America, Main Brands (average...      0.9      1.0   \n",
       "2   Beef, Australia/New Zealand, frozen, CIF US po...      3.4      4.1   \n",
       "3      Maize, Argentina, Rosario, Up River, FOB ($/t)    196.7    288.4   \n",
       "4   Maize, United States, n° 3 yellow, FOB Gulf ($/t)    195.1    292.9   \n",
       "5   Rice, Thailand, white milled, 5% broken, expor...    488.9    543.0   \n",
       "6   Salmon, fresh, fish-farm bred, export price, N...      6.2      5.9   \n",
       "7   Shrimps, brown, no. 1, shell-on, headless, Mex...     10.6     12.1   \n",
       "8   Soybean meal, in bulk, 45/46% protein, Hamburg...    398.3    408.7   \n",
       "9   Sugar, average of I.S.A. daily prices, FOB & S...     21.3     26.0   \n",
       "10   Wheat, Argentina, Trigo Pan, Up River, FOB ($/t)    252.2    306.8   \n",
       "11  Wheat, United States, n° 2 Hard Red Winter (or...    243.1    328.6   \n",
       "12  Cocoa beans, average daily prices New York/Lon...    142.1    135.2   \n",
       "13  Coffee, Brazilian and other natural Arabicas, ...    145.7    243.7   \n",
       "14  Coffee, Colombian mild Arabicas, ex-dock US (¢...    223.8    283.8   \n",
       "15    Coffee, other mild Arabicas, ex-dock EU (¢/lb.)    196.6    269.5   \n",
       "16    Coffee, other mild Arabicas, ex-dock US (¢/lb.)    194.4    273.2   \n",
       "17               Coffee, Robustas, ex-dock EU (¢/lb.)     77.6    107.9   \n",
       "18               Coffee, Robustas, ex-dock US (¢/lb.)     84.1    116.0   \n",
       "19   Tea, Kenya Mombasa/Nairobi, auction price ($/kg)      2.6      2.7   \n",
       "20  Coconut oil, in bulk, Philippines/Indonesia, C...   1123.6   1730.1   \n",
       "21  Groundnut oil, in bulk, any origin, CIF Rotter...   1401.0   1866.1   \n",
       "22  Palm kernel oil, in bulk, Malaysia/Indonesia, ...   1187.4   1653.6   \n",
       "23  Palm oil, in bulk, Malaysia/Indonesia, 5% FFA,...    933.0   1193.4   \n",
       "24  Soybean oil, in bulk, Netherlands, FOB ex-mill...   1000.9   1297.7   \n",
       "25  Soybeans, in bulk, United States, n° 2 yellow,...    447.1    537.5   \n",
       "26  Sunflower oil, in bulk, European Union, FOB N....   1074.3   1597.7   \n",
       "27  Cattle hides, US Chicago packer's heavy native...     72.0     82.0   \n",
       "28  Coarse wool, 23 micron, AWEX auction price, Au...   8201.2  12092.0   \n",
       "29              Fine wool, 19 micron, Australia ($/t)  10232.3  16381.8   \n",
       "30  Fine wool, 19 Micron, AWEX auction price, Aust...      NaN      NaN   \n",
       "31  Fish meal, in bulk, 64/65% protein, FCA, Breme...   1139.0   1442.0   \n",
       "32            Jute, Bangladesh, BWD, FOB Mongla ($/t)    864.2    638.3   \n",
       "33  Non-coniferous woods, UK import price index, d...      NaN      NaN   \n",
       "34  Plywood, Africa & SE Asia, Lauan, 3-ply, 91cmx...    569.1    607.5   \n",
       "35  Rubber, RSS n°3, Singapore Commodity Exchange,...    365.4    482.3   \n",
       "36                 Rubber, TSR 20, New York CIF ($/t)   3577.5   4794.7   \n",
       "37  Sawnwood, Dark Red Meranti, Malaysia, CFR plus...    848.3    939.4   \n",
       "38    Sisal, Tanzania/Kenya, n° 2 & 3 long, FOB ($/t)   1110.8   1430.8   \n",
       "39        Sisal, Tanzania/Kenya, n° 3 & UG, FOB ($/t)   1009.6   1378.8   \n",
       "40  Tobacco, unmanufactured, US import unit value ...   4313.4   4470.4   \n",
       "41  Tropical logs, Okoume (60% CI, 40% CE, 20% CS)...    291.6    342.8   \n",
       "42  Tropical logs, Sapele, high quality (loyal and...    428.6    484.8   \n",
       "43  Phosphate rock, Khouribga, 70% BPL, contract, ...    105.3    163.6   \n",
       "44  Zinc, Prime Western, delivered, North America ...    102.0    106.2   \n",
       "45  Crude oil, Dubai, medium, Fateh API 32°, spot ...     78.1    106.0   \n",
       "46  Crude oil, UK Brent, light blend API 38°, spot...     79.6    110.9   \n",
       "47  Natural gas, index, Europe, United States and ...    100.0    108.5   \n",
       "\n",
       "       2012     2013     2014     2015     2016    2017    2018    2019  \\\n",
       "0       1.0      0.9      0.9      0.9      1.0     1.1     1.1     1.1   \n",
       "1       1.0      0.9      1.0      1.0      0.9     0.9     NaN     NaN   \n",
       "2       4.2      4.1      5.0      4.5      4.1     4.4     4.2     4.8   \n",
       "3     271.4    243.4    199.9    169.2    175.4   159.6   172.2   165.1   \n",
       "4     300.7    264.3    205.6    175.5    168.2   160.8   172.4   176.2   \n",
       "5     563.0    505.9    422.8    386.0    396.2   398.9   420.7   418.0   \n",
       "6       4.8      6.8      6.6      5.3      7.2     7.4     7.5     6.9   \n",
       "7      11.5     14.2     17.8     13.2     11.2    13.3    12.2    12.6   \n",
       "8     531.7    543.5    522.5    389.4    374.7   350.2   405.2   347.0   \n",
       "9      21.5     17.7     17.0     13.4     18.1    16.0    12.6    12.7   \n",
       "10    295.8    325.3    301.2    225.2    195.3   186.1   228.6   227.8   \n",
       "11    328.3    321.9    302.3    232.3    196.4   211.8   241.1   219.8   \n",
       "12    108.5    110.6    139.0    142.2    131.2    92.0   104.0   106.2   \n",
       "13    171.3    117.9    161.3    123.1    124.1   126.5   109.6   100.1   \n",
       "14    203.9    148.3    198.1    149.9    155.5   154.1   139.6   137.1   \n",
       "15    185.7    138.4    199.1    159.5    163.4   149.5   129.1   125.5   \n",
       "16    187.5    141.1    202.8    160.5    164.6   152.4   137.4   137.4   \n",
       "17    101.3     93.0     99.5     86.8     87.4   100.3    84.0    72.2   \n",
       "18    110.6    100.5    105.6     94.2     94.2   104.1    88.3    80.0   \n",
       "19      2.9      2.4      2.0      3.0      2.4     3.0     2.6     2.2   \n",
       "20   1110.8    939.5   1281.1   1103.5   1481.8  1650.7   996.8   735.6   \n",
       "21   2359.1   1820.6   1395.0   1378.0   1380.6  1460.8  1446.0  1407.4   \n",
       "22   1107.4    896.9   1119.7    903.3   1301.3  1288.5   926.5   665.4   \n",
       "23   1043.4    870.7    837.5    663.4    735.7   750.8   638.6   601.4   \n",
       "24   1225.6   1055.4    906.0    755.6    815.0   850.4   789.1   765.4   \n",
       "25    595.5    551.4    484.9    392.1    405.4   393.4   394.4   368.9   \n",
       "26   1447.6   1155.4    920.3    888.5    867.3   817.9   765.5   741.1   \n",
       "27     83.2     94.7    110.4     87.6     71.1     NaN     NaN     NaN   \n",
       "28  12125.7  11281.4  10304.1   9228.3  10161.5     NaN     NaN     NaN   \n",
       "29  13453.3  11977.5  10743.8  10057.5  11121.7     NaN     NaN     NaN   \n",
       "30      NaN  11940.7  10712.3  10015.4  11111.7     NaN     NaN     NaN   \n",
       "31   1527.8   1750.8   1680.6   1554.2   1490.6  1367.0  1525.1  1448.0   \n",
       "32    521.7    599.2    635.4    732.5    784.2   672.5   797.5   809.2   \n",
       "33     96.4     99.4    102.8     92.0     92.6   104.2   118.2   113.3   \n",
       "34    610.3    560.2    517.3    451.2    503.3   486.9   494.7   500.9   \n",
       "35    337.7    279.4    195.1    157.1    160.5   199.5   156.5   164.0   \n",
       "36   3416.5   2746.9   1961.0   1609.9   1532.8  1843.8  1614.5  1662.2   \n",
       "37    876.3    852.8    897.9    833.3    738.9   702.1   727.9   695.9   \n",
       "38   1599.6   1511.0   1769.6   2132.9   2290.4  2039.6  1987.5  2018.8   \n",
       "39   1486.4   1395.8   1586.3   2009.6   2131.7  1802.1  1725.0  1750.0   \n",
       "40   4301.5   4569.9   4987.9   4906.2   4766.1  4627.4  4865.9  4580.0   \n",
       "41    330.4    353.9    449.8    274.7    227.0   266.2   290.3   246.3   \n",
       "42    451.4    463.5    465.2    388.6    387.4   395.2   413.5   391.9   \n",
       "43    184.9    126.3    110.5    120.3    110.5    89.7    87.9    88.0   \n",
       "44     95.8     95.6    107.1     95.5    101.4   139.3   141.0   124.1   \n",
       "45    108.9    105.4     96.7     51.2     41.2    53.1    69.2    63.2   \n",
       "46    112.0    108.8     98.9     52.4     44.0    54.4    71.1    64.0   \n",
       "47     99.2    112.1    111.7     71.6     57.0    69.0    82.1    61.1   \n",
       "\n",
       "      2020    2021     2022     2023  \n",
       "0      1.2     1.2      1.5      1.6  \n",
       "1      NaN     NaN      NaN      NaN  \n",
       "2      4.7     5.3      5.6      4.9  \n",
       "3    180.0   248.2    300.3    254.3  \n",
       "4    181.0   271.4    328.7    254.5  \n",
       "5    496.8   458.3    436.8    553.7  \n",
       "6      6.1     6.9      8.4      9.0  \n",
       "7     12.7    13.7     13.5      NaN  \n",
       "8    394.2   481.0    547.9    541.4  \n",
       "9     12.8    17.7     18.5     23.4  \n",
       "10   244.8   285.9    406.4    327.8  \n",
       "11   239.4   315.8    430.1    339.9  \n",
       "12   107.5   110.1    107.5    147.8  \n",
       "13   102.5   158.2    217.3    179.1  \n",
       "14   166.3   228.4    294.6    216.0  \n",
       "15   146.8   201.4    249.6    200.9  \n",
       "16   156.9   209.8    265.7    214.9  \n",
       "17    66.7    87.7    101.8    116.2  \n",
       "18    78.2    99.8    113.9    134.7  \n",
       "19     2.0     2.1      2.4      2.2  \n",
       "20  1010.4  1636.3   1634.6   1075.2  \n",
       "21  1697.8  2075.1   2202.6   2034.7  \n",
       "22   824.1  1533.1   1616.7    990.5  \n",
       "23   751.8  1130.6   1276.0    886.5  \n",
       "24   837.8  1385.4   1666.8   1118.5  \n",
       "25   406.6   583.3    675.4    597.9  \n",
       "26   881.0  1404.1   1650.8   1006.7  \n",
       "27     NaN     NaN      NaN      NaN  \n",
       "28     NaN     NaN      NaN      NaN  \n",
       "29     NaN     NaN      NaN      NaN  \n",
       "30     NaN     NaN  11544.6  10123.6  \n",
       "31  1432.7  1480.9   1595.6   1814.9  \n",
       "32   852.5  1545.4   1155.0    820.0  \n",
       "33   103.9   154.5    152.0    120.0  \n",
       "34   511.6   497.7    418.2    389.5  \n",
       "35   172.8   207.1    181.0    157.7  \n",
       "36  1651.3  2150.1   2098.9   1903.0  \n",
       "37   699.7   750.0    674.5    677.7  \n",
       "38  2025.0  2110.4   2275.0   2012.5  \n",
       "39  1750.0  1858.3   2025.0   1783.3  \n",
       "40  4336.6  4147.0   4281.4   5014.1  \n",
       "41   252.0   263.5    231.4    218.5  \n",
       "42   399.5   414.2    368.9    378.6  \n",
       "43    76.0   123.2    266.1      NaN  \n",
       "44   110.8   145.8    190.2    151.3  \n",
       "45    42.2    68.8     97.0     82.0  \n",
       "46    42.3    70.4     99.8     82.6  \n",
       "47    45.5   130.7    281.6    102.9  "
      ]
     },
     "execution_count": 28,
     "metadata": {},
     "output_type": "execute_result"
    }
   ],
   "source": [
    "data_commodity.rename(columns={\"Commodity_Label\":\"Commodity\"}, inplace=True)\n",
    "\n",
    "years = [\"2010\",\"2011\",\"2012\",\"2013\",\"2014\",\"2015\",\"2016\",\"2017\",\"2018\",\"2019\",\"2020\",\"2021\",\"2022\",\"2023\"]\n",
    "\n",
    "for year in years:\n",
    "    data_commodity.rename(columns={f\"{year}_Prices_Value\": f'{year}'}, inplace=True)\n",
    "\n",
    "data_commodity"
   ]
  },
  {
   "cell_type": "code",
   "execution_count": 29,
   "metadata": {},
   "outputs": [
    {
     "data": {
      "text/html": [
       "<div>\n",
       "<style scoped>\n",
       "    .dataframe tbody tr th:only-of-type {\n",
       "        vertical-align: middle;\n",
       "    }\n",
       "\n",
       "    .dataframe tbody tr th {\n",
       "        vertical-align: top;\n",
       "    }\n",
       "\n",
       "    .dataframe thead th {\n",
       "        text-align: right;\n",
       "    }\n",
       "</style>\n",
       "<table border=\"1\" class=\"dataframe\">\n",
       "  <thead>\n",
       "    <tr style=\"text-align: right;\">\n",
       "      <th></th>\n",
       "      <th>Commodity</th>\n",
       "      <th>2010</th>\n",
       "      <th>2011</th>\n",
       "      <th>2012</th>\n",
       "      <th>2013</th>\n",
       "      <th>2014</th>\n",
       "      <th>2015</th>\n",
       "      <th>2016</th>\n",
       "      <th>2017</th>\n",
       "      <th>2018</th>\n",
       "      <th>2019</th>\n",
       "      <th>2020</th>\n",
       "      <th>2021</th>\n",
       "      <th>2022</th>\n",
       "      <th>2023</th>\n",
       "    </tr>\n",
       "  </thead>\n",
       "  <tbody>\n",
       "    <tr>\n",
       "      <th>0</th>\n",
       "      <td>Bananas</td>\n",
       "      <td>0.9</td>\n",
       "      <td>1.0</td>\n",
       "      <td>1.0</td>\n",
       "      <td>0.9</td>\n",
       "      <td>0.9</td>\n",
       "      <td>0.9</td>\n",
       "      <td>1.0</td>\n",
       "      <td>1.1</td>\n",
       "      <td>1.1</td>\n",
       "      <td>1.1</td>\n",
       "      <td>1.2</td>\n",
       "      <td>1.2</td>\n",
       "      <td>1.5</td>\n",
       "      <td>1.6</td>\n",
       "    </tr>\n",
       "    <tr>\n",
       "      <th>1</th>\n",
       "      <td>Bananas (Central America)</td>\n",
       "      <td>0.9</td>\n",
       "      <td>1.0</td>\n",
       "      <td>1.0</td>\n",
       "      <td>0.9</td>\n",
       "      <td>1.0</td>\n",
       "      <td>1.0</td>\n",
       "      <td>0.9</td>\n",
       "      <td>0.9</td>\n",
       "      <td>NaN</td>\n",
       "      <td>NaN</td>\n",
       "      <td>NaN</td>\n",
       "      <td>NaN</td>\n",
       "      <td>NaN</td>\n",
       "      <td>NaN</td>\n",
       "    </tr>\n",
       "    <tr>\n",
       "      <th>2</th>\n",
       "      <td>Beef</td>\n",
       "      <td>3.4</td>\n",
       "      <td>4.1</td>\n",
       "      <td>4.2</td>\n",
       "      <td>4.1</td>\n",
       "      <td>5.0</td>\n",
       "      <td>4.5</td>\n",
       "      <td>4.1</td>\n",
       "      <td>4.4</td>\n",
       "      <td>4.2</td>\n",
       "      <td>4.8</td>\n",
       "      <td>4.7</td>\n",
       "      <td>5.3</td>\n",
       "      <td>5.6</td>\n",
       "      <td>4.9</td>\n",
       "    </tr>\n",
       "    <tr>\n",
       "      <th>3</th>\n",
       "      <td>Maize</td>\n",
       "      <td>196.7</td>\n",
       "      <td>288.4</td>\n",
       "      <td>271.4</td>\n",
       "      <td>243.4</td>\n",
       "      <td>199.9</td>\n",
       "      <td>169.2</td>\n",
       "      <td>175.4</td>\n",
       "      <td>159.6</td>\n",
       "      <td>172.2</td>\n",
       "      <td>165.1</td>\n",
       "      <td>180.0</td>\n",
       "      <td>248.2</td>\n",
       "      <td>300.3</td>\n",
       "      <td>254.3</td>\n",
       "    </tr>\n",
       "    <tr>\n",
       "      <th>4</th>\n",
       "      <td>Maize (United States)</td>\n",
       "      <td>195.1</td>\n",
       "      <td>292.9</td>\n",
       "      <td>300.7</td>\n",
       "      <td>264.3</td>\n",
       "      <td>205.6</td>\n",
       "      <td>175.5</td>\n",
       "      <td>168.2</td>\n",
       "      <td>160.8</td>\n",
       "      <td>172.4</td>\n",
       "      <td>176.2</td>\n",
       "      <td>181.0</td>\n",
       "      <td>271.4</td>\n",
       "      <td>328.7</td>\n",
       "      <td>254.5</td>\n",
       "    </tr>\n",
       "    <tr>\n",
       "      <th>5</th>\n",
       "      <td>Rice</td>\n",
       "      <td>488.9</td>\n",
       "      <td>543.0</td>\n",
       "      <td>563.0</td>\n",
       "      <td>505.9</td>\n",
       "      <td>422.8</td>\n",
       "      <td>386.0</td>\n",
       "      <td>396.2</td>\n",
       "      <td>398.9</td>\n",
       "      <td>420.7</td>\n",
       "      <td>418.0</td>\n",
       "      <td>496.8</td>\n",
       "      <td>458.3</td>\n",
       "      <td>436.8</td>\n",
       "      <td>553.7</td>\n",
       "    </tr>\n",
       "    <tr>\n",
       "      <th>6</th>\n",
       "      <td>Salmon</td>\n",
       "      <td>6.2</td>\n",
       "      <td>5.9</td>\n",
       "      <td>4.8</td>\n",
       "      <td>6.8</td>\n",
       "      <td>6.6</td>\n",
       "      <td>5.3</td>\n",
       "      <td>7.2</td>\n",
       "      <td>7.4</td>\n",
       "      <td>7.5</td>\n",
       "      <td>6.9</td>\n",
       "      <td>6.1</td>\n",
       "      <td>6.9</td>\n",
       "      <td>8.4</td>\n",
       "      <td>9.0</td>\n",
       "    </tr>\n",
       "    <tr>\n",
       "      <th>7</th>\n",
       "      <td>Shrimps</td>\n",
       "      <td>10.6</td>\n",
       "      <td>12.1</td>\n",
       "      <td>11.5</td>\n",
       "      <td>14.2</td>\n",
       "      <td>17.8</td>\n",
       "      <td>13.2</td>\n",
       "      <td>11.2</td>\n",
       "      <td>13.3</td>\n",
       "      <td>12.2</td>\n",
       "      <td>12.6</td>\n",
       "      <td>12.7</td>\n",
       "      <td>13.7</td>\n",
       "      <td>13.5</td>\n",
       "      <td>NaN</td>\n",
       "    </tr>\n",
       "    <tr>\n",
       "      <th>8</th>\n",
       "      <td>Soybean meal</td>\n",
       "      <td>398.3</td>\n",
       "      <td>408.7</td>\n",
       "      <td>531.7</td>\n",
       "      <td>543.5</td>\n",
       "      <td>522.5</td>\n",
       "      <td>389.4</td>\n",
       "      <td>374.7</td>\n",
       "      <td>350.2</td>\n",
       "      <td>405.2</td>\n",
       "      <td>347.0</td>\n",
       "      <td>394.2</td>\n",
       "      <td>481.0</td>\n",
       "      <td>547.9</td>\n",
       "      <td>541.4</td>\n",
       "    </tr>\n",
       "    <tr>\n",
       "      <th>9</th>\n",
       "      <td>Sugar</td>\n",
       "      <td>21.3</td>\n",
       "      <td>26.0</td>\n",
       "      <td>21.5</td>\n",
       "      <td>17.7</td>\n",
       "      <td>17.0</td>\n",
       "      <td>13.4</td>\n",
       "      <td>18.1</td>\n",
       "      <td>16.0</td>\n",
       "      <td>12.6</td>\n",
       "      <td>12.7</td>\n",
       "      <td>12.8</td>\n",
       "      <td>17.7</td>\n",
       "      <td>18.5</td>\n",
       "      <td>23.4</td>\n",
       "    </tr>\n",
       "    <tr>\n",
       "      <th>10</th>\n",
       "      <td>Wheat</td>\n",
       "      <td>252.2</td>\n",
       "      <td>306.8</td>\n",
       "      <td>295.8</td>\n",
       "      <td>325.3</td>\n",
       "      <td>301.2</td>\n",
       "      <td>225.2</td>\n",
       "      <td>195.3</td>\n",
       "      <td>186.1</td>\n",
       "      <td>228.6</td>\n",
       "      <td>227.8</td>\n",
       "      <td>244.8</td>\n",
       "      <td>285.9</td>\n",
       "      <td>406.4</td>\n",
       "      <td>327.8</td>\n",
       "    </tr>\n",
       "    <tr>\n",
       "      <th>11</th>\n",
       "      <td>Wheat (United States)</td>\n",
       "      <td>243.1</td>\n",
       "      <td>328.6</td>\n",
       "      <td>328.3</td>\n",
       "      <td>321.9</td>\n",
       "      <td>302.3</td>\n",
       "      <td>232.3</td>\n",
       "      <td>196.4</td>\n",
       "      <td>211.8</td>\n",
       "      <td>241.1</td>\n",
       "      <td>219.8</td>\n",
       "      <td>239.4</td>\n",
       "      <td>315.8</td>\n",
       "      <td>430.1</td>\n",
       "      <td>339.9</td>\n",
       "    </tr>\n",
       "    <tr>\n",
       "      <th>12</th>\n",
       "      <td>Cocoa beans</td>\n",
       "      <td>142.1</td>\n",
       "      <td>135.2</td>\n",
       "      <td>108.5</td>\n",
       "      <td>110.6</td>\n",
       "      <td>139.0</td>\n",
       "      <td>142.2</td>\n",
       "      <td>131.2</td>\n",
       "      <td>92.0</td>\n",
       "      <td>104.0</td>\n",
       "      <td>106.2</td>\n",
       "      <td>107.5</td>\n",
       "      <td>110.1</td>\n",
       "      <td>107.5</td>\n",
       "      <td>147.8</td>\n",
       "    </tr>\n",
       "    <tr>\n",
       "      <th>13</th>\n",
       "      <td>Coffee</td>\n",
       "      <td>145.7</td>\n",
       "      <td>243.7</td>\n",
       "      <td>171.3</td>\n",
       "      <td>117.9</td>\n",
       "      <td>161.3</td>\n",
       "      <td>123.1</td>\n",
       "      <td>124.1</td>\n",
       "      <td>126.5</td>\n",
       "      <td>109.6</td>\n",
       "      <td>100.1</td>\n",
       "      <td>102.5</td>\n",
       "      <td>158.2</td>\n",
       "      <td>217.3</td>\n",
       "      <td>179.1</td>\n",
       "    </tr>\n",
       "    <tr>\n",
       "      <th>14</th>\n",
       "      <td>Coffee (Colombian mild Arabicas)</td>\n",
       "      <td>223.8</td>\n",
       "      <td>283.8</td>\n",
       "      <td>203.9</td>\n",
       "      <td>148.3</td>\n",
       "      <td>198.1</td>\n",
       "      <td>149.9</td>\n",
       "      <td>155.5</td>\n",
       "      <td>154.1</td>\n",
       "      <td>139.6</td>\n",
       "      <td>137.1</td>\n",
       "      <td>166.3</td>\n",
       "      <td>228.4</td>\n",
       "      <td>294.6</td>\n",
       "      <td>216.0</td>\n",
       "    </tr>\n",
       "    <tr>\n",
       "      <th>15</th>\n",
       "      <td>Coffee (other mild Arabicas)</td>\n",
       "      <td>196.6</td>\n",
       "      <td>269.5</td>\n",
       "      <td>185.7</td>\n",
       "      <td>138.4</td>\n",
       "      <td>199.1</td>\n",
       "      <td>159.5</td>\n",
       "      <td>163.4</td>\n",
       "      <td>149.5</td>\n",
       "      <td>129.1</td>\n",
       "      <td>125.5</td>\n",
       "      <td>146.8</td>\n",
       "      <td>201.4</td>\n",
       "      <td>249.6</td>\n",
       "      <td>200.9</td>\n",
       "    </tr>\n",
       "    <tr>\n",
       "      <th>16</th>\n",
       "      <td>Coffee (other mild Arabicas)</td>\n",
       "      <td>194.4</td>\n",
       "      <td>273.2</td>\n",
       "      <td>187.5</td>\n",
       "      <td>141.1</td>\n",
       "      <td>202.8</td>\n",
       "      <td>160.5</td>\n",
       "      <td>164.6</td>\n",
       "      <td>152.4</td>\n",
       "      <td>137.4</td>\n",
       "      <td>137.4</td>\n",
       "      <td>156.9</td>\n",
       "      <td>209.8</td>\n",
       "      <td>265.7</td>\n",
       "      <td>214.9</td>\n",
       "    </tr>\n",
       "    <tr>\n",
       "      <th>17</th>\n",
       "      <td>Coffee (Robustas)</td>\n",
       "      <td>77.6</td>\n",
       "      <td>107.9</td>\n",
       "      <td>101.3</td>\n",
       "      <td>93.0</td>\n",
       "      <td>99.5</td>\n",
       "      <td>86.8</td>\n",
       "      <td>87.4</td>\n",
       "      <td>100.3</td>\n",
       "      <td>84.0</td>\n",
       "      <td>72.2</td>\n",
       "      <td>66.7</td>\n",
       "      <td>87.7</td>\n",
       "      <td>101.8</td>\n",
       "      <td>116.2</td>\n",
       "    </tr>\n",
       "    <tr>\n",
       "      <th>18</th>\n",
       "      <td>Coffee (Robustas)</td>\n",
       "      <td>84.1</td>\n",
       "      <td>116.0</td>\n",
       "      <td>110.6</td>\n",
       "      <td>100.5</td>\n",
       "      <td>105.6</td>\n",
       "      <td>94.2</td>\n",
       "      <td>94.2</td>\n",
       "      <td>104.1</td>\n",
       "      <td>88.3</td>\n",
       "      <td>80.0</td>\n",
       "      <td>78.2</td>\n",
       "      <td>99.8</td>\n",
       "      <td>113.9</td>\n",
       "      <td>134.7</td>\n",
       "    </tr>\n",
       "    <tr>\n",
       "      <th>19</th>\n",
       "      <td>Tea</td>\n",
       "      <td>2.6</td>\n",
       "      <td>2.7</td>\n",
       "      <td>2.9</td>\n",
       "      <td>2.4</td>\n",
       "      <td>2.0</td>\n",
       "      <td>3.0</td>\n",
       "      <td>2.4</td>\n",
       "      <td>3.0</td>\n",
       "      <td>2.6</td>\n",
       "      <td>2.2</td>\n",
       "      <td>2.0</td>\n",
       "      <td>2.1</td>\n",
       "      <td>2.4</td>\n",
       "      <td>2.2</td>\n",
       "    </tr>\n",
       "    <tr>\n",
       "      <th>20</th>\n",
       "      <td>Coconut oil</td>\n",
       "      <td>1123.6</td>\n",
       "      <td>1730.1</td>\n",
       "      <td>1110.8</td>\n",
       "      <td>939.5</td>\n",
       "      <td>1281.1</td>\n",
       "      <td>1103.5</td>\n",
       "      <td>1481.8</td>\n",
       "      <td>1650.7</td>\n",
       "      <td>996.8</td>\n",
       "      <td>735.6</td>\n",
       "      <td>1010.4</td>\n",
       "      <td>1636.3</td>\n",
       "      <td>1634.6</td>\n",
       "      <td>1075.2</td>\n",
       "    </tr>\n",
       "    <tr>\n",
       "      <th>21</th>\n",
       "      <td>Groundnut oil</td>\n",
       "      <td>1401.0</td>\n",
       "      <td>1866.1</td>\n",
       "      <td>2359.1</td>\n",
       "      <td>1820.6</td>\n",
       "      <td>1395.0</td>\n",
       "      <td>1378.0</td>\n",
       "      <td>1380.6</td>\n",
       "      <td>1460.8</td>\n",
       "      <td>1446.0</td>\n",
       "      <td>1407.4</td>\n",
       "      <td>1697.8</td>\n",
       "      <td>2075.1</td>\n",
       "      <td>2202.6</td>\n",
       "      <td>2034.7</td>\n",
       "    </tr>\n",
       "    <tr>\n",
       "      <th>22</th>\n",
       "      <td>Palm kernel oil</td>\n",
       "      <td>1187.4</td>\n",
       "      <td>1653.6</td>\n",
       "      <td>1107.4</td>\n",
       "      <td>896.9</td>\n",
       "      <td>1119.7</td>\n",
       "      <td>903.3</td>\n",
       "      <td>1301.3</td>\n",
       "      <td>1288.5</td>\n",
       "      <td>926.5</td>\n",
       "      <td>665.4</td>\n",
       "      <td>824.1</td>\n",
       "      <td>1533.1</td>\n",
       "      <td>1616.7</td>\n",
       "      <td>990.5</td>\n",
       "    </tr>\n",
       "    <tr>\n",
       "      <th>23</th>\n",
       "      <td>Palm oil</td>\n",
       "      <td>933.0</td>\n",
       "      <td>1193.4</td>\n",
       "      <td>1043.4</td>\n",
       "      <td>870.7</td>\n",
       "      <td>837.5</td>\n",
       "      <td>663.4</td>\n",
       "      <td>735.7</td>\n",
       "      <td>750.8</td>\n",
       "      <td>638.6</td>\n",
       "      <td>601.4</td>\n",
       "      <td>751.8</td>\n",
       "      <td>1130.6</td>\n",
       "      <td>1276.0</td>\n",
       "      <td>886.5</td>\n",
       "    </tr>\n",
       "    <tr>\n",
       "      <th>24</th>\n",
       "      <td>Soybean oil</td>\n",
       "      <td>1000.9</td>\n",
       "      <td>1297.7</td>\n",
       "      <td>1225.6</td>\n",
       "      <td>1055.4</td>\n",
       "      <td>906.0</td>\n",
       "      <td>755.6</td>\n",
       "      <td>815.0</td>\n",
       "      <td>850.4</td>\n",
       "      <td>789.1</td>\n",
       "      <td>765.4</td>\n",
       "      <td>837.8</td>\n",
       "      <td>1385.4</td>\n",
       "      <td>1666.8</td>\n",
       "      <td>1118.5</td>\n",
       "    </tr>\n",
       "    <tr>\n",
       "      <th>25</th>\n",
       "      <td>Soybeans</td>\n",
       "      <td>447.1</td>\n",
       "      <td>537.5</td>\n",
       "      <td>595.5</td>\n",
       "      <td>551.4</td>\n",
       "      <td>484.9</td>\n",
       "      <td>392.1</td>\n",
       "      <td>405.4</td>\n",
       "      <td>393.4</td>\n",
       "      <td>394.4</td>\n",
       "      <td>368.9</td>\n",
       "      <td>406.6</td>\n",
       "      <td>583.3</td>\n",
       "      <td>675.4</td>\n",
       "      <td>597.9</td>\n",
       "    </tr>\n",
       "    <tr>\n",
       "      <th>26</th>\n",
       "      <td>Sunflower oil</td>\n",
       "      <td>1074.3</td>\n",
       "      <td>1597.7</td>\n",
       "      <td>1447.6</td>\n",
       "      <td>1155.4</td>\n",
       "      <td>920.3</td>\n",
       "      <td>888.5</td>\n",
       "      <td>867.3</td>\n",
       "      <td>817.9</td>\n",
       "      <td>765.5</td>\n",
       "      <td>741.1</td>\n",
       "      <td>881.0</td>\n",
       "      <td>1404.1</td>\n",
       "      <td>1650.8</td>\n",
       "      <td>1006.7</td>\n",
       "    </tr>\n",
       "    <tr>\n",
       "      <th>27</th>\n",
       "      <td>Cattle hides</td>\n",
       "      <td>72.0</td>\n",
       "      <td>82.0</td>\n",
       "      <td>83.2</td>\n",
       "      <td>94.7</td>\n",
       "      <td>110.4</td>\n",
       "      <td>87.6</td>\n",
       "      <td>71.1</td>\n",
       "      <td>NaN</td>\n",
       "      <td>NaN</td>\n",
       "      <td>NaN</td>\n",
       "      <td>NaN</td>\n",
       "      <td>NaN</td>\n",
       "      <td>NaN</td>\n",
       "      <td>NaN</td>\n",
       "    </tr>\n",
       "    <tr>\n",
       "      <th>28</th>\n",
       "      <td>Coarse wool</td>\n",
       "      <td>8201.2</td>\n",
       "      <td>12092.0</td>\n",
       "      <td>12125.7</td>\n",
       "      <td>11281.4</td>\n",
       "      <td>10304.1</td>\n",
       "      <td>9228.3</td>\n",
       "      <td>10161.5</td>\n",
       "      <td>NaN</td>\n",
       "      <td>NaN</td>\n",
       "      <td>NaN</td>\n",
       "      <td>NaN</td>\n",
       "      <td>NaN</td>\n",
       "      <td>NaN</td>\n",
       "      <td>NaN</td>\n",
       "    </tr>\n",
       "    <tr>\n",
       "      <th>29</th>\n",
       "      <td>Fine wool</td>\n",
       "      <td>10232.3</td>\n",
       "      <td>16381.8</td>\n",
       "      <td>13453.3</td>\n",
       "      <td>11977.5</td>\n",
       "      <td>10743.8</td>\n",
       "      <td>10057.5</td>\n",
       "      <td>11121.7</td>\n",
       "      <td>NaN</td>\n",
       "      <td>NaN</td>\n",
       "      <td>NaN</td>\n",
       "      <td>NaN</td>\n",
       "      <td>NaN</td>\n",
       "      <td>NaN</td>\n",
       "      <td>NaN</td>\n",
       "    </tr>\n",
       "    <tr>\n",
       "      <th>30</th>\n",
       "      <td>Fine wool (19 Micron)</td>\n",
       "      <td>NaN</td>\n",
       "      <td>NaN</td>\n",
       "      <td>NaN</td>\n",
       "      <td>11940.7</td>\n",
       "      <td>10712.3</td>\n",
       "      <td>10015.4</td>\n",
       "      <td>11111.7</td>\n",
       "      <td>NaN</td>\n",
       "      <td>NaN</td>\n",
       "      <td>NaN</td>\n",
       "      <td>NaN</td>\n",
       "      <td>NaN</td>\n",
       "      <td>11544.6</td>\n",
       "      <td>10123.6</td>\n",
       "    </tr>\n",
       "    <tr>\n",
       "      <th>31</th>\n",
       "      <td>Fish meal</td>\n",
       "      <td>1139.0</td>\n",
       "      <td>1442.0</td>\n",
       "      <td>1527.8</td>\n",
       "      <td>1750.8</td>\n",
       "      <td>1680.6</td>\n",
       "      <td>1554.2</td>\n",
       "      <td>1490.6</td>\n",
       "      <td>1367.0</td>\n",
       "      <td>1525.1</td>\n",
       "      <td>1448.0</td>\n",
       "      <td>1432.7</td>\n",
       "      <td>1480.9</td>\n",
       "      <td>1595.6</td>\n",
       "      <td>1814.9</td>\n",
       "    </tr>\n",
       "    <tr>\n",
       "      <th>32</th>\n",
       "      <td>Jute</td>\n",
       "      <td>864.2</td>\n",
       "      <td>638.3</td>\n",
       "      <td>521.7</td>\n",
       "      <td>599.2</td>\n",
       "      <td>635.4</td>\n",
       "      <td>732.5</td>\n",
       "      <td>784.2</td>\n",
       "      <td>672.5</td>\n",
       "      <td>797.5</td>\n",
       "      <td>809.2</td>\n",
       "      <td>852.5</td>\n",
       "      <td>1545.4</td>\n",
       "      <td>1155.0</td>\n",
       "      <td>820.0</td>\n",
       "    </tr>\n",
       "    <tr>\n",
       "      <th>33</th>\n",
       "      <td>Non-coniferous woods</td>\n",
       "      <td>NaN</td>\n",
       "      <td>NaN</td>\n",
       "      <td>96.4</td>\n",
       "      <td>99.4</td>\n",
       "      <td>102.8</td>\n",
       "      <td>92.0</td>\n",
       "      <td>92.6</td>\n",
       "      <td>104.2</td>\n",
       "      <td>118.2</td>\n",
       "      <td>113.3</td>\n",
       "      <td>103.9</td>\n",
       "      <td>154.5</td>\n",
       "      <td>152.0</td>\n",
       "      <td>120.0</td>\n",
       "    </tr>\n",
       "    <tr>\n",
       "      <th>34</th>\n",
       "      <td>Plywood</td>\n",
       "      <td>569.1</td>\n",
       "      <td>607.5</td>\n",
       "      <td>610.3</td>\n",
       "      <td>560.2</td>\n",
       "      <td>517.3</td>\n",
       "      <td>451.2</td>\n",
       "      <td>503.3</td>\n",
       "      <td>486.9</td>\n",
       "      <td>494.7</td>\n",
       "      <td>500.9</td>\n",
       "      <td>511.6</td>\n",
       "      <td>497.7</td>\n",
       "      <td>418.2</td>\n",
       "      <td>389.5</td>\n",
       "    </tr>\n",
       "    <tr>\n",
       "      <th>35</th>\n",
       "      <td>Rubber</td>\n",
       "      <td>365.4</td>\n",
       "      <td>482.3</td>\n",
       "      <td>337.7</td>\n",
       "      <td>279.4</td>\n",
       "      <td>195.1</td>\n",
       "      <td>157.1</td>\n",
       "      <td>160.5</td>\n",
       "      <td>199.5</td>\n",
       "      <td>156.5</td>\n",
       "      <td>164.0</td>\n",
       "      <td>172.8</td>\n",
       "      <td>207.1</td>\n",
       "      <td>181.0</td>\n",
       "      <td>157.7</td>\n",
       "    </tr>\n",
       "    <tr>\n",
       "      <th>36</th>\n",
       "      <td>Rubber (TSR 20)</td>\n",
       "      <td>3577.5</td>\n",
       "      <td>4794.7</td>\n",
       "      <td>3416.5</td>\n",
       "      <td>2746.9</td>\n",
       "      <td>1961.0</td>\n",
       "      <td>1609.9</td>\n",
       "      <td>1532.8</td>\n",
       "      <td>1843.8</td>\n",
       "      <td>1614.5</td>\n",
       "      <td>1662.2</td>\n",
       "      <td>1651.3</td>\n",
       "      <td>2150.1</td>\n",
       "      <td>2098.9</td>\n",
       "      <td>1903.0</td>\n",
       "    </tr>\n",
       "    <tr>\n",
       "      <th>37</th>\n",
       "      <td>Sawnwood</td>\n",
       "      <td>848.3</td>\n",
       "      <td>939.4</td>\n",
       "      <td>876.3</td>\n",
       "      <td>852.8</td>\n",
       "      <td>897.9</td>\n",
       "      <td>833.3</td>\n",
       "      <td>738.9</td>\n",
       "      <td>702.1</td>\n",
       "      <td>727.9</td>\n",
       "      <td>695.9</td>\n",
       "      <td>699.7</td>\n",
       "      <td>750.0</td>\n",
       "      <td>674.5</td>\n",
       "      <td>677.7</td>\n",
       "    </tr>\n",
       "    <tr>\n",
       "      <th>38</th>\n",
       "      <td>Sisal</td>\n",
       "      <td>1110.8</td>\n",
       "      <td>1430.8</td>\n",
       "      <td>1599.6</td>\n",
       "      <td>1511.0</td>\n",
       "      <td>1769.6</td>\n",
       "      <td>2132.9</td>\n",
       "      <td>2290.4</td>\n",
       "      <td>2039.6</td>\n",
       "      <td>1987.5</td>\n",
       "      <td>2018.8</td>\n",
       "      <td>2025.0</td>\n",
       "      <td>2110.4</td>\n",
       "      <td>2275.0</td>\n",
       "      <td>2012.5</td>\n",
       "    </tr>\n",
       "    <tr>\n",
       "      <th>39</th>\n",
       "      <td>Sisal (Tanzania/Kenya)</td>\n",
       "      <td>1009.6</td>\n",
       "      <td>1378.8</td>\n",
       "      <td>1486.4</td>\n",
       "      <td>1395.8</td>\n",
       "      <td>1586.3</td>\n",
       "      <td>2009.6</td>\n",
       "      <td>2131.7</td>\n",
       "      <td>1802.1</td>\n",
       "      <td>1725.0</td>\n",
       "      <td>1750.0</td>\n",
       "      <td>1750.0</td>\n",
       "      <td>1858.3</td>\n",
       "      <td>2025.0</td>\n",
       "      <td>1783.3</td>\n",
       "    </tr>\n",
       "    <tr>\n",
       "      <th>40</th>\n",
       "      <td>Tobacco</td>\n",
       "      <td>4313.4</td>\n",
       "      <td>4470.4</td>\n",
       "      <td>4301.5</td>\n",
       "      <td>4569.9</td>\n",
       "      <td>4987.9</td>\n",
       "      <td>4906.2</td>\n",
       "      <td>4766.1</td>\n",
       "      <td>4627.4</td>\n",
       "      <td>4865.9</td>\n",
       "      <td>4580.0</td>\n",
       "      <td>4336.6</td>\n",
       "      <td>4147.0</td>\n",
       "      <td>4281.4</td>\n",
       "      <td>5014.1</td>\n",
       "    </tr>\n",
       "    <tr>\n",
       "      <th>41</th>\n",
       "      <td>Tropical logs</td>\n",
       "      <td>291.6</td>\n",
       "      <td>342.8</td>\n",
       "      <td>330.4</td>\n",
       "      <td>353.9</td>\n",
       "      <td>449.8</td>\n",
       "      <td>274.7</td>\n",
       "      <td>227.0</td>\n",
       "      <td>266.2</td>\n",
       "      <td>290.3</td>\n",
       "      <td>246.3</td>\n",
       "      <td>252.0</td>\n",
       "      <td>263.5</td>\n",
       "      <td>231.4</td>\n",
       "      <td>218.5</td>\n",
       "    </tr>\n",
       "    <tr>\n",
       "      <th>42</th>\n",
       "      <td>Tropical logs (Sapele)</td>\n",
       "      <td>428.6</td>\n",
       "      <td>484.8</td>\n",
       "      <td>451.4</td>\n",
       "      <td>463.5</td>\n",
       "      <td>465.2</td>\n",
       "      <td>388.6</td>\n",
       "      <td>387.4</td>\n",
       "      <td>395.2</td>\n",
       "      <td>413.5</td>\n",
       "      <td>391.9</td>\n",
       "      <td>399.5</td>\n",
       "      <td>414.2</td>\n",
       "      <td>368.9</td>\n",
       "      <td>378.6</td>\n",
       "    </tr>\n",
       "    <tr>\n",
       "      <th>43</th>\n",
       "      <td>Phosphate rock</td>\n",
       "      <td>105.3</td>\n",
       "      <td>163.6</td>\n",
       "      <td>184.9</td>\n",
       "      <td>126.3</td>\n",
       "      <td>110.5</td>\n",
       "      <td>120.3</td>\n",
       "      <td>110.5</td>\n",
       "      <td>89.7</td>\n",
       "      <td>87.9</td>\n",
       "      <td>88.0</td>\n",
       "      <td>76.0</td>\n",
       "      <td>123.2</td>\n",
       "      <td>266.1</td>\n",
       "      <td>NaN</td>\n",
       "    </tr>\n",
       "    <tr>\n",
       "      <th>44</th>\n",
       "      <td>Zinc</td>\n",
       "      <td>102.0</td>\n",
       "      <td>106.2</td>\n",
       "      <td>95.8</td>\n",
       "      <td>95.6</td>\n",
       "      <td>107.1</td>\n",
       "      <td>95.5</td>\n",
       "      <td>101.4</td>\n",
       "      <td>139.3</td>\n",
       "      <td>141.0</td>\n",
       "      <td>124.1</td>\n",
       "      <td>110.8</td>\n",
       "      <td>145.8</td>\n",
       "      <td>190.2</td>\n",
       "      <td>151.3</td>\n",
       "    </tr>\n",
       "    <tr>\n",
       "      <th>45</th>\n",
       "      <td>Crude oil</td>\n",
       "      <td>78.1</td>\n",
       "      <td>106.0</td>\n",
       "      <td>108.9</td>\n",
       "      <td>105.4</td>\n",
       "      <td>96.7</td>\n",
       "      <td>51.2</td>\n",
       "      <td>41.2</td>\n",
       "      <td>53.1</td>\n",
       "      <td>69.2</td>\n",
       "      <td>63.2</td>\n",
       "      <td>42.2</td>\n",
       "      <td>68.8</td>\n",
       "      <td>97.0</td>\n",
       "      <td>82.0</td>\n",
       "    </tr>\n",
       "    <tr>\n",
       "      <th>46</th>\n",
       "      <td>Crude oil (UK Brent)</td>\n",
       "      <td>79.6</td>\n",
       "      <td>110.9</td>\n",
       "      <td>112.0</td>\n",
       "      <td>108.8</td>\n",
       "      <td>98.9</td>\n",
       "      <td>52.4</td>\n",
       "      <td>44.0</td>\n",
       "      <td>54.4</td>\n",
       "      <td>71.1</td>\n",
       "      <td>64.0</td>\n",
       "      <td>42.3</td>\n",
       "      <td>70.4</td>\n",
       "      <td>99.8</td>\n",
       "      <td>82.6</td>\n",
       "    </tr>\n",
       "    <tr>\n",
       "      <th>47</th>\n",
       "      <td>Natural gas</td>\n",
       "      <td>100.0</td>\n",
       "      <td>108.5</td>\n",
       "      <td>99.2</td>\n",
       "      <td>112.1</td>\n",
       "      <td>111.7</td>\n",
       "      <td>71.6</td>\n",
       "      <td>57.0</td>\n",
       "      <td>69.0</td>\n",
       "      <td>82.1</td>\n",
       "      <td>61.1</td>\n",
       "      <td>45.5</td>\n",
       "      <td>130.7</td>\n",
       "      <td>281.6</td>\n",
       "      <td>102.9</td>\n",
       "    </tr>\n",
       "  </tbody>\n",
       "</table>\n",
       "</div>"
      ],
      "text/plain": [
       "                           Commodity     2010     2011     2012     2013  \\\n",
       "0                            Bananas      0.9      1.0      1.0      0.9   \n",
       "1          Bananas (Central America)      0.9      1.0      1.0      0.9   \n",
       "2                               Beef      3.4      4.1      4.2      4.1   \n",
       "3                              Maize    196.7    288.4    271.4    243.4   \n",
       "4              Maize (United States)    195.1    292.9    300.7    264.3   \n",
       "5                               Rice    488.9    543.0    563.0    505.9   \n",
       "6                             Salmon      6.2      5.9      4.8      6.8   \n",
       "7                            Shrimps     10.6     12.1     11.5     14.2   \n",
       "8                       Soybean meal    398.3    408.7    531.7    543.5   \n",
       "9                              Sugar     21.3     26.0     21.5     17.7   \n",
       "10                             Wheat    252.2    306.8    295.8    325.3   \n",
       "11             Wheat (United States)    243.1    328.6    328.3    321.9   \n",
       "12                       Cocoa beans    142.1    135.2    108.5    110.6   \n",
       "13                            Coffee    145.7    243.7    171.3    117.9   \n",
       "14  Coffee (Colombian mild Arabicas)    223.8    283.8    203.9    148.3   \n",
       "15      Coffee (other mild Arabicas)    196.6    269.5    185.7    138.4   \n",
       "16      Coffee (other mild Arabicas)    194.4    273.2    187.5    141.1   \n",
       "17                 Coffee (Robustas)     77.6    107.9    101.3     93.0   \n",
       "18                 Coffee (Robustas)     84.1    116.0    110.6    100.5   \n",
       "19                               Tea      2.6      2.7      2.9      2.4   \n",
       "20                       Coconut oil   1123.6   1730.1   1110.8    939.5   \n",
       "21                     Groundnut oil   1401.0   1866.1   2359.1   1820.6   \n",
       "22                   Palm kernel oil   1187.4   1653.6   1107.4    896.9   \n",
       "23                          Palm oil    933.0   1193.4   1043.4    870.7   \n",
       "24                       Soybean oil   1000.9   1297.7   1225.6   1055.4   \n",
       "25                          Soybeans    447.1    537.5    595.5    551.4   \n",
       "26                     Sunflower oil   1074.3   1597.7   1447.6   1155.4   \n",
       "27                      Cattle hides     72.0     82.0     83.2     94.7   \n",
       "28                       Coarse wool   8201.2  12092.0  12125.7  11281.4   \n",
       "29                         Fine wool  10232.3  16381.8  13453.3  11977.5   \n",
       "30             Fine wool (19 Micron)      NaN      NaN      NaN  11940.7   \n",
       "31                         Fish meal   1139.0   1442.0   1527.8   1750.8   \n",
       "32                              Jute    864.2    638.3    521.7    599.2   \n",
       "33              Non-coniferous woods      NaN      NaN     96.4     99.4   \n",
       "34                           Plywood    569.1    607.5    610.3    560.2   \n",
       "35                            Rubber    365.4    482.3    337.7    279.4   \n",
       "36                   Rubber (TSR 20)   3577.5   4794.7   3416.5   2746.9   \n",
       "37                          Sawnwood    848.3    939.4    876.3    852.8   \n",
       "38                             Sisal   1110.8   1430.8   1599.6   1511.0   \n",
       "39            Sisal (Tanzania/Kenya)   1009.6   1378.8   1486.4   1395.8   \n",
       "40                           Tobacco   4313.4   4470.4   4301.5   4569.9   \n",
       "41                     Tropical logs    291.6    342.8    330.4    353.9   \n",
       "42            Tropical logs (Sapele)    428.6    484.8    451.4    463.5   \n",
       "43                    Phosphate rock    105.3    163.6    184.9    126.3   \n",
       "44                              Zinc    102.0    106.2     95.8     95.6   \n",
       "45                         Crude oil     78.1    106.0    108.9    105.4   \n",
       "46              Crude oil (UK Brent)     79.6    110.9    112.0    108.8   \n",
       "47                       Natural gas    100.0    108.5     99.2    112.1   \n",
       "\n",
       "       2014     2015     2016    2017    2018    2019    2020    2021  \\\n",
       "0       0.9      0.9      1.0     1.1     1.1     1.1     1.2     1.2   \n",
       "1       1.0      1.0      0.9     0.9     NaN     NaN     NaN     NaN   \n",
       "2       5.0      4.5      4.1     4.4     4.2     4.8     4.7     5.3   \n",
       "3     199.9    169.2    175.4   159.6   172.2   165.1   180.0   248.2   \n",
       "4     205.6    175.5    168.2   160.8   172.4   176.2   181.0   271.4   \n",
       "5     422.8    386.0    396.2   398.9   420.7   418.0   496.8   458.3   \n",
       "6       6.6      5.3      7.2     7.4     7.5     6.9     6.1     6.9   \n",
       "7      17.8     13.2     11.2    13.3    12.2    12.6    12.7    13.7   \n",
       "8     522.5    389.4    374.7   350.2   405.2   347.0   394.2   481.0   \n",
       "9      17.0     13.4     18.1    16.0    12.6    12.7    12.8    17.7   \n",
       "10    301.2    225.2    195.3   186.1   228.6   227.8   244.8   285.9   \n",
       "11    302.3    232.3    196.4   211.8   241.1   219.8   239.4   315.8   \n",
       "12    139.0    142.2    131.2    92.0   104.0   106.2   107.5   110.1   \n",
       "13    161.3    123.1    124.1   126.5   109.6   100.1   102.5   158.2   \n",
       "14    198.1    149.9    155.5   154.1   139.6   137.1   166.3   228.4   \n",
       "15    199.1    159.5    163.4   149.5   129.1   125.5   146.8   201.4   \n",
       "16    202.8    160.5    164.6   152.4   137.4   137.4   156.9   209.8   \n",
       "17     99.5     86.8     87.4   100.3    84.0    72.2    66.7    87.7   \n",
       "18    105.6     94.2     94.2   104.1    88.3    80.0    78.2    99.8   \n",
       "19      2.0      3.0      2.4     3.0     2.6     2.2     2.0     2.1   \n",
       "20   1281.1   1103.5   1481.8  1650.7   996.8   735.6  1010.4  1636.3   \n",
       "21   1395.0   1378.0   1380.6  1460.8  1446.0  1407.4  1697.8  2075.1   \n",
       "22   1119.7    903.3   1301.3  1288.5   926.5   665.4   824.1  1533.1   \n",
       "23    837.5    663.4    735.7   750.8   638.6   601.4   751.8  1130.6   \n",
       "24    906.0    755.6    815.0   850.4   789.1   765.4   837.8  1385.4   \n",
       "25    484.9    392.1    405.4   393.4   394.4   368.9   406.6   583.3   \n",
       "26    920.3    888.5    867.3   817.9   765.5   741.1   881.0  1404.1   \n",
       "27    110.4     87.6     71.1     NaN     NaN     NaN     NaN     NaN   \n",
       "28  10304.1   9228.3  10161.5     NaN     NaN     NaN     NaN     NaN   \n",
       "29  10743.8  10057.5  11121.7     NaN     NaN     NaN     NaN     NaN   \n",
       "30  10712.3  10015.4  11111.7     NaN     NaN     NaN     NaN     NaN   \n",
       "31   1680.6   1554.2   1490.6  1367.0  1525.1  1448.0  1432.7  1480.9   \n",
       "32    635.4    732.5    784.2   672.5   797.5   809.2   852.5  1545.4   \n",
       "33    102.8     92.0     92.6   104.2   118.2   113.3   103.9   154.5   \n",
       "34    517.3    451.2    503.3   486.9   494.7   500.9   511.6   497.7   \n",
       "35    195.1    157.1    160.5   199.5   156.5   164.0   172.8   207.1   \n",
       "36   1961.0   1609.9   1532.8  1843.8  1614.5  1662.2  1651.3  2150.1   \n",
       "37    897.9    833.3    738.9   702.1   727.9   695.9   699.7   750.0   \n",
       "38   1769.6   2132.9   2290.4  2039.6  1987.5  2018.8  2025.0  2110.4   \n",
       "39   1586.3   2009.6   2131.7  1802.1  1725.0  1750.0  1750.0  1858.3   \n",
       "40   4987.9   4906.2   4766.1  4627.4  4865.9  4580.0  4336.6  4147.0   \n",
       "41    449.8    274.7    227.0   266.2   290.3   246.3   252.0   263.5   \n",
       "42    465.2    388.6    387.4   395.2   413.5   391.9   399.5   414.2   \n",
       "43    110.5    120.3    110.5    89.7    87.9    88.0    76.0   123.2   \n",
       "44    107.1     95.5    101.4   139.3   141.0   124.1   110.8   145.8   \n",
       "45     96.7     51.2     41.2    53.1    69.2    63.2    42.2    68.8   \n",
       "46     98.9     52.4     44.0    54.4    71.1    64.0    42.3    70.4   \n",
       "47    111.7     71.6     57.0    69.0    82.1    61.1    45.5   130.7   \n",
       "\n",
       "       2022     2023  \n",
       "0       1.5      1.6  \n",
       "1       NaN      NaN  \n",
       "2       5.6      4.9  \n",
       "3     300.3    254.3  \n",
       "4     328.7    254.5  \n",
       "5     436.8    553.7  \n",
       "6       8.4      9.0  \n",
       "7      13.5      NaN  \n",
       "8     547.9    541.4  \n",
       "9      18.5     23.4  \n",
       "10    406.4    327.8  \n",
       "11    430.1    339.9  \n",
       "12    107.5    147.8  \n",
       "13    217.3    179.1  \n",
       "14    294.6    216.0  \n",
       "15    249.6    200.9  \n",
       "16    265.7    214.9  \n",
       "17    101.8    116.2  \n",
       "18    113.9    134.7  \n",
       "19      2.4      2.2  \n",
       "20   1634.6   1075.2  \n",
       "21   2202.6   2034.7  \n",
       "22   1616.7    990.5  \n",
       "23   1276.0    886.5  \n",
       "24   1666.8   1118.5  \n",
       "25    675.4    597.9  \n",
       "26   1650.8   1006.7  \n",
       "27      NaN      NaN  \n",
       "28      NaN      NaN  \n",
       "29      NaN      NaN  \n",
       "30  11544.6  10123.6  \n",
       "31   1595.6   1814.9  \n",
       "32   1155.0    820.0  \n",
       "33    152.0    120.0  \n",
       "34    418.2    389.5  \n",
       "35    181.0    157.7  \n",
       "36   2098.9   1903.0  \n",
       "37    674.5    677.7  \n",
       "38   2275.0   2012.5  \n",
       "39   2025.0   1783.3  \n",
       "40   4281.4   5014.1  \n",
       "41    231.4    218.5  \n",
       "42    368.9    378.6  \n",
       "43    266.1      NaN  \n",
       "44    190.2    151.3  \n",
       "45     97.0     82.0  \n",
       "46     99.8     82.6  \n",
       "47    281.6    102.9  "
      ]
     },
     "execution_count": 29,
     "metadata": {},
     "output_type": "execute_result"
    }
   ],
   "source": [
    "items = []\n",
    "for i in range(0, len(data_commodity[\"Commodity\"])): \n",
    "    name = data_commodity[\"Commodity\"][i].split(\",\")\n",
    "\n",
    "    if name[0] in items:\n",
    "        data_commodity.loc[i,\"Commodity\"] = f\"{name[0]} ({name[1].strip()})\"\n",
    "    else:\n",
    "        items.append(name[0])\n",
    "        data_commodity.loc[i,\"Commodity\"] = f\"{name[0]}\"\n",
    "\n",
    "data_commodity"
   ]
  },
  {
   "cell_type": "code",
   "execution_count": 30,
   "metadata": {},
   "outputs": [
    {
     "data": {
      "text/plain": [
       "['Bananas',\n",
       " 'Bananas (Central America)',\n",
       " 'Beef',\n",
       " 'Maize',\n",
       " 'Maize (United States)',\n",
       " 'Rice',\n",
       " 'Salmon',\n",
       " 'Shrimps',\n",
       " 'Soybean meal',\n",
       " 'Sugar',\n",
       " 'Wheat',\n",
       " 'Wheat (United States)',\n",
       " 'Cocoa beans',\n",
       " 'Coffee',\n",
       " 'Coffee (Colombian mild Arabicas)',\n",
       " 'Coffee (other mild Arabicas)',\n",
       " 'Coffee (other mild Arabicas)',\n",
       " 'Coffee (Robustas)',\n",
       " 'Coffee (Robustas)',\n",
       " 'Tea',\n",
       " 'Coconut oil',\n",
       " 'Groundnut oil',\n",
       " 'Palm kernel oil',\n",
       " 'Palm oil',\n",
       " 'Soybean oil',\n",
       " 'Soybeans',\n",
       " 'Sunflower oil',\n",
       " 'Cattle hides',\n",
       " 'Coarse wool',\n",
       " 'Fine wool',\n",
       " 'Fine wool (19 Micron)',\n",
       " 'Fish meal',\n",
       " 'Jute',\n",
       " 'Non-coniferous woods',\n",
       " 'Plywood',\n",
       " 'Rubber',\n",
       " 'Rubber (TSR 20)',\n",
       " 'Sawnwood',\n",
       " 'Sisal',\n",
       " 'Sisal (Tanzania/Kenya)',\n",
       " 'Tobacco',\n",
       " 'Tropical logs',\n",
       " 'Tropical logs (Sapele)',\n",
       " 'Phosphate rock',\n",
       " 'Zinc',\n",
       " 'Crude oil',\n",
       " 'Crude oil (UK Brent)',\n",
       " 'Natural gas']"
      ]
     },
     "execution_count": 30,
     "metadata": {},
     "output_type": "execute_result"
    }
   ],
   "source": [
    "commodity_list = list(data_commodity[\"Commodity\"])\n",
    "commodity_list"
   ]
  },
  {
   "cell_type": "code",
   "execution_count": 31,
   "metadata": {},
   "outputs": [
    {
     "data": {
      "text/html": [
       "<div>\n",
       "<style scoped>\n",
       "    .dataframe tbody tr th:only-of-type {\n",
       "        vertical-align: middle;\n",
       "    }\n",
       "\n",
       "    .dataframe tbody tr th {\n",
       "        vertical-align: top;\n",
       "    }\n",
       "\n",
       "    .dataframe thead th {\n",
       "        text-align: right;\n",
       "    }\n",
       "</style>\n",
       "<table border=\"1\" class=\"dataframe\">\n",
       "  <thead>\n",
       "    <tr style=\"text-align: right;\">\n",
       "      <th></th>\n",
       "      <th>Commodity</th>\n",
       "      <th>Year</th>\n",
       "      <th>Commodity Price</th>\n",
       "    </tr>\n",
       "  </thead>\n",
       "  <tbody>\n",
       "    <tr>\n",
       "      <th>0</th>\n",
       "      <td>Bananas</td>\n",
       "      <td>Pre_Covid</td>\n",
       "      <td>0.99</td>\n",
       "    </tr>\n",
       "    <tr>\n",
       "      <th>1</th>\n",
       "      <td>Bananas (Central America)</td>\n",
       "      <td>Pre_Covid</td>\n",
       "      <td>0.95</td>\n",
       "    </tr>\n",
       "    <tr>\n",
       "      <th>2</th>\n",
       "      <td>Beef</td>\n",
       "      <td>Pre_Covid</td>\n",
       "      <td>4.28</td>\n",
       "    </tr>\n",
       "    <tr>\n",
       "      <th>3</th>\n",
       "      <td>Maize</td>\n",
       "      <td>Pre_Covid</td>\n",
       "      <td>204.13</td>\n",
       "    </tr>\n",
       "    <tr>\n",
       "      <th>4</th>\n",
       "      <td>Maize (United States)</td>\n",
       "      <td>Pre_Covid</td>\n",
       "      <td>211.17</td>\n",
       "    </tr>\n",
       "    <tr>\n",
       "      <th>...</th>\n",
       "      <td>...</td>\n",
       "      <td>...</td>\n",
       "      <td>...</td>\n",
       "    </tr>\n",
       "    <tr>\n",
       "      <th>187</th>\n",
       "      <td>Phosphate rock</td>\n",
       "      <td>Post_Covid</td>\n",
       "      <td>266.10</td>\n",
       "    </tr>\n",
       "    <tr>\n",
       "      <th>188</th>\n",
       "      <td>Zinc</td>\n",
       "      <td>Post_Covid</td>\n",
       "      <td>170.75</td>\n",
       "    </tr>\n",
       "    <tr>\n",
       "      <th>189</th>\n",
       "      <td>Crude oil</td>\n",
       "      <td>Post_Covid</td>\n",
       "      <td>89.50</td>\n",
       "    </tr>\n",
       "    <tr>\n",
       "      <th>190</th>\n",
       "      <td>Crude oil (UK Brent)</td>\n",
       "      <td>Post_Covid</td>\n",
       "      <td>91.20</td>\n",
       "    </tr>\n",
       "    <tr>\n",
       "      <th>191</th>\n",
       "      <td>Natural gas</td>\n",
       "      <td>Post_Covid</td>\n",
       "      <td>192.25</td>\n",
       "    </tr>\n",
       "  </tbody>\n",
       "</table>\n",
       "<p>192 rows × 3 columns</p>\n",
       "</div>"
      ],
      "text/plain": [
       "                     Commodity        Year  Commodity Price\n",
       "0                      Bananas   Pre_Covid             0.99\n",
       "1    Bananas (Central America)   Pre_Covid             0.95\n",
       "2                         Beef   Pre_Covid             4.28\n",
       "3                        Maize   Pre_Covid           204.13\n",
       "4        Maize (United States)   Pre_Covid           211.17\n",
       "..                         ...         ...              ...\n",
       "187             Phosphate rock  Post_Covid           266.10\n",
       "188                       Zinc  Post_Covid           170.75\n",
       "189                  Crude oil  Post_Covid            89.50\n",
       "190       Crude oil (UK Brent)  Post_Covid            91.20\n",
       "191                Natural gas  Post_Covid           192.25\n",
       "\n",
       "[192 rows x 3 columns]"
      ]
     },
     "execution_count": 31,
     "metadata": {},
     "output_type": "execute_result"
    }
   ],
   "source": [
    "pre_covid_years = [\"2010\",\"2011\",\"2012\",\"2013\",\"2014\",\"2015\",\"2016\",\"2017\",\"2018\",\"2019\"]\n",
    "post_covid_years = [\"2022\",\"2023\"]\n",
    "\n",
    "data_commodity['Pre_Covid'] = data_commodity[pre_covid_years].apply(pd.to_numeric, errors = 'coerce').mean(axis=1)\n",
    "data_commodity['Post_Covid'] = data_commodity[post_covid_years].apply(pd.to_numeric, errors = 'coerce').mean(axis=1)\n",
    "\n",
    "selected_columns_commodity = [\"Commodity\",\"Pre_Covid\",\"2020\",\"2021\",\"Post_Covid\"]\n",
    "filtered_data_commodity = data_commodity[selected_columns_commodity]\n",
    "\n",
    "melted_data_commodity = filtered_data_commodity.melt(id_vars = ['Commodity'], \n",
    "                        value_vars = ['Pre_Covid', '2020', '2021', 'Post_Covid'], \n",
    "                        var_name = 'Year', \n",
    "                        value_name = 'Commodity Price'\n",
    "                    )\n",
    "\n",
    "melted_data_commodity"
   ]
  },
  {
   "cell_type": "code",
   "execution_count": 34,
   "metadata": {},
   "outputs": [],
   "source": [
    "def create_commodity_price_chart(data,comm):\n",
    "  filtered_data = data[data[\"Commodity\"] == comm]\n",
    "  fig = px.line(filtered_data, \n",
    "                x = 'Year',\n",
    "                y = 'Commodity Price',\n",
    "                color = 'Commodity',\n",
    "                title = 'Impact of Covid-19 on Commodities',\n",
    "                labels = {'Year': 'Phase', 'Commodity Price': 'Price of Commodity'},\n",
    "                markers = True)\n",
    "  return fig"
   ]
  },
  {
   "cell_type": "code",
   "execution_count": 40,
   "metadata": {},
   "outputs": [
    {
     "data": {
      "application/vnd.plotly.v1+json": {
       "config": {
        "plotlyServerURL": "https://plot.ly"
       },
       "data": [
        {
         "hovertemplate": "Commodity=Zinc<br>Phase=%{x}<br>Price of Commodity=%{y}<extra></extra>",
         "legendgroup": "Zinc",
         "line": {
          "color": "#636efa",
          "dash": "solid"
         },
         "marker": {
          "symbol": "circle"
         },
         "mode": "lines+markers",
         "name": "Zinc",
         "orientation": "v",
         "showlegend": true,
         "type": "scatter",
         "x": [
          "Pre_Covid",
          "2020",
          "2021",
          "Post_Covid"
         ],
         "xaxis": "x",
         "y": [
          110.8,
          110.8,
          145.8,
          170.75
         ],
         "yaxis": "y"
        }
       ],
       "layout": {
        "legend": {
         "title": {
          "text": "Commodity"
         },
         "tracegroupgap": 0
        },
        "template": {
         "data": {
          "bar": [
           {
            "error_x": {
             "color": "#2a3f5f"
            },
            "error_y": {
             "color": "#2a3f5f"
            },
            "marker": {
             "line": {
              "color": "#E5ECF6",
              "width": 0.5
             },
             "pattern": {
              "fillmode": "overlay",
              "size": 10,
              "solidity": 0.2
             }
            },
            "type": "bar"
           }
          ],
          "barpolar": [
           {
            "marker": {
             "line": {
              "color": "#E5ECF6",
              "width": 0.5
             },
             "pattern": {
              "fillmode": "overlay",
              "size": 10,
              "solidity": 0.2
             }
            },
            "type": "barpolar"
           }
          ],
          "carpet": [
           {
            "aaxis": {
             "endlinecolor": "#2a3f5f",
             "gridcolor": "white",
             "linecolor": "white",
             "minorgridcolor": "white",
             "startlinecolor": "#2a3f5f"
            },
            "baxis": {
             "endlinecolor": "#2a3f5f",
             "gridcolor": "white",
             "linecolor": "white",
             "minorgridcolor": "white",
             "startlinecolor": "#2a3f5f"
            },
            "type": "carpet"
           }
          ],
          "choropleth": [
           {
            "colorbar": {
             "outlinewidth": 0,
             "ticks": ""
            },
            "type": "choropleth"
           }
          ],
          "contour": [
           {
            "colorbar": {
             "outlinewidth": 0,
             "ticks": ""
            },
            "colorscale": [
             [
              0,
              "#0d0887"
             ],
             [
              0.1111111111111111,
              "#46039f"
             ],
             [
              0.2222222222222222,
              "#7201a8"
             ],
             [
              0.3333333333333333,
              "#9c179e"
             ],
             [
              0.4444444444444444,
              "#bd3786"
             ],
             [
              0.5555555555555556,
              "#d8576b"
             ],
             [
              0.6666666666666666,
              "#ed7953"
             ],
             [
              0.7777777777777778,
              "#fb9f3a"
             ],
             [
              0.8888888888888888,
              "#fdca26"
             ],
             [
              1,
              "#f0f921"
             ]
            ],
            "type": "contour"
           }
          ],
          "contourcarpet": [
           {
            "colorbar": {
             "outlinewidth": 0,
             "ticks": ""
            },
            "type": "contourcarpet"
           }
          ],
          "heatmap": [
           {
            "colorbar": {
             "outlinewidth": 0,
             "ticks": ""
            },
            "colorscale": [
             [
              0,
              "#0d0887"
             ],
             [
              0.1111111111111111,
              "#46039f"
             ],
             [
              0.2222222222222222,
              "#7201a8"
             ],
             [
              0.3333333333333333,
              "#9c179e"
             ],
             [
              0.4444444444444444,
              "#bd3786"
             ],
             [
              0.5555555555555556,
              "#d8576b"
             ],
             [
              0.6666666666666666,
              "#ed7953"
             ],
             [
              0.7777777777777778,
              "#fb9f3a"
             ],
             [
              0.8888888888888888,
              "#fdca26"
             ],
             [
              1,
              "#f0f921"
             ]
            ],
            "type": "heatmap"
           }
          ],
          "heatmapgl": [
           {
            "colorbar": {
             "outlinewidth": 0,
             "ticks": ""
            },
            "colorscale": [
             [
              0,
              "#0d0887"
             ],
             [
              0.1111111111111111,
              "#46039f"
             ],
             [
              0.2222222222222222,
              "#7201a8"
             ],
             [
              0.3333333333333333,
              "#9c179e"
             ],
             [
              0.4444444444444444,
              "#bd3786"
             ],
             [
              0.5555555555555556,
              "#d8576b"
             ],
             [
              0.6666666666666666,
              "#ed7953"
             ],
             [
              0.7777777777777778,
              "#fb9f3a"
             ],
             [
              0.8888888888888888,
              "#fdca26"
             ],
             [
              1,
              "#f0f921"
             ]
            ],
            "type": "heatmapgl"
           }
          ],
          "histogram": [
           {
            "marker": {
             "pattern": {
              "fillmode": "overlay",
              "size": 10,
              "solidity": 0.2
             }
            },
            "type": "histogram"
           }
          ],
          "histogram2d": [
           {
            "colorbar": {
             "outlinewidth": 0,
             "ticks": ""
            },
            "colorscale": [
             [
              0,
              "#0d0887"
             ],
             [
              0.1111111111111111,
              "#46039f"
             ],
             [
              0.2222222222222222,
              "#7201a8"
             ],
             [
              0.3333333333333333,
              "#9c179e"
             ],
             [
              0.4444444444444444,
              "#bd3786"
             ],
             [
              0.5555555555555556,
              "#d8576b"
             ],
             [
              0.6666666666666666,
              "#ed7953"
             ],
             [
              0.7777777777777778,
              "#fb9f3a"
             ],
             [
              0.8888888888888888,
              "#fdca26"
             ],
             [
              1,
              "#f0f921"
             ]
            ],
            "type": "histogram2d"
           }
          ],
          "histogram2dcontour": [
           {
            "colorbar": {
             "outlinewidth": 0,
             "ticks": ""
            },
            "colorscale": [
             [
              0,
              "#0d0887"
             ],
             [
              0.1111111111111111,
              "#46039f"
             ],
             [
              0.2222222222222222,
              "#7201a8"
             ],
             [
              0.3333333333333333,
              "#9c179e"
             ],
             [
              0.4444444444444444,
              "#bd3786"
             ],
             [
              0.5555555555555556,
              "#d8576b"
             ],
             [
              0.6666666666666666,
              "#ed7953"
             ],
             [
              0.7777777777777778,
              "#fb9f3a"
             ],
             [
              0.8888888888888888,
              "#fdca26"
             ],
             [
              1,
              "#f0f921"
             ]
            ],
            "type": "histogram2dcontour"
           }
          ],
          "mesh3d": [
           {
            "colorbar": {
             "outlinewidth": 0,
             "ticks": ""
            },
            "type": "mesh3d"
           }
          ],
          "parcoords": [
           {
            "line": {
             "colorbar": {
              "outlinewidth": 0,
              "ticks": ""
             }
            },
            "type": "parcoords"
           }
          ],
          "pie": [
           {
            "automargin": true,
            "type": "pie"
           }
          ],
          "scatter": [
           {
            "fillpattern": {
             "fillmode": "overlay",
             "size": 10,
             "solidity": 0.2
            },
            "type": "scatter"
           }
          ],
          "scatter3d": [
           {
            "line": {
             "colorbar": {
              "outlinewidth": 0,
              "ticks": ""
             }
            },
            "marker": {
             "colorbar": {
              "outlinewidth": 0,
              "ticks": ""
             }
            },
            "type": "scatter3d"
           }
          ],
          "scattercarpet": [
           {
            "marker": {
             "colorbar": {
              "outlinewidth": 0,
              "ticks": ""
             }
            },
            "type": "scattercarpet"
           }
          ],
          "scattergeo": [
           {
            "marker": {
             "colorbar": {
              "outlinewidth": 0,
              "ticks": ""
             }
            },
            "type": "scattergeo"
           }
          ],
          "scattergl": [
           {
            "marker": {
             "colorbar": {
              "outlinewidth": 0,
              "ticks": ""
             }
            },
            "type": "scattergl"
           }
          ],
          "scattermapbox": [
           {
            "marker": {
             "colorbar": {
              "outlinewidth": 0,
              "ticks": ""
             }
            },
            "type": "scattermapbox"
           }
          ],
          "scatterpolar": [
           {
            "marker": {
             "colorbar": {
              "outlinewidth": 0,
              "ticks": ""
             }
            },
            "type": "scatterpolar"
           }
          ],
          "scatterpolargl": [
           {
            "marker": {
             "colorbar": {
              "outlinewidth": 0,
              "ticks": ""
             }
            },
            "type": "scatterpolargl"
           }
          ],
          "scatterternary": [
           {
            "marker": {
             "colorbar": {
              "outlinewidth": 0,
              "ticks": ""
             }
            },
            "type": "scatterternary"
           }
          ],
          "surface": [
           {
            "colorbar": {
             "outlinewidth": 0,
             "ticks": ""
            },
            "colorscale": [
             [
              0,
              "#0d0887"
             ],
             [
              0.1111111111111111,
              "#46039f"
             ],
             [
              0.2222222222222222,
              "#7201a8"
             ],
             [
              0.3333333333333333,
              "#9c179e"
             ],
             [
              0.4444444444444444,
              "#bd3786"
             ],
             [
              0.5555555555555556,
              "#d8576b"
             ],
             [
              0.6666666666666666,
              "#ed7953"
             ],
             [
              0.7777777777777778,
              "#fb9f3a"
             ],
             [
              0.8888888888888888,
              "#fdca26"
             ],
             [
              1,
              "#f0f921"
             ]
            ],
            "type": "surface"
           }
          ],
          "table": [
           {
            "cells": {
             "fill": {
              "color": "#EBF0F8"
             },
             "line": {
              "color": "white"
             }
            },
            "header": {
             "fill": {
              "color": "#C8D4E3"
             },
             "line": {
              "color": "white"
             }
            },
            "type": "table"
           }
          ]
         },
         "layout": {
          "annotationdefaults": {
           "arrowcolor": "#2a3f5f",
           "arrowhead": 0,
           "arrowwidth": 1
          },
          "autotypenumbers": "strict",
          "coloraxis": {
           "colorbar": {
            "outlinewidth": 0,
            "ticks": ""
           }
          },
          "colorscale": {
           "diverging": [
            [
             0,
             "#8e0152"
            ],
            [
             0.1,
             "#c51b7d"
            ],
            [
             0.2,
             "#de77ae"
            ],
            [
             0.3,
             "#f1b6da"
            ],
            [
             0.4,
             "#fde0ef"
            ],
            [
             0.5,
             "#f7f7f7"
            ],
            [
             0.6,
             "#e6f5d0"
            ],
            [
             0.7,
             "#b8e186"
            ],
            [
             0.8,
             "#7fbc41"
            ],
            [
             0.9,
             "#4d9221"
            ],
            [
             1,
             "#276419"
            ]
           ],
           "sequential": [
            [
             0,
             "#0d0887"
            ],
            [
             0.1111111111111111,
             "#46039f"
            ],
            [
             0.2222222222222222,
             "#7201a8"
            ],
            [
             0.3333333333333333,
             "#9c179e"
            ],
            [
             0.4444444444444444,
             "#bd3786"
            ],
            [
             0.5555555555555556,
             "#d8576b"
            ],
            [
             0.6666666666666666,
             "#ed7953"
            ],
            [
             0.7777777777777778,
             "#fb9f3a"
            ],
            [
             0.8888888888888888,
             "#fdca26"
            ],
            [
             1,
             "#f0f921"
            ]
           ],
           "sequentialminus": [
            [
             0,
             "#0d0887"
            ],
            [
             0.1111111111111111,
             "#46039f"
            ],
            [
             0.2222222222222222,
             "#7201a8"
            ],
            [
             0.3333333333333333,
             "#9c179e"
            ],
            [
             0.4444444444444444,
             "#bd3786"
            ],
            [
             0.5555555555555556,
             "#d8576b"
            ],
            [
             0.6666666666666666,
             "#ed7953"
            ],
            [
             0.7777777777777778,
             "#fb9f3a"
            ],
            [
             0.8888888888888888,
             "#fdca26"
            ],
            [
             1,
             "#f0f921"
            ]
           ]
          },
          "colorway": [
           "#636efa",
           "#EF553B",
           "#00cc96",
           "#ab63fa",
           "#FFA15A",
           "#19d3f3",
           "#FF6692",
           "#B6E880",
           "#FF97FF",
           "#FECB52"
          ],
          "font": {
           "color": "#2a3f5f"
          },
          "geo": {
           "bgcolor": "white",
           "lakecolor": "white",
           "landcolor": "#E5ECF6",
           "showlakes": true,
           "showland": true,
           "subunitcolor": "white"
          },
          "hoverlabel": {
           "align": "left"
          },
          "hovermode": "closest",
          "mapbox": {
           "style": "light"
          },
          "paper_bgcolor": "white",
          "plot_bgcolor": "#E5ECF6",
          "polar": {
           "angularaxis": {
            "gridcolor": "white",
            "linecolor": "white",
            "ticks": ""
           },
           "bgcolor": "#E5ECF6",
           "radialaxis": {
            "gridcolor": "white",
            "linecolor": "white",
            "ticks": ""
           }
          },
          "scene": {
           "xaxis": {
            "backgroundcolor": "#E5ECF6",
            "gridcolor": "white",
            "gridwidth": 2,
            "linecolor": "white",
            "showbackground": true,
            "ticks": "",
            "zerolinecolor": "white"
           },
           "yaxis": {
            "backgroundcolor": "#E5ECF6",
            "gridcolor": "white",
            "gridwidth": 2,
            "linecolor": "white",
            "showbackground": true,
            "ticks": "",
            "zerolinecolor": "white"
           },
           "zaxis": {
            "backgroundcolor": "#E5ECF6",
            "gridcolor": "white",
            "gridwidth": 2,
            "linecolor": "white",
            "showbackground": true,
            "ticks": "",
            "zerolinecolor": "white"
           }
          },
          "shapedefaults": {
           "line": {
            "color": "#2a3f5f"
           }
          },
          "ternary": {
           "aaxis": {
            "gridcolor": "white",
            "linecolor": "white",
            "ticks": ""
           },
           "baxis": {
            "gridcolor": "white",
            "linecolor": "white",
            "ticks": ""
           },
           "bgcolor": "#E5ECF6",
           "caxis": {
            "gridcolor": "white",
            "linecolor": "white",
            "ticks": ""
           }
          },
          "title": {
           "x": 0.05
          },
          "xaxis": {
           "automargin": true,
           "gridcolor": "white",
           "linecolor": "white",
           "ticks": "",
           "title": {
            "standoff": 15
           },
           "zerolinecolor": "white",
           "zerolinewidth": 2
          },
          "yaxis": {
           "automargin": true,
           "gridcolor": "white",
           "linecolor": "white",
           "ticks": "",
           "title": {
            "standoff": 15
           },
           "zerolinecolor": "white",
           "zerolinewidth": 2
          }
         }
        },
        "title": {
         "text": "Impact of Covid-19 on Commodities"
        },
        "xaxis": {
         "anchor": "y",
         "domain": [
          0,
          1
         ],
         "title": {
          "text": "Phase"
         }
        },
        "yaxis": {
         "anchor": "x",
         "domain": [
          0,
          1
         ],
         "title": {
          "text": "Price of Commodity"
         }
        }
       }
      }
     },
     "metadata": {},
     "output_type": "display_data"
    }
   ],
   "source": [
    "create_commodity_price_chart(melted_data_commodity, \"Zinc\")"
   ]
  },
  {
   "cell_type": "code",
   "execution_count": 85,
   "metadata": {},
   "outputs": [],
   "source": [
    "import plotly.express as px\n",
    "\n",
    "def create_commodity_price_chart(data, chart_type):\n",
    "    if chart_type == 'line':\n",
    "        fig = px.line(data, \n",
    "                      x='Year',\n",
    "                      y='Commodity Price',\n",
    "                      color='Commodity',\n",
    "                      title='Impact of Covid-19 on Commodities (Line Chart)',\n",
    "                      labels={'Year': 'Phase', 'Commodity Price': 'Price of Commodity'},\n",
    "                      markers=True)\n",
    "        \n",
    "    elif chart_type == 'heatmap':\n",
    "        # For heatmap, we need to reshape the data\n",
    "        heatmap_data = data.melt(id_vars='Commodity', var_name='Year', value_name='Price')\n",
    "        fig = px.imshow(heatmap_data.pivot(index='Commodity', columns='Year', values='Price'),\n",
    "                        aspect='auto',\n",
    "                        labels={'x': 'Year', 'y': 'Commodity', 'color': 'Price'},\n",
    "                        title='Impact of Covid-19 on Commodities (Heatmap)')\n",
    "    \n",
    "    elif chart_type == 'box':\n",
    "        # Box plot for visualizing distribution\n",
    "        fig = px.box(data, \n",
    "                     x='Year', \n",
    "                     y='Commodity Price', \n",
    "                     color='Commodity',\n",
    "                     title='Impact of Covid-19 on Commodities (Box Plot)',\n",
    "                     labels={'Year': 'Year', 'Commodity Price': 'Price of Commodity'})\n",
    "    \n",
    "    elif chart_type == 'bar':\n",
    "        # Bar chart for percentage change\n",
    "        data['Pre_Covid'] = data[['Jan_2010', 'Feb_2010', 'Mar_2010']].mean(axis=1)\n",
    "        data['Post_Covid'] = data[['Jan_2020', 'Feb_2020', 'Mar_2020']].mean(axis=1)\n",
    "        data['Percent_Change'] = ((data['Post_Covid'] - data['Pre_Covid']) / data['Pre_Covid']) * 100\n",
    "        fig = px.bar(data, \n",
    "                     x='Commodity', \n",
    "                     y='Percent_Change', \n",
    "                     title='Percentage Change in Commodity Prices Pre- and Post-COVID (Bar Chart)',\n",
    "                     labels={'Percent_Change': '% Change in Price'})\n",
    "    \n",
    "    elif chart_type == 'violin':\n",
    "        # Violin plot for price distribution\n",
    "        fig = px.violin(data, \n",
    "                        x='Commodity', \n",
    "                        y='Commodity Price', \n",
    "                        color='Commodity', \n",
    "                        box=True, points=\"all\",\n",
    "                        title='Price Distribution of Commodities (Violin Plot)',\n",
    "                        labels={'Commodity Price': 'Price of Commodity'})\n",
    "    else:\n",
    "        raise ValueError(\"Invalid chart type provided. Please choose 'line', 'heatmap', 'box', 'bar', or 'violin'.\")\n",
    "    \n",
    "    return fig\n"
   ]
  },
  {
   "cell_type": "code",
   "execution_count": 90,
   "metadata": {},
   "outputs": [
    {
     "data": {
      "application/vnd.plotly.v1+json": {
       "config": {
        "plotlyServerURL": "https://plot.ly"
       },
       "data": [
        {
         "alignmentgroup": "True",
         "box": {
          "visible": true
         },
         "hovertemplate": "Commodity=%{x}<br>Price of Commodity=%{y}<extra></extra>",
         "legendgroup": "Bananas",
         "marker": {
          "color": "#636efa"
         },
         "name": "Bananas",
         "offsetgroup": "Bananas",
         "orientation": "v",
         "points": "all",
         "scalegroup": "True",
         "showlegend": true,
         "type": "violin",
         "x": [
          "Bananas",
          "Bananas",
          "Bananas",
          "Bananas"
         ],
         "x0": " ",
         "xaxis": "x",
         "y": [
          0.99,
          1.2,
          1.2,
          1.55
         ],
         "y0": " ",
         "yaxis": "y"
        },
        {
         "alignmentgroup": "True",
         "box": {
          "visible": true
         },
         "hovertemplate": "Commodity=%{x}<br>Price of Commodity=%{y}<extra></extra>",
         "legendgroup": "Bananas ( Central America)",
         "marker": {
          "color": "#EF553B"
         },
         "name": "Bananas ( Central America)",
         "offsetgroup": "Bananas ( Central America)",
         "orientation": "v",
         "points": "all",
         "scalegroup": "True",
         "showlegend": true,
         "type": "violin",
         "x": [
          "Bananas ( Central America)",
          "Bananas ( Central America)",
          "Bananas ( Central America)",
          "Bananas ( Central America)"
         ],
         "x0": " ",
         "xaxis": "x",
         "y": [
          0.95,
          null,
          null,
          null
         ],
         "y0": " ",
         "yaxis": "y"
        },
        {
         "alignmentgroup": "True",
         "box": {
          "visible": true
         },
         "hovertemplate": "Commodity=%{x}<br>Price of Commodity=%{y}<extra></extra>",
         "legendgroup": "Beef",
         "marker": {
          "color": "#00cc96"
         },
         "name": "Beef",
         "offsetgroup": "Beef",
         "orientation": "v",
         "points": "all",
         "scalegroup": "True",
         "showlegend": true,
         "type": "violin",
         "x": [
          "Beef",
          "Beef",
          "Beef",
          "Beef"
         ],
         "x0": " ",
         "xaxis": "x",
         "y": [
          4.279999999999999,
          4.7,
          5.3,
          5.25
         ],
         "y0": " ",
         "yaxis": "y"
        },
        {
         "alignmentgroup": "True",
         "box": {
          "visible": true
         },
         "hovertemplate": "Commodity=%{x}<br>Price of Commodity=%{y}<extra></extra>",
         "legendgroup": "Maize",
         "marker": {
          "color": "#ab63fa"
         },
         "name": "Maize",
         "offsetgroup": "Maize",
         "orientation": "v",
         "points": "all",
         "scalegroup": "True",
         "showlegend": true,
         "type": "violin",
         "x": [
          "Maize",
          "Maize",
          "Maize",
          "Maize"
         ],
         "x0": " ",
         "xaxis": "x",
         "y": [
          204.13,
          180,
          248.2,
          277.3
         ],
         "y0": " ",
         "yaxis": "y"
        },
        {
         "alignmentgroup": "True",
         "box": {
          "visible": true
         },
         "hovertemplate": "Commodity=%{x}<br>Price of Commodity=%{y}<extra></extra>",
         "legendgroup": "Maize ( United States)",
         "marker": {
          "color": "#FFA15A"
         },
         "name": "Maize ( United States)",
         "offsetgroup": "Maize ( United States)",
         "orientation": "v",
         "points": "all",
         "scalegroup": "True",
         "showlegend": true,
         "type": "violin",
         "x": [
          "Maize ( United States)",
          "Maize ( United States)",
          "Maize ( United States)",
          "Maize ( United States)"
         ],
         "x0": " ",
         "xaxis": "x",
         "y": [
          211.17,
          181,
          271.4,
          291.6
         ],
         "y0": " ",
         "yaxis": "y"
        },
        {
         "alignmentgroup": "True",
         "box": {
          "visible": true
         },
         "hovertemplate": "Commodity=%{x}<br>Price of Commodity=%{y}<extra></extra>",
         "legendgroup": "Rice",
         "marker": {
          "color": "#19d3f3"
         },
         "name": "Rice",
         "offsetgroup": "Rice",
         "orientation": "v",
         "points": "all",
         "scalegroup": "True",
         "showlegend": true,
         "type": "violin",
         "x": [
          "Rice",
          "Rice",
          "Rice",
          "Rice"
         ],
         "x0": " ",
         "xaxis": "x",
         "y": [
          454.34,
          496.8,
          458.3,
          495.25
         ],
         "y0": " ",
         "yaxis": "y"
        },
        {
         "alignmentgroup": "True",
         "box": {
          "visible": true
         },
         "hovertemplate": "Commodity=%{x}<br>Price of Commodity=%{y}<extra></extra>",
         "legendgroup": "Salmon",
         "marker": {
          "color": "#FF6692"
         },
         "name": "Salmon",
         "offsetgroup": "Salmon",
         "orientation": "v",
         "points": "all",
         "scalegroup": "True",
         "showlegend": true,
         "type": "violin",
         "x": [
          "Salmon",
          "Salmon",
          "Salmon",
          "Salmon"
         ],
         "x0": " ",
         "xaxis": "x",
         "y": [
          6.460000000000001,
          6.1,
          6.9,
          8.7
         ],
         "y0": " ",
         "yaxis": "y"
        },
        {
         "alignmentgroup": "True",
         "box": {
          "visible": true
         },
         "hovertemplate": "Commodity=%{x}<br>Price of Commodity=%{y}<extra></extra>",
         "legendgroup": "Shrimps",
         "marker": {
          "color": "#B6E880"
         },
         "name": "Shrimps",
         "offsetgroup": "Shrimps",
         "orientation": "v",
         "points": "all",
         "scalegroup": "True",
         "showlegend": true,
         "type": "violin",
         "x": [
          "Shrimps",
          "Shrimps",
          "Shrimps",
          "Shrimps"
         ],
         "x0": " ",
         "xaxis": "x",
         "y": [
          12.870000000000001,
          12.7,
          13.7,
          13.5
         ],
         "y0": " ",
         "yaxis": "y"
        },
        {
         "alignmentgroup": "True",
         "box": {
          "visible": true
         },
         "hovertemplate": "Commodity=%{x}<br>Price of Commodity=%{y}<extra></extra>",
         "legendgroup": "Soybean meal",
         "marker": {
          "color": "#FF97FF"
         },
         "name": "Soybean meal",
         "offsetgroup": "Soybean meal",
         "orientation": "v",
         "points": "all",
         "scalegroup": "True",
         "showlegend": true,
         "type": "violin",
         "x": [
          "Soybean meal",
          "Soybean meal",
          "Soybean meal",
          "Soybean meal"
         ],
         "x0": " ",
         "xaxis": "x",
         "y": [
          427.12,
          394.2,
          481,
          544.65
         ],
         "y0": " ",
         "yaxis": "y"
        },
        {
         "alignmentgroup": "True",
         "box": {
          "visible": true
         },
         "hovertemplate": "Commodity=%{x}<br>Price of Commodity=%{y}<extra></extra>",
         "legendgroup": "Sugar",
         "marker": {
          "color": "#FECB52"
         },
         "name": "Sugar",
         "offsetgroup": "Sugar",
         "orientation": "v",
         "points": "all",
         "scalegroup": "True",
         "showlegend": true,
         "type": "violin",
         "x": [
          "Sugar",
          "Sugar",
          "Sugar",
          "Sugar"
         ],
         "x0": " ",
         "xaxis": "x",
         "y": [
          17.63,
          12.8,
          17.7,
          20.95
         ],
         "y0": " ",
         "yaxis": "y"
        },
        {
         "alignmentgroup": "True",
         "box": {
          "visible": true
         },
         "hovertemplate": "Commodity=%{x}<br>Price of Commodity=%{y}<extra></extra>",
         "legendgroup": "Wheat",
         "marker": {
          "color": "#636efa"
         },
         "name": "Wheat",
         "offsetgroup": "Wheat",
         "orientation": "v",
         "points": "all",
         "scalegroup": "True",
         "showlegend": true,
         "type": "violin",
         "x": [
          "Wheat",
          "Wheat",
          "Wheat",
          "Wheat"
         ],
         "x0": " ",
         "xaxis": "x",
         "y": [
          254.42999999999998,
          244.8,
          285.9,
          367.1
         ],
         "y0": " ",
         "yaxis": "y"
        },
        {
         "alignmentgroup": "True",
         "box": {
          "visible": true
         },
         "hovertemplate": "Commodity=%{x}<br>Price of Commodity=%{y}<extra></extra>",
         "legendgroup": "Wheat ( United States)",
         "marker": {
          "color": "#EF553B"
         },
         "name": "Wheat ( United States)",
         "offsetgroup": "Wheat ( United States)",
         "orientation": "v",
         "points": "all",
         "scalegroup": "True",
         "showlegend": true,
         "type": "violin",
         "x": [
          "Wheat ( United States)",
          "Wheat ( United States)",
          "Wheat ( United States)",
          "Wheat ( United States)"
         ],
         "x0": " ",
         "xaxis": "x",
         "y": [
          262.56000000000006,
          239.4,
          315.8,
          385
         ],
         "y0": " ",
         "yaxis": "y"
        },
        {
         "alignmentgroup": "True",
         "box": {
          "visible": true
         },
         "hovertemplate": "Commodity=%{x}<br>Price of Commodity=%{y}<extra></extra>",
         "legendgroup": "Cocoa beans",
         "marker": {
          "color": "#00cc96"
         },
         "name": "Cocoa beans",
         "offsetgroup": "Cocoa beans",
         "orientation": "v",
         "points": "all",
         "scalegroup": "True",
         "showlegend": true,
         "type": "violin",
         "x": [
          "Cocoa beans",
          "Cocoa beans",
          "Cocoa beans",
          "Cocoa beans"
         ],
         "x0": " ",
         "xaxis": "x",
         "y": [
          121.1,
          107.5,
          110.1,
          127.65
         ],
         "y0": " ",
         "yaxis": "y"
        },
        {
         "alignmentgroup": "True",
         "box": {
          "visible": true
         },
         "hovertemplate": "Commodity=%{x}<br>Price of Commodity=%{y}<extra></extra>",
         "legendgroup": "Coffee",
         "marker": {
          "color": "#ab63fa"
         },
         "name": "Coffee",
         "offsetgroup": "Coffee",
         "orientation": "v",
         "points": "all",
         "scalegroup": "True",
         "showlegend": true,
         "type": "violin",
         "x": [
          "Coffee",
          "Coffee",
          "Coffee",
          "Coffee"
         ],
         "x0": " ",
         "xaxis": "x",
         "y": [
          142.32999999999998,
          102.5,
          158.2,
          198.2
         ],
         "y0": " ",
         "yaxis": "y"
        },
        {
         "alignmentgroup": "True",
         "box": {
          "visible": true
         },
         "hovertemplate": "Commodity=%{x}<br>Price of Commodity=%{y}<extra></extra>",
         "legendgroup": "Coffee ( Colombian mild Arabicas)",
         "marker": {
          "color": "#FFA15A"
         },
         "name": "Coffee ( Colombian mild Arabicas)",
         "offsetgroup": "Coffee ( Colombian mild Arabicas)",
         "orientation": "v",
         "points": "all",
         "scalegroup": "True",
         "showlegend": true,
         "type": "violin",
         "x": [
          "Coffee ( Colombian mild Arabicas)",
          "Coffee ( Colombian mild Arabicas)",
          "Coffee ( Colombian mild Arabicas)",
          "Coffee ( Colombian mild Arabicas)"
         ],
         "x0": " ",
         "xaxis": "x",
         "y": [
          179.41,
          166.3,
          228.4,
          255.3
         ],
         "y0": " ",
         "yaxis": "y"
        },
        {
         "alignmentgroup": "True",
         "box": {
          "visible": true
         },
         "hovertemplate": "Commodity=%{x}<br>Price of Commodity=%{y}<extra></extra>",
         "legendgroup": "Coffee ( other mild Arabicas)",
         "marker": {
          "color": "#19d3f3"
         },
         "name": "Coffee ( other mild Arabicas)",
         "offsetgroup": "Coffee ( other mild Arabicas)",
         "orientation": "v",
         "points": "all",
         "scalegroup": "True",
         "showlegend": true,
         "type": "violin",
         "x": [
          "Coffee ( other mild Arabicas)",
          "Coffee ( other mild Arabicas)",
          "Coffee ( other mild Arabicas)",
          "Coffee ( other mild Arabicas)",
          "Coffee ( other mild Arabicas)",
          "Coffee ( other mild Arabicas)",
          "Coffee ( other mild Arabicas)",
          "Coffee ( other mild Arabicas)"
         ],
         "x0": " ",
         "xaxis": "x",
         "y": [
          171.63,
          175.13000000000002,
          146.8,
          156.9,
          201.4,
          209.8,
          225.25,
          240.3
         ],
         "y0": " ",
         "yaxis": "y"
        },
        {
         "alignmentgroup": "True",
         "box": {
          "visible": true
         },
         "hovertemplate": "Commodity=%{x}<br>Price of Commodity=%{y}<extra></extra>",
         "legendgroup": "Coffee ( Robustas)",
         "marker": {
          "color": "#FF6692"
         },
         "name": "Coffee ( Robustas)",
         "offsetgroup": "Coffee ( Robustas)",
         "orientation": "v",
         "points": "all",
         "scalegroup": "True",
         "showlegend": true,
         "type": "violin",
         "x": [
          "Coffee ( Robustas)",
          "Coffee ( Robustas)",
          "Coffee ( Robustas)",
          "Coffee ( Robustas)",
          "Coffee ( Robustas)",
          "Coffee ( Robustas)",
          "Coffee ( Robustas)",
          "Coffee ( Robustas)"
         ],
         "x0": " ",
         "xaxis": "x",
         "y": [
          91,
          97.75999999999999,
          66.7,
          78.2,
          87.7,
          99.8,
          109,
          124.3
         ],
         "y0": " ",
         "yaxis": "y"
        },
        {
         "alignmentgroup": "True",
         "box": {
          "visible": true
         },
         "hovertemplate": "Commodity=%{x}<br>Price of Commodity=%{y}<extra></extra>",
         "legendgroup": "Tea",
         "marker": {
          "color": "#B6E880"
         },
         "name": "Tea",
         "offsetgroup": "Tea",
         "orientation": "v",
         "points": "all",
         "scalegroup": "True",
         "showlegend": true,
         "type": "violin",
         "x": [
          "Tea",
          "Tea",
          "Tea",
          "Tea"
         ],
         "x0": " ",
         "xaxis": "x",
         "y": [
          2.58,
          2,
          2.1,
          2.3
         ],
         "y0": " ",
         "yaxis": "y"
        },
        {
         "alignmentgroup": "True",
         "box": {
          "visible": true
         },
         "hovertemplate": "Commodity=%{x}<br>Price of Commodity=%{y}<extra></extra>",
         "legendgroup": "Coconut oil",
         "marker": {
          "color": "#FF97FF"
         },
         "name": "Coconut oil",
         "offsetgroup": "Coconut oil",
         "orientation": "v",
         "points": "all",
         "scalegroup": "True",
         "showlegend": true,
         "type": "violin",
         "x": [
          "Coconut oil",
          "Coconut oil",
          "Coconut oil",
          "Coconut oil"
         ],
         "x0": " ",
         "xaxis": "x",
         "y": [
          1215.35,
          1010.4,
          1636.3,
          1354.9
         ],
         "y0": " ",
         "yaxis": "y"
        },
        {
         "alignmentgroup": "True",
         "box": {
          "visible": true
         },
         "hovertemplate": "Commodity=%{x}<br>Price of Commodity=%{y}<extra></extra>",
         "legendgroup": "Groundnut oil",
         "marker": {
          "color": "#FECB52"
         },
         "name": "Groundnut oil",
         "offsetgroup": "Groundnut oil",
         "orientation": "v",
         "points": "all",
         "scalegroup": "True",
         "showlegend": true,
         "type": "violin",
         "x": [
          "Groundnut oil",
          "Groundnut oil",
          "Groundnut oil",
          "Groundnut oil"
         ],
         "x0": " ",
         "xaxis": "x",
         "y": [
          1591.4599999999998,
          1697.8,
          2075.1,
          2118.65
         ],
         "y0": " ",
         "yaxis": "y"
        },
        {
         "alignmentgroup": "True",
         "box": {
          "visible": true
         },
         "hovertemplate": "Commodity=%{x}<br>Price of Commodity=%{y}<extra></extra>",
         "legendgroup": "Palm kernel oil",
         "marker": {
          "color": "#636efa"
         },
         "name": "Palm kernel oil",
         "offsetgroup": "Palm kernel oil",
         "orientation": "v",
         "points": "all",
         "scalegroup": "True",
         "showlegend": true,
         "type": "violin",
         "x": [
          "Palm kernel oil",
          "Palm kernel oil",
          "Palm kernel oil",
          "Palm kernel oil"
         ],
         "x0": " ",
         "xaxis": "x",
         "y": [
          1105,
          824.1,
          1533.1,
          1303.6
         ],
         "y0": " ",
         "yaxis": "y"
        },
        {
         "alignmentgroup": "True",
         "box": {
          "visible": true
         },
         "hovertemplate": "Commodity=%{x}<br>Price of Commodity=%{y}<extra></extra>",
         "legendgroup": "Palm oil",
         "marker": {
          "color": "#EF553B"
         },
         "name": "Palm oil",
         "offsetgroup": "Palm oil",
         "orientation": "v",
         "points": "all",
         "scalegroup": "True",
         "showlegend": true,
         "type": "violin",
         "x": [
          "Palm oil",
          "Palm oil",
          "Palm oil",
          "Palm oil"
         ],
         "x0": " ",
         "xaxis": "x",
         "y": [
          826.79,
          751.8,
          1130.6,
          1081.25
         ],
         "y0": " ",
         "yaxis": "y"
        },
        {
         "alignmentgroup": "True",
         "box": {
          "visible": true
         },
         "hovertemplate": "Commodity=%{x}<br>Price of Commodity=%{y}<extra></extra>",
         "legendgroup": "Soybean oil",
         "marker": {
          "color": "#00cc96"
         },
         "name": "Soybean oil",
         "offsetgroup": "Soybean oil",
         "orientation": "v",
         "points": "all",
         "scalegroup": "True",
         "showlegend": true,
         "type": "violin",
         "x": [
          "Soybean oil",
          "Soybean oil",
          "Soybean oil",
          "Soybean oil"
         ],
         "x0": " ",
         "xaxis": "x",
         "y": [
          946.11,
          837.8,
          1385.4,
          1392.65
         ],
         "y0": " ",
         "yaxis": "y"
        },
        {
         "alignmentgroup": "True",
         "box": {
          "visible": true
         },
         "hovertemplate": "Commodity=%{x}<br>Price of Commodity=%{y}<extra></extra>",
         "legendgroup": "Soybeans",
         "marker": {
          "color": "#ab63fa"
         },
         "name": "Soybeans",
         "offsetgroup": "Soybeans",
         "orientation": "v",
         "points": "all",
         "scalegroup": "True",
         "showlegend": true,
         "type": "violin",
         "x": [
          "Soybeans",
          "Soybeans",
          "Soybeans",
          "Soybeans"
         ],
         "x0": " ",
         "xaxis": "x",
         "y": [
          457.05999999999995,
          406.6,
          583.3,
          636.65
         ],
         "y0": " ",
         "yaxis": "y"
        },
        {
         "alignmentgroup": "True",
         "box": {
          "visible": true
         },
         "hovertemplate": "Commodity=%{x}<br>Price of Commodity=%{y}<extra></extra>",
         "legendgroup": "Sunflower oil",
         "marker": {
          "color": "#FFA15A"
         },
         "name": "Sunflower oil",
         "offsetgroup": "Sunflower oil",
         "orientation": "v",
         "points": "all",
         "scalegroup": "True",
         "showlegend": true,
         "type": "violin",
         "x": [
          "Sunflower oil",
          "Sunflower oil",
          "Sunflower oil",
          "Sunflower oil"
         ],
         "x0": " ",
         "xaxis": "x",
         "y": [
          1027.56,
          881,
          1404.1,
          1328.75
         ],
         "y0": " ",
         "yaxis": "y"
        },
        {
         "alignmentgroup": "True",
         "box": {
          "visible": true
         },
         "hovertemplate": "Commodity=%{x}<br>Price of Commodity=%{y}<extra></extra>",
         "legendgroup": "Cattle hides",
         "marker": {
          "color": "#19d3f3"
         },
         "name": "Cattle hides",
         "offsetgroup": "Cattle hides",
         "orientation": "v",
         "points": "all",
         "scalegroup": "True",
         "showlegend": true,
         "type": "violin",
         "x": [
          "Cattle hides",
          "Cattle hides",
          "Cattle hides",
          "Cattle hides"
         ],
         "x0": " ",
         "xaxis": "x",
         "y": [
          85.85714285714286,
          null,
          null,
          null
         ],
         "y0": " ",
         "yaxis": "y"
        },
        {
         "alignmentgroup": "True",
         "box": {
          "visible": true
         },
         "hovertemplate": "Commodity=%{x}<br>Price of Commodity=%{y}<extra></extra>",
         "legendgroup": "Coarse wool",
         "marker": {
          "color": "#FF6692"
         },
         "name": "Coarse wool",
         "offsetgroup": "Coarse wool",
         "orientation": "v",
         "points": "all",
         "scalegroup": "True",
         "showlegend": true,
         "type": "violin",
         "x": [
          "Coarse wool",
          "Coarse wool",
          "Coarse wool",
          "Coarse wool"
         ],
         "x0": " ",
         "xaxis": "x",
         "y": [
          10484.885714285716,
          null,
          null,
          null
         ],
         "y0": " ",
         "yaxis": "y"
        },
        {
         "alignmentgroup": "True",
         "box": {
          "visible": true
         },
         "hovertemplate": "Commodity=%{x}<br>Price of Commodity=%{y}<extra></extra>",
         "legendgroup": "Fine wool",
         "marker": {
          "color": "#B6E880"
         },
         "name": "Fine wool",
         "offsetgroup": "Fine wool",
         "orientation": "v",
         "points": "all",
         "scalegroup": "True",
         "showlegend": true,
         "type": "violin",
         "x": [
          "Fine wool",
          "Fine wool",
          "Fine wool",
          "Fine wool"
         ],
         "x0": " ",
         "xaxis": "x",
         "y": [
          11995.414285714285,
          null,
          null,
          null
         ],
         "y0": " ",
         "yaxis": "y"
        },
        {
         "alignmentgroup": "True",
         "box": {
          "visible": true
         },
         "hovertemplate": "Commodity=%{x}<br>Price of Commodity=%{y}<extra></extra>",
         "legendgroup": "Fine wool ( 19 Micron)",
         "marker": {
          "color": "#FF97FF"
         },
         "name": "Fine wool ( 19 Micron)",
         "offsetgroup": "Fine wool ( 19 Micron)",
         "orientation": "v",
         "points": "all",
         "scalegroup": "True",
         "showlegend": true,
         "type": "violin",
         "x": [
          "Fine wool ( 19 Micron)",
          "Fine wool ( 19 Micron)",
          "Fine wool ( 19 Micron)",
          "Fine wool ( 19 Micron)"
         ],
         "x0": " ",
         "xaxis": "x",
         "y": [
          10945.025,
          null,
          null,
          10834.1
         ],
         "y0": " ",
         "yaxis": "y"
        },
        {
         "alignmentgroup": "True",
         "box": {
          "visible": true
         },
         "hovertemplate": "Commodity=%{x}<br>Price of Commodity=%{y}<extra></extra>",
         "legendgroup": "Fish meal",
         "marker": {
          "color": "#FECB52"
         },
         "name": "Fish meal",
         "offsetgroup": "Fish meal",
         "orientation": "v",
         "points": "all",
         "scalegroup": "True",
         "showlegend": true,
         "type": "violin",
         "x": [
          "Fish meal",
          "Fish meal",
          "Fish meal",
          "Fish meal"
         ],
         "x0": " ",
         "xaxis": "x",
         "y": [
          1492.51,
          1432.7,
          1480.9,
          1705.25
         ],
         "y0": " ",
         "yaxis": "y"
        },
        {
         "alignmentgroup": "True",
         "box": {
          "visible": true
         },
         "hovertemplate": "Commodity=%{x}<br>Price of Commodity=%{y}<extra></extra>",
         "legendgroup": "Jute",
         "marker": {
          "color": "#636efa"
         },
         "name": "Jute",
         "offsetgroup": "Jute",
         "orientation": "v",
         "points": "all",
         "scalegroup": "True",
         "showlegend": true,
         "type": "violin",
         "x": [
          "Jute",
          "Jute",
          "Jute",
          "Jute"
         ],
         "x0": " ",
         "xaxis": "x",
         "y": [
          705.47,
          852.5,
          1545.4,
          987.5
         ],
         "y0": " ",
         "yaxis": "y"
        },
        {
         "alignmentgroup": "True",
         "box": {
          "visible": true
         },
         "hovertemplate": "Commodity=%{x}<br>Price of Commodity=%{y}<extra></extra>",
         "legendgroup": "Non-coniferous woods",
         "marker": {
          "color": "#EF553B"
         },
         "name": "Non-coniferous woods",
         "offsetgroup": "Non-coniferous woods",
         "orientation": "v",
         "points": "all",
         "scalegroup": "True",
         "showlegend": true,
         "type": "violin",
         "x": [
          "Non-coniferous woods",
          "Non-coniferous woods",
          "Non-coniferous woods",
          "Non-coniferous woods"
         ],
         "x0": " ",
         "xaxis": "x",
         "y": [
          102.36250000000001,
          103.9,
          154.5,
          136
         ],
         "y0": " ",
         "yaxis": "y"
        },
        {
         "alignmentgroup": "True",
         "box": {
          "visible": true
         },
         "hovertemplate": "Commodity=%{x}<br>Price of Commodity=%{y}<extra></extra>",
         "legendgroup": "Plywood",
         "marker": {
          "color": "#00cc96"
         },
         "name": "Plywood",
         "offsetgroup": "Plywood",
         "orientation": "v",
         "points": "all",
         "scalegroup": "True",
         "showlegend": true,
         "type": "violin",
         "x": [
          "Plywood",
          "Plywood",
          "Plywood",
          "Plywood"
         ],
         "x0": " ",
         "xaxis": "x",
         "y": [
          530.14,
          511.6,
          497.7,
          403.85
         ],
         "y0": " ",
         "yaxis": "y"
        },
        {
         "alignmentgroup": "True",
         "box": {
          "visible": true
         },
         "hovertemplate": "Commodity=%{x}<br>Price of Commodity=%{y}<extra></extra>",
         "legendgroup": "Rubber",
         "marker": {
          "color": "#ab63fa"
         },
         "name": "Rubber",
         "offsetgroup": "Rubber",
         "orientation": "v",
         "points": "all",
         "scalegroup": "True",
         "showlegend": true,
         "type": "violin",
         "x": [
          "Rubber",
          "Rubber",
          "Rubber",
          "Rubber"
         ],
         "x0": " ",
         "xaxis": "x",
         "y": [
          249.75,
          172.8,
          207.1,
          169.35
         ],
         "y0": " ",
         "yaxis": "y"
        },
        {
         "alignmentgroup": "True",
         "box": {
          "visible": true
         },
         "hovertemplate": "Commodity=%{x}<br>Price of Commodity=%{y}<extra></extra>",
         "legendgroup": "Rubber ( TSR 20)",
         "marker": {
          "color": "#FFA15A"
         },
         "name": "Rubber ( TSR 20)",
         "offsetgroup": "Rubber ( TSR 20)",
         "orientation": "v",
         "points": "all",
         "scalegroup": "True",
         "showlegend": true,
         "type": "violin",
         "x": [
          "Rubber ( TSR 20)",
          "Rubber ( TSR 20)",
          "Rubber ( TSR 20)",
          "Rubber ( TSR 20)"
         ],
         "x0": " ",
         "xaxis": "x",
         "y": [
          2475.98,
          1651.3,
          2150.1,
          2000.95
         ],
         "y0": " ",
         "yaxis": "y"
        },
        {
         "alignmentgroup": "True",
         "box": {
          "visible": true
         },
         "hovertemplate": "Commodity=%{x}<br>Price of Commodity=%{y}<extra></extra>",
         "legendgroup": "Sawnwood",
         "marker": {
          "color": "#19d3f3"
         },
         "name": "Sawnwood",
         "offsetgroup": "Sawnwood",
         "orientation": "v",
         "points": "all",
         "scalegroup": "True",
         "showlegend": true,
         "type": "violin",
         "x": [
          "Sawnwood",
          "Sawnwood",
          "Sawnwood",
          "Sawnwood"
         ],
         "x0": " ",
         "xaxis": "x",
         "y": [
          811.28,
          699.7,
          750,
          676.1
         ],
         "y0": " ",
         "yaxis": "y"
        },
        {
         "alignmentgroup": "True",
         "box": {
          "visible": true
         },
         "hovertemplate": "Commodity=%{x}<br>Price of Commodity=%{y}<extra></extra>",
         "legendgroup": "Sisal",
         "marker": {
          "color": "#FF6692"
         },
         "name": "Sisal",
         "offsetgroup": "Sisal",
         "orientation": "v",
         "points": "all",
         "scalegroup": "True",
         "showlegend": true,
         "type": "violin",
         "x": [
          "Sisal",
          "Sisal",
          "Sisal",
          "Sisal"
         ],
         "x0": " ",
         "xaxis": "x",
         "y": [
          1789.1,
          2025,
          2110.4,
          2143.75
         ],
         "y0": " ",
         "yaxis": "y"
        },
        {
         "alignmentgroup": "True",
         "box": {
          "visible": true
         },
         "hovertemplate": "Commodity=%{x}<br>Price of Commodity=%{y}<extra></extra>",
         "legendgroup": "Sisal ( Tanzania/Kenya)",
         "marker": {
          "color": "#B6E880"
         },
         "name": "Sisal ( Tanzania/Kenya)",
         "offsetgroup": "Sisal ( Tanzania/Kenya)",
         "orientation": "v",
         "points": "all",
         "scalegroup": "True",
         "showlegend": true,
         "type": "violin",
         "x": [
          "Sisal ( Tanzania/Kenya)",
          "Sisal ( Tanzania/Kenya)",
          "Sisal ( Tanzania/Kenya)",
          "Sisal ( Tanzania/Kenya)"
         ],
         "x0": " ",
         "xaxis": "x",
         "y": [
          1627.53,
          1750,
          1858.3,
          1904.15
         ],
         "y0": " ",
         "yaxis": "y"
        },
        {
         "alignmentgroup": "True",
         "box": {
          "visible": true
         },
         "hovertemplate": "Commodity=%{x}<br>Price of Commodity=%{y}<extra></extra>",
         "legendgroup": "Tobacco",
         "marker": {
          "color": "#FF97FF"
         },
         "name": "Tobacco",
         "offsetgroup": "Tobacco",
         "orientation": "v",
         "points": "all",
         "scalegroup": "True",
         "showlegend": true,
         "type": "violin",
         "x": [
          "Tobacco",
          "Tobacco",
          "Tobacco",
          "Tobacco"
         ],
         "x0": " ",
         "xaxis": "x",
         "y": [
          4638.87,
          4336.6,
          4147,
          4647.75
         ],
         "y0": " ",
         "yaxis": "y"
        },
        {
         "alignmentgroup": "True",
         "box": {
          "visible": true
         },
         "hovertemplate": "Commodity=%{x}<br>Price of Commodity=%{y}<extra></extra>",
         "legendgroup": "Tropical logs",
         "marker": {
          "color": "#FECB52"
         },
         "name": "Tropical logs",
         "offsetgroup": "Tropical logs",
         "orientation": "v",
         "points": "all",
         "scalegroup": "True",
         "showlegend": true,
         "type": "violin",
         "x": [
          "Tropical logs",
          "Tropical logs",
          "Tropical logs",
          "Tropical logs"
         ],
         "x0": " ",
         "xaxis": "x",
         "y": [
          307.30000000000007,
          252,
          263.5,
          224.95
         ],
         "y0": " ",
         "yaxis": "y"
        },
        {
         "alignmentgroup": "True",
         "box": {
          "visible": true
         },
         "hovertemplate": "Commodity=%{x}<br>Price of Commodity=%{y}<extra></extra>",
         "legendgroup": "Tropical logs ( Sapele)",
         "marker": {
          "color": "#636efa"
         },
         "name": "Tropical logs ( Sapele)",
         "offsetgroup": "Tropical logs ( Sapele)",
         "orientation": "v",
         "points": "all",
         "scalegroup": "True",
         "showlegend": true,
         "type": "violin",
         "x": [
          "Tropical logs ( Sapele)",
          "Tropical logs ( Sapele)",
          "Tropical logs ( Sapele)",
          "Tropical logs ( Sapele)"
         ],
         "x0": " ",
         "xaxis": "x",
         "y": [
          427.00999999999993,
          399.5,
          414.2,
          373.75
         ],
         "y0": " ",
         "yaxis": "y"
        },
        {
         "alignmentgroup": "True",
         "box": {
          "visible": true
         },
         "hovertemplate": "Commodity=%{x}<br>Price of Commodity=%{y}<extra></extra>",
         "legendgroup": "Phosphate rock",
         "marker": {
          "color": "#EF553B"
         },
         "name": "Phosphate rock",
         "offsetgroup": "Phosphate rock",
         "orientation": "v",
         "points": "all",
         "scalegroup": "True",
         "showlegend": true,
         "type": "violin",
         "x": [
          "Phosphate rock",
          "Phosphate rock",
          "Phosphate rock",
          "Phosphate rock"
         ],
         "x0": " ",
         "xaxis": "x",
         "y": [
          118.7,
          76,
          123.2,
          266.1
         ],
         "y0": " ",
         "yaxis": "y"
        },
        {
         "alignmentgroup": "True",
         "box": {
          "visible": true
         },
         "hovertemplate": "Commodity=%{x}<br>Price of Commodity=%{y}<extra></extra>",
         "legendgroup": "Zinc",
         "marker": {
          "color": "#00cc96"
         },
         "name": "Zinc",
         "offsetgroup": "Zinc",
         "orientation": "v",
         "points": "all",
         "scalegroup": "True",
         "showlegend": true,
         "type": "violin",
         "x": [
          "Zinc",
          "Zinc",
          "Zinc",
          "Zinc"
         ],
         "x0": " ",
         "xaxis": "x",
         "y": [
          110.8,
          110.8,
          145.8,
          170.75
         ],
         "y0": " ",
         "yaxis": "y"
        },
        {
         "alignmentgroup": "True",
         "box": {
          "visible": true
         },
         "hovertemplate": "Commodity=%{x}<br>Price of Commodity=%{y}<extra></extra>",
         "legendgroup": "Crude oil",
         "marker": {
          "color": "#ab63fa"
         },
         "name": "Crude oil",
         "offsetgroup": "Crude oil",
         "orientation": "v",
         "points": "all",
         "scalegroup": "True",
         "showlegend": true,
         "type": "violin",
         "x": [
          "Crude oil",
          "Crude oil",
          "Crude oil",
          "Crude oil"
         ],
         "x0": " ",
         "xaxis": "x",
         "y": [
          77.30000000000001,
          42.2,
          68.8,
          89.5
         ],
         "y0": " ",
         "yaxis": "y"
        },
        {
         "alignmentgroup": "True",
         "box": {
          "visible": true
         },
         "hovertemplate": "Commodity=%{x}<br>Price of Commodity=%{y}<extra></extra>",
         "legendgroup": "Crude oil ( UK Brent)",
         "marker": {
          "color": "#FFA15A"
         },
         "name": "Crude oil ( UK Brent)",
         "offsetgroup": "Crude oil ( UK Brent)",
         "orientation": "v",
         "points": "all",
         "scalegroup": "True",
         "showlegend": true,
         "type": "violin",
         "x": [
          "Crude oil ( UK Brent)",
          "Crude oil ( UK Brent)",
          "Crude oil ( UK Brent)",
          "Crude oil ( UK Brent)"
         ],
         "x0": " ",
         "xaxis": "x",
         "y": [
          79.61,
          42.3,
          70.4,
          91.19999999999999
         ],
         "y0": " ",
         "yaxis": "y"
        },
        {
         "alignmentgroup": "True",
         "box": {
          "visible": true
         },
         "hovertemplate": "Commodity=%{x}<br>Price of Commodity=%{y}<extra></extra>",
         "legendgroup": "Natural gas",
         "marker": {
          "color": "#19d3f3"
         },
         "name": "Natural gas",
         "offsetgroup": "Natural gas",
         "orientation": "v",
         "points": "all",
         "scalegroup": "True",
         "showlegend": true,
         "type": "violin",
         "x": [
          "Natural gas",
          "Natural gas",
          "Natural gas",
          "Natural gas"
         ],
         "x0": " ",
         "xaxis": "x",
         "y": [
          87.23,
          45.5,
          130.7,
          192.25
         ],
         "y0": " ",
         "yaxis": "y"
        }
       ],
       "layout": {
        "legend": {
         "title": {
          "text": "Commodity"
         },
         "tracegroupgap": 0
        },
        "template": {
         "data": {
          "bar": [
           {
            "error_x": {
             "color": "#2a3f5f"
            },
            "error_y": {
             "color": "#2a3f5f"
            },
            "marker": {
             "line": {
              "color": "#E5ECF6",
              "width": 0.5
             },
             "pattern": {
              "fillmode": "overlay",
              "size": 10,
              "solidity": 0.2
             }
            },
            "type": "bar"
           }
          ],
          "barpolar": [
           {
            "marker": {
             "line": {
              "color": "#E5ECF6",
              "width": 0.5
             },
             "pattern": {
              "fillmode": "overlay",
              "size": 10,
              "solidity": 0.2
             }
            },
            "type": "barpolar"
           }
          ],
          "carpet": [
           {
            "aaxis": {
             "endlinecolor": "#2a3f5f",
             "gridcolor": "white",
             "linecolor": "white",
             "minorgridcolor": "white",
             "startlinecolor": "#2a3f5f"
            },
            "baxis": {
             "endlinecolor": "#2a3f5f",
             "gridcolor": "white",
             "linecolor": "white",
             "minorgridcolor": "white",
             "startlinecolor": "#2a3f5f"
            },
            "type": "carpet"
           }
          ],
          "choropleth": [
           {
            "colorbar": {
             "outlinewidth": 0,
             "ticks": ""
            },
            "type": "choropleth"
           }
          ],
          "contour": [
           {
            "colorbar": {
             "outlinewidth": 0,
             "ticks": ""
            },
            "colorscale": [
             [
              0,
              "#0d0887"
             ],
             [
              0.1111111111111111,
              "#46039f"
             ],
             [
              0.2222222222222222,
              "#7201a8"
             ],
             [
              0.3333333333333333,
              "#9c179e"
             ],
             [
              0.4444444444444444,
              "#bd3786"
             ],
             [
              0.5555555555555556,
              "#d8576b"
             ],
             [
              0.6666666666666666,
              "#ed7953"
             ],
             [
              0.7777777777777778,
              "#fb9f3a"
             ],
             [
              0.8888888888888888,
              "#fdca26"
             ],
             [
              1,
              "#f0f921"
             ]
            ],
            "type": "contour"
           }
          ],
          "contourcarpet": [
           {
            "colorbar": {
             "outlinewidth": 0,
             "ticks": ""
            },
            "type": "contourcarpet"
           }
          ],
          "heatmap": [
           {
            "colorbar": {
             "outlinewidth": 0,
             "ticks": ""
            },
            "colorscale": [
             [
              0,
              "#0d0887"
             ],
             [
              0.1111111111111111,
              "#46039f"
             ],
             [
              0.2222222222222222,
              "#7201a8"
             ],
             [
              0.3333333333333333,
              "#9c179e"
             ],
             [
              0.4444444444444444,
              "#bd3786"
             ],
             [
              0.5555555555555556,
              "#d8576b"
             ],
             [
              0.6666666666666666,
              "#ed7953"
             ],
             [
              0.7777777777777778,
              "#fb9f3a"
             ],
             [
              0.8888888888888888,
              "#fdca26"
             ],
             [
              1,
              "#f0f921"
             ]
            ],
            "type": "heatmap"
           }
          ],
          "heatmapgl": [
           {
            "colorbar": {
             "outlinewidth": 0,
             "ticks": ""
            },
            "colorscale": [
             [
              0,
              "#0d0887"
             ],
             [
              0.1111111111111111,
              "#46039f"
             ],
             [
              0.2222222222222222,
              "#7201a8"
             ],
             [
              0.3333333333333333,
              "#9c179e"
             ],
             [
              0.4444444444444444,
              "#bd3786"
             ],
             [
              0.5555555555555556,
              "#d8576b"
             ],
             [
              0.6666666666666666,
              "#ed7953"
             ],
             [
              0.7777777777777778,
              "#fb9f3a"
             ],
             [
              0.8888888888888888,
              "#fdca26"
             ],
             [
              1,
              "#f0f921"
             ]
            ],
            "type": "heatmapgl"
           }
          ],
          "histogram": [
           {
            "marker": {
             "pattern": {
              "fillmode": "overlay",
              "size": 10,
              "solidity": 0.2
             }
            },
            "type": "histogram"
           }
          ],
          "histogram2d": [
           {
            "colorbar": {
             "outlinewidth": 0,
             "ticks": ""
            },
            "colorscale": [
             [
              0,
              "#0d0887"
             ],
             [
              0.1111111111111111,
              "#46039f"
             ],
             [
              0.2222222222222222,
              "#7201a8"
             ],
             [
              0.3333333333333333,
              "#9c179e"
             ],
             [
              0.4444444444444444,
              "#bd3786"
             ],
             [
              0.5555555555555556,
              "#d8576b"
             ],
             [
              0.6666666666666666,
              "#ed7953"
             ],
             [
              0.7777777777777778,
              "#fb9f3a"
             ],
             [
              0.8888888888888888,
              "#fdca26"
             ],
             [
              1,
              "#f0f921"
             ]
            ],
            "type": "histogram2d"
           }
          ],
          "histogram2dcontour": [
           {
            "colorbar": {
             "outlinewidth": 0,
             "ticks": ""
            },
            "colorscale": [
             [
              0,
              "#0d0887"
             ],
             [
              0.1111111111111111,
              "#46039f"
             ],
             [
              0.2222222222222222,
              "#7201a8"
             ],
             [
              0.3333333333333333,
              "#9c179e"
             ],
             [
              0.4444444444444444,
              "#bd3786"
             ],
             [
              0.5555555555555556,
              "#d8576b"
             ],
             [
              0.6666666666666666,
              "#ed7953"
             ],
             [
              0.7777777777777778,
              "#fb9f3a"
             ],
             [
              0.8888888888888888,
              "#fdca26"
             ],
             [
              1,
              "#f0f921"
             ]
            ],
            "type": "histogram2dcontour"
           }
          ],
          "mesh3d": [
           {
            "colorbar": {
             "outlinewidth": 0,
             "ticks": ""
            },
            "type": "mesh3d"
           }
          ],
          "parcoords": [
           {
            "line": {
             "colorbar": {
              "outlinewidth": 0,
              "ticks": ""
             }
            },
            "type": "parcoords"
           }
          ],
          "pie": [
           {
            "automargin": true,
            "type": "pie"
           }
          ],
          "scatter": [
           {
            "fillpattern": {
             "fillmode": "overlay",
             "size": 10,
             "solidity": 0.2
            },
            "type": "scatter"
           }
          ],
          "scatter3d": [
           {
            "line": {
             "colorbar": {
              "outlinewidth": 0,
              "ticks": ""
             }
            },
            "marker": {
             "colorbar": {
              "outlinewidth": 0,
              "ticks": ""
             }
            },
            "type": "scatter3d"
           }
          ],
          "scattercarpet": [
           {
            "marker": {
             "colorbar": {
              "outlinewidth": 0,
              "ticks": ""
             }
            },
            "type": "scattercarpet"
           }
          ],
          "scattergeo": [
           {
            "marker": {
             "colorbar": {
              "outlinewidth": 0,
              "ticks": ""
             }
            },
            "type": "scattergeo"
           }
          ],
          "scattergl": [
           {
            "marker": {
             "colorbar": {
              "outlinewidth": 0,
              "ticks": ""
             }
            },
            "type": "scattergl"
           }
          ],
          "scattermapbox": [
           {
            "marker": {
             "colorbar": {
              "outlinewidth": 0,
              "ticks": ""
             }
            },
            "type": "scattermapbox"
           }
          ],
          "scatterpolar": [
           {
            "marker": {
             "colorbar": {
              "outlinewidth": 0,
              "ticks": ""
             }
            },
            "type": "scatterpolar"
           }
          ],
          "scatterpolargl": [
           {
            "marker": {
             "colorbar": {
              "outlinewidth": 0,
              "ticks": ""
             }
            },
            "type": "scatterpolargl"
           }
          ],
          "scatterternary": [
           {
            "marker": {
             "colorbar": {
              "outlinewidth": 0,
              "ticks": ""
             }
            },
            "type": "scatterternary"
           }
          ],
          "surface": [
           {
            "colorbar": {
             "outlinewidth": 0,
             "ticks": ""
            },
            "colorscale": [
             [
              0,
              "#0d0887"
             ],
             [
              0.1111111111111111,
              "#46039f"
             ],
             [
              0.2222222222222222,
              "#7201a8"
             ],
             [
              0.3333333333333333,
              "#9c179e"
             ],
             [
              0.4444444444444444,
              "#bd3786"
             ],
             [
              0.5555555555555556,
              "#d8576b"
             ],
             [
              0.6666666666666666,
              "#ed7953"
             ],
             [
              0.7777777777777778,
              "#fb9f3a"
             ],
             [
              0.8888888888888888,
              "#fdca26"
             ],
             [
              1,
              "#f0f921"
             ]
            ],
            "type": "surface"
           }
          ],
          "table": [
           {
            "cells": {
             "fill": {
              "color": "#EBF0F8"
             },
             "line": {
              "color": "white"
             }
            },
            "header": {
             "fill": {
              "color": "#C8D4E3"
             },
             "line": {
              "color": "white"
             }
            },
            "type": "table"
           }
          ]
         },
         "layout": {
          "annotationdefaults": {
           "arrowcolor": "#2a3f5f",
           "arrowhead": 0,
           "arrowwidth": 1
          },
          "autotypenumbers": "strict",
          "coloraxis": {
           "colorbar": {
            "outlinewidth": 0,
            "ticks": ""
           }
          },
          "colorscale": {
           "diverging": [
            [
             0,
             "#8e0152"
            ],
            [
             0.1,
             "#c51b7d"
            ],
            [
             0.2,
             "#de77ae"
            ],
            [
             0.3,
             "#f1b6da"
            ],
            [
             0.4,
             "#fde0ef"
            ],
            [
             0.5,
             "#f7f7f7"
            ],
            [
             0.6,
             "#e6f5d0"
            ],
            [
             0.7,
             "#b8e186"
            ],
            [
             0.8,
             "#7fbc41"
            ],
            [
             0.9,
             "#4d9221"
            ],
            [
             1,
             "#276419"
            ]
           ],
           "sequential": [
            [
             0,
             "#0d0887"
            ],
            [
             0.1111111111111111,
             "#46039f"
            ],
            [
             0.2222222222222222,
             "#7201a8"
            ],
            [
             0.3333333333333333,
             "#9c179e"
            ],
            [
             0.4444444444444444,
             "#bd3786"
            ],
            [
             0.5555555555555556,
             "#d8576b"
            ],
            [
             0.6666666666666666,
             "#ed7953"
            ],
            [
             0.7777777777777778,
             "#fb9f3a"
            ],
            [
             0.8888888888888888,
             "#fdca26"
            ],
            [
             1,
             "#f0f921"
            ]
           ],
           "sequentialminus": [
            [
             0,
             "#0d0887"
            ],
            [
             0.1111111111111111,
             "#46039f"
            ],
            [
             0.2222222222222222,
             "#7201a8"
            ],
            [
             0.3333333333333333,
             "#9c179e"
            ],
            [
             0.4444444444444444,
             "#bd3786"
            ],
            [
             0.5555555555555556,
             "#d8576b"
            ],
            [
             0.6666666666666666,
             "#ed7953"
            ],
            [
             0.7777777777777778,
             "#fb9f3a"
            ],
            [
             0.8888888888888888,
             "#fdca26"
            ],
            [
             1,
             "#f0f921"
            ]
           ]
          },
          "colorway": [
           "#636efa",
           "#EF553B",
           "#00cc96",
           "#ab63fa",
           "#FFA15A",
           "#19d3f3",
           "#FF6692",
           "#B6E880",
           "#FF97FF",
           "#FECB52"
          ],
          "font": {
           "color": "#2a3f5f"
          },
          "geo": {
           "bgcolor": "white",
           "lakecolor": "white",
           "landcolor": "#E5ECF6",
           "showlakes": true,
           "showland": true,
           "subunitcolor": "white"
          },
          "hoverlabel": {
           "align": "left"
          },
          "hovermode": "closest",
          "mapbox": {
           "style": "light"
          },
          "paper_bgcolor": "white",
          "plot_bgcolor": "#E5ECF6",
          "polar": {
           "angularaxis": {
            "gridcolor": "white",
            "linecolor": "white",
            "ticks": ""
           },
           "bgcolor": "#E5ECF6",
           "radialaxis": {
            "gridcolor": "white",
            "linecolor": "white",
            "ticks": ""
           }
          },
          "scene": {
           "xaxis": {
            "backgroundcolor": "#E5ECF6",
            "gridcolor": "white",
            "gridwidth": 2,
            "linecolor": "white",
            "showbackground": true,
            "ticks": "",
            "zerolinecolor": "white"
           },
           "yaxis": {
            "backgroundcolor": "#E5ECF6",
            "gridcolor": "white",
            "gridwidth": 2,
            "linecolor": "white",
            "showbackground": true,
            "ticks": "",
            "zerolinecolor": "white"
           },
           "zaxis": {
            "backgroundcolor": "#E5ECF6",
            "gridcolor": "white",
            "gridwidth": 2,
            "linecolor": "white",
            "showbackground": true,
            "ticks": "",
            "zerolinecolor": "white"
           }
          },
          "shapedefaults": {
           "line": {
            "color": "#2a3f5f"
           }
          },
          "ternary": {
           "aaxis": {
            "gridcolor": "white",
            "linecolor": "white",
            "ticks": ""
           },
           "baxis": {
            "gridcolor": "white",
            "linecolor": "white",
            "ticks": ""
           },
           "bgcolor": "#E5ECF6",
           "caxis": {
            "gridcolor": "white",
            "linecolor": "white",
            "ticks": ""
           }
          },
          "title": {
           "x": 0.05
          },
          "xaxis": {
           "automargin": true,
           "gridcolor": "white",
           "linecolor": "white",
           "ticks": "",
           "title": {
            "standoff": 15
           },
           "zerolinecolor": "white",
           "zerolinewidth": 2
          },
          "yaxis": {
           "automargin": true,
           "gridcolor": "white",
           "linecolor": "white",
           "ticks": "",
           "title": {
            "standoff": 15
           },
           "zerolinecolor": "white",
           "zerolinewidth": 2
          }
         }
        },
        "title": {
         "text": "Price Distribution of Commodities (Violin Plot)"
        },
        "violinmode": "overlay",
        "xaxis": {
         "anchor": "y",
         "categoryarray": [
          "Bananas",
          "Bananas ( Central America)",
          "Beef",
          "Maize",
          "Maize ( United States)",
          "Rice",
          "Salmon",
          "Shrimps",
          "Soybean meal",
          "Sugar",
          "Wheat",
          "Wheat ( United States)",
          "Cocoa beans",
          "Coffee",
          "Coffee ( Colombian mild Arabicas)",
          "Coffee ( other mild Arabicas)",
          "Coffee ( Robustas)",
          "Tea",
          "Coconut oil",
          "Groundnut oil",
          "Palm kernel oil",
          "Palm oil",
          "Soybean oil",
          "Soybeans",
          "Sunflower oil",
          "Cattle hides",
          "Coarse wool",
          "Fine wool",
          "Fine wool ( 19 Micron)",
          "Fish meal",
          "Jute",
          "Non-coniferous woods",
          "Plywood",
          "Rubber",
          "Rubber ( TSR 20)",
          "Sawnwood",
          "Sisal",
          "Sisal ( Tanzania/Kenya)",
          "Tobacco",
          "Tropical logs",
          "Tropical logs ( Sapele)",
          "Phosphate rock",
          "Zinc",
          "Crude oil",
          "Crude oil ( UK Brent)",
          "Natural gas"
         ],
         "categoryorder": "array",
         "domain": [
          0,
          1
         ],
         "title": {
          "text": "Commodity"
         }
        },
        "yaxis": {
         "anchor": "x",
         "domain": [
          0,
          1
         ],
         "title": {
          "text": "Price of Commodity"
         }
        }
       }
      }
     },
     "metadata": {},
     "output_type": "display_data"
    }
   ],
   "source": [
    "create_commodity_price_chart(melted_data_commodity,\"violin\")"
   ]
  },
  {
   "cell_type": "code",
   "execution_count": null,
   "metadata": {},
   "outputs": [],
   "source": []
  }
 ],
 "metadata": {
  "kernelspec": {
   "display_name": "ml",
   "language": "python",
   "name": "python3"
  },
  "language_info": {
   "codemirror_mode": {
    "name": "ipython",
    "version": 3
   },
   "file_extension": ".py",
   "mimetype": "text/x-python",
   "name": "python",
   "nbconvert_exporter": "python",
   "pygments_lexer": "ipython3",
   "version": "3.10.0"
  }
 },
 "nbformat": 4,
 "nbformat_minor": 2
}
